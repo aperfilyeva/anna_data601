{
  "nbformat": 4,
  "nbformat_minor": 0,
  "metadata": {
    "colab": {
      "name": "Data 601_asst2.ipynb",
      "provenance": [],
      "collapsed_sections": [],
      "authorship_tag": "ABX9TyPTqr/0cNquSbXGxU2Fj6Kc",
      "include_colab_link": true
    },
    "kernelspec": {
      "name": "python3",
      "display_name": "Python 3"
    },
    "language_info": {
      "name": "python"
    }
  },
  "cells": [
    {
      "cell_type": "markdown",
      "metadata": {
        "id": "view-in-github",
        "colab_type": "text"
      },
      "source": [
        "<a href=\"https://colab.research.google.com/github/aperfilyeva/anna_data601/blob/main/Assignmment_02/Homework_02.ipynb\" target=\"_parent\"><img src=\"https://colab.research.google.com/assets/colab-badge.svg\" alt=\"Open In Colab\"/></a>"
      ]
    },
    {
      "cell_type": "markdown",
      "source": [
        "# DATA 601\n",
        "## Assignment 2\n",
        "\n",
        " - Name: Anna Perfilyeva\n",
        " - 02/22/2022"
      ],
      "metadata": {
        "id": "z57PJ5lu22sN"
      }
    },
    {
      "cell_type": "markdown",
      "source": [
        "### 1. Write a function that returns the count of characters and words in a string."
      ],
      "metadata": {
        "id": "Dr3H-l2r3yDK"
      }
    },
    {
      "cell_type": "code",
      "execution_count": 10,
      "metadata": {
        "id": "ARkgg1pG21bz"
      },
      "outputs": [],
      "source": [
        "def count_char(char_string):\n",
        "\n",
        "    length=len(char_string)\n",
        "    x=char_string.split()\n",
        "    word_count=len(x)\n",
        "\n",
        "    \n",
        "    print(\"Character Count:\", length)\n",
        "    print(\"Word Count:\", word_count)"
      ]
    },
    {
      "cell_type": "code",
      "source": [
        "count_char(\"Hello, World!\")"
      ],
      "metadata": {
        "colab": {
          "base_uri": "https://localhost:8080/"
        },
        "id": "UJyo-eo73ZcU",
        "outputId": "7e6a9b0d-acf5-4cbc-b829-2247e2dd8408"
      },
      "execution_count": 11,
      "outputs": [
        {
          "output_type": "stream",
          "name": "stdout",
          "text": [
            "Character Count: 13\n",
            "Word Count: 2\n"
          ]
        }
      ]
    },
    {
      "cell_type": "code",
      "source": [
        ""
      ],
      "metadata": {
        "id": "GIn0E9-w4Iyb"
      },
      "execution_count": null,
      "outputs": []
    }
  ]
}