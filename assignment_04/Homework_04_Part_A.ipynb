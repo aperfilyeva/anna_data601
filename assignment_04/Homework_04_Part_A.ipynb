{
  "nbformat": 4,
  "nbformat_minor": 0,
  "metadata": {
    "colab": {
      "name": "Homework_04_Part A.ipynb",
      "provenance": [],
      "collapsed_sections": [],
      "authorship_tag": "ABX9TyO/r7AhxlL8+kYpd/AO/Hw0",
      "include_colab_link": true
    },
    "kernelspec": {
      "name": "python3",
      "display_name": "Python 3"
    },
    "language_info": {
      "name": "python"
    }
  },
  "cells": [
    {
      "cell_type": "markdown",
      "metadata": {
        "id": "view-in-github",
        "colab_type": "text"
      },
      "source": [
        "<a href=\"https://colab.research.google.com/github/aperfilyeva/anna_data601/blob/main/assignment_04/Homework_04_Part_A.ipynb\" target=\"_parent\"><img src=\"https://colab.research.google.com/assets/colab-badge.svg\" alt=\"Open In Colab\"/></a>"
      ]
    },
    {
      "cell_type": "markdown",
      "source": [
        "# Homework 04\n",
        "\n",
        " - Anna Perfilyeva\n",
        " - 2/25/2022"
      ],
      "metadata": {
        "id": "jemawMyZS0a8"
      }
    },
    {
      "cell_type": "markdown",
      "source": [
        "### 1.Write code to open the text file census_costs.txt and read all lines into a list named \"line_list\". Print line_list."
      ],
      "metadata": {
        "id": "bfh0wQq9TE3t"
      }
    },
    {
      "cell_type": "code",
      "execution_count": 1,
      "metadata": {
        "colab": {
          "base_uri": "https://localhost:8080/"
        },
        "id": "S4qTVo5PSuOS",
        "outputId": "ab183a3c-67d0-4e81-9252-f8f0a7a0765e"
      },
      "outputs": [
        {
          "output_type": "execute_result",
          "data": {
            "text/plain": [
              "['Source: https://www.genealogybranches.com/censuscosts.html\\n',\n",
              " 'Census Year\\tTotal Population\\tCensus Cost\\tAverage Cost Per Person\\n',\n",
              " '1790\\t3,929,214\\t$44,377\\t1.13 cents\\n',\n",
              " '1800\\t5,308,483\\t$66,109\\t1.24 cents\\n',\n",
              " '1810\\t7,239,881\\t$178,445\\t2.46 cents\\n',\n",
              " '1820\\t9,633,822\\t$208,526\\t2.16 cents\\n',\n",
              " '1830\\t12,866,020\\t$378,545\\t2.94 cents\\n',\n",
              " '1840\\t17,069,458\\t$833,371\\t4.88 cents\\n',\n",
              " '1850\\t23,191,876\\t$1,423,351\\t6.14 cents\\n',\n",
              " '1860\\t31,443,321\\t$1,969,377\\t6.26 cents\\n',\n",
              " '1870\\t38,558,371\\t$3,421,198\\t8.87 cents\\n',\n",
              " '1880\\t50,155,783\\t$5,790,678\\t11.54 cents\\n',\n",
              " '1890\\t62,979,766\\t$11,547,127\\t18.33 cents\\n',\n",
              " '1900\\t76,303,387\\t$11,854,000\\t15.54 cents\\n',\n",
              " '1910\\t91,972,266\\t$15,968,000\\t17.07 cents\\n',\n",
              " '1920\\t105,710,620\\t$25,117,000\\t23.76 cents\\n',\n",
              " '1930\\t122,775,046\\t$40,156,000\\t32.71 cents\\n',\n",
              " '1940\\t131,669,275\\t$67,527,000\\t51.29 cents\\n',\n",
              " '1950\\t151,325,798\\t$91,462,000\\t60.44 cents\\n',\n",
              " '1960\\t179,323,175\\t$127,934,000\\t71.34 cents\\n',\n",
              " '1970\\t203,302,031\\t$247,653,000\\t$1.22\\n',\n",
              " '1980\\t226,542,199\\t$1,078,488,000\\t$4.76\\n',\n",
              " '1990\\t248,718,301\\t$2,492,830,000\\t$10.02\\n',\n",
              " '2000\\t281,421,906\\t$4.5 Billion\\t$15.99\\n',\n",
              " '2010*\\t308,745,538\\t$13 Billion\\t$42.11\\n']"
            ]
          },
          "metadata": {},
          "execution_count": 1
        }
      ],
      "source": [
        "with open(\"census_costs.txt\",\"r\") as f:\n",
        "    line_list = f.readlines()\n",
        "\n",
        "line_list"
      ]
    },
    {
      "cell_type": "markdown",
      "source": [
        "### 2. Extract the first two lines and put them in a different list named \"top2_list\"."
      ],
      "metadata": {
        "id": "Btx_WqQEemBs"
      }
    },
    {
      "cell_type": "code",
      "source": [
        "top2_list=line_list[0:2]\n",
        "top2_list"
      ],
      "metadata": {
        "colab": {
          "base_uri": "https://localhost:8080/"
        },
        "id": "XPavkukGeZVV",
        "outputId": "f8d03575-744d-4189-cb44-3dcc817cbf69"
      },
      "execution_count": 2,
      "outputs": [
        {
          "output_type": "execute_result",
          "data": {
            "text/plain": [
              "['Source: https://www.genealogybranches.com/censuscosts.html\\n',\n",
              " 'Census Year\\tTotal Population\\tCensus Cost\\tAverage Cost Per Person\\n']"
            ]
          },
          "metadata": {},
          "execution_count": 2
        }
      ]
    },
    {
      "cell_type": "markdown",
      "source": [
        "### 3. Put the rest of the lines (containing useful data elements) in a new list named \"data_list\". Print data_list."
      ],
      "metadata": {
        "id": "bgntHCeOfxeG"
      }
    },
    {
      "cell_type": "code",
      "source": [
        "data_list=line_list[2:]\n",
        "data_list"
      ],
      "metadata": {
        "colab": {
          "base_uri": "https://localhost:8080/"
        },
        "id": "oSbhx0Rgesal",
        "outputId": "599e8d2c-ec4a-4c1c-8ff1-b841617bf98a"
      },
      "execution_count": 3,
      "outputs": [
        {
          "output_type": "execute_result",
          "data": {
            "text/plain": [
              "['1790\\t3,929,214\\t$44,377\\t1.13 cents\\n',\n",
              " '1800\\t5,308,483\\t$66,109\\t1.24 cents\\n',\n",
              " '1810\\t7,239,881\\t$178,445\\t2.46 cents\\n',\n",
              " '1820\\t9,633,822\\t$208,526\\t2.16 cents\\n',\n",
              " '1830\\t12,866,020\\t$378,545\\t2.94 cents\\n',\n",
              " '1840\\t17,069,458\\t$833,371\\t4.88 cents\\n',\n",
              " '1850\\t23,191,876\\t$1,423,351\\t6.14 cents\\n',\n",
              " '1860\\t31,443,321\\t$1,969,377\\t6.26 cents\\n',\n",
              " '1870\\t38,558,371\\t$3,421,198\\t8.87 cents\\n',\n",
              " '1880\\t50,155,783\\t$5,790,678\\t11.54 cents\\n',\n",
              " '1890\\t62,979,766\\t$11,547,127\\t18.33 cents\\n',\n",
              " '1900\\t76,303,387\\t$11,854,000\\t15.54 cents\\n',\n",
              " '1910\\t91,972,266\\t$15,968,000\\t17.07 cents\\n',\n",
              " '1920\\t105,710,620\\t$25,117,000\\t23.76 cents\\n',\n",
              " '1930\\t122,775,046\\t$40,156,000\\t32.71 cents\\n',\n",
              " '1940\\t131,669,275\\t$67,527,000\\t51.29 cents\\n',\n",
              " '1950\\t151,325,798\\t$91,462,000\\t60.44 cents\\n',\n",
              " '1960\\t179,323,175\\t$127,934,000\\t71.34 cents\\n',\n",
              " '1970\\t203,302,031\\t$247,653,000\\t$1.22\\n',\n",
              " '1980\\t226,542,199\\t$1,078,488,000\\t$4.76\\n',\n",
              " '1990\\t248,718,301\\t$2,492,830,000\\t$10.02\\n',\n",
              " '2000\\t281,421,906\\t$4.5 Billion\\t$15.99\\n',\n",
              " '2010*\\t308,745,538\\t$13 Billion\\t$42.11\\n']"
            ]
          },
          "metadata": {},
          "execution_count": 3
        }
      ]
    },
    {
      "cell_type": "markdown",
      "source": [
        "### 4. Extract the column \"Census Year\" from data_list and assign them to a list named year_list. Remove the \"*\" from the last element \"2010*\". Print the cleansed year_list"
      ],
      "metadata": {
        "id": "5QkLRmqCjYyV"
      }
    },
    {
      "cell_type": "code",
      "source": [
        "year_list=[]\n",
        "\n",
        "for line in data_list:\n",
        "   year=line[0:4]\n",
        "   year_list.append(year)\n",
        "\n",
        "print(year_list)"
      ],
      "metadata": {
        "colab": {
          "base_uri": "https://localhost:8080/"
        },
        "id": "MA9nGkXVjOpl",
        "outputId": "3e415900-7721-43ba-c3c9-fadc4aa6ca6b"
      },
      "execution_count": 4,
      "outputs": [
        {
          "output_type": "stream",
          "name": "stdout",
          "text": [
            "['1790', '1800', '1810', '1820', '1830', '1840', '1850', '1860', '1870', '1880', '1890', '1900', '1910', '1920', '1930', '1940', '1950', '1960', '1970', '1980', '1990', '2000', '2010']\n"
          ]
        }
      ]
    },
    {
      "cell_type": "markdown",
      "source": [
        "### 5. Extract the \"Total Population\" column from the data_list and assign them to a list named \"pop_list\". Remove the \",\" from the numbers since Python doesn't recognize them. Print the cleansed \"pop_list\"."
      ],
      "metadata": {
        "id": "doY3tJOYksZf"
      }
    },
    {
      "cell_type": "code",
      "source": [
        "pop_list = []\n",
        "\n",
        "for line in data_list:\n",
        "     part_list=line.split(\"\\t\")\n",
        "     pop=part_list[1]\n",
        "     pop_list.append(pop.replace(\",\",\"\"))\n",
        "\n",
        "\n",
        "print(pop_list)"
      ],
      "metadata": {
        "colab": {
          "base_uri": "https://localhost:8080/"
        },
        "id": "xUuSlzTojpQJ",
        "outputId": "e313eb1a-6b5a-4b17-ac75-6db7769f9c4f"
      },
      "execution_count": 5,
      "outputs": [
        {
          "output_type": "stream",
          "name": "stdout",
          "text": [
            "['3929214', '5308483', '7239881', '9633822', '12866020', '17069458', '23191876', '31443321', '38558371', '50155783', '62979766', '76303387', '91972266', '105710620', '122775046', '131669275', '151325798', '179323175', '203302031', '226542199', '248718301', '281421906', '308745538']\n"
          ]
        }
      ]
    },
    {
      "cell_type": "markdown",
      "source": [
        "### 6. Extract the \"Census Cost\" column from the data_list and assign them to a list named \"cost_list\". Remove the \",\", and \"$\", and \"Billion\". Make sure to add the \"0\"s to the numbers from which you removed \"Billion\". Print the cleansed cost_list."
      ],
      "metadata": {
        "id": "8Dz2XAn7mKLq"
      }
    },
    {
      "cell_type": "code",
      "source": [
        "cost_list = []\n",
        "\n",
        "for line in data_list:\n",
        "    part_list=line.split(\"\\t\")\n",
        "    cost=part_list[2]\n",
        "    cost1=cost.replace(\"$\",\"\")\n",
        "    cost2=cost1.replace(\",\",\"\")\n",
        "    # cost3=float(cost2.replace(\" Billion\",\"\"))*10\n",
        "    if \"Billion\" in cost2:\n",
        "        cost3=int(float(cost2.replace(\" Billion\",\"\"))*1000000000)\n",
        "    else:\n",
        "       cost3=int(cost2)\n",
        "    cost_list.append(cost3)\n",
        "     \n",
        "print(cost_list)"
      ],
      "metadata": {
        "colab": {
          "base_uri": "https://localhost:8080/"
        },
        "id": "wPz-1tPZlOke",
        "outputId": "e4e846c2-1ae4-42f3-920b-1cb3ec15b83f"
      },
      "execution_count": 13,
      "outputs": [
        {
          "output_type": "stream",
          "name": "stdout",
          "text": [
            "[44377, 66109, 178445, 208526, 378545, 833371, 1423351, 1969377, 3421198, 5790678, 11547127, 11854000, 15968000, 25117000, 40156000, 67527000, 91462000, 127934000, 247653000, 1078488000, 2492830000, 4500000000, 13000000000]\n"
          ]
        }
      ]
    },
    {
      "cell_type": "markdown",
      "source": [
        "### 7. Extract the \"Average Cost per Person\" column from the data_list and assign them to a list named \"avg_list\". Remove the \"cents\", and \"$\". Make sure to divide the numbers in cents by 100 so that all numbers are measured in dollar. Print the cleansed avg_list."
      ],
      "metadata": {
        "id": "-JcPOuOyuRlv"
      }
    },
    {
      "cell_type": "code",
      "source": [
        "avg_list=[]\n",
        "\n",
        "for line in data_list:\n",
        "    part_list=line.split(\"\\t\")\n",
        "    avg_cost=part_list[-1]\n",
        "    avg_cost1=avg_cost.replace(\"$\",\"\")\n",
        "    avg_cost2=avg_cost1.replace(\"\\n\",\"\")\n",
        "    if \"cents\" in avg_cost2:\n",
        "         avg_cost3=float(avg_cost2.replace(\" cents\",\"\"))/100\n",
        "    else:\n",
        "         avg_cost3=avg_cost2\n",
        "    avg_list.append(avg_cost3)\n",
        "\n",
        "print(avg_list)   "
      ],
      "metadata": {
        "colab": {
          "base_uri": "https://localhost:8080/"
        },
        "id": "V9bx8MSUq2SJ",
        "outputId": "4e93f133-1db6-4d79-d636-4961d64f00d1"
      },
      "execution_count": 25,
      "outputs": [
        {
          "output_type": "stream",
          "name": "stdout",
          "text": [
            "[0.0113, 0.0124, 0.0246, 0.0216, 0.0294, 0.048799999999999996, 0.061399999999999996, 0.0626, 0.08869999999999999, 0.11539999999999999, 0.1833, 0.15539999999999998, 0.1707, 0.2376, 0.3271, 0.5129, 0.6043999999999999, 0.7134, '1.22', '4.76', '10.02', '15.99', '42.11']\n"
          ]
        }
      ]
    },
    {
      "cell_type": "markdown",
      "source": [
        "### 8. Coalesce the cleansed data and save them to a text file named \"census_cost.csv\". The new file should look similar to the original source file except that it is in comma-delimited format and the numbers have been cleansed. The top two lines from the original file should be retained in the new file."
      ],
      "metadata": {
        "id": "nStAA39M4Wdn"
      }
    },
    {
      "cell_type": "code",
      "source": [
        "new_census=list(zip(year_list, pop_list, cost_list, avg_list))\n",
        "\n",
        "print(new_census)"
      ],
      "metadata": {
        "colab": {
          "base_uri": "https://localhost:8080/"
        },
        "id": "OjYPxVK0wJMu",
        "outputId": "5617a4f3-e273-4102-879f-a0a53c5dfa89"
      },
      "execution_count": 31,
      "outputs": [
        {
          "output_type": "stream",
          "name": "stdout",
          "text": [
            "[('1790', '3929214', 44377, 0.0113), ('1800', '5308483', 66109, 0.0124), ('1810', '7239881', 178445, 0.0246), ('1820', '9633822', 208526, 0.0216), ('1830', '12866020', 378545, 0.0294), ('1840', '17069458', 833371, 0.048799999999999996), ('1850', '23191876', 1423351, 0.061399999999999996), ('1860', '31443321', 1969377, 0.0626), ('1870', '38558371', 3421198, 0.08869999999999999), ('1880', '50155783', 5790678, 0.11539999999999999), ('1890', '62979766', 11547127, 0.1833), ('1900', '76303387', 11854000, 0.15539999999999998), ('1910', '91972266', 15968000, 0.1707), ('1920', '105710620', 25117000, 0.2376), ('1930', '122775046', 40156000, 0.3271), ('1940', '131669275', 67527000, 0.5129), ('1950', '151325798', 91462000, 0.6043999999999999), ('1960', '179323175', 127934000, 0.7134), ('1970', '203302031', 247653000, '1.22'), ('1980', '226542199', 1078488000, '4.76'), ('1990', '248718301', 2492830000, '10.02'), ('2000', '281421906', 4500000000, '15.99'), ('2010', '308745538', 13000000000, '42.11')]\n"
          ]
        }
      ]
    },
    {
      "cell_type": "code",
      "source": [
        "with open(\"census_costs_clean.csv\", \"w\") as w:\n",
        "   for element in top2_list:\n",
        "        w.write(element.replace(\"\\t\",\",\"))\n",
        "\n",
        "   for element in new_census:\n",
        "        w.write(\"{0},{1},{2},{3}\\n\".format(*element))\n",
        "\n",
        "w.close()\n"
      ],
      "metadata": {
        "id": "YBb0K7Op5w4F"
      },
      "execution_count": 52,
      "outputs": []
    },
    {
      "cell_type": "markdown",
      "source": [
        "### 9.Write code to open the newly-created file \"census_cost.csv\", read all lines and display them."
      ],
      "metadata": {
        "id": "hlh2wuZ7TRep"
      }
    },
    {
      "cell_type": "code",
      "source": [
        "with open(\"census_costs_clean.csv\",\"r\") as f:\n",
        "    line_list = f.readlines()\n",
        "\n",
        "line_list"
      ],
      "metadata": {
        "colab": {
          "base_uri": "https://localhost:8080/"
        },
        "id": "wEMQRbuE4p45",
        "outputId": "59e86e6d-277f-46ee-f33f-57ba69b3c015"
      },
      "execution_count": 53,
      "outputs": [
        {
          "output_type": "execute_result",
          "data": {
            "text/plain": [
              "['Source: https://www.genealogybranches.com/censuscosts.html\\n',\n",
              " 'Census Year,Total Population,Census Cost,Average Cost Per Person\\n',\n",
              " '1790,3929214,44377,0.0113\\n',\n",
              " '1800,5308483,66109,0.0124\\n',\n",
              " '1810,7239881,178445,0.0246\\n',\n",
              " '1820,9633822,208526,0.0216\\n',\n",
              " '1830,12866020,378545,0.0294\\n',\n",
              " '1840,17069458,833371,0.048799999999999996\\n',\n",
              " '1850,23191876,1423351,0.061399999999999996\\n',\n",
              " '1860,31443321,1969377,0.0626\\n',\n",
              " '1870,38558371,3421198,0.08869999999999999\\n',\n",
              " '1880,50155783,5790678,0.11539999999999999\\n',\n",
              " '1890,62979766,11547127,0.1833\\n',\n",
              " '1900,76303387,11854000,0.15539999999999998\\n',\n",
              " '1910,91972266,15968000,0.1707\\n',\n",
              " '1920,105710620,25117000,0.2376\\n',\n",
              " '1930,122775046,40156000,0.3271\\n',\n",
              " '1940,131669275,67527000,0.5129\\n',\n",
              " '1950,151325798,91462000,0.6043999999999999\\n',\n",
              " '1960,179323175,127934000,0.7134\\n',\n",
              " '1970,203302031,247653000,1.22\\n',\n",
              " '1980,226542199,1078488000,4.76\\n',\n",
              " '1990,248718301,2492830000,10.02\\n',\n",
              " '2000,281421906,4500000000,15.99\\n',\n",
              " '2010,308745538,13000000000,42.11\\n']"
            ]
          },
          "metadata": {},
          "execution_count": 53
        }
      ]
    },
    {
      "cell_type": "code",
      "source": [
        ""
      ],
      "metadata": {
        "id": "e6xy5-1bDyJ1"
      },
      "execution_count": null,
      "outputs": []
    }
  ]
}