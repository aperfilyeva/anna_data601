{
  "nbformat": 4,
  "nbformat_minor": 0,
  "metadata": {
    "colab": {
      "name": "Homework_05.ipynb",
      "provenance": [],
      "authorship_tag": "ABX9TyNXyPAMWTIWxbLG21naUv0Y",
      "include_colab_link": true
    },
    "kernelspec": {
      "name": "python3",
      "display_name": "Python 3"
    },
    "language_info": {
      "name": "python"
    }
  },
  "cells": [
    {
      "cell_type": "markdown",
      "metadata": {
        "id": "view-in-github",
        "colab_type": "text"
      },
      "source": [
        "<a href=\"https://colab.research.google.com/github/aperfilyeva/anna_data601/blob/main/assignment_05/Homework_05.ipynb\" target=\"_parent\"><img src=\"https://colab.research.google.com/assets/colab-badge.svg\" alt=\"Open In Colab\"/></a>"
      ]
    },
    {
      "cell_type": "code",
      "execution_count": null,
      "metadata": {
        "id": "R9aPSQTsx_cA"
      },
      "outputs": [],
      "source": [
        "import plotly.express as px\n",
        "import plotly\n",
        "import pandas as pd\n",
        "\n",
        "data_url = 'https://raw.githubusercontent.com/wcj365/jay_data690/main/wdi_data_3_28.csv'"
      ]
    }
  ]
}