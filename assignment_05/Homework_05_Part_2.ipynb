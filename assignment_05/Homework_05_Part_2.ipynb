{
  "nbformat": 4,
  "nbformat_minor": 0,
  "metadata": {
    "colab": {
      "name": "Homework_05_Part_2.ipynb",
      "provenance": [],
      "authorship_tag": "ABX9TyOWNHiahXijgCf13lumKgBY",
      "include_colab_link": true
    },
    "kernelspec": {
      "name": "python3",
      "display_name": "Python 3"
    },
    "language_info": {
      "name": "python"
    }
  },
  "cells": [
    {
      "cell_type": "markdown",
      "metadata": {
        "id": "view-in-github",
        "colab_type": "text"
      },
      "source": [
        "<a href=\"https://colab.research.google.com/github/aperfilyeva/anna_data601/blob/main/assignment_05/Homework_05_Part_2.ipynb\" target=\"_parent\"><img src=\"https://colab.research.google.com/assets/colab-badge.svg\" alt=\"Open In Colab\"/></a>"
      ]
    },
    {
      "cell_type": "code",
      "execution_count": 13,
      "metadata": {
        "id": "b3UYJY30WwTN"
      },
      "outputs": [],
      "source": [
        "import random\n",
        "import plotly\n",
        "import pandas as pd"
      ]
    },
    {
      "cell_type": "markdown",
      "source": [
        "## Fair Die"
      ],
      "metadata": {
        "id": "Ehc2maBVgsf0"
      }
    },
    {
      "cell_type": "code",
      "source": [
        "# fair die\n",
        "fair_die = ['1', '2', '3', '4', '5', '6']\n",
        "obs_dict={\n",
        "        \"1\": 0,\n",
        "        \"2\": 0,\n",
        "        \"3\": 0,\n",
        "        \"4\": 0,\n",
        "        \"5\": 0,\n",
        "        \"6\": 0\n",
        "}\n",
        "for i in range(100): \n",
        "    obs_dict[random.choice(fair_die)] += 1\n",
        "    \n",
        "print(obs_dict)"
      ],
      "metadata": {
        "colab": {
          "base_uri": "https://localhost:8080/"
        },
        "id": "EdtJy-YTXqQN",
        "outputId": "462a4dbc-5471-4add-db5c-304ee7ce06f5"
      },
      "execution_count": 46,
      "outputs": [
        {
          "output_type": "stream",
          "name": "stdout",
          "text": [
            "{'1': 21, '2': 18, '3': 11, '4': 16, '5': 15, '6': 19}\n"
          ]
        }
      ]
    },
    {
      "cell_type": "code",
      "source": [
        "import matplotlib.pyplot as plt\n",
        "\n",
        "plt.bar(range(len(obs_dict)), list(obs_dict.values()), align='center')\n",
        "plt.xticks(range(len(obs_dict)), list(obs_dict.keys()))\n",
        "\n",
        "plt.show()"
      ],
      "metadata": {
        "colab": {
          "base_uri": "https://localhost:8080/",
          "height": 265
        },
        "id": "r-1ti55MZFKz",
        "outputId": "e08ff728-f179-4334-829f-dc240b148956"
      },
      "execution_count": 47,
      "outputs": [
        {
          "output_type": "display_data",
          "data": {
            "text/plain": [
              "<Figure size 432x288 with 1 Axes>"
            ],
            "image/png": "[encoded data removed]"
          },
          "metadata": {
            "needs_background": "light"
          }
        }
      ]
    },
    {
      "cell_type": "markdown",
      "source": [
        "## Unfair Die"
      ],
      "metadata": {
        "id": "DIA6HK20gpLc"
      }
    },
    {
      "cell_type": "code",
      "source": [
        "import numpy as np\n",
        "unfair_die = ['1', '2', '3', '4', '5', '6']\n",
        "weights = [0.15, 0.15, 0.15, 0.15, 0.15, 0.25]\n",
        "\n",
        "obs_dict_unfair={\n",
        "        \"1\": 0,\n",
        "        \"2\": 0,\n",
        "        \"3\": 0,\n",
        "        \"4\": 0,\n",
        "        \"5\": 0,\n",
        "        \"6\": 0\n",
        "}\n",
        "for i in range(1000): \n",
        "    obs_dict_unfair[np.random.choice(unfair_die,p=weights)] += 1\n",
        "    \n",
        "print(obs_dict_unfair)"
      ],
      "metadata": {
        "colab": {
          "base_uri": "https://localhost:8080/"
        },
        "id": "iCqqenOudS9S",
        "outputId": "0b6ad614-ae52-4923-806d-7ee5f4e57c7f"
      },
      "execution_count": 48,
      "outputs": [
        {
          "output_type": "stream",
          "name": "stdout",
          "text": [
            "{'1': 146, '2': 163, '3': 152, '4': 153, '5': 130, '6': 256}\n"
          ]
        }
      ]
    },
    {
      "cell_type": "code",
      "source": [
        "import matplotlib.pyplot as plt\n",
        "\n",
        "plt.bar(range(len(obs_dict_unfair)), list(obs_dict_unfair.values()), align='center')\n",
        "plt.xticks(range(len(obs_dict_unfair)), list(obs_dict_unfair.keys()))\n",
        "\n",
        "plt.show()"
      ],
      "metadata": {
        "colab": {
          "base_uri": "https://localhost:8080/",
          "height": 265
        },
        "id": "dz9rP6yebvna",
        "outputId": "7b54725b-76fa-42cc-f652-4bce2bf9beaf"
      },
      "execution_count": 49,
      "outputs": [
        {
          "output_type": "display_data",
          "data": {
            "text/plain": [
              "<Figure size 432x288 with 1 Axes>"
            ],
            "image/png": "[encoded data removed]"
          },
          "metadata": {
            "needs_background": "light"
          }
        }
      ]
    },
    {
      "cell_type": "code",
      "source": [
        ""
      ],
      "metadata": {
        "id": "EUT6BcH4ftrx"
      },
      "execution_count": null,
      "outputs": []
    }
  ]
}