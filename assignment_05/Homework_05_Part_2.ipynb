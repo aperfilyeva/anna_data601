{
  "nbformat": 4,
  "nbformat_minor": 0,
  "metadata": {
    "colab": {
      "name": "Homework_05_Part_2.ipynb",
      "provenance": [],
      "authorship_tag": "ABX9TyM65qBAIuhyL71tT9Xcwyfl",
      "include_colab_link": true
    },
    "kernelspec": {
      "name": "python3",
      "display_name": "Python 3"
    },
    "language_info": {
      "name": "python"
    }
  },
  "cells": [
    {
      "cell_type": "markdown",
      "metadata": {
        "id": "view-in-github",
        "colab_type": "text"
      },
      "source": [
        "<a href=\"https://colab.research.google.com/github/aperfilyeva/anna_data601/blob/main/assignment_05/Homework_05_Part_2.ipynb\" target=\"_parent\"><img src=\"https://colab.research.google.com/assets/colab-badge.svg\" alt=\"Open In Colab\"/></a>"
      ]
    },
    {
      "cell_type": "code",
      "execution_count": 3,
      "metadata": {
        "id": "b3UYJY30WwTN"
      },
      "outputs": [],
      "source": [
        "import random\n",
        "import plotly\n",
        "import pandas as pd"
      ]
    },
    {
      "cell_type": "markdown",
      "source": [
        "##Input the desired number of observations"
      ],
      "metadata": {
        "id": "5FGaLqlFi_sv"
      }
    },
    {
      "cell_type": "code",
      "source": [
        "obs=input(\"Input desired number of random observations:\")\n",
        "print(obs)"
      ],
      "metadata": {
        "id": "evbDnKwRiss1",
        "outputId": "230152b4-8a65-4460-b94e-b443ef12d578",
        "colab": {
          "base_uri": "https://localhost:8080/"
        }
      },
      "execution_count": 1,
      "outputs": [
        {
          "output_type": "stream",
          "name": "stdout",
          "text": [
            "Input desired number of random observations:100000\n",
            "100000\n"
          ]
        }
      ]
    },
    {
      "cell_type": "markdown",
      "source": [
        "## Fair Die"
      ],
      "metadata": {
        "id": "Ehc2maBVgsf0"
      }
    },
    {
      "cell_type": "code",
      "source": [
        "# fair die\n",
        "fair_die = ['1', '2', '3', '4', '5', '6']\n",
        "obs_dict={\n",
        "        \"1\": 0,\n",
        "        \"2\": 0,\n",
        "        \"3\": 0,\n",
        "        \"4\": 0,\n",
        "        \"5\": 0,\n",
        "        \"6\": 0\n",
        "}\n",
        "for i in range(int(obs)): \n",
        "    obs_dict[random.choice(fair_die)] += 1\n",
        "    \n",
        "print(obs_dict)"
      ],
      "metadata": {
        "colab": {
          "base_uri": "https://localhost:8080/"
        },
        "id": "EdtJy-YTXqQN",
        "outputId": "ebe7b3c1-6e1d-4858-c394-813c0354558e"
      },
      "execution_count": 4,
      "outputs": [
        {
          "output_type": "stream",
          "name": "stdout",
          "text": [
            "{'1': 16529, '2': 16650, '3': 16839, '4': 16779, '5': 16678, '6': 16525}\n"
          ]
        }
      ]
    },
    {
      "cell_type": "code",
      "source": [
        "import matplotlib.pyplot as plt\n",
        "\n",
        "plt.bar(range(len(obs_dict)), list(obs_dict.values()), align='center')\n",
        "plt.xticks(range(len(obs_dict)), list(obs_dict.keys()))\n",
        "\n",
        "plt.show()"
      ],
      "metadata": {
        "colab": {
          "base_uri": "https://localhost:8080/",
          "height": 265
        },
        "id": "r-1ti55MZFKz",
        "outputId": "8f65f97e-b4c6-401c-ad5c-f8b370887914"
      },
      "execution_count": 5,
      "outputs": [
        {
          "output_type": "display_data",
          "data": {
            "text/plain": [
              "<Figure size 432x288 with 1 Axes>"
            ],
            "image/png": "[encoded data removed]"
          },
          "metadata": {
            "needs_background": "light"
          }
        }
      ]
    },
    {
      "cell_type": "markdown",
      "source": [
        "## Unfair Die"
      ],
      "metadata": {
        "id": "DIA6HK20gpLc"
      }
    },
    {
      "cell_type": "code",
      "source": [
        "import numpy as np\n",
        "unfair_die = ['1', '2', '3', '4', '5', '6']\n",
        "weights = [0.15, 0.15, 0.15, 0.15, 0.15, 0.25]\n",
        "\n",
        "obs_dict_unfair={\n",
        "        \"1\": 0,\n",
        "        \"2\": 0,\n",
        "        \"3\": 0,\n",
        "        \"4\": 0,\n",
        "        \"5\": 0,\n",
        "        \"6\": 0\n",
        "}\n",
        "for i in range(1000): \n",
        "    obs_dict_unfair[np.random.choice(unfair_die,p=weights)] += 1\n",
        "    \n",
        "print(obs_dict_unfair)"
      ],
      "metadata": {
        "colab": {
          "base_uri": "https://localhost:8080/"
        },
        "id": "iCqqenOudS9S",
        "outputId": "f2943688-5fb2-4073-c2a9-c7991e854f30"
      },
      "execution_count": 6,
      "outputs": [
        {
          "output_type": "stream",
          "name": "stdout",
          "text": [
            "{'1': 144, '2': 158, '3': 149, '4': 138, '5': 148, '6': 263}\n"
          ]
        }
      ]
    },
    {
      "cell_type": "code",
      "source": [
        "import matplotlib.pyplot as plt\n",
        "\n",
        "plt.bar(range(len(obs_dict_unfair)), list(obs_dict_unfair.values()), align='center')\n",
        "plt.xticks(range(len(obs_dict_unfair)), list(obs_dict_unfair.keys()))\n",
        "\n",
        "plt.show()"
      ],
      "metadata": {
        "colab": {
          "base_uri": "https://localhost:8080/",
          "height": 265
        },
        "id": "dz9rP6yebvna",
        "outputId": "23be2c54-f053-46e4-882c-612770335d8c"
      },
      "execution_count": 7,
      "outputs": [
        {
          "output_type": "display_data",
          "data": {
            "text/plain": [
              "<Figure size 432x288 with 1 Axes>"
            ],
            "image/png": "[encoded data removed]"
          },
          "metadata": {
            "needs_background": "light"
          }
        }
      ]
    },
    {
      "cell_type": "code",
      "source": [
        ""
      ],
      "metadata": {
        "id": "EUT6BcH4ftrx"
      },
      "execution_count": null,
      "outputs": []
    }
  ]
}