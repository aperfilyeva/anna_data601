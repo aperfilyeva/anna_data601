{
  "nbformat": 4,
  "nbformat_minor": 0,
  "metadata": {
    "colab": {
      "name": "Untitled14.ipynb",
      "provenance": [],
      "authorship_tag": "ABX9TyMWRw1fypzuJ8bQZ51xTzMg",
      "include_colab_link": true
    },
    "kernelspec": {
      "name": "python3",
      "display_name": "Python 3"
    },
    "language_info": {
      "name": "python"
    }
  },
  "cells": [
    {
      "cell_type": "markdown",
      "metadata": {
        "id": "view-in-github",
        "colab_type": "text"
      },
      "source": [
        "<a href=\"https://colab.research.google.com/github/aperfilyeva/anna_data601/blob/main/assignment_07/Assignment_7.ipynb\" target=\"_parent\"><img src=\"https://colab.research.google.com/assets/colab-badge.svg\" alt=\"Open In Colab\"/></a>"
      ]
    },
    {
      "cell_type": "code",
      "execution_count": 103,
      "metadata": {
        "id": "SctNCCzHJRHt"
      },
      "outputs": [],
      "source": [
        "\n",
        "import nltk\n",
        "import docx\n",
        "import zipfile\n",
        "import re\n",
        "\n"
      ]
    },
    {
      "cell_type": "code",
      "source": [
        "#Unzip file\n",
        "with zipfile.ZipFile(\"week_8_documents.zip\",\"r\") as zip_ref:\n",
        "    zip_ref.extractall()\n",
        "worddoc = open('week_8_document1.docx', 'r')"
      ],
      "metadata": {
        "id": "RWlx14ttnPDY"
      },
      "execution_count": 104,
      "outputs": []
    },
    {
      "cell_type": "code",
      "source": [
        "# Extract text from Word Document\n",
        "from docx import Document\n",
        "\n",
        "worddoc1 = Document('week_8_document1.docx')\n",
        "for para in document.paragraphs:\n",
        "    worddoc1=para.text"
      ],
      "metadata": {
        "id": "eA9-YdapP2MV"
      },
      "execution_count": 105,
      "outputs": []
    },
    {
      "cell_type": "code",
      "source": [
        "# Read in the text file\n",
        "txtdoc = open('week_8_document2.txt', encoding = 'latin-1')\n",
        "txtdoc1 = txtdoc.read().replace('\\n', '')\n",
        "\n",
        "print(txtdoc1)"
      ],
      "metadata": {
        "colab": {
          "base_uri": "https://localhost:8080/"
        },
        "id": "TXWjA-m0QSDB",
        "outputId": "b4f8bc4f-0f36-41bc-b7c1-db95542932a8"
      },
      "execution_count": 109,
      "outputs": [
        {
          "output_type": "stream",
          "name": "stdout",
          "text": [
            "Dr. Yawnby Earl Vickers from Boring Bedtime Stories  An Anthology for Insomniacs  It started, harmlessly enough, with a high-school science fair project  Why Are Yawns Contagious? But one thing led to another until here he was, the worlds foremost expert on a subject no one cared about, a topic equally suicidal at career conferences and cocktail parties. For reasons he did not fully understand, the discussion of yawning was considered almost as rude and/or boring as the act itself. The mere mention of his research would inevitably bring about a minor epidemic of uncontrollable yawns, whether behind his back, disguised by a hand, or right to his face. In this way he had ruined countless conventions, meetings, concerts, bachelor parties and wedding receptions, until the number of invitations, both social and professional, had dwindled to nothing. This was doubly unfortunate, because while they lasted, these social encounters served as laboratories for additional field research. At the conclusion of each ill-fated encounter, he would quietly retire to a corner of the room and take meticulous notes. Sometimes he would surreptitiously time these discussions with a stopwatch, carefully noting the length of the initial gestation period, or pre-delay; the duration of the long inspiratory phase; the precise moment of the acme, or orgasmic peak of the yawn; the short expiration period; the contagion interval; and the rate at which new bystanders were afflicted. He would also gather as much data as possible regarding the people involved, in an effort to derive correlations between personality type and susceptibility to yawn contagion. Realizing that most people did not share his fascination for learning about yawnings paralinguistic value, its role as a complex arousal defense reflex, its origin in the reticular brainstem, or theories on its relation to borderline hypoxia, he had tried to spice up his discussions with famous quotations, such as Aristotles: As a donkey urinates when he sees or hears another donkey doing it, so also man yawns seeing someone else do so. He even used his joke about the pharmacological connection between yawning and spontaneous erection  \"Am I boring you to death, or are you just happy to see me?\" But without fail, the recipient of these conversations would ask to be excused and, covering mouth with hand, make a beeline for anywhere else. Sadly, his work had suffered in recent years. He seemed unable to concentrate. Often he would fall asleep in the middle of his research or while writing a paper. Even when he managed to complete an article, it was rarely either accepted or rejected  it was simply ignored, as if the manuscript had become unreadable. In the academic world of publish or perish, he was on the perish path. Students rarely came to his office any more. He missed seeing their bright, inquisitive eyes, lighting up briefly before eventually disappearing behind heavy lids, the flame of curiosity gradually flickering in the wind of physiologic research before finally being extinguished by discussions of serotoninergic inhibition, neuromuscular spindles, adrenocorticotropic hormone-related peptides and hypothalamic dopaminergic mechanisms. He had particularly enjoyed showing his students a nearly fascinating portrait that hung on his wall. This painting, he believed, should have been priceless, as it apparently dated from the time of the Renaissance, but he had managed to obtain it from its ignorant owner for a few hundred dollars. He suspected the portrait to be one spoken of by Leonardo da Vinci: An artist once painted a picture which made everybody who saw it yawn and yawn repeatedly as long as they kept their eyes on the picture, which represented a man who was also yawning. The professor had hoped this painting would impress upon his students the reality and immediacy of the contagion phenomenon and trigger an avalanche of questions, but often the students would suddenly remember an urgent appointment on the other side of campus. His lectures had a reputation for being, if not mesmerizing, at least somniferous. It was rumored that he once managed to render an entire classroom unconscious, but this was almost certainly an exaggeration. At any rate, students displayed remarkable ingenuity in devising new ways to conceal, stifle and swallow their yawns. They developed elaborate alarm systems to keep each other awake during exams and when called upon during class. Meanwhile, students who suffered from insomnia would frequently audit his classes in search of a cure for their condition. On one recent evening, the professor sat up in bed, reviewing his life. He recalled with some satisfaction his breakthroughs in the areas of fetal yawn research, temporary yawn-related hearing loss and hysterical paroxysmal yawning. He fondly remembered the (mostly seated) ovation he received from those still awake as he finished presenting his groundbreaking paper on the role of yawning in mate selection. While his one non-technical book, The Joy of Yawning, and his monograph Yawn Proudly, never quite reached the broader audiences for whom they were intended, he was nonetheless proud of his efforts to popularize the subject. He had done all one man could do.  Not such a bad life, he reflected, stretching out in bed and closing his eyes. Soon, perhaps, the dean, the mayor, or the President would awaken him, asking for his help, something about a kidnapping or a terrorist plot, his expertise desperately needed, the megaphone or cell phone placed in his hand, his dulcet tones calming, relaxing, defusing the situation, until everyone drifts off to sleep, soft, warm, comfortable sleep, no problems that cant wait for another day. He would sleep now, wake tomorrow to the thanks of a grateful nation.   https://www.museumofconceptualart.com/stories/boringbedtimestories/dryawn.html   \n"
          ]
        }
      ]
    },
    {
      "cell_type": "code",
      "source": [
        "# Remove HTTP links\n",
        "worddocnohttp = re.sub(r'(https|http)?:\\/\\/(\\w|\\.|\\/|\\?|\\=|\\&|\\%)*\\b', '', worddoc1, flags=re.MULTILINE)\n",
        "txtdocnohttp = re.sub(r'(https|http)?:\\/\\/(\\w|\\.|\\/|\\?|\\=|\\&|\\%)*\\b', '', txtdoc1, flags=re.MULTILINE)"
      ],
      "metadata": {
        "id": "NLjwWMYlVShO"
      },
      "execution_count": 112,
      "outputs": []
    },
    {
      "cell_type": "code",
      "source": [
        "print(txtdocnohttp)"
      ],
      "metadata": {
        "colab": {
          "base_uri": "https://localhost:8080/"
        },
        "id": "mk_6qWcvVTRq",
        "outputId": "0ab6acd9-ab70-456e-ad1f-e743168c9f91"
      },
      "execution_count": 113,
      "outputs": [
        {
          "output_type": "stream",
          "name": "stdout",
          "text": [
            "Dr. Yawnby Earl Vickers from Boring Bedtime Stories  An Anthology for Insomniacs  It started, harmlessly enough, with a high-school science fair project  Why Are Yawns Contagious? But one thing led to another until here he was, the worlds foremost expert on a subject no one cared about, a topic equally suicidal at career conferences and cocktail parties. For reasons he did not fully understand, the discussion of yawning was considered almost as rude and/or boring as the act itself. The mere mention of his research would inevitably bring about a minor epidemic of uncontrollable yawns, whether behind his back, disguised by a hand, or right to his face. In this way he had ruined countless conventions, meetings, concerts, bachelor parties and wedding receptions, until the number of invitations, both social and professional, had dwindled to nothing. This was doubly unfortunate, because while they lasted, these social encounters served as laboratories for additional field research. At the conclusion of each ill-fated encounter, he would quietly retire to a corner of the room and take meticulous notes. Sometimes he would surreptitiously time these discussions with a stopwatch, carefully noting the length of the initial gestation period, or pre-delay; the duration of the long inspiratory phase; the precise moment of the acme, or orgasmic peak of the yawn; the short expiration period; the contagion interval; and the rate at which new bystanders were afflicted. He would also gather as much data as possible regarding the people involved, in an effort to derive correlations between personality type and susceptibility to yawn contagion. Realizing that most people did not share his fascination for learning about yawnings paralinguistic value, its role as a complex arousal defense reflex, its origin in the reticular brainstem, or theories on its relation to borderline hypoxia, he had tried to spice up his discussions with famous quotations, such as Aristotles: As a donkey urinates when he sees or hears another donkey doing it, so also man yawns seeing someone else do so. He even used his joke about the pharmacological connection between yawning and spontaneous erection  \"Am I boring you to death, or are you just happy to see me?\" But without fail, the recipient of these conversations would ask to be excused and, covering mouth with hand, make a beeline for anywhere else. Sadly, his work had suffered in recent years. He seemed unable to concentrate. Often he would fall asleep in the middle of his research or while writing a paper. Even when he managed to complete an article, it was rarely either accepted or rejected  it was simply ignored, as if the manuscript had become unreadable. In the academic world of publish or perish, he was on the perish path. Students rarely came to his office any more. He missed seeing their bright, inquisitive eyes, lighting up briefly before eventually disappearing behind heavy lids, the flame of curiosity gradually flickering in the wind of physiologic research before finally being extinguished by discussions of serotoninergic inhibition, neuromuscular spindles, adrenocorticotropic hormone-related peptides and hypothalamic dopaminergic mechanisms. He had particularly enjoyed showing his students a nearly fascinating portrait that hung on his wall. This painting, he believed, should have been priceless, as it apparently dated from the time of the Renaissance, but he had managed to obtain it from its ignorant owner for a few hundred dollars. He suspected the portrait to be one spoken of by Leonardo da Vinci: An artist once painted a picture which made everybody who saw it yawn and yawn repeatedly as long as they kept their eyes on the picture, which represented a man who was also yawning. The professor had hoped this painting would impress upon his students the reality and immediacy of the contagion phenomenon and trigger an avalanche of questions, but often the students would suddenly remember an urgent appointment on the other side of campus. His lectures had a reputation for being, if not mesmerizing, at least somniferous. It was rumored that he once managed to render an entire classroom unconscious, but this was almost certainly an exaggeration. At any rate, students displayed remarkable ingenuity in devising new ways to conceal, stifle and swallow their yawns. They developed elaborate alarm systems to keep each other awake during exams and when called upon during class. Meanwhile, students who suffered from insomnia would frequently audit his classes in search of a cure for their condition. On one recent evening, the professor sat up in bed, reviewing his life. He recalled with some satisfaction his breakthroughs in the areas of fetal yawn research, temporary yawn-related hearing loss and hysterical paroxysmal yawning. He fondly remembered the (mostly seated) ovation he received from those still awake as he finished presenting his groundbreaking paper on the role of yawning in mate selection. While his one non-technical book, The Joy of Yawning, and his monograph Yawn Proudly, never quite reached the broader audiences for whom they were intended, he was nonetheless proud of his efforts to popularize the subject. He had done all one man could do.  Not such a bad life, he reflected, stretching out in bed and closing his eyes. Soon, perhaps, the dean, the mayor, or the President would awaken him, asking for his help, something about a kidnapping or a terrorist plot, his expertise desperately needed, the megaphone or cell phone placed in his hand, his dulcet tones calming, relaxing, defusing the situation, until everyone drifts off to sleep, soft, warm, comfortable sleep, no problems that cant wait for another day. He would sleep now, wake tomorrow to the thanks of a grateful nation.      \n"
          ]
        }
      ]
    },
    {
      "cell_type": "code",
      "source": [
        "worddocnohttp1 = re.sub(r'((1-\\d{3}-\\d{3}-\\d{4})|(\\(\\d{3}\\) \\d{3}-\\d{4})|(\\d{3}-\\d{3}-\\d{4}))$', '', worddocnohttp,flags=re.MULTILINE)\n",
        "txtdocnohttp1 = re.sub(r'(https|http)?:\\/\\/(\\w|\\.|\\/|\\?|\\=|\\&|\\%)*\\b', '', txtdocnohttp, flags=re.MULTILINE)"
      ],
      "metadata": {
        "id": "yrORbotVWFB3"
      },
      "execution_count": 77,
      "outputs": []
    },
    {
      "cell_type": "code",
      "source": [
        "# Remove punctuation\n",
        "import string \n",
        "\n",
        "punctuations = string.punctuation\n",
        "\n",
        "file1nopunc = ''.join(c for c in worddocnohttp1 if c not in punctuations).lower()\n",
        "file2nopunc = ''.join(c for c in txtdocnohttp1 if c not in punctuations).lower()"
      ],
      "metadata": {
        "id": "FHL9KFBmVXYv"
      },
      "execution_count": 78,
      "outputs": []
    },
    {
      "cell_type": "code",
      "source": [
        "print(file2nopunc)"
      ],
      "metadata": {
        "colab": {
          "base_uri": "https://localhost:8080/"
        },
        "id": "rrZwPvAKV96-",
        "outputId": "bf75c7b9-620e-4a65-e62d-9adaccd2335f"
      },
      "execution_count": 93,
      "outputs": [
        {
          "output_type": "stream",
          "name": "stdout",
          "text": [
            "dr yawnby earl vickers from boring bedtime stories  an anthology for insomniacs  it started harmlessly enough with a highschool science fair project  why are yawns contagious but one thing led to another until here he was the worlds foremost expert on a subject no one cared about a topic equally suicidal at career conferences and cocktail parties for reasons he did not fully understand the discussion of yawning was considered almost as rude andor boring as the act itself the mere mention of his research would inevitably bring about a minor epidemic of uncontrollable yawns whether behind his back disguised by a hand or right to his face in this way he had ruined countless conventions meetings concerts bachelor parties and wedding receptions until the number of invitations both social and professional had dwindled to nothing this was doubly unfortunate because while they lasted these social encounters served as laboratories for additional field research at the conclusion of each illfated encounter he would quietly retire to a corner of the room and take meticulous notes sometimes he would surreptitiously time these discussions with a stopwatch carefully noting the length of the initial gestation period or predelay the duration of the long inspiratory phase the precise moment of the acme or orgasmic peak of the yawn the short expiration period the contagion interval and the rate at which new bystanders were afflicted he would also gather as much data as possible regarding the people involved in an effort to derive correlations between personality type and susceptibility to yawn contagion realizing that most people did not share his fascination for learning about yawnings paralinguistic value its role as a complex arousal defense reflex its origin in the reticular brainstem or theories on its relation to borderline hypoxia he had tried to spice up his discussions with famous quotations such as aristotles as a donkey urinates when he sees or hears another donkey doing it so also man yawns seeing someone else do so he even used his joke about the pharmacological connection between yawning and spontaneous erection  am i boring you to death or are you just happy to see me but without fail the recipient of these conversations would ask to be excused and covering mouth with hand make a beeline for anywhere else sadly his work had suffered in recent years he seemed unable to concentrate often he would fall asleep in the middle of his research or while writing a paper even when he managed to complete an article it was rarely either accepted or rejected  it was simply ignored as if the manuscript had become unreadable in the academic world of publish or perish he was on the perish path students rarely came to his office any more he missed seeing their bright inquisitive eyes lighting up briefly before eventually disappearing behind heavy lids the flame of curiosity gradually flickering in the wind of physiologic research before finally being extinguished by discussions of serotoninergic inhibition neuromuscular spindles adrenocorticotropic hormonerelated peptides and hypothalamic dopaminergic mechanisms he had particularly enjoyed showing his students a nearly fascinating portrait that hung on his wall this painting he believed should have been priceless as it apparently dated from the time of the renaissance but he had managed to obtain it from its ignorant owner for a few hundred dollars he suspected the portrait to be one spoken of by leonardo da vinci an artist once painted a picture which made everybody who saw it yawn and yawn repeatedly as long as they kept their eyes on the picture which represented a man who was also yawning the professor had hoped this painting would impress upon his students the reality and immediacy of the contagion phenomenon and trigger an avalanche of questions but often the students would suddenly remember an urgent appointment on the other side of campus his lectures had a reputation for being if not mesmerizing at least somniferous it was rumored that he once managed to render an entire classroom unconscious but this was almost certainly an exaggeration at any rate students displayed remarkable ingenuity in devising new ways to conceal stifle and swallow their yawns they developed elaborate alarm systems to keep each other awake during exams and when called upon during class meanwhile students who suffered from insomnia would frequently audit his classes in search of a cure for their condition on one recent evening the professor sat up in bed reviewing his life he recalled with some satisfaction his breakthroughs in the areas of fetal yawn research temporary yawnrelated hearing loss and hysterical paroxysmal yawning he fondly remembered the mostly seated ovation he received from those still awake as he finished presenting his groundbreaking paper on the role of yawning in mate selection while his one nontechnical book the joy of yawning and his monograph yawn proudly never quite reached the broader audiences for whom they were intended he was nonetheless proud of his efforts to popularize the subject he had done all one man could do  not such a bad life he reflected stretching out in bed and closing his eyes soon perhaps the dean the mayor or the president would awaken him asking for his help something about a kidnapping or a terrorist plot his expertise desperately needed the megaphone or cell phone placed in his hand his dulcet tones calming relaxing defusing the situation until everyone drifts off to sleep soft warm comfortable sleep no problems that cant wait for another day he would sleep now wake tomorrow to the thanks of a grateful nation      \n"
          ]
        }
      ]
    },
    {
      "cell_type": "code",
      "source": [
        "import nltk.tokenize\n",
        "nltk.download('punkt')\n",
        "from nltk.tokenize import word_tokenize\n",
        "from nltk.tokenize import punkt\n",
        "\n",
        "word_tokensdocx = word_tokenize(file1nopunc)\n",
        "word_tokenstext = nltk.word_tokenize(file2nopunc)"
      ],
      "metadata": {
        "colab": {
          "base_uri": "https://localhost:8080/"
        },
        "id": "4HEvV9wZlRRJ",
        "outputId": "968cde50-8744-4c8b-995d-ac2b6e1a1c53"
      },
      "execution_count": 98,
      "outputs": [
        {
          "output_type": "stream",
          "name": "stdout",
          "text": [
            "[nltk_data] Downloading package punkt to /root/nltk_data...\n",
            "[nltk_data]   Package punkt is already up-to-date!\n"
          ]
        }
      ]
    },
    {
      "cell_type": "code",
      "source": [
        "file2=open(\"stop_words_english.txt\")\n",
        "stopword=file2.read()\n",
        "\n",
        "from nltk.tokenize import word_tokenize\n",
        "\n",
        "removing_stopwordsdocx = [word for word in word_tokensdocx if word not in stopword]\n",
        "removing_stopwordstext = [word for word in word_tokenstext if word not in stopword]"
      ],
      "metadata": {
        "id": "ZVdU4CcSmX8F"
      },
      "execution_count": 100,
      "outputs": []
    },
    {
      "cell_type": "code",
      "source": [
        "\n",
        "answerdocx = np.array(removing_stopwordsdocx)\n",
        "finalanswerdocx = np.unique(answerdocx)\n",
        "answertxt = np.array(removing_stopwordstext)\n",
        "finalanswertxt = np.unique(answertxt)\n",
        "final = str(os.path.basename('week_8_document1.docx')) + \":\" + str(finalanswerdocx) + \"\\n\" + str(os.path.basename('week_8_document2.txt')) + \":\" + str(finalanswertxt)\n",
        "finalfile = open(\"finalfile.dat\", \"w\")\n",
        "finalfile.write(final)\n",
        "finalfile.close()\n",
        "finalfile = open(\"finalfile.dat\", \"r\")\n",
        "print(finalfile.read())\n"
      ],
      "metadata": {
        "colab": {
          "base_uri": "https://localhost:8080/"
        },
        "id": "frcWSDHhWM6j",
        "outputId": "fb664732-3af7-481b-e73b-47deec8389fc"
      },
      "execution_count": 101,
      "outputs": [
        {
          "output_type": "stream",
          "name": "stdout",
          "text": [
            "week_8_document1.docx:['acquired' 'analysis' 'authentic' 'base' 'computational' 'considered'\n",
            " 'contextualised' 'corpora' 'corpus' 'create' 'derived' 'effective'\n",
            " 'enabling' 'exposure' 'foreign' 'frequency' 'grammatical' 'grasp'\n",
            " 'hidden' 'knowledge' 'language' 'learners' 'linguistics' 'lists'\n",
            " 'machine' 'manner' 'markov' 'models' 'nonnative' 'processing' 'purposes'\n",
            " 'recognition' 'sentence' 'speech' 'subject' 'tagging' 'target' 'teaching'\n",
            " 'texts' 'translation' 'type' 'types' 'users' 'work' 'writing']\n",
            "week_8_document2.txt:['academic' 'accepted' 'acme' 'additional' 'adrenocorticotropic'\n",
            " 'afflicted' 'alarm' 'andor' 'anthology' 'appointment' 'areas'\n",
            " 'aristotle\\x92s' 'arousal' 'article' 'artist' 'asleep' 'audiences'\n",
            " 'audit' 'avalanche' 'awake' 'awaken' 'bachelor' 'bad' 'bedtime' 'beeline'\n",
            " 'believed' 'book' 'borderline' 'boring' 'brainstem' 'breakthroughs'\n",
            " 'bright' 'bring' 'broader' 'bystanders' 'called' 'calming' 'campus'\n",
            " 'can\\x92t' 'cared' 'career' 'carefully' 'cell' 'class' 'classes'\n",
            " 'classroom' 'closing' 'cocktail' 'comfortable' 'complete' 'complex'\n",
            " 'conceal' 'concentrate' 'concerts' 'conclusion' 'condition' 'conferences'\n",
            " 'connection' 'considered' 'contagion' 'contagious\\x94' 'conventions'\n",
            " 'conversations' 'corner' 'correlations' 'countless' 'covering' 'cure'\n",
            " 'curiosity' 'data' 'dated' 'dean' 'death' 'defense' 'defusing' 'derive'\n",
            " 'desperately' 'developed' 'devising' 'disappearing' 'discussion'\n",
            " 'discussions' 'disguised' 'displayed' 'dollars' 'donkey' 'dopaminergic'\n",
            " 'doubly' 'drifts' 'dulcet' 'duration' 'dwindled' 'effort' 'efforts'\n",
            " 'elaborate' 'encounter' 'encounters' 'enjoyed' 'epidemic' 'equally'\n",
            " 'erection' 'evening' 'eventually' 'exaggeration' 'exams' 'excused'\n",
            " 'expert' 'expertise' 'expiration' 'extinguished' 'eyes' 'face' 'fail'\n",
            " 'fall' 'famous' 'fascinating' 'fascination' 'fetal' 'field' 'finally'\n",
            " 'finished' 'flame' 'flickering' 'fondly' 'foremost' 'frequently' 'gather'\n",
            " 'gestation' 'gradually' 'grateful' 'groundbreaking' 'happy' 'harmlessly'\n",
            " 'hearing' 'hears' 'heavy' 'highschool' 'hoped' 'hormonerelated' 'hung'\n",
            " 'hypothalamic' 'hypoxia' 'hysterical' 'ignorant' 'illfated' 'immediacy'\n",
            " 'impress' 'inevitably' 'ingenuity' 'inhibition' 'initial' 'inquisitive'\n",
            " 'insomnia' 'insomniacs' 'inspiratory' 'intended' 'interval' 'invitations'\n",
            " 'involved' 'joke' 'joy' 'kidnapping' 'laboratories' 'lasted' 'learning'\n",
            " 'lectures' 'led' 'length' 'leonardo' 'lids' 'life' 'life\\x94' 'lighting'\n",
            " 'loss' 'managed' 'manuscript' 'mayor' 'mechanisms' 'meetings' 'megaphone'\n",
            " 'mention' 'mesmerizing' 'meticulous' 'middle' 'minor' 'missed' 'moment'\n",
            " 'monograph' 'mouth' 'nation' 'needed' 'neuromuscular' 'nontechnical'\n",
            " 'notes' 'noting' 'number' 'office' 'orgasmic' 'origin' 'ovation' 'owner'\n",
            " 'painted' 'painting' 'paper' 'paralinguistic' 'paroxysmal' 'parties'\n",
            " 'path' 'peak' 'people' 'peptides' 'period' 'perish' 'perish\\x94'\n",
            " 'personality' 'pharmacological' 'phase' 'phenomenon' 'phone'\n",
            " 'physiologic' 'picture' 'plot' 'popularize' 'portrait' 'precise'\n",
            " 'predelay' 'presenting' 'president' 'priceless' 'problems' 'professional'\n",
            " 'professor' 'project' 'proudly\\x94' 'questions' 'quietly' 'quotations'\n",
            " 'rarely' 'rate' 'reached' 'reality' 'realizing' 'reasons' 'recalled'\n",
            " 'received' 'receptions' 'recipient' 'reflected' 'reflex' 'rejected'\n",
            " 'relation' 'relaxing' 'remarkable' 'remember' 'remembered' 'renaissance'\n",
            " 'render' 'repeatedly' 'represented' 'reputation' 'reticular' 'retire'\n",
            " 'reviewing' 'role' 'room' 'rude' 'ruined' 'rumored' 'sadly' 'sat'\n",
            " 'satisfaction' 'science' 'seated' 'sees' 'selection' 'serotoninergic'\n",
            " 'served' 'share' 'short' 'showing' 'simply' 'situation' 'sleep' 'social'\n",
            " 'soft' 'somniferous' 'so\\x94' 'spice' 'spindles' 'spoken' 'spontaneous'\n",
            " 'started' 'stifle' 'stopwatch' 'stories' 'stretching' 'students'\n",
            " 'subject' 'suddenly' 'suffered' 'suicidal' 'surreptitiously'\n",
            " 'susceptibility' 'suspected' 'swallow' 'systems' 'temporary' 'terrorist'\n",
            " 'theories' 'tomorrow' 'tones' 'topic' 'trigger' 'type' 'unable'\n",
            " 'unconscious' 'uncontrollable' 'understand' 'unreadable' 'urgent'\n",
            " 'urinates' 'vickers' 'vinci' 'wait' 'wake' 'wall' 'warm' 'wedding' 'wind'\n",
            " 'work' 'world\\x92s' 'writing' 'yawn' 'yawnby' 'yawning' 'yawning\\x92s'\n",
            " 'yawning\\x94' 'yawnrelated' 'yawns' 'years' '\\x93an' '\\x93as' '\\x93not'\n",
            " '\\x93publish' '\\x93why' '\\x93yawn' '\\x96' '\\x97']\n"
          ]
        }
      ]
    },
    {
      "cell_type": "code",
      "source": [
        "print(word_tokensdocx)"
      ],
      "metadata": {
        "colab": {
          "base_uri": "https://localhost:8080/"
        },
        "id": "yMYKL86EX-WE",
        "outputId": "598457c6-b73a-43d0-cc5a-6f1157fb8d30"
      },
      "execution_count": 102,
      "outputs": [
        {
          "output_type": "stream",
          "name": "stdout",
          "text": [
            "['corpora', 'are', 'the', 'main', 'knowledge', 'base', 'in', 'corpus', 'linguistics', 'the', 'analysis', 'and', 'processing', 'of', 'various', 'types', 'of', 'corpora', 'are', 'also', 'the', 'subject', 'of', 'much', 'work', 'in', 'computational', 'linguistics', 'speech', 'recognition', 'and', 'machine', 'translation', 'where', 'they', 'are', 'often', 'used', 'to', 'create', 'hidden', 'markov', 'models', 'for', 'part', 'of', 'speech', 'tagging', 'and', 'other', 'purposes', 'corpora', 'and', 'frequency', 'lists', 'derived', 'from', 'them', 'are', 'useful', 'for', 'language', 'teaching', 'corpora', 'can', 'be', 'considered', 'as', 'a', 'type', 'of', 'foreign', 'language', 'writing', 'aid', 'as', 'the', 'contextualised', 'grammatical', 'knowledge', 'acquired', 'by', 'nonnative', 'language', 'users', 'through', 'exposure', 'to', 'authentic', 'texts', 'in', 'corpora', 'allows', 'learners', 'to', 'grasp', 'the', 'manner', 'of', 'sentence', 'formation', 'in', 'the', 'target', 'language', 'enabling', 'effective', 'writing']\n"
          ]
        }
      ]
    },
    {
      "cell_type": "code",
      "source": [
        ""
      ],
      "metadata": {
        "id": "5X0HbHCVZg81"
      },
      "execution_count": null,
      "outputs": []
    }
  ]
}