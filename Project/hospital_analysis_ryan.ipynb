{
  "cells": [
    {
      "cell_type": "markdown",
      "metadata": {
        "id": "view-in-github",
        "colab_type": "text"
      },
      "source": [
        "<a href=\"https://colab.research.google.com/github/aperfilyeva/anna_data601/blob/main/Project/hospital_analysis_ryan.ipynb\" target=\"_parent\"><img src=\"https://colab.research.google.com/assets/colab-badge.svg\" alt=\"Open In Colab\"/></a>"
      ]
    },
    {
      "cell_type": "code",
      "execution_count": 4,
      "metadata": {
        "scrolled": false,
        "colab": {
          "base_uri": "https://localhost:8080/",
          "height": 520
        },
        "id": "izSINwihbuOC",
        "outputId": "4071087b-d9c5-4696-bd8d-f9c3b0352da1"
      },
      "outputs": [
        {
          "output_type": "execute_result",
          "data": {
            "text/plain": [
              "                                         Hospital_name  Drg_code  \\\n",
              "0    Southern hills hospital medical center, las Vegas       788   \n",
              "1                               Mountain View Hospital       788   \n",
              "2    Dell Seton Medical Center at the University of...       788   \n",
              "3                Ascension Seton Medical Center Austin       788   \n",
              "4             Baylor Scott & White Emergency Hospitals       788   \n",
              "..                                                 ...       ...   \n",
              "103                     Northwestern Memorial Hospital       788   \n",
              "104                     Rush University Medical Center       788   \n",
              "105                              NYU Langone Hospitals       788   \n",
              "106                   Penn Presbyterian Medical Center       788   \n",
              "107                               Mount Sinai New York       788   \n",
              "\n",
              "     Min_contracted  Max_contracted State    Zip  Quality  Beds  Public_flag  \\\n",
              "0        786.000000    13980.000000    NV  89148        0   265            0   \n",
              "1       2863.000000     6554.000000    NV  89128        0   425            0   \n",
              "2       1999.990000     4999.750000    TX  78701        0   211            1   \n",
              "3       2829.800000     7074.500000    TX  78705        0   391            0   \n",
              "4       3229.600000    13468.310000    TX  76227        0    40            0   \n",
              "..              ...             ...   ...    ...      ...   ...          ...   \n",
              "103     8164.080000    34228.360000    IL  60611        1   903            0   \n",
              "104     6539.161717    23079.394295    IL  60612        1   671            0   \n",
              "105     7383.040000    61496.380000    NY  10016        1  1639            0   \n",
              "106     7353.000000   115483.000000    PA  19104        1   365            0   \n",
              "107     9022.000000    20027.000000    NY  10029        1  1183            0   \n",
              "\n",
              "     Teach  median_income    gini        max_min  proportion  ruca rural_code  \n",
              "0        0          78352  0.3642   13194.000000   17.786260   1.0      urban  \n",
              "1        0          59045  0.4787    3691.000000    2.289207   1.0      urban  \n",
              "2        1         127782  0.4836    2999.760000    2.499887   1.0      urban  \n",
              "3        1          23509  0.6579    4244.700000    2.500000   1.0      urban  \n",
              "4        0         102020  0.3683   10238.710000    4.170272   2.1      urban  \n",
              "..     ...            ...     ...            ...         ...   ...        ...  \n",
              "103      1         108413  0.5301   26064.280000    4.192556   1.0      urban  \n",
              "104      1          44538  0.5911   16540.232578    3.529412   1.0      urban  \n",
              "105      1         124647  0.5084   54113.340000    8.329412   1.0      urban  \n",
              "106      1          28603  0.5822  108130.000000   15.705562   1.0      urban  \n",
              "107      1          33801  0.6263   11005.000000    2.219796   1.0      urban  \n",
              "\n",
              "[108 rows x 16 columns]"
            ],
            "text/html": [
              "\n",
              "  <div id=\"df-e2a2ba3b-327b-41f0-beef-8fa8e6356b07\">\n",
              "    <div class=\"colab-df-container\">\n",
              "      <div>\n",
              "<style scoped>\n",
              "    .dataframe tbody tr th:only-of-type {\n",
              "        vertical-align: middle;\n",
              "    }\n",
              "\n",
              "    .dataframe tbody tr th {\n",
              "        vertical-align: top;\n",
              "    }\n",
              "\n",
              "    .dataframe thead th {\n",
              "        text-align: right;\n",
              "    }\n",
              "</style>\n",
              "<table border=\"1\" class=\"dataframe\">\n",
              "  <thead>\n",
              "    <tr style=\"text-align: right;\">\n",
              "      <th></th>\n",
              "      <th>Hospital_name</th>\n",
              "      <th>Drg_code</th>\n",
              "      <th>Min_contracted</th>\n",
              "      <th>Max_contracted</th>\n",
              "      <th>State</th>\n",
              "      <th>Zip</th>\n",
              "      <th>Quality</th>\n",
              "      <th>Beds</th>\n",
              "      <th>Public_flag</th>\n",
              "      <th>Teach</th>\n",
              "      <th>median_income</th>\n",
              "      <th>gini</th>\n",
              "      <th>max_min</th>\n",
              "      <th>proportion</th>\n",
              "      <th>ruca</th>\n",
              "      <th>rural_code</th>\n",
              "    </tr>\n",
              "  </thead>\n",
              "  <tbody>\n",
              "    <tr>\n",
              "      <th>0</th>\n",
              "      <td>Southern hills hospital medical center, las Vegas</td>\n",
              "      <td>788</td>\n",
              "      <td>786.000000</td>\n",
              "      <td>13980.000000</td>\n",
              "      <td>NV</td>\n",
              "      <td>89148</td>\n",
              "      <td>0</td>\n",
              "      <td>265</td>\n",
              "      <td>0</td>\n",
              "      <td>0</td>\n",
              "      <td>78352</td>\n",
              "      <td>0.3642</td>\n",
              "      <td>13194.000000</td>\n",
              "      <td>17.786260</td>\n",
              "      <td>1.0</td>\n",
              "      <td>urban</td>\n",
              "    </tr>\n",
              "    <tr>\n",
              "      <th>1</th>\n",
              "      <td>Mountain View Hospital</td>\n",
              "      <td>788</td>\n",
              "      <td>2863.000000</td>\n",
              "      <td>6554.000000</td>\n",
              "      <td>NV</td>\n",
              "      <td>89128</td>\n",
              "      <td>0</td>\n",
              "      <td>425</td>\n",
              "      <td>0</td>\n",
              "      <td>0</td>\n",
              "      <td>59045</td>\n",
              "      <td>0.4787</td>\n",
              "      <td>3691.000000</td>\n",
              "      <td>2.289207</td>\n",
              "      <td>1.0</td>\n",
              "      <td>urban</td>\n",
              "    </tr>\n",
              "    <tr>\n",
              "      <th>2</th>\n",
              "      <td>Dell Seton Medical Center at the University of...</td>\n",
              "      <td>788</td>\n",
              "      <td>1999.990000</td>\n",
              "      <td>4999.750000</td>\n",
              "      <td>TX</td>\n",
              "      <td>78701</td>\n",
              "      <td>0</td>\n",
              "      <td>211</td>\n",
              "      <td>1</td>\n",
              "      <td>1</td>\n",
              "      <td>127782</td>\n",
              "      <td>0.4836</td>\n",
              "      <td>2999.760000</td>\n",
              "      <td>2.499887</td>\n",
              "      <td>1.0</td>\n",
              "      <td>urban</td>\n",
              "    </tr>\n",
              "    <tr>\n",
              "      <th>3</th>\n",
              "      <td>Ascension Seton Medical Center Austin</td>\n",
              "      <td>788</td>\n",
              "      <td>2829.800000</td>\n",
              "      <td>7074.500000</td>\n",
              "      <td>TX</td>\n",
              "      <td>78705</td>\n",
              "      <td>0</td>\n",
              "      <td>391</td>\n",
              "      <td>0</td>\n",
              "      <td>1</td>\n",
              "      <td>23509</td>\n",
              "      <td>0.6579</td>\n",
              "      <td>4244.700000</td>\n",
              "      <td>2.500000</td>\n",
              "      <td>1.0</td>\n",
              "      <td>urban</td>\n",
              "    </tr>\n",
              "    <tr>\n",
              "      <th>4</th>\n",
              "      <td>Baylor Scott &amp; White Emergency Hospitals</td>\n",
              "      <td>788</td>\n",
              "      <td>3229.600000</td>\n",
              "      <td>13468.310000</td>\n",
              "      <td>TX</td>\n",
              "      <td>76227</td>\n",
              "      <td>0</td>\n",
              "      <td>40</td>\n",
              "      <td>0</td>\n",
              "      <td>0</td>\n",
              "      <td>102020</td>\n",
              "      <td>0.3683</td>\n",
              "      <td>10238.710000</td>\n",
              "      <td>4.170272</td>\n",
              "      <td>2.1</td>\n",
              "      <td>urban</td>\n",
              "    </tr>\n",
              "    <tr>\n",
              "      <th>...</th>\n",
              "      <td>...</td>\n",
              "      <td>...</td>\n",
              "      <td>...</td>\n",
              "      <td>...</td>\n",
              "      <td>...</td>\n",
              "      <td>...</td>\n",
              "      <td>...</td>\n",
              "      <td>...</td>\n",
              "      <td>...</td>\n",
              "      <td>...</td>\n",
              "      <td>...</td>\n",
              "      <td>...</td>\n",
              "      <td>...</td>\n",
              "      <td>...</td>\n",
              "      <td>...</td>\n",
              "      <td>...</td>\n",
              "    </tr>\n",
              "    <tr>\n",
              "      <th>103</th>\n",
              "      <td>Northwestern Memorial Hospital</td>\n",
              "      <td>788</td>\n",
              "      <td>8164.080000</td>\n",
              "      <td>34228.360000</td>\n",
              "      <td>IL</td>\n",
              "      <td>60611</td>\n",
              "      <td>1</td>\n",
              "      <td>903</td>\n",
              "      <td>0</td>\n",
              "      <td>1</td>\n",
              "      <td>108413</td>\n",
              "      <td>0.5301</td>\n",
              "      <td>26064.280000</td>\n",
              "      <td>4.192556</td>\n",
              "      <td>1.0</td>\n",
              "      <td>urban</td>\n",
              "    </tr>\n",
              "    <tr>\n",
              "      <th>104</th>\n",
              "      <td>Rush University Medical Center</td>\n",
              "      <td>788</td>\n",
              "      <td>6539.161717</td>\n",
              "      <td>23079.394295</td>\n",
              "      <td>IL</td>\n",
              "      <td>60612</td>\n",
              "      <td>1</td>\n",
              "      <td>671</td>\n",
              "      <td>0</td>\n",
              "      <td>1</td>\n",
              "      <td>44538</td>\n",
              "      <td>0.5911</td>\n",
              "      <td>16540.232578</td>\n",
              "      <td>3.529412</td>\n",
              "      <td>1.0</td>\n",
              "      <td>urban</td>\n",
              "    </tr>\n",
              "    <tr>\n",
              "      <th>105</th>\n",
              "      <td>NYU Langone Hospitals</td>\n",
              "      <td>788</td>\n",
              "      <td>7383.040000</td>\n",
              "      <td>61496.380000</td>\n",
              "      <td>NY</td>\n",
              "      <td>10016</td>\n",
              "      <td>1</td>\n",
              "      <td>1639</td>\n",
              "      <td>0</td>\n",
              "      <td>1</td>\n",
              "      <td>124647</td>\n",
              "      <td>0.5084</td>\n",
              "      <td>54113.340000</td>\n",
              "      <td>8.329412</td>\n",
              "      <td>1.0</td>\n",
              "      <td>urban</td>\n",
              "    </tr>\n",
              "    <tr>\n",
              "      <th>106</th>\n",
              "      <td>Penn Presbyterian Medical Center</td>\n",
              "      <td>788</td>\n",
              "      <td>7353.000000</td>\n",
              "      <td>115483.000000</td>\n",
              "      <td>PA</td>\n",
              "      <td>19104</td>\n",
              "      <td>1</td>\n",
              "      <td>365</td>\n",
              "      <td>0</td>\n",
              "      <td>1</td>\n",
              "      <td>28603</td>\n",
              "      <td>0.5822</td>\n",
              "      <td>108130.000000</td>\n",
              "      <td>15.705562</td>\n",
              "      <td>1.0</td>\n",
              "      <td>urban</td>\n",
              "    </tr>\n",
              "    <tr>\n",
              "      <th>107</th>\n",
              "      <td>Mount Sinai New York</td>\n",
              "      <td>788</td>\n",
              "      <td>9022.000000</td>\n",
              "      <td>20027.000000</td>\n",
              "      <td>NY</td>\n",
              "      <td>10029</td>\n",
              "      <td>1</td>\n",
              "      <td>1183</td>\n",
              "      <td>0</td>\n",
              "      <td>1</td>\n",
              "      <td>33801</td>\n",
              "      <td>0.6263</td>\n",
              "      <td>11005.000000</td>\n",
              "      <td>2.219796</td>\n",
              "      <td>1.0</td>\n",
              "      <td>urban</td>\n",
              "    </tr>\n",
              "  </tbody>\n",
              "</table>\n",
              "<p>108 rows × 16 columns</p>\n",
              "</div>\n",
              "      <button class=\"colab-df-convert\" onclick=\"convertToInteractive('df-e2a2ba3b-327b-41f0-beef-8fa8e6356b07')\"\n",
              "              title=\"Convert this dataframe to an interactive table.\"\n",
              "              style=\"display:none;\">\n",
              "        \n",
              "  <svg xmlns=\"http://www.w3.org/2000/svg\" height=\"24px\"viewBox=\"0 0 24 24\"\n",
              "       width=\"24px\">\n",
              "    <path d=\"M0 0h24v24H0V0z\" fill=\"none\"/>\n",
              "    <path d=\"M18.56 5.44l.94 2.06.94-2.06 2.06-.94-2.06-.94-.94-2.06-.94 2.06-2.06.94zm-11 1L8.5 8.5l.94-2.06 2.06-.94-2.06-.94L8.5 2.5l-.94 2.06-2.06.94zm10 10l.94 2.06.94-2.06 2.06-.94-2.06-.94-.94-2.06-.94 2.06-2.06.94z\"/><path d=\"M17.41 7.96l-1.37-1.37c-.4-.4-.92-.59-1.43-.59-.52 0-1.04.2-1.43.59L10.3 9.45l-7.72 7.72c-.78.78-.78 2.05 0 2.83L4 21.41c.39.39.9.59 1.41.59.51 0 1.02-.2 1.41-.59l7.78-7.78 2.81-2.81c.8-.78.8-2.07 0-2.86zM5.41 20L4 18.59l7.72-7.72 1.47 1.35L5.41 20z\"/>\n",
              "  </svg>\n",
              "      </button>\n",
              "      \n",
              "  <style>\n",
              "    .colab-df-container {\n",
              "      display:flex;\n",
              "      flex-wrap:wrap;\n",
              "      gap: 12px;\n",
              "    }\n",
              "\n",
              "    .colab-df-convert {\n",
              "      background-color: #E8F0FE;\n",
              "      border: none;\n",
              "      border-radius: 50%;\n",
              "      cursor: pointer;\n",
              "      display: none;\n",
              "      fill: #1967D2;\n",
              "      height: 32px;\n",
              "      padding: 0 0 0 0;\n",
              "      width: 32px;\n",
              "    }\n",
              "\n",
              "    .colab-df-convert:hover {\n",
              "      background-color: #E2EBFA;\n",
              "      box-shadow: 0px 1px 2px rgba(60, 64, 67, 0.3), 0px 1px 3px 1px rgba(60, 64, 67, 0.15);\n",
              "      fill: #174EA6;\n",
              "    }\n",
              "\n",
              "    [theme=dark] .colab-df-convert {\n",
              "      background-color: #3B4455;\n",
              "      fill: #D2E3FC;\n",
              "    }\n",
              "\n",
              "    [theme=dark] .colab-df-convert:hover {\n",
              "      background-color: #434B5C;\n",
              "      box-shadow: 0px 1px 3px 1px rgba(0, 0, 0, 0.15);\n",
              "      filter: drop-shadow(0px 1px 2px rgba(0, 0, 0, 0.3));\n",
              "      fill: #FFFFFF;\n",
              "    }\n",
              "  </style>\n",
              "\n",
              "      <script>\n",
              "        const buttonEl =\n",
              "          document.querySelector('#df-e2a2ba3b-327b-41f0-beef-8fa8e6356b07 button.colab-df-convert');\n",
              "        buttonEl.style.display =\n",
              "          google.colab.kernel.accessAllowed ? 'block' : 'none';\n",
              "\n",
              "        async function convertToInteractive(key) {\n",
              "          const element = document.querySelector('#df-e2a2ba3b-327b-41f0-beef-8fa8e6356b07');\n",
              "          const dataTable =\n",
              "            await google.colab.kernel.invokeFunction('convertToInteractive',\n",
              "                                                     [key], {});\n",
              "          if (!dataTable) return;\n",
              "\n",
              "          const docLinkHtml = 'Like what you see? Visit the ' +\n",
              "            '<a target=\"_blank\" href=https://colab.research.google.com/notebooks/data_table.ipynb>data table notebook</a>'\n",
              "            + ' to learn more about interactive tables.';\n",
              "          element.innerHTML = '';\n",
              "          dataTable['output_type'] = 'display_data';\n",
              "          await google.colab.output.renderOutput(dataTable, element);\n",
              "          const docLink = document.createElement('div');\n",
              "          docLink.innerHTML = docLinkHtml;\n",
              "          element.appendChild(docLink);\n",
              "        }\n",
              "      </script>\n",
              "    </div>\n",
              "  </div>\n",
              "  "
            ]
          },
          "metadata": {},
          "execution_count": 4
        }
      ],
      "source": [
        "#importing data\n",
        "import pandas as pd\n",
        "data = pd.read_excel('04232022_data_788_ryan.xlsx')\n",
        "data"
      ]
    },
    {
      "cell_type": "code",
      "execution_count": 5,
      "metadata": {
        "id": "XlznOFtmbuOJ"
      },
      "outputs": [],
      "source": [
        "#making the rural variable into a boolean, 1 is rural and 0 is urban\n",
        "data['rural'] = ['1' if x == 'rural' else '0' for x in data['rural_code']]\n",
        "data['price_range'] = data.Max_contracted- data.Min_contracted\n",
        "data['mid_point'] = (data.Max_contracted+data.Min_contracted)/2"
      ]
    },
    {
      "cell_type": "code",
      "execution_count": 17,
      "metadata": {
        "id": "5QJPRLDTbuOL"
      },
      "outputs": [],
      "source": [
        "regression_variables = data[['Beds', 'Quality', 'Public_flag', 'Teach', 'median_income', 'gini', 'max_min', 'proportion', 'rural']]\n",
        "corr = regression_variables.corr()"
      ]
    },
    {
      "cell_type": "code",
      "execution_count": 7,
      "metadata": {
        "colab": {
          "base_uri": "https://localhost:8080/"
        },
        "id": "Qjhw8UhZbuOj",
        "outputId": "7de07f3d-c585-4479-8558-9b36704fc86e"
      },
      "outputs": [
        {
          "output_type": "stream",
          "name": "stderr",
          "text": [
            "/usr/local/lib/python3.7/dist-packages/statsmodels/tools/_testing.py:19: FutureWarning: pandas.util.testing is deprecated. Use the functions in the public API at pandas.testing instead.\n",
            "  import pandas.util.testing as tm\n"
          ]
        },
        {
          "output_type": "stream",
          "name": "stdout",
          "text": [
            "                            OLS Regression Results                            \n",
            "==============================================================================\n",
            "Dep. Variable:              mid_point   R-squared:                       0.197\n",
            "Model:                            OLS   Adj. R-squared:                  0.150\n",
            "Method:                 Least Squares   F-statistic:                     4.137\n",
            "Date:                Tue, 03 May 2022   Prob (F-statistic):           0.000933\n",
            "Time:                        19:45:36   Log-Likelihood:                -1121.9\n",
            "No. Observations:                 108   AIC:                             2258.\n",
            "Df Residuals:                     101   BIC:                             2277.\n",
            "Df Model:                           6                                         \n",
            "Covariance Type:            nonrobust                                         \n",
            "=================================================================================\n",
            "                    coef    std err          t      P>|t|      [0.025      0.975]\n",
            "---------------------------------------------------------------------------------\n",
            "Intercept      1.299e+04   8111.453      1.602      0.112   -3098.317    2.91e+04\n",
            "rural[T.1]      124.4855   2179.120      0.057      0.955   -4198.303    4447.274\n",
            "Quality        8898.4897   3955.889      2.249      0.027    1051.071    1.67e+04\n",
            "Beds             -0.1945      3.540     -0.055      0.956      -7.217       6.828\n",
            "Teach          5486.2629   1833.117      2.993      0.003    1849.851    9122.675\n",
            "median_income    -0.0050      0.031     -0.160      0.873      -0.067       0.057\n",
            "gini          -1008.3035   1.55e+04     -0.065      0.948   -3.18e+04    2.98e+04\n",
            "==============================================================================\n",
            "Omnibus:                       50.158   Durbin-Watson:                   1.535\n",
            "Prob(Omnibus):                  0.000   Jarque-Bera (JB):              165.473\n",
            "Skew:                           1.631   Prob(JB):                     1.17e-36\n",
            "Kurtosis:                       8.112   Cond. No.                     1.68e+06\n",
            "==============================================================================\n",
            "\n",
            "Warnings:\n",
            "[1] Standard Errors assume that the covariance matrix of the errors is correctly specified.\n",
            "[2] The condition number is large, 1.68e+06. This might indicate that there are\n",
            "strong multicollinearity or other numerical problems.\n"
          ]
        }
      ],
      "source": [
        "from statsmodels.compat import lzip\n",
        "import numpy as np\n",
        "import statsmodels.formula.api as smf\n",
        "import statsmodels.stats.api as sms\n",
        "\n",
        "data1=data.query('proportion < 80')\n",
        "\n",
        "#results = smf.ols(\"price_range ~ Quality+  Teach \", data=data).fit()\n",
        "results = smf.ols(\"Min_contracted ~ Quality+ Beds + Teach + median_income + gini + rural \", data=data).fit()\n",
        "\n",
        "# Inspect the results\n",
        "print(results.summary())\n",
        "#cls = Linear_Reg_Diagnostic(results)\n",
        "#fig, ax = cls()\n"
      ]
    },
    {
      "cell_type": "code",
      "source": [
        "#results = smf.ols(\"price_range ~ Quality+  Teach \", data=data).fit()\n",
        "results = smf.ols(\"price_range ~ Quality+ Beds + Teach + median_income + gini + rural \", data=data).fit()\n",
        "\n",
        "# Inspect the results\n",
        "print(results.summary())"
      ],
      "metadata": {
        "id": "8FaTyrH-m0Cy",
        "outputId": "98569ab1-9e81-4ebb-a5bb-f57af75b74e4",
        "colab": {
          "base_uri": "https://localhost:8080/"
        }
      },
      "execution_count": 19,
      "outputs": [
        {
          "output_type": "stream",
          "name": "stdout",
          "text": [
            "                            OLS Regression Results                            \n",
            "==============================================================================\n",
            "Dep. Variable:            price_range   R-squared:                       0.164\n",
            "Model:                            OLS   Adj. R-squared:                  0.140\n",
            "Method:                 Least Squares   F-statistic:                     6.810\n",
            "Date:                Tue, 03 May 2022   Prob (F-statistic):           0.000309\n",
            "Time:                        20:28:05   Log-Likelihood:                -1193.4\n",
            "No. Observations:                 108   AIC:                             2395.\n",
            "Df Residuals:                     104   BIC:                             2405.\n",
            "Df Model:                           3                                         \n",
            "Covariance Type:            nonrobust                                         \n",
            "==============================================================================\n",
            "                 coef    std err          t      P>|t|      [0.025      0.975]\n",
            "------------------------------------------------------------------------------\n",
            "Intercept   1.113e+04   2286.086      4.871      0.000    6601.124    1.57e+04\n",
            "Quality     1.705e+04   6899.467      2.472      0.015    3372.317    3.07e+04\n",
            "Beds          -0.3530      6.381     -0.055      0.956     -13.006      12.300\n",
            "Teach       8619.6185   3375.321      2.554      0.012    1926.231    1.53e+04\n",
            "==============================================================================\n",
            "Omnibus:                       71.134   Durbin-Watson:                   1.518\n",
            "Prob(Omnibus):                  0.000   Jarque-Bera (JB):              357.179\n",
            "Skew:                           2.247   Prob(JB):                     2.75e-78\n",
            "Kurtosis:                      10.692   Cond. No.                     1.87e+03\n",
            "==============================================================================\n",
            "\n",
            "Warnings:\n",
            "[1] Standard Errors assume that the covariance matrix of the errors is correctly specified.\n",
            "[2] The condition number is large, 1.87e+03. This might indicate that there are\n",
            "strong multicollinearity or other numerical problems.\n"
          ]
        }
      ]
    },
    {
      "cell_type": "code",
      "execution_count": 8,
      "metadata": {
        "id": "0h7g8QZBbuOL",
        "outputId": "40603f36-4493-4c1b-c318-30b20dc711d1",
        "colab": {
          "base_uri": "https://localhost:8080/",
          "height": 323
        }
      },
      "outputs": [
        {
          "output_type": "display_data",
          "data": {
            "text/plain": [
              "<Figure size 432x288 with 2 Axes>"
            ],
            "image/png": "[encoded data removed]"
          },
          "metadata": {
            "needs_background": "light"
          }
        }
      ],
      "source": [
        "#making a heatmap of our variable correlations\n",
        "import seaborn as sns\n",
        "ax = sns.heatmap(\n",
        "    corr, \n",
        "    vmin=-1, vmax=1, center=0,\n",
        "    cmap=sns.diverging_palette(20, 220, n=200),\n",
        "    square=True\n",
        ")\n",
        "ax.set_xticklabels(\n",
        "    ax.get_xticklabels(),\n",
        "    rotation=45,\n",
        "    horizontalalignment='right'\n",
        ");"
      ]
    },
    {
      "cell_type": "code",
      "source": [
        "#boxplots - rural and proportion\n",
        "sns.boxplot(x=\"Quality\", y=\"price_range\", data=data)\n",
        "#sns.stripplot(x=\"Quality\", y=\"price_range\", data=data, color='grey', alpha=.5)"
      ],
      "metadata": {
        "colab": {
          "base_uri": "https://localhost:8080/",
          "height": 296
        },
        "id": "BNtqSOCBiK5l",
        "outputId": "45cc6cfb-7abe-4410-da72-6060ab616997"
      },
      "execution_count": 16,
      "outputs": [
        {
          "output_type": "execute_result",
          "data": {
            "text/plain": [
              "<matplotlib.axes._subplots.AxesSubplot at 0x7f94c2c38c10>"
            ]
          },
          "metadata": {},
          "execution_count": 16
        },
        {
          "output_type": "display_data",
          "data": {
            "text/plain": [
              "<Figure size 432x288 with 1 Axes>"
            ],
            "image/png": "[encoded data removed]"
          },
          "metadata": {
            "needs_background": "light"
          }
        }
      ]
    },
    {
      "cell_type": "code",
      "execution_count": 14,
      "metadata": {
        "id": "U-bVUGn6buOb",
        "outputId": "508d43fa-cb9b-4223-d2bf-af87763726d9",
        "colab": {
          "base_uri": "https://localhost:8080/",
          "height": 296
        }
      },
      "outputs": [
        {
          "output_type": "execute_result",
          "data": {
            "text/plain": [
              "<matplotlib.axes._subplots.AxesSubplot at 0x7f94c2d49f90>"
            ]
          },
          "metadata": {},
          "execution_count": 14
        },
        {
          "output_type": "display_data",
          "data": {
            "text/plain": [
              "<Figure size 432x288 with 1 Axes>"
            ],
            "image/png": "[encoded data removed]"
          },
          "metadata": {
            "needs_background": "light"
          }
        }
      ],
      "source": [
        "#boxplots - rural and proportion\n",
        "sns.boxplot(x=\"Teach\", y=\"price_range\", data=data)\n",
        "sns.stripplot(x=\"Teach\", y=\"price_range\", data=data, color='grey', alpha=.5)"
      ]
    },
    {
      "cell_type": "code",
      "execution_count": null,
      "metadata": {
        "id": "BEMShuqBbuON",
        "outputId": "d7f1581a-f92a-42fb-f3fd-03769f143ef6",
        "colab": {
          "base_uri": "https://localhost:8080/",
          "height": 441
        }
      },
      "outputs": [
        {
          "output_type": "stream",
          "name": "stdout",
          "text": [
            "count    108.000000\n",
            "mean       4.857581\n",
            "std        9.588196\n",
            "min        1.010101\n",
            "25%        2.061017\n",
            "50%        3.077300\n",
            "75%        4.744817\n",
            "max       97.958103\n",
            "Name: proportion, dtype: float64\n"
          ]
        },
        {
          "output_type": "display_data",
          "data": {
            "text/plain": [
              "<Figure size 432x288 with 1 Axes>"
            ],
            "image/png": "[encoded data removed]"
          },
          "metadata": {}
        }
      ],
      "source": [
        "#creating a histogram function and visualizing proportion\n",
        "import matplotlib.pyplot as plt\n",
        "def histogram_function(variable):\n",
        "    sns.set(style=\"darkgrid\")\n",
        "    sns\n",
        "    sns.histplot(data=data, x=variable)\n",
        "    plt.show\n",
        "    stats_numeric = data[variable].describe()\n",
        "    print(stats_numeric)\n",
        "\n",
        "histogram_function(\"proportion\")    "
      ]
    },
    {
      "cell_type": "code",
      "execution_count": null,
      "metadata": {
        "id": "06lyJkyobuON",
        "outputId": "22394b24-a143-4c16-e71b-4b3355811fc6",
        "colab": {
          "base_uri": "https://localhost:8080/",
          "height": 162
        }
      },
      "outputs": [
        {
          "output_type": "execute_result",
          "data": {
            "text/plain": [
              "          Hospital_name  Drg_code  Min_contracted  Max_contracted State  \\\n",
              "68  St. Mary's Hospital       788          162.54        15922.11    GA   \n",
              "\n",
              "      Zip  Quality  Beds  Public_flag  Teach  median_income    gini   max_min  \\\n",
              "68  30606        0   181            0      0          50482  0.5722  15759.57   \n",
              "\n",
              "    proportion  ruca rural_code rural  price_range  mid_point  \n",
              "68   97.958103   1.0      urban     0     15759.57   8042.325  "
            ],
            "text/html": [
              "\n",
              "  <div id=\"df-f3a57539-9658-4958-b1bf-758ea1f0c4aa\">\n",
              "    <div class=\"colab-df-container\">\n",
              "      <div>\n",
              "<style scoped>\n",
              "    .dataframe tbody tr th:only-of-type {\n",
              "        vertical-align: middle;\n",
              "    }\n",
              "\n",
              "    .dataframe tbody tr th {\n",
              "        vertical-align: top;\n",
              "    }\n",
              "\n",
              "    .dataframe thead th {\n",
              "        text-align: right;\n",
              "    }\n",
              "</style>\n",
              "<table border=\"1\" class=\"dataframe\">\n",
              "  <thead>\n",
              "    <tr style=\"text-align: right;\">\n",
              "      <th></th>\n",
              "      <th>Hospital_name</th>\n",
              "      <th>Drg_code</th>\n",
              "      <th>Min_contracted</th>\n",
              "      <th>Max_contracted</th>\n",
              "      <th>State</th>\n",
              "      <th>Zip</th>\n",
              "      <th>Quality</th>\n",
              "      <th>Beds</th>\n",
              "      <th>Public_flag</th>\n",
              "      <th>Teach</th>\n",
              "      <th>median_income</th>\n",
              "      <th>gini</th>\n",
              "      <th>max_min</th>\n",
              "      <th>proportion</th>\n",
              "      <th>ruca</th>\n",
              "      <th>rural_code</th>\n",
              "      <th>rural</th>\n",
              "      <th>price_range</th>\n",
              "      <th>mid_point</th>\n",
              "    </tr>\n",
              "  </thead>\n",
              "  <tbody>\n",
              "    <tr>\n",
              "      <th>68</th>\n",
              "      <td>St. Mary's Hospital</td>\n",
              "      <td>788</td>\n",
              "      <td>162.54</td>\n",
              "      <td>15922.11</td>\n",
              "      <td>GA</td>\n",
              "      <td>30606</td>\n",
              "      <td>0</td>\n",
              "      <td>181</td>\n",
              "      <td>0</td>\n",
              "      <td>0</td>\n",
              "      <td>50482</td>\n",
              "      <td>0.5722</td>\n",
              "      <td>15759.57</td>\n",
              "      <td>97.958103</td>\n",
              "      <td>1.0</td>\n",
              "      <td>urban</td>\n",
              "      <td>0</td>\n",
              "      <td>15759.57</td>\n",
              "      <td>8042.325</td>\n",
              "    </tr>\n",
              "  </tbody>\n",
              "</table>\n",
              "</div>\n",
              "      <button class=\"colab-df-convert\" onclick=\"convertToInteractive('df-f3a57539-9658-4958-b1bf-758ea1f0c4aa')\"\n",
              "              title=\"Convert this dataframe to an interactive table.\"\n",
              "              style=\"display:none;\">\n",
              "        \n",
              "  <svg xmlns=\"http://www.w3.org/2000/svg\" height=\"24px\"viewBox=\"0 0 24 24\"\n",
              "       width=\"24px\">\n",
              "    <path d=\"M0 0h24v24H0V0z\" fill=\"none\"/>\n",
              "    <path d=\"M18.56 5.44l.94 2.06.94-2.06 2.06-.94-2.06-.94-.94-2.06-.94 2.06-2.06.94zm-11 1L8.5 8.5l.94-2.06 2.06-.94-2.06-.94L8.5 2.5l-.94 2.06-2.06.94zm10 10l.94 2.06.94-2.06 2.06-.94-2.06-.94-.94-2.06-.94 2.06-2.06.94z\"/><path d=\"M17.41 7.96l-1.37-1.37c-.4-.4-.92-.59-1.43-.59-.52 0-1.04.2-1.43.59L10.3 9.45l-7.72 7.72c-.78.78-.78 2.05 0 2.83L4 21.41c.39.39.9.59 1.41.59.51 0 1.02-.2 1.41-.59l7.78-7.78 2.81-2.81c.8-.78.8-2.07 0-2.86zM5.41 20L4 18.59l7.72-7.72 1.47 1.35L5.41 20z\"/>\n",
              "  </svg>\n",
              "      </button>\n",
              "      \n",
              "  <style>\n",
              "    .colab-df-container {\n",
              "      display:flex;\n",
              "      flex-wrap:wrap;\n",
              "      gap: 12px;\n",
              "    }\n",
              "\n",
              "    .colab-df-convert {\n",
              "      background-color: #E8F0FE;\n",
              "      border: none;\n",
              "      border-radius: 50%;\n",
              "      cursor: pointer;\n",
              "      display: none;\n",
              "      fill: #1967D2;\n",
              "      height: 32px;\n",
              "      padding: 0 0 0 0;\n",
              "      width: 32px;\n",
              "    }\n",
              "\n",
              "    .colab-df-convert:hover {\n",
              "      background-color: #E2EBFA;\n",
              "      box-shadow: 0px 1px 2px rgba(60, 64, 67, 0.3), 0px 1px 3px 1px rgba(60, 64, 67, 0.15);\n",
              "      fill: #174EA6;\n",
              "    }\n",
              "\n",
              "    [theme=dark] .colab-df-convert {\n",
              "      background-color: #3B4455;\n",
              "      fill: #D2E3FC;\n",
              "    }\n",
              "\n",
              "    [theme=dark] .colab-df-convert:hover {\n",
              "      background-color: #434B5C;\n",
              "      box-shadow: 0px 1px 3px 1px rgba(0, 0, 0, 0.15);\n",
              "      filter: drop-shadow(0px 1px 2px rgba(0, 0, 0, 0.3));\n",
              "      fill: #FFFFFF;\n",
              "    }\n",
              "  </style>\n",
              "\n",
              "      <script>\n",
              "        const buttonEl =\n",
              "          document.querySelector('#df-f3a57539-9658-4958-b1bf-758ea1f0c4aa button.colab-df-convert');\n",
              "        buttonEl.style.display =\n",
              "          google.colab.kernel.accessAllowed ? 'block' : 'none';\n",
              "\n",
              "        async function convertToInteractive(key) {\n",
              "          const element = document.querySelector('#df-f3a57539-9658-4958-b1bf-758ea1f0c4aa');\n",
              "          const dataTable =\n",
              "            await google.colab.kernel.invokeFunction('convertToInteractive',\n",
              "                                                     [key], {});\n",
              "          if (!dataTable) return;\n",
              "\n",
              "          const docLinkHtml = 'Like what you see? Visit the ' +\n",
              "            '<a target=\"_blank\" href=https://colab.research.google.com/notebooks/data_table.ipynb>data table notebook</a>'\n",
              "            + ' to learn more about interactive tables.';\n",
              "          element.innerHTML = '';\n",
              "          dataTable['output_type'] = 'display_data';\n",
              "          await google.colab.output.renderOutput(dataTable, element);\n",
              "          const docLink = document.createElement('div');\n",
              "          docLink.innerHTML = docLinkHtml;\n",
              "          element.appendChild(docLink);\n",
              "        }\n",
              "      </script>\n",
              "    </div>\n",
              "  </div>\n",
              "  "
            ]
          },
          "metadata": {},
          "execution_count": 6
        }
      ],
      "source": [
        "#looking at this as a possible outlier\n",
        "high_proportion = data[data.proportion > 80]\n",
        "high_proportion"
      ]
    },
    {
      "cell_type": "code",
      "execution_count": null,
      "metadata": {
        "id": "uiW6u7S8buOO",
        "outputId": "4eab4099-17c0-44be-9051-8e00b38077fb"
      },
      "outputs": [
        {
          "name": "stdout",
          "output_type": "stream",
          "text": [
            "count    107.000000\n",
            "mean       3.987483\n",
            "std        3.204022\n",
            "min        1.010101\n",
            "25%        2.053801\n",
            "50%        3.056079\n",
            "75%        4.568505\n",
            "max       17.786260\n",
            "Name: proportion, dtype: float64\n"
          ]
        },
        {
          "data": {
            "image/png": "[encoded data removed]",
            "text/plain": [
              "<Figure size 432x288 with 1 Axes>"
            ]
          },
          "metadata": {},
          "output_type": "display_data"
        }
      ],
      "source": [
        "#removing outlier for now at least and performing more exploratory data analysis - when running more charts \n",
        "    #the high proportion showed to be problematic and raised a lot of descriptive statistics estimates\n",
        "data = data[data.proportion < 80]\n",
        "histogram_function(\"proportion\")\n"
      ]
    },
    {
      "cell_type": "code",
      "execution_count": null,
      "metadata": {
        "id": "zHPkHnasbuOP",
        "outputId": "5dce61f6-89e7-497c-8822-aadf91feaca6"
      },
      "outputs": [
        {
          "name": "stdout",
          "output_type": "stream",
          "text": [
            "count       107.000000\n",
            "mean      16133.849563\n",
            "std       16812.426252\n",
            "min          92.960000\n",
            "25%        6930.000000\n",
            "50%       11636.110000\n",
            "75%       19257.660000\n",
            "max      108130.000000\n",
            "Name: max_min, dtype: float64\n"
          ]
        },
        {
          "data": {
            "text/html": [
              "<div>\n",
              "<style scoped>\n",
              "    .dataframe tbody tr th:only-of-type {\n",
              "        vertical-align: middle;\n",
              "    }\n",
              "\n",
              "    .dataframe tbody tr th {\n",
              "        vertical-align: top;\n",
              "    }\n",
              "\n",
              "    .dataframe thead th {\n",
              "        text-align: right;\n",
              "    }\n",
              "</style>\n",
              "<table border=\"1\" class=\"dataframe\">\n",
              "  <thead>\n",
              "    <tr style=\"text-align: right;\">\n",
              "      <th></th>\n",
              "      <th>Hospital_name</th>\n",
              "      <th>Drg_code</th>\n",
              "      <th>Min_contracted</th>\n",
              "      <th>Max_contracted</th>\n",
              "      <th>State</th>\n",
              "      <th>Zip</th>\n",
              "      <th>Quality</th>\n",
              "      <th>Beds</th>\n",
              "      <th>Public_flag</th>\n",
              "      <th>Teach</th>\n",
              "      <th>median_income</th>\n",
              "      <th>gini</th>\n",
              "      <th>max_min</th>\n",
              "      <th>proportion</th>\n",
              "      <th>ruca</th>\n",
              "      <th>rural_code</th>\n",
              "      <th>rural</th>\n",
              "    </tr>\n",
              "  </thead>\n",
              "  <tbody>\n",
              "    <tr>\n",
              "      <th>20</th>\n",
              "      <td>Banner Desert Medical Center</td>\n",
              "      <td>788</td>\n",
              "      <td>5682.00</td>\n",
              "      <td>88712.90</td>\n",
              "      <td>AZ</td>\n",
              "      <td>85202</td>\n",
              "      <td>0</td>\n",
              "      <td>605</td>\n",
              "      <td>0</td>\n",
              "      <td>1</td>\n",
              "      <td>54047</td>\n",
              "      <td>0.4359</td>\n",
              "      <td>83030.90</td>\n",
              "      <td>15.612971</td>\n",
              "      <td>1.0</td>\n",
              "      <td>urban</td>\n",
              "      <td>0</td>\n",
              "    </tr>\n",
              "    <tr>\n",
              "      <th>23</th>\n",
              "      <td>Banner Ocotillo Medical Center</td>\n",
              "      <td>788</td>\n",
              "      <td>5682.00</td>\n",
              "      <td>88712.90</td>\n",
              "      <td>AZ</td>\n",
              "      <td>85284</td>\n",
              "      <td>0</td>\n",
              "      <td>124</td>\n",
              "      <td>0</td>\n",
              "      <td>1</td>\n",
              "      <td>127500</td>\n",
              "      <td>0.3798</td>\n",
              "      <td>83030.90</td>\n",
              "      <td>15.612971</td>\n",
              "      <td>1.0</td>\n",
              "      <td>urban</td>\n",
              "      <td>0</td>\n",
              "    </tr>\n",
              "    <tr>\n",
              "      <th>105</th>\n",
              "      <td>NYU Langone Hospitals</td>\n",
              "      <td>788</td>\n",
              "      <td>7383.04</td>\n",
              "      <td>61496.38</td>\n",
              "      <td>NY</td>\n",
              "      <td>10016</td>\n",
              "      <td>1</td>\n",
              "      <td>1639</td>\n",
              "      <td>0</td>\n",
              "      <td>1</td>\n",
              "      <td>124647</td>\n",
              "      <td>0.5084</td>\n",
              "      <td>54113.34</td>\n",
              "      <td>8.329412</td>\n",
              "      <td>1.0</td>\n",
              "      <td>urban</td>\n",
              "      <td>0</td>\n",
              "    </tr>\n",
              "    <tr>\n",
              "      <th>106</th>\n",
              "      <td>Penn Presbyterian Medical Center</td>\n",
              "      <td>788</td>\n",
              "      <td>7353.00</td>\n",
              "      <td>115483.00</td>\n",
              "      <td>PA</td>\n",
              "      <td>19104</td>\n",
              "      <td>1</td>\n",
              "      <td>365</td>\n",
              "      <td>0</td>\n",
              "      <td>1</td>\n",
              "      <td>28603</td>\n",
              "      <td>0.5822</td>\n",
              "      <td>108130.00</td>\n",
              "      <td>15.705562</td>\n",
              "      <td>1.0</td>\n",
              "      <td>urban</td>\n",
              "      <td>0</td>\n",
              "    </tr>\n",
              "  </tbody>\n",
              "</table>\n",
              "</div>"
            ],
            "text/plain": [
              "                        Hospital_name  Drg_code  Min_contracted  \\\n",
              "20       Banner Desert Medical Center       788         5682.00   \n",
              "23     Banner Ocotillo Medical Center       788         5682.00   \n",
              "105             NYU Langone Hospitals       788         7383.04   \n",
              "106  Penn Presbyterian Medical Center       788         7353.00   \n",
              "\n",
              "     Max_contracted State    Zip  Quality  Beds  Public_flag  Teach  \\\n",
              "20         88712.90    AZ  85202        0   605            0      1   \n",
              "23         88712.90    AZ  85284        0   124            0      1   \n",
              "105        61496.38    NY  10016        1  1639            0      1   \n",
              "106       115483.00    PA  19104        1   365            0      1   \n",
              "\n",
              "     median_income    gini    max_min  proportion  ruca rural_code rural  \n",
              "20           54047  0.4359   83030.90   15.612971   1.0      urban     0  \n",
              "23          127500  0.3798   83030.90   15.612971   1.0      urban     0  \n",
              "105         124647  0.5084   54113.34    8.329412   1.0      urban     0  \n",
              "106          28603  0.5822  108130.00   15.705562   1.0      urban     0  "
            ]
          },
          "execution_count": 8,
          "metadata": {},
          "output_type": "execute_result"
        },
        {
          "data": {
            "image/png": "[encoded data removed]",
            "text/plain": [
              "<Figure size 432x288 with 1 Axes>"
            ]
          },
          "metadata": {},
          "output_type": "display_data"
        }
      ],
      "source": [
        "#maximum contracted amount - minimum contracted amount\n",
        "#after initially running, I actually spot-checked to make sure these were correct observations\n",
        "histogram_function(\"max_min\")\n",
        "high_diff = data[data.max_min > 50000]\n",
        "high_diff"
      ]
    },
    {
      "cell_type": "code",
      "execution_count": null,
      "metadata": {
        "id": "rxjsQiFdbuOQ",
        "outputId": "4f8f94de-cc73-43b5-c3df-a2e8f8897999"
      },
      "outputs": [
        {
          "name": "stdout",
          "output_type": "stream",
          "text": [
            "count     107.000000\n",
            "mean      284.392523\n",
            "std       289.136214\n",
            "min        19.000000\n",
            "25%        97.000000\n",
            "50%       188.000000\n",
            "75%       389.000000\n",
            "max      1639.000000\n",
            "Name: Beds, dtype: float64\n"
          ]
        },
        {
          "data": {
            "image/png": "[encoded data removed]",
            "text/plain": [
              "<Figure size 432x288 with 1 Axes>"
            ]
          },
          "metadata": {},
          "output_type": "display_data"
        }
      ],
      "source": [
        "#number of beds\n",
        "histogram_function(\"Beds\")"
      ]
    },
    {
      "cell_type": "code",
      "execution_count": null,
      "metadata": {
        "id": "hr26JJ9CbuOS",
        "outputId": "3da8a2a3-4fdc-43df-faca-be28f616ba04"
      },
      "outputs": [
        {
          "name": "stdout",
          "output_type": "stream",
          "text": [
            "count    107.000000\n",
            "mean       0.458990\n",
            "std        0.057653\n",
            "min        0.364200\n",
            "25%        0.421150\n",
            "50%        0.450300\n",
            "75%        0.483050\n",
            "max        0.657900\n",
            "Name: gini, dtype: float64\n"
          ]
        },
        {
          "data": {
            "image/png": "[encoded data removed]",
            "text/plain": [
              "<Figure size 432x288 with 1 Axes>"
            ]
          },
          "metadata": {},
          "output_type": "display_data"
        }
      ],
      "source": [
        "#gini coefficient\n",
        "histogram_function(\"gini\")"
      ]
    },
    {
      "cell_type": "code",
      "execution_count": null,
      "metadata": {
        "id": "4vgaI1yubuOT",
        "outputId": "0f930a60-39ed-4f05-816f-2c5bdd71b5a3"
      },
      "outputs": [
        {
          "name": "stdout",
          "output_type": "stream",
          "text": [
            "count       107.000000\n",
            "mean      70477.392523\n",
            "std       27965.825177\n",
            "min       23509.000000\n",
            "25%       51483.500000\n",
            "50%       61318.000000\n",
            "75%       87025.500000\n",
            "max      156280.000000\n",
            "Name: median_income, dtype: float64\n"
          ]
        },
        {
          "data": {
            "image/png": "[encoded data removed]",
            "text/plain": [
              "<Figure size 432x288 with 1 Axes>"
            ]
          },
          "metadata": {},
          "output_type": "display_data"
        }
      ],
      "source": [
        "#median income\n",
        "histogram_function('median_income')"
      ]
    },
    {
      "cell_type": "code",
      "execution_count": null,
      "metadata": {
        "id": "yoiCiQrhbuOT",
        "outputId": "aebc3cde-9545-4e0a-e789-bcf2c9c7fdcb"
      },
      "outputs": [
        {
          "data": {
            "text/plain": [
              "State\n",
              "AL     2\n",
              "AZ     7\n",
              "CA    14\n",
              "CO     4\n",
              "CT     5\n",
              "FL     3\n",
              "ID     1\n",
              "IL     2\n",
              "IN     1\n",
              "MA     6\n",
              "ME     2\n",
              "NH     2\n",
              "NV     3\n",
              "NY    12\n",
              "OK     2\n",
              "OR     9\n",
              "PA     4\n",
              "RI     1\n",
              "SC     7\n",
              "TN     2\n",
              "TX     5\n",
              "VA     5\n",
              "VT     4\n",
              "WA     2\n",
              "WY     2\n",
              "dtype: int64"
            ]
          },
          "execution_count": 12,
          "metadata": {},
          "output_type": "execute_result"
        }
      ],
      "source": [
        "#looking at data spread for geographic diversity of observations\n",
        "state_groups = data.groupby('State').size()\n",
        "state_groups"
      ]
    },
    {
      "cell_type": "code",
      "execution_count": null,
      "metadata": {
        "id": "ME6SXwbbbuOV",
        "outputId": "8ffc548e-874f-4aa3-e5e3-af11db3362ee"
      },
      "outputs": [
        {
          "data": {
            "text/plain": [
              "rural_code\n",
              "rural    28\n",
              "urban    79\n",
              "dtype: int64"
            ]
          },
          "execution_count": 13,
          "metadata": {},
          "output_type": "execute_result"
        }
      ],
      "source": [
        "#looking at urban-rural split (ruca as defined by the USDA as being 4 and higher)\n",
        "rural_groups = data.groupby('rural_code').size()\n",
        "rural_groups"
      ]
    },
    {
      "cell_type": "code",
      "execution_count": null,
      "metadata": {
        "id": "DEWAw_hgbuOV",
        "outputId": "5245965e-9581-4db1-a59e-52cbd5081c4b"
      },
      "outputs": [
        {
          "data": {
            "text/plain": [
              "<matplotlib.axes._subplots.AxesSubplot at 0x7fd47026b790>"
            ]
          },
          "execution_count": 14,
          "metadata": {},
          "output_type": "execute_result"
        },
        {
          "data": {
            "image/png": "[encoded data removed]",
            "text/plain": [
              "<Figure size 432x288 with 1 Axes>"
            ]
          },
          "metadata": {},
          "output_type": "display_data"
        }
      ],
      "source": [
        "#scatterplots - gini and max_min; maybe an ever so slightly positive correlation\n",
        "sns.scatterplot(data=data, x=\"gini\", y=\"max_min\")"
      ]
    },
    {
      "cell_type": "code",
      "execution_count": null,
      "metadata": {
        "id": "JLIJIlx_buOX",
        "outputId": "e764d9c3-e9a3-46f5-dd3a-5d5aba16c882"
      },
      "outputs": [
        {
          "data": {
            "text/plain": [
              "<matplotlib.axes._subplots.AxesSubplot at 0x7fd45456ed30>"
            ]
          },
          "execution_count": 15,
          "metadata": {},
          "output_type": "execute_result"
        },
        {
          "data": {
            "image/png": "[encoded data removed]",
            "text/plain": [
              "<Figure size 432x288 with 1 Axes>"
            ]
          },
          "metadata": {},
          "output_type": "display_data"
        }
      ],
      "source": [
        "#scatterplot - gini and proportion, slightly positive correlation perhaps, but weak\n",
        "sns.scatterplot(data=data, x=\"gini\", y=\"proportion\")"
      ]
    },
    {
      "cell_type": "code",
      "execution_count": null,
      "metadata": {
        "id": "q3RyBHHvbuOY",
        "outputId": "20ce27d9-8257-4b7f-c5de-aef5c23448b6"
      },
      "outputs": [
        {
          "data": {
            "text/plain": [
              "<matplotlib.axes._subplots.AxesSubplot at 0x7fd4604cea30>"
            ]
          },
          "execution_count": 16,
          "metadata": {},
          "output_type": "execute_result"
        },
        {
          "data": {
            "image/png": "[encoded data removed]",
            "text/plain": [
              "<Figure size 432x288 with 1 Axes>"
            ]
          },
          "metadata": {},
          "output_type": "display_data"
        }
      ],
      "source": [
        "#scatterplot - income and max_min - moderate positive correlation\n",
        "sns.scatterplot(data=data, x=\"median_income\", y=\"max_min\")"
      ]
    },
    {
      "cell_type": "code",
      "execution_count": null,
      "metadata": {
        "id": "mqpBjp7ibuOY",
        "outputId": "f99ecd7d-c488-4121-a8f5-a5c793f8882c"
      },
      "outputs": [
        {
          "data": {
            "text/plain": [
              "<matplotlib.axes._subplots.AxesSubplot at 0x7fd47024e9d0>"
            ]
          },
          "execution_count": 17,
          "metadata": {},
          "output_type": "execute_result"
        },
        {
          "data": {
            "image/png": "[encoded data removed]",
            "text/plain": [
              "<Figure size 432x288 with 1 Axes>"
            ]
          },
          "metadata": {},
          "output_type": "display_data"
        }
      ],
      "source": [
        "#scatterpot - income and max_min\n",
        "sns.scatterplot(data=data, x=\"median_income\", y=\"Max_contracted\")"
      ]
    },
    {
      "cell_type": "code",
      "execution_count": null,
      "metadata": {
        "scrolled": false,
        "id": "5YJkIA5lbuOb",
        "outputId": "84e90ff5-81a0-4f9a-d7a7-7d8b4ca1ce50"
      },
      "outputs": [
        {
          "data": {
            "text/plain": [
              "<matplotlib.axes._subplots.AxesSubplot at 0x7fd4605d6e80>"
            ]
          },
          "execution_count": 18,
          "metadata": {},
          "output_type": "execute_result"
        },
        {
          "data": {
            "image/png": "[encoded data removed]",
            "text/plain": [
              "<Figure size 432x288 with 1 Axes>"
            ]
          },
          "metadata": {},
          "output_type": "display_data"
        }
      ],
      "source": [
        "#scatterplot - income and proportion- moderate positive correlation\n",
        "sns.scatterplot(data=data, x=\"median_income\", y=\"proportion\")"
      ]
    },
    {
      "cell_type": "code",
      "execution_count": 9,
      "metadata": {
        "id": "qFKbRu34buOc",
        "outputId": "f8388022-53b5-42df-bc5d-68f8955cf522",
        "colab": {
          "base_uri": "https://localhost:8080/",
          "height": 297
        }
      },
      "outputs": [
        {
          "output_type": "execute_result",
          "data": {
            "text/plain": [
              "<matplotlib.axes._subplots.AxesSubplot at 0x7f94c33d6610>"
            ]
          },
          "metadata": {},
          "execution_count": 9
        },
        {
          "output_type": "display_data",
          "data": {
            "text/plain": [
              "<Figure size 432x288 with 1 Axes>"
            ],
            "image/png": "[encoded data removed]"
          },
          "metadata": {
            "needs_background": "light"
          }
        }
      ],
      "source": [
        "#boxplots - rural and max_min\n",
        "sns.boxplot(x=\"rural_code\", y=\"max_min\", data=data)\n",
        "sns.stripplot(x=\"rural_code\", y=\"max_min\", data=data, color='grey', alpha=.5)"
      ]
    },
    {
      "cell_type": "code",
      "execution_count": null,
      "metadata": {
        "id": "6TlQgK1mbuOc",
        "outputId": "beaf3af2-ca59-4196-e6b5-b5f90df3a63d"
      },
      "outputs": [
        {
          "data": {
            "text/plain": [
              "<matplotlib.axes._subplots.AxesSubplot at 0x7fd45476f220>"
            ]
          },
          "execution_count": 21,
          "metadata": {},
          "output_type": "execute_result"
        },
        {
          "data": {
            "image/png": "[encoded data removed]",
            "text/plain": [
              "<Figure size 432x288 with 1 Axes>"
            ]
          },
          "metadata": {},
          "output_type": "display_data"
        }
      ],
      "source": [
        "#boxplots - rural and maximum contracted amount - urban is higher\n",
        "sns.boxplot(x=\"rural_code\", y=\"Max_contracted\", data=data)\n",
        "sns.stripplot(x=\"rural_code\", y=\"Max_contracted\", data=data, color='grey', alpha=.5)"
      ]
    },
    {
      "cell_type": "code",
      "execution_count": null,
      "metadata": {
        "scrolled": true,
        "id": "zKAdDCWrbuOf",
        "outputId": "3bb6ee0a-8d68-4773-8d09-9f6aea1b5854"
      },
      "outputs": [
        {
          "data": {
            "text/plain": [
              "<matplotlib.axes._subplots.AxesSubplot at 0x7fd4607c7970>"
            ]
          },
          "execution_count": 22,
          "metadata": {},
          "output_type": "execute_result"
        },
        {
          "data": {
            "image/png": "[encoded data removed]",
            "text/plain": [
              "<Figure size 432x288 with 1 Axes>"
            ]
          },
          "metadata": {},
          "output_type": "display_data"
        }
      ],
      "source": [
        "#boxplots - rural and minimum contracted amount - rural is intrigueingly slightly higher and more dispersed\n",
        "sns.boxplot(x=\"rural_code\", y=\"Min_contracted\", data=data)\n",
        "sns.stripplot(x=\"rural_code\", y=\"Min_contracted\", data=data, color='grey', alpha=.5)"
      ]
    },
    {
      "cell_type": "code",
      "execution_count": null,
      "metadata": {
        "id": "iNHA3H4lbuOg",
        "outputId": "2839abc2-8856-46e1-aefa-1f4c8e1c1ec6",
        "colab": {
          "base_uri": "https://localhost:8080/"
        }
      },
      "outputs": [
        {
          "output_type": "stream",
          "name": "stderr",
          "text": [
            "/usr/local/lib/python3.7/dist-packages/statsmodels/tools/_testing.py:19: FutureWarning: pandas.util.testing is deprecated. Use the functions in the public API at pandas.testing instead.\n",
            "  import pandas.util.testing as tm\n"
          ]
        }
      ],
      "source": [
        "# base code - taken from \n",
        "#https://www.statsmodels.org/devel/examples/notebooks/generated/linear_regression_diagnostics_plots.html\n",
        "import statsmodels\n",
        "import statsmodels.formula.api as smf\n",
        "import pandas as pd\n",
        "import numpy as np\n",
        "import seaborn as sns\n",
        "from statsmodels.tools.tools import maybe_unwrap_results\n",
        "from statsmodels.graphics.gofplots import ProbPlot\n",
        "from statsmodels.stats.outliers_influence import variance_inflation_factor\n",
        "import matplotlib.pyplot as plt\n",
        "from typing import Type\n",
        "\n",
        "class Linear_Reg_Diagnostic():\n",
        "    \"\"\"\n",
        "    Diagnostic plots to identify potential problems in a linear regression fit.\n",
        "    Mainly,\n",
        "        a. non-linearity of data\n",
        "        b. Correlation of error terms\n",
        "        c. non-constant variance\n",
        "        d. outliers\n",
        "        e. high-leverage points\n",
        "        f. collinearity\n",
        "\n",
        "    Author:\n",
        "        Prajwal Kafle (p33ajkafle@gmail.com, where 3 = r)\n",
        "        Does not come with any sort of warranty.\n",
        "        Please test the code one your end before using.\n",
        "    \"\"\"\n",
        "\n",
        "    def __init__(self,\n",
        "                 results: Type[statsmodels.regression.linear_model.RegressionResultsWrapper]) -> None:\n",
        "        \"\"\"\n",
        "        For a linear regression model, generates following diagnostic plots:\n",
        "\n",
        "        a. residual\n",
        "        b. qq\n",
        "        c. scale location and\n",
        "        d. leverage\n",
        "\n",
        "        and a table\n",
        "\n",
        "        e. vif\n",
        "\n",
        "        Args:\n",
        "            results (Type[statsmodels.regression.linear_model.RegressionResultsWrapper]):\n",
        "                must be instance of statsmodels.regression.linear_model object\n",
        "\n",
        "        Raises:\n",
        "            TypeError: if instance does not belong to above object\n",
        "\n",
        "        Example:\n",
        "        >>> import numpy as np\n",
        "        >>> import pandas as pd\n",
        "        >>> import statsmodels.formula.api as smf\n",
        "        >>> x = np.linspace(-np.pi, np.pi, 100)\n",
        "        >>> y = 3*x + 8 + np.random.normal(0,1, 100)\n",
        "        >>> df = pd.DataFrame({'x':x, 'y':y})\n",
        "        >>> res = smf.ols(formula= \"y ~ x\", data=df).fit()\n",
        "        >>> cls = Linear_Reg_Diagnostic(res)\n",
        "        >>> cls(plot_context=\"seaborn-paper\")\n",
        "\n",
        "        In case you do not need all plots you can also independently make an individual plot/table\n",
        "        in following ways\n",
        "\n",
        "        >>> cls = Linear_Reg_Diagnostic(res)\n",
        "        >>> cls.residual_plot()\n",
        "        >>> cls.qq_plot()\n",
        "        >>> cls.scale_location_plot()\n",
        "        >>> cls.leverage_plot()\n",
        "        >>> cls.vif_table()\n",
        "        \"\"\"\n",
        "\n",
        "        if isinstance(results, statsmodels.regression.linear_model.RegressionResultsWrapper) is False:\n",
        "            raise TypeError(\"result must be instance of statsmodels.regression.linear_model.RegressionResultsWrapper object\")\n",
        "\n",
        "        self.results = maybe_unwrap_results(results)\n",
        "\n",
        "        self.y_true = self.results.model.endog\n",
        "        self.y_predict = self.results.fittedvalues\n",
        "        self.xvar = self.results.model.exog\n",
        "        self.xvar_names = self.results.model.exog_names\n",
        "\n",
        "        self.residual = np.array(self.results.resid)\n",
        "        influence = self.results.get_influence()\n",
        "        self.residual_norm = influence.resid_studentized_internal\n",
        "        self.leverage = influence.hat_matrix_diag\n",
        "        self.cooks_distance = influence.cooks_distance[0]\n",
        "        self.nparams = len(self.results.params)\n",
        "\n",
        "    def __call__(self, plot_context='seaborn-paper'):\n",
        "        # print(plt.style.available)\n",
        "        with plt.style.context(plot_context):\n",
        "            fig, ax = plt.subplots(nrows=2, ncols=2, figsize=(10,10))\n",
        "            self.residual_plot(ax=ax[0,0])\n",
        "            self.qq_plot(ax=ax[0,1])\n",
        "            self.scale_location_plot(ax=ax[1,0])\n",
        "            self.leverage_plot(ax=ax[1,1])\n",
        "            plt.show()\n",
        "\n",
        "        self.vif_table()\n",
        "        return fig, ax\n",
        "\n",
        "\n",
        "    def residual_plot(self, ax=None):\n",
        "        \"\"\"\n",
        "        Residual vs Fitted Plot\n",
        "\n",
        "        Graphical tool to identify non-linearity.\n",
        "        (Roughly) Horizontal red line is an indicator that the residual has a linear pattern\n",
        "        \"\"\"\n",
        "        if ax is None:\n",
        "            fig, ax = plt.subplots()\n",
        "\n",
        "        sns.residplot(\n",
        "            x=self.y_predict,\n",
        "            y=self.residual,\n",
        "            lowess=True,\n",
        "            scatter_kws={'alpha': 0.5},\n",
        "            line_kws={'color': 'red', 'lw': 1, 'alpha': 0.8},\n",
        "            ax=ax)\n",
        "\n",
        "        # annotations\n",
        "        residual_abs = np.abs(self.residual)\n",
        "        abs_resid = np.flip(np.sort(residual_abs))\n",
        "        abs_resid_top_3 = abs_resid[:3]\n",
        "        for i, _ in enumerate(abs_resid_top_3):\n",
        "            ax.annotate(\n",
        "                i,\n",
        "                xy=(self.y_predict[i], self.residual[i]),\n",
        "                color='C3')\n",
        "\n",
        "        ax.set_title('Residuals vs Fitted', fontweight=\"bold\")\n",
        "        ax.set_xlabel('Fitted values')\n",
        "        ax.set_ylabel('Residuals')\n",
        "        return ax\n",
        "\n",
        "    def qq_plot(self, ax=None):\n",
        "        \"\"\"\n",
        "        Standarized Residual vs Theoretical Quantile plot\n",
        "\n",
        "        Used to visually check if residuals are normally distributed.\n",
        "        Points spread along the diagonal line will suggest so.\n",
        "        \"\"\"\n",
        "        if ax is None:\n",
        "            fig, ax = plt.subplots()\n",
        "\n",
        "        QQ = ProbPlot(self.residual_norm)\n",
        "        QQ.qqplot(line='45', alpha=0.5, lw=1, ax=ax)\n",
        "\n",
        "        # annotations\n",
        "        abs_norm_resid = np.flip(np.argsort(np.abs(self.residual_norm)), 0)\n",
        "        abs_norm_resid_top_3 = abs_norm_resid[:3]\n",
        "        for r, i in enumerate(abs_norm_resid_top_3):\n",
        "            ax.annotate(\n",
        "                i,\n",
        "                xy=(np.flip(QQ.theoretical_quantiles, 0)[r], self.residual_norm[i]),\n",
        "                ha='right', color='C3')\n",
        "\n",
        "        ax.set_title('Normal Q-Q', fontweight=\"bold\")\n",
        "        ax.set_xlabel('Theoretical Quantiles')\n",
        "        ax.set_ylabel('Standardized Residuals')\n",
        "        return ax\n",
        "\n",
        "    def scale_location_plot(self, ax=None):\n",
        "        \"\"\"\n",
        "        Sqrt(Standarized Residual) vs Fitted values plot\n",
        "\n",
        "        Used to check homoscedasticity of the residuals.\n",
        "        Horizontal line will suggest so.\n",
        "        \"\"\"\n",
        "        if ax is None:\n",
        "            fig, ax = plt.subplots()\n",
        "\n",
        "        residual_norm_abs_sqrt = np.sqrt(np.abs(self.residual_norm))\n",
        "\n",
        "        ax.scatter(self.y_predict, residual_norm_abs_sqrt, alpha=0.5);\n",
        "        sns.regplot(\n",
        "            x=self.y_predict,\n",
        "            y=residual_norm_abs_sqrt,\n",
        "            scatter=False, ci=False,\n",
        "            lowess=True,\n",
        "            line_kws={'color': 'red', 'lw': 1, 'alpha': 0.8},\n",
        "            ax=ax)\n",
        "\n",
        "        # annotations\n",
        "        abs_sq_norm_resid = np.flip(np.argsort(residual_norm_abs_sqrt), 0)\n",
        "        abs_sq_norm_resid_top_3 = abs_sq_norm_resid[:3]\n",
        "        for i in abs_sq_norm_resid_top_3:\n",
        "            ax.annotate(\n",
        "                i,\n",
        "                xy=(self.y_predict[i], residual_norm_abs_sqrt[i]),\n",
        "                color='C3')\n",
        "        ax.set_title('Scale-Location', fontweight=\"bold\")\n",
        "        ax.set_xlabel('Fitted values')\n",
        "        ax.set_ylabel(r'$\\sqrt{|\\mathrm{Standardized\\ Residuals}|}$');\n",
        "        return ax\n",
        "\n",
        "    def leverage_plot(self, ax=None):\n",
        "        \"\"\"\n",
        "        Residual vs Leverage plot\n",
        "\n",
        "        Points falling outside Cook's distance curves are considered observation that can sway the fit\n",
        "        aka are influential.\n",
        "        Good to have none outside the curves.\n",
        "        \"\"\"\n",
        "        if ax is None:\n",
        "            fig, ax = plt.subplots()\n",
        "\n",
        "        ax.scatter(\n",
        "            self.leverage,\n",
        "            self.residual_norm,\n",
        "            alpha=0.5);\n",
        "\n",
        "        sns.regplot(\n",
        "            x=self.leverage,\n",
        "            y=self.residual_norm,\n",
        "            scatter=False,\n",
        "            ci=False,\n",
        "            lowess=True,\n",
        "            line_kws={'color': 'red', 'lw': 1, 'alpha': 0.8},\n",
        "            ax=ax)\n",
        "\n",
        "        # annotations\n",
        "        leverage_top_3 = np.flip(np.argsort(self.cooks_distance), 0)[:3]\n",
        "        for i in leverage_top_3:\n",
        "            ax.annotate(\n",
        "                i,\n",
        "                xy=(self.leverage[i], self.residual_norm[i]),\n",
        "                color = 'C3')\n",
        "\n",
        "        xtemp, ytemp = self.__cooks_dist_line(0.5) # 0.5 line\n",
        "        ax.plot(xtemp, ytemp, label=\"Cook's distance\", lw=1, ls='--', color='red')\n",
        "        xtemp, ytemp = self.__cooks_dist_line(1) # 1 line\n",
        "        ax.plot(xtemp, ytemp, lw=1, ls='--', color='red')\n",
        "\n",
        "        ax.set_xlim(0, max(self.leverage)+0.01)\n",
        "        ax.set_title('Residuals vs Leverage', fontweight=\"bold\")\n",
        "        ax.set_xlabel('Leverage')\n",
        "        ax.set_ylabel('Standardized Residuals')\n",
        "        ax.legend(loc='upper right')\n",
        "        return ax\n",
        "\n",
        "    def vif_table(self):\n",
        "        \"\"\"\n",
        "        VIF table\n",
        "\n",
        "        VIF, the variance inflation factor, is a measure of multicollinearity.\n",
        "        VIF > 5 for a variable indicates that it is highly collinear with the\n",
        "        other input variables.\n",
        "        \"\"\"\n",
        "        vif_df = pd.DataFrame()\n",
        "        vif_df[\"Features\"] = self.xvar_names\n",
        "        vif_df[\"VIF Factor\"] = [variance_inflation_factor(self.xvar, i) for i in range(self.xvar.shape[1])]\n",
        "\n",
        "        print(vif_df\n",
        "                .sort_values(\"VIF Factor\")\n",
        "                .round(2))\n",
        "\n",
        "\n",
        "    def __cooks_dist_line(self, factor):\n",
        "        \"\"\"\n",
        "        Helper function for plotting Cook's distance curves\n",
        "        \"\"\"\n",
        "        p = self.nparams\n",
        "        formula = lambda x: np.sqrt((factor * p * (1 - x)) / x)\n",
        "        x = np.linspace(0.001, max(self.leverage), 50)\n",
        "        y = formula(x)\n",
        "        return x, y"
      ]
    },
    {
      "cell_type": "code",
      "source": [
        "data.tail()"
      ],
      "metadata": {
        "colab": {
          "base_uri": "https://localhost:8080/",
          "height": 392
        },
        "id": "dzJUJ_kneJQH",
        "outputId": "1e88ba2c-d7f7-47b1-de64-cc360b000b8a"
      },
      "execution_count": null,
      "outputs": [
        {
          "output_type": "execute_result",
          "data": {
            "text/plain": [
              "                        Hospital_name  Drg_code  Min_contracted  \\\n",
              "103    Northwestern Memorial Hospital       788     8164.080000   \n",
              "104    Rush University Medical Center       788     6539.161717   \n",
              "105             NYU Langone Hospitals       788     7383.040000   \n",
              "106  Penn Presbyterian Medical Center       788     7353.000000   \n",
              "107              Mount Sinai New York       788     9022.000000   \n",
              "\n",
              "     Max_contracted State    Zip  Quality  Beds  Public_flag  Teach  \\\n",
              "103    34228.360000    IL  60611        1   903            0      1   \n",
              "104    23079.394295    IL  60612        1   671            0      1   \n",
              "105    61496.380000    NY  10016        1  1639            0      1   \n",
              "106   115483.000000    PA  19104        1   365            0      1   \n",
              "107    20027.000000    NY  10029        1  1183            0      1   \n",
              "\n",
              "     median_income    gini        max_min  proportion  ruca rural_code rural  \\\n",
              "103         108413  0.5301   26064.280000    4.192556   1.0      urban     0   \n",
              "104          44538  0.5911   16540.232578    3.529412   1.0      urban     0   \n",
              "105         124647  0.5084   54113.340000    8.329412   1.0      urban     0   \n",
              "106          28603  0.5822  108130.000000   15.705562   1.0      urban     0   \n",
              "107          33801  0.6263   11005.000000    2.219796   1.0      urban     0   \n",
              "\n",
              "       price_range  \n",
              "103   26064.280000  \n",
              "104   16540.232578  \n",
              "105   54113.340000  \n",
              "106  108130.000000  \n",
              "107   11005.000000  "
            ],
            "text/html": [
              "\n",
              "  <div id=\"df-b81d13f9-f5f0-422b-9a40-3c769f7abc0f\">\n",
              "    <div class=\"colab-df-container\">\n",
              "      <div>\n",
              "<style scoped>\n",
              "    .dataframe tbody tr th:only-of-type {\n",
              "        vertical-align: middle;\n",
              "    }\n",
              "\n",
              "    .dataframe tbody tr th {\n",
              "        vertical-align: top;\n",
              "    }\n",
              "\n",
              "    .dataframe thead th {\n",
              "        text-align: right;\n",
              "    }\n",
              "</style>\n",
              "<table border=\"1\" class=\"dataframe\">\n",
              "  <thead>\n",
              "    <tr style=\"text-align: right;\">\n",
              "      <th></th>\n",
              "      <th>Hospital_name</th>\n",
              "      <th>Drg_code</th>\n",
              "      <th>Min_contracted</th>\n",
              "      <th>Max_contracted</th>\n",
              "      <th>State</th>\n",
              "      <th>Zip</th>\n",
              "      <th>Quality</th>\n",
              "      <th>Beds</th>\n",
              "      <th>Public_flag</th>\n",
              "      <th>Teach</th>\n",
              "      <th>median_income</th>\n",
              "      <th>gini</th>\n",
              "      <th>max_min</th>\n",
              "      <th>proportion</th>\n",
              "      <th>ruca</th>\n",
              "      <th>rural_code</th>\n",
              "      <th>rural</th>\n",
              "      <th>price_range</th>\n",
              "    </tr>\n",
              "  </thead>\n",
              "  <tbody>\n",
              "    <tr>\n",
              "      <th>103</th>\n",
              "      <td>Northwestern Memorial Hospital</td>\n",
              "      <td>788</td>\n",
              "      <td>8164.080000</td>\n",
              "      <td>34228.360000</td>\n",
              "      <td>IL</td>\n",
              "      <td>60611</td>\n",
              "      <td>1</td>\n",
              "      <td>903</td>\n",
              "      <td>0</td>\n",
              "      <td>1</td>\n",
              "      <td>108413</td>\n",
              "      <td>0.5301</td>\n",
              "      <td>26064.280000</td>\n",
              "      <td>4.192556</td>\n",
              "      <td>1.0</td>\n",
              "      <td>urban</td>\n",
              "      <td>0</td>\n",
              "      <td>26064.280000</td>\n",
              "    </tr>\n",
              "    <tr>\n",
              "      <th>104</th>\n",
              "      <td>Rush University Medical Center</td>\n",
              "      <td>788</td>\n",
              "      <td>6539.161717</td>\n",
              "      <td>23079.394295</td>\n",
              "      <td>IL</td>\n",
              "      <td>60612</td>\n",
              "      <td>1</td>\n",
              "      <td>671</td>\n",
              "      <td>0</td>\n",
              "      <td>1</td>\n",
              "      <td>44538</td>\n",
              "      <td>0.5911</td>\n",
              "      <td>16540.232578</td>\n",
              "      <td>3.529412</td>\n",
              "      <td>1.0</td>\n",
              "      <td>urban</td>\n",
              "      <td>0</td>\n",
              "      <td>16540.232578</td>\n",
              "    </tr>\n",
              "    <tr>\n",
              "      <th>105</th>\n",
              "      <td>NYU Langone Hospitals</td>\n",
              "      <td>788</td>\n",
              "      <td>7383.040000</td>\n",
              "      <td>61496.380000</td>\n",
              "      <td>NY</td>\n",
              "      <td>10016</td>\n",
              "      <td>1</td>\n",
              "      <td>1639</td>\n",
              "      <td>0</td>\n",
              "      <td>1</td>\n",
              "      <td>124647</td>\n",
              "      <td>0.5084</td>\n",
              "      <td>54113.340000</td>\n",
              "      <td>8.329412</td>\n",
              "      <td>1.0</td>\n",
              "      <td>urban</td>\n",
              "      <td>0</td>\n",
              "      <td>54113.340000</td>\n",
              "    </tr>\n",
              "    <tr>\n",
              "      <th>106</th>\n",
              "      <td>Penn Presbyterian Medical Center</td>\n",
              "      <td>788</td>\n",
              "      <td>7353.000000</td>\n",
              "      <td>115483.000000</td>\n",
              "      <td>PA</td>\n",
              "      <td>19104</td>\n",
              "      <td>1</td>\n",
              "      <td>365</td>\n",
              "      <td>0</td>\n",
              "      <td>1</td>\n",
              "      <td>28603</td>\n",
              "      <td>0.5822</td>\n",
              "      <td>108130.000000</td>\n",
              "      <td>15.705562</td>\n",
              "      <td>1.0</td>\n",
              "      <td>urban</td>\n",
              "      <td>0</td>\n",
              "      <td>108130.000000</td>\n",
              "    </tr>\n",
              "    <tr>\n",
              "      <th>107</th>\n",
              "      <td>Mount Sinai New York</td>\n",
              "      <td>788</td>\n",
              "      <td>9022.000000</td>\n",
              "      <td>20027.000000</td>\n",
              "      <td>NY</td>\n",
              "      <td>10029</td>\n",
              "      <td>1</td>\n",
              "      <td>1183</td>\n",
              "      <td>0</td>\n",
              "      <td>1</td>\n",
              "      <td>33801</td>\n",
              "      <td>0.6263</td>\n",
              "      <td>11005.000000</td>\n",
              "      <td>2.219796</td>\n",
              "      <td>1.0</td>\n",
              "      <td>urban</td>\n",
              "      <td>0</td>\n",
              "      <td>11005.000000</td>\n",
              "    </tr>\n",
              "  </tbody>\n",
              "</table>\n",
              "</div>\n",
              "      <button class=\"colab-df-convert\" onclick=\"convertToInteractive('df-b81d13f9-f5f0-422b-9a40-3c769f7abc0f')\"\n",
              "              title=\"Convert this dataframe to an interactive table.\"\n",
              "              style=\"display:none;\">\n",
              "        \n",
              "  <svg xmlns=\"http://www.w3.org/2000/svg\" height=\"24px\"viewBox=\"0 0 24 24\"\n",
              "       width=\"24px\">\n",
              "    <path d=\"M0 0h24v24H0V0z\" fill=\"none\"/>\n",
              "    <path d=\"M18.56 5.44l.94 2.06.94-2.06 2.06-.94-2.06-.94-.94-2.06-.94 2.06-2.06.94zm-11 1L8.5 8.5l.94-2.06 2.06-.94-2.06-.94L8.5 2.5l-.94 2.06-2.06.94zm10 10l.94 2.06.94-2.06 2.06-.94-2.06-.94-.94-2.06-.94 2.06-2.06.94z\"/><path d=\"M17.41 7.96l-1.37-1.37c-.4-.4-.92-.59-1.43-.59-.52 0-1.04.2-1.43.59L10.3 9.45l-7.72 7.72c-.78.78-.78 2.05 0 2.83L4 21.41c.39.39.9.59 1.41.59.51 0 1.02-.2 1.41-.59l7.78-7.78 2.81-2.81c.8-.78.8-2.07 0-2.86zM5.41 20L4 18.59l7.72-7.72 1.47 1.35L5.41 20z\"/>\n",
              "  </svg>\n",
              "      </button>\n",
              "      \n",
              "  <style>\n",
              "    .colab-df-container {\n",
              "      display:flex;\n",
              "      flex-wrap:wrap;\n",
              "      gap: 12px;\n",
              "    }\n",
              "\n",
              "    .colab-df-convert {\n",
              "      background-color: #E8F0FE;\n",
              "      border: none;\n",
              "      border-radius: 50%;\n",
              "      cursor: pointer;\n",
              "      display: none;\n",
              "      fill: #1967D2;\n",
              "      height: 32px;\n",
              "      padding: 0 0 0 0;\n",
              "      width: 32px;\n",
              "    }\n",
              "\n",
              "    .colab-df-convert:hover {\n",
              "      background-color: #E2EBFA;\n",
              "      box-shadow: 0px 1px 2px rgba(60, 64, 67, 0.3), 0px 1px 3px 1px rgba(60, 64, 67, 0.15);\n",
              "      fill: #174EA6;\n",
              "    }\n",
              "\n",
              "    [theme=dark] .colab-df-convert {\n",
              "      background-color: #3B4455;\n",
              "      fill: #D2E3FC;\n",
              "    }\n",
              "\n",
              "    [theme=dark] .colab-df-convert:hover {\n",
              "      background-color: #434B5C;\n",
              "      box-shadow: 0px 1px 3px 1px rgba(0, 0, 0, 0.15);\n",
              "      filter: drop-shadow(0px 1px 2px rgba(0, 0, 0, 0.3));\n",
              "      fill: #FFFFFF;\n",
              "    }\n",
              "  </style>\n",
              "\n",
              "      <script>\n",
              "        const buttonEl =\n",
              "          document.querySelector('#df-b81d13f9-f5f0-422b-9a40-3c769f7abc0f button.colab-df-convert');\n",
              "        buttonEl.style.display =\n",
              "          google.colab.kernel.accessAllowed ? 'block' : 'none';\n",
              "\n",
              "        async function convertToInteractive(key) {\n",
              "          const element = document.querySelector('#df-b81d13f9-f5f0-422b-9a40-3c769f7abc0f');\n",
              "          const dataTable =\n",
              "            await google.colab.kernel.invokeFunction('convertToInteractive',\n",
              "                                                     [key], {});\n",
              "          if (!dataTable) return;\n",
              "\n",
              "          const docLinkHtml = 'Like what you see? Visit the ' +\n",
              "            '<a target=\"_blank\" href=https://colab.research.google.com/notebooks/data_table.ipynb>data table notebook</a>'\n",
              "            + ' to learn more about interactive tables.';\n",
              "          element.innerHTML = '';\n",
              "          dataTable['output_type'] = 'display_data';\n",
              "          await google.colab.output.renderOutput(dataTable, element);\n",
              "          const docLink = document.createElement('div');\n",
              "          docLink.innerHTML = docLinkHtml;\n",
              "          element.appendChild(docLink);\n",
              "        }\n",
              "      </script>\n",
              "    </div>\n",
              "  </div>\n",
              "  "
            ]
          },
          "metadata": {},
          "execution_count": 25
        }
      ]
    },
    {
      "cell_type": "code",
      "source": [
        "print(data)"
      ],
      "metadata": {
        "id": "NhIe5CPadpd5"
      },
      "execution_count": null,
      "outputs": []
    },
    {
      "cell_type": "code",
      "execution_count": null,
      "metadata": {
        "id": "vZemwWm2buOk"
      },
      "outputs": [],
      "source": [
        ""
      ]
    }
  ],
  "metadata": {
    "kernelspec": {
      "display_name": "Python 3",
      "language": "python",
      "name": "python3"
    },
    "language_info": {
      "codemirror_mode": {
        "name": "ipython",
        "version": 3
      },
      "file_extension": ".py",
      "mimetype": "text/x-python",
      "name": "python",
      "nbconvert_exporter": "python",
      "pygments_lexer": "ipython3",
      "version": "3.8.3"
    },
    "colab": {
      "name": "hospital_analysis_ryan.ipynb",
      "provenance": [],
      "include_colab_link": true
    }
  },
  "nbformat": 4,
  "nbformat_minor": 0
}