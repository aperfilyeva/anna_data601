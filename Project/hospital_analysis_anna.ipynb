{
  "cells": [
    {
      "cell_type": "markdown",
      "metadata": {
        "id": "view-in-github",
        "colab_type": "text"
      },
      "source": [
        "<a href=\"https://colab.research.google.com/github/aperfilyeva/anna_data601/blob/main/Project/hospital_analysis_anna.ipynb\" target=\"_parent\"><img src=\"https://colab.research.google.com/assets/colab-badge.svg\" alt=\"Open In Colab\"/></a>"
      ]
    },
    {
      "cell_type": "code",
      "execution_count": 5,
      "metadata": {
        "scrolled": false,
        "colab": {
          "base_uri": "https://localhost:8080/",
          "height": 520
        },
        "id": "izSINwihbuOC",
        "outputId": "f5c6d2b2-ef1a-415e-a43f-374d18299df0"
      },
      "outputs": [
        {
          "output_type": "execute_result",
          "data": {
            "text/plain": [
              "                                         Hospital_name  Drg_code  \\\n",
              "0    Southern hills hospital medical center, las Vegas       788   \n",
              "1                               Mountain View Hospital       788   \n",
              "2    Dell Seton Medical Center at the University of...       788   \n",
              "3                Ascension Seton Medical Center Austin       788   \n",
              "4             Baylor Scott & White Emergency Hospitals       788   \n",
              "..                                                 ...       ...   \n",
              "103                     Northwestern Memorial Hospital       788   \n",
              "104                     Rush University Medical Center       788   \n",
              "105                              NYU Langone Hospitals       788   \n",
              "106                   Penn Presbyterian Medical Center       788   \n",
              "107                               Mount Sinai New York       788   \n",
              "\n",
              "     Min_contracted  Max_contracted State    Zip  Quality  Beds  Public_flag  \\\n",
              "0        786.000000    13980.000000    NV  89148        0   265            0   \n",
              "1       2863.000000     6554.000000    NV  89128        0   425            0   \n",
              "2       1999.990000     4999.750000    TX  78701        0   211            1   \n",
              "3       2829.800000     7074.500000    TX  78705        0   391            0   \n",
              "4       3229.600000    13468.310000    TX  76227        0    40            0   \n",
              "..              ...             ...   ...    ...      ...   ...          ...   \n",
              "103     8164.080000    34228.360000    IL  60611        1   903            0   \n",
              "104     6539.161717    23079.394295    IL  60612        1   671            0   \n",
              "105     7383.040000    61496.380000    NY  10016        1  1639            0   \n",
              "106     7353.000000   115483.000000    PA  19104        1   365            0   \n",
              "107     9022.000000    20027.000000    NY  10029        1  1183            0   \n",
              "\n",
              "     Teach  median_income    gini        max_min  proportion  ruca rural_code  \n",
              "0        0          78352  0.3642   13194.000000   17.786260   1.0      urban  \n",
              "1        0          59045  0.4787    3691.000000    2.289207   1.0      urban  \n",
              "2        1         127782  0.4836    2999.760000    2.499887   1.0      urban  \n",
              "3        1          23509  0.6579    4244.700000    2.500000   1.0      urban  \n",
              "4        0         102020  0.3683   10238.710000    4.170272   2.1      urban  \n",
              "..     ...            ...     ...            ...         ...   ...        ...  \n",
              "103      1         108413  0.5301   26064.280000    4.192556   1.0      urban  \n",
              "104      1          44538  0.5911   16540.232578    3.529412   1.0      urban  \n",
              "105      1         124647  0.5084   54113.340000    8.329412   1.0      urban  \n",
              "106      1          28603  0.5822  108130.000000   15.705562   1.0      urban  \n",
              "107      1          33801  0.6263   11005.000000    2.219796   1.0      urban  \n",
              "\n",
              "[108 rows x 16 columns]"
            ],
            "text/html": [
              "\n",
              "  <div id=\"df-76632012-0d6e-4470-835d-2e21386bc3ab\">\n",
              "    <div class=\"colab-df-container\">\n",
              "      <div>\n",
              "<style scoped>\n",
              "    .dataframe tbody tr th:only-of-type {\n",
              "        vertical-align: middle;\n",
              "    }\n",
              "\n",
              "    .dataframe tbody tr th {\n",
              "        vertical-align: top;\n",
              "    }\n",
              "\n",
              "    .dataframe thead th {\n",
              "        text-align: right;\n",
              "    }\n",
              "</style>\n",
              "<table border=\"1\" class=\"dataframe\">\n",
              "  <thead>\n",
              "    <tr style=\"text-align: right;\">\n",
              "      <th></th>\n",
              "      <th>Hospital_name</th>\n",
              "      <th>Drg_code</th>\n",
              "      <th>Min_contracted</th>\n",
              "      <th>Max_contracted</th>\n",
              "      <th>State</th>\n",
              "      <th>Zip</th>\n",
              "      <th>Quality</th>\n",
              "      <th>Beds</th>\n",
              "      <th>Public_flag</th>\n",
              "      <th>Teach</th>\n",
              "      <th>median_income</th>\n",
              "      <th>gini</th>\n",
              "      <th>max_min</th>\n",
              "      <th>proportion</th>\n",
              "      <th>ruca</th>\n",
              "      <th>rural_code</th>\n",
              "    </tr>\n",
              "  </thead>\n",
              "  <tbody>\n",
              "    <tr>\n",
              "      <th>0</th>\n",
              "      <td>Southern hills hospital medical center, las Vegas</td>\n",
              "      <td>788</td>\n",
              "      <td>786.000000</td>\n",
              "      <td>13980.000000</td>\n",
              "      <td>NV</td>\n",
              "      <td>89148</td>\n",
              "      <td>0</td>\n",
              "      <td>265</td>\n",
              "      <td>0</td>\n",
              "      <td>0</td>\n",
              "      <td>78352</td>\n",
              "      <td>0.3642</td>\n",
              "      <td>13194.000000</td>\n",
              "      <td>17.786260</td>\n",
              "      <td>1.0</td>\n",
              "      <td>urban</td>\n",
              "    </tr>\n",
              "    <tr>\n",
              "      <th>1</th>\n",
              "      <td>Mountain View Hospital</td>\n",
              "      <td>788</td>\n",
              "      <td>2863.000000</td>\n",
              "      <td>6554.000000</td>\n",
              "      <td>NV</td>\n",
              "      <td>89128</td>\n",
              "      <td>0</td>\n",
              "      <td>425</td>\n",
              "      <td>0</td>\n",
              "      <td>0</td>\n",
              "      <td>59045</td>\n",
              "      <td>0.4787</td>\n",
              "      <td>3691.000000</td>\n",
              "      <td>2.289207</td>\n",
              "      <td>1.0</td>\n",
              "      <td>urban</td>\n",
              "    </tr>\n",
              "    <tr>\n",
              "      <th>2</th>\n",
              "      <td>Dell Seton Medical Center at the University of...</td>\n",
              "      <td>788</td>\n",
              "      <td>1999.990000</td>\n",
              "      <td>4999.750000</td>\n",
              "      <td>TX</td>\n",
              "      <td>78701</td>\n",
              "      <td>0</td>\n",
              "      <td>211</td>\n",
              "      <td>1</td>\n",
              "      <td>1</td>\n",
              "      <td>127782</td>\n",
              "      <td>0.4836</td>\n",
              "      <td>2999.760000</td>\n",
              "      <td>2.499887</td>\n",
              "      <td>1.0</td>\n",
              "      <td>urban</td>\n",
              "    </tr>\n",
              "    <tr>\n",
              "      <th>3</th>\n",
              "      <td>Ascension Seton Medical Center Austin</td>\n",
              "      <td>788</td>\n",
              "      <td>2829.800000</td>\n",
              "      <td>7074.500000</td>\n",
              "      <td>TX</td>\n",
              "      <td>78705</td>\n",
              "      <td>0</td>\n",
              "      <td>391</td>\n",
              "      <td>0</td>\n",
              "      <td>1</td>\n",
              "      <td>23509</td>\n",
              "      <td>0.6579</td>\n",
              "      <td>4244.700000</td>\n",
              "      <td>2.500000</td>\n",
              "      <td>1.0</td>\n",
              "      <td>urban</td>\n",
              "    </tr>\n",
              "    <tr>\n",
              "      <th>4</th>\n",
              "      <td>Baylor Scott &amp; White Emergency Hospitals</td>\n",
              "      <td>788</td>\n",
              "      <td>3229.600000</td>\n",
              "      <td>13468.310000</td>\n",
              "      <td>TX</td>\n",
              "      <td>76227</td>\n",
              "      <td>0</td>\n",
              "      <td>40</td>\n",
              "      <td>0</td>\n",
              "      <td>0</td>\n",
              "      <td>102020</td>\n",
              "      <td>0.3683</td>\n",
              "      <td>10238.710000</td>\n",
              "      <td>4.170272</td>\n",
              "      <td>2.1</td>\n",
              "      <td>urban</td>\n",
              "    </tr>\n",
              "    <tr>\n",
              "      <th>...</th>\n",
              "      <td>...</td>\n",
              "      <td>...</td>\n",
              "      <td>...</td>\n",
              "      <td>...</td>\n",
              "      <td>...</td>\n",
              "      <td>...</td>\n",
              "      <td>...</td>\n",
              "      <td>...</td>\n",
              "      <td>...</td>\n",
              "      <td>...</td>\n",
              "      <td>...</td>\n",
              "      <td>...</td>\n",
              "      <td>...</td>\n",
              "      <td>...</td>\n",
              "      <td>...</td>\n",
              "      <td>...</td>\n",
              "    </tr>\n",
              "    <tr>\n",
              "      <th>103</th>\n",
              "      <td>Northwestern Memorial Hospital</td>\n",
              "      <td>788</td>\n",
              "      <td>8164.080000</td>\n",
              "      <td>34228.360000</td>\n",
              "      <td>IL</td>\n",
              "      <td>60611</td>\n",
              "      <td>1</td>\n",
              "      <td>903</td>\n",
              "      <td>0</td>\n",
              "      <td>1</td>\n",
              "      <td>108413</td>\n",
              "      <td>0.5301</td>\n",
              "      <td>26064.280000</td>\n",
              "      <td>4.192556</td>\n",
              "      <td>1.0</td>\n",
              "      <td>urban</td>\n",
              "    </tr>\n",
              "    <tr>\n",
              "      <th>104</th>\n",
              "      <td>Rush University Medical Center</td>\n",
              "      <td>788</td>\n",
              "      <td>6539.161717</td>\n",
              "      <td>23079.394295</td>\n",
              "      <td>IL</td>\n",
              "      <td>60612</td>\n",
              "      <td>1</td>\n",
              "      <td>671</td>\n",
              "      <td>0</td>\n",
              "      <td>1</td>\n",
              "      <td>44538</td>\n",
              "      <td>0.5911</td>\n",
              "      <td>16540.232578</td>\n",
              "      <td>3.529412</td>\n",
              "      <td>1.0</td>\n",
              "      <td>urban</td>\n",
              "    </tr>\n",
              "    <tr>\n",
              "      <th>105</th>\n",
              "      <td>NYU Langone Hospitals</td>\n",
              "      <td>788</td>\n",
              "      <td>7383.040000</td>\n",
              "      <td>61496.380000</td>\n",
              "      <td>NY</td>\n",
              "      <td>10016</td>\n",
              "      <td>1</td>\n",
              "      <td>1639</td>\n",
              "      <td>0</td>\n",
              "      <td>1</td>\n",
              "      <td>124647</td>\n",
              "      <td>0.5084</td>\n",
              "      <td>54113.340000</td>\n",
              "      <td>8.329412</td>\n",
              "      <td>1.0</td>\n",
              "      <td>urban</td>\n",
              "    </tr>\n",
              "    <tr>\n",
              "      <th>106</th>\n",
              "      <td>Penn Presbyterian Medical Center</td>\n",
              "      <td>788</td>\n",
              "      <td>7353.000000</td>\n",
              "      <td>115483.000000</td>\n",
              "      <td>PA</td>\n",
              "      <td>19104</td>\n",
              "      <td>1</td>\n",
              "      <td>365</td>\n",
              "      <td>0</td>\n",
              "      <td>1</td>\n",
              "      <td>28603</td>\n",
              "      <td>0.5822</td>\n",
              "      <td>108130.000000</td>\n",
              "      <td>15.705562</td>\n",
              "      <td>1.0</td>\n",
              "      <td>urban</td>\n",
              "    </tr>\n",
              "    <tr>\n",
              "      <th>107</th>\n",
              "      <td>Mount Sinai New York</td>\n",
              "      <td>788</td>\n",
              "      <td>9022.000000</td>\n",
              "      <td>20027.000000</td>\n",
              "      <td>NY</td>\n",
              "      <td>10029</td>\n",
              "      <td>1</td>\n",
              "      <td>1183</td>\n",
              "      <td>0</td>\n",
              "      <td>1</td>\n",
              "      <td>33801</td>\n",
              "      <td>0.6263</td>\n",
              "      <td>11005.000000</td>\n",
              "      <td>2.219796</td>\n",
              "      <td>1.0</td>\n",
              "      <td>urban</td>\n",
              "    </tr>\n",
              "  </tbody>\n",
              "</table>\n",
              "<p>108 rows × 16 columns</p>\n",
              "</div>\n",
              "      <button class=\"colab-df-convert\" onclick=\"convertToInteractive('df-76632012-0d6e-4470-835d-2e21386bc3ab')\"\n",
              "              title=\"Convert this dataframe to an interactive table.\"\n",
              "              style=\"display:none;\">\n",
              "        \n",
              "  <svg xmlns=\"http://www.w3.org/2000/svg\" height=\"24px\"viewBox=\"0 0 24 24\"\n",
              "       width=\"24px\">\n",
              "    <path d=\"M0 0h24v24H0V0z\" fill=\"none\"/>\n",
              "    <path d=\"M18.56 5.44l.94 2.06.94-2.06 2.06-.94-2.06-.94-.94-2.06-.94 2.06-2.06.94zm-11 1L8.5 8.5l.94-2.06 2.06-.94-2.06-.94L8.5 2.5l-.94 2.06-2.06.94zm10 10l.94 2.06.94-2.06 2.06-.94-2.06-.94-.94-2.06-.94 2.06-2.06.94z\"/><path d=\"M17.41 7.96l-1.37-1.37c-.4-.4-.92-.59-1.43-.59-.52 0-1.04.2-1.43.59L10.3 9.45l-7.72 7.72c-.78.78-.78 2.05 0 2.83L4 21.41c.39.39.9.59 1.41.59.51 0 1.02-.2 1.41-.59l7.78-7.78 2.81-2.81c.8-.78.8-2.07 0-2.86zM5.41 20L4 18.59l7.72-7.72 1.47 1.35L5.41 20z\"/>\n",
              "  </svg>\n",
              "      </button>\n",
              "      \n",
              "  <style>\n",
              "    .colab-df-container {\n",
              "      display:flex;\n",
              "      flex-wrap:wrap;\n",
              "      gap: 12px;\n",
              "    }\n",
              "\n",
              "    .colab-df-convert {\n",
              "      background-color: #E8F0FE;\n",
              "      border: none;\n",
              "      border-radius: 50%;\n",
              "      cursor: pointer;\n",
              "      display: none;\n",
              "      fill: #1967D2;\n",
              "      height: 32px;\n",
              "      padding: 0 0 0 0;\n",
              "      width: 32px;\n",
              "    }\n",
              "\n",
              "    .colab-df-convert:hover {\n",
              "      background-color: #E2EBFA;\n",
              "      box-shadow: 0px 1px 2px rgba(60, 64, 67, 0.3), 0px 1px 3px 1px rgba(60, 64, 67, 0.15);\n",
              "      fill: #174EA6;\n",
              "    }\n",
              "\n",
              "    [theme=dark] .colab-df-convert {\n",
              "      background-color: #3B4455;\n",
              "      fill: #D2E3FC;\n",
              "    }\n",
              "\n",
              "    [theme=dark] .colab-df-convert:hover {\n",
              "      background-color: #434B5C;\n",
              "      box-shadow: 0px 1px 3px 1px rgba(0, 0, 0, 0.15);\n",
              "      filter: drop-shadow(0px 1px 2px rgba(0, 0, 0, 0.3));\n",
              "      fill: #FFFFFF;\n",
              "    }\n",
              "  </style>\n",
              "\n",
              "      <script>\n",
              "        const buttonEl =\n",
              "          document.querySelector('#df-76632012-0d6e-4470-835d-2e21386bc3ab button.colab-df-convert');\n",
              "        buttonEl.style.display =\n",
              "          google.colab.kernel.accessAllowed ? 'block' : 'none';\n",
              "\n",
              "        async function convertToInteractive(key) {\n",
              "          const element = document.querySelector('#df-76632012-0d6e-4470-835d-2e21386bc3ab');\n",
              "          const dataTable =\n",
              "            await google.colab.kernel.invokeFunction('convertToInteractive',\n",
              "                                                     [key], {});\n",
              "          if (!dataTable) return;\n",
              "\n",
              "          const docLinkHtml = 'Like what you see? Visit the ' +\n",
              "            '<a target=\"_blank\" href=https://colab.research.google.com/notebooks/data_table.ipynb>data table notebook</a>'\n",
              "            + ' to learn more about interactive tables.';\n",
              "          element.innerHTML = '';\n",
              "          dataTable['output_type'] = 'display_data';\n",
              "          await google.colab.output.renderOutput(dataTable, element);\n",
              "          const docLink = document.createElement('div');\n",
              "          docLink.innerHTML = docLinkHtml;\n",
              "          element.appendChild(docLink);\n",
              "        }\n",
              "      </script>\n",
              "    </div>\n",
              "  </div>\n",
              "  "
            ]
          },
          "metadata": {},
          "execution_count": 5
        }
      ],
      "source": [
        "#importing data\n",
        "import pandas as pd\n",
        "data = pd.read_excel('04232022_data_788_ryan.xlsx')\n",
        "data"
      ]
    },
    {
      "cell_type": "code",
      "execution_count": 6,
      "metadata": {
        "id": "XlznOFtmbuOJ"
      },
      "outputs": [],
      "source": [
        "#making the rural variable into a boolean, 1 is rural and 0 is urban\n",
        "data['rural'] = ['1' if x == 'rural' else '0' for x in data['rural_code']]\n",
        "data['price_range'] = data.Max_contracted- data.Min_contracted\n",
        "data['mid_point'] = (data.Max_contracted+data.Min_contracted)/2"
      ]
    },
    {
      "cell_type": "code",
      "execution_count": 7,
      "metadata": {
        "id": "5QJPRLDTbuOL"
      },
      "outputs": [],
      "source": [
        "regression_variables = data[['Beds', 'Quality', 'Public_flag', 'Teach', 'median_income', 'gini', 'max_min', 'proportion', 'rural']]\n",
        "corr = regression_variables.corr()"
      ]
    },
    {
      "cell_type": "code",
      "execution_count": 8,
      "metadata": {
        "colab": {
          "base_uri": "https://localhost:8080/"
        },
        "id": "Qjhw8UhZbuOj",
        "outputId": "97f4c851-ebd2-412c-f437-3324ff10318a"
      },
      "outputs": [
        {
          "output_type": "stream",
          "name": "stdout",
          "text": [
            "                            OLS Regression Results                            \n",
            "==============================================================================\n",
            "Dep. Variable:         Min_contracted   R-squared:                       0.132\n",
            "Model:                            OLS   Adj. R-squared:                  0.080\n",
            "Method:                 Least Squares   F-statistic:                     2.556\n",
            "Date:                Thu, 05 May 2022   Prob (F-statistic):             0.0240\n",
            "Time:                        14:18:50   Log-Likelihood:                -1048.6\n",
            "No. Observations:                 108   AIC:                             2111.\n",
            "Df Residuals:                     101   BIC:                             2130.\n",
            "Df Model:                           6                                         \n",
            "Covariance Type:            nonrobust                                         \n",
            "=================================================================================\n",
            "                    coef    std err          t      P>|t|      [0.025      0.975]\n",
            "---------------------------------------------------------------------------------\n",
            "Intercept      4631.7200   4111.121      1.127      0.263   -3523.638    1.28e+04\n",
            "rural[T.1]     3489.2122   1104.442      3.159      0.002    1298.297    5680.128\n",
            "Quality        -289.0042   2004.960     -0.144      0.886   -4266.305    3688.297\n",
            "Beds              1.7392      1.794      0.969      0.335      -1.820       5.299\n",
            "Teach          1782.8314    929.077      1.919      0.058     -60.208    3625.871\n",
            "median_income    -0.0056      0.016     -0.353      0.724      -0.037       0.026\n",
            "gini           1659.8093   7873.893      0.211      0.833    -1.4e+04    1.73e+04\n",
            "==============================================================================\n",
            "Omnibus:                       19.049   Durbin-Watson:                   0.887\n",
            "Prob(Omnibus):                  0.000   Jarque-Bera (JB):               22.666\n",
            "Skew:                           1.050   Prob(JB):                     1.20e-05\n",
            "Kurtosis:                       3.791   Cond. No.                     1.68e+06\n",
            "==============================================================================\n",
            "\n",
            "Warnings:\n",
            "[1] Standard Errors assume that the covariance matrix of the errors is correctly specified.\n",
            "[2] The condition number is large, 1.68e+06. This might indicate that there are\n",
            "strong multicollinearity or other numerical problems.\n"
          ]
        }
      ],
      "source": [
        "from statsmodels.compat import lzip\n",
        "import numpy as np\n",
        "import statsmodels.formula.api as smf\n",
        "import statsmodels.stats.api as sms\n",
        "\n",
        "data1=data.query('proportion < 80')\n",
        "\n",
        "#results = smf.ols(\"price_range ~ Quality+  Teach \", data=data).fit()\n",
        "results = smf.ols(\"Min_contracted ~ Quality+ Beds + Teach + median_income + gini + rural \", data=data).fit()\n",
        "\n",
        "# Inspect the results\n",
        "print(results.summary())\n",
        "#cls = Linear_Reg_Diagnostic(results)\n",
        "#fig, ax = cls()\n"
      ]
    },
    {
      "cell_type": "code",
      "source": [
        "#results = smf.ols(\"price_range ~ Quality+  Teach \", data=data).fit()\n",
        "results = smf.ols(\"price_range ~ Quality+ Beds + Teach + median_income + gini + rural \", data=data).fit()\n",
        "\n",
        "# Inspect the results\n",
        "print(results.summary())"
      ],
      "metadata": {
        "id": "8FaTyrH-m0Cy",
        "outputId": "4f0a4bee-f5d5-475a-9706-d39d41903dde",
        "colab": {
          "base_uri": "https://localhost:8080/"
        }
      },
      "execution_count": 9,
      "outputs": [
        {
          "output_type": "stream",
          "name": "stdout",
          "text": [
            "                            OLS Regression Results                            \n",
            "==============================================================================\n",
            "Dep. Variable:            price_range   R-squared:                       0.190\n",
            "Model:                            OLS   Adj. R-squared:                  0.141\n",
            "Method:                 Least Squares   F-statistic:                     3.937\n",
            "Date:                Thu, 05 May 2022   Prob (F-statistic):            0.00141\n",
            "Time:                        14:18:50   Log-Likelihood:                -1191.7\n",
            "No. Observations:                 108   AIC:                             2397.\n",
            "Df Residuals:                     101   BIC:                             2416.\n",
            "Df Model:                           6                                         \n",
            "Covariance Type:            nonrobust                                         \n",
            "=================================================================================\n",
            "                    coef    std err          t      P>|t|      [0.025      0.975]\n",
            "---------------------------------------------------------------------------------\n",
            "Intercept      1.672e+04   1.55e+04      1.081      0.282    -1.4e+04    4.74e+04\n",
            "rural[T.1]    -6729.4535   4157.533     -1.619      0.109    -1.5e+04    1517.975\n",
            "Quality        1.837e+04   7547.421      2.435      0.017    3402.935    3.33e+04\n",
            "Beds             -3.8674      6.754     -0.573      0.568     -17.266       9.532\n",
            "Teach          7406.8631   3497.396      2.118      0.037     468.970    1.43e+04\n",
            "median_income     0.0012      0.060      0.020      0.984      -0.117       0.119\n",
            "gini          -5336.2255   2.96e+04     -0.180      0.857   -6.41e+04    5.35e+04\n",
            "==============================================================================\n",
            "Omnibus:                       71.249   Durbin-Watson:                   1.479\n",
            "Prob(Omnibus):                  0.000   Jarque-Bera (JB):              355.722\n",
            "Skew:                           2.255   Prob(JB):                     5.70e-78\n",
            "Kurtosis:                      10.662   Cond. No.                     1.68e+06\n",
            "==============================================================================\n",
            "\n",
            "Warnings:\n",
            "[1] Standard Errors assume that the covariance matrix of the errors is correctly specified.\n",
            "[2] The condition number is large, 1.68e+06. This might indicate that there are\n",
            "strong multicollinearity or other numerical problems.\n"
          ]
        }
      ]
    },
    {
      "cell_type": "code",
      "execution_count": 10,
      "metadata": {
        "id": "0h7g8QZBbuOL",
        "outputId": "a138db7d-ae18-4f0e-a13b-a16b810654b5",
        "colab": {
          "base_uri": "https://localhost:8080/",
          "height": 323
        }
      },
      "outputs": [
        {
          "output_type": "display_data",
          "data": {
            "text/plain": [
              "<Figure size 432x288 with 2 Axes>"
            ],
            "image/png": "[encoded data removed]"
          },
          "metadata": {
            "needs_background": "light"
          }
        }
      ],
      "source": [
        "#making a heatmap of our variable correlations\n",
        "import seaborn as sns\n",
        "ax = sns.heatmap(\n",
        "    corr, \n",
        "    vmin=-1, vmax=1, center=0,\n",
        "    cmap=sns.diverging_palette(20, 220, n=200),\n",
        "    square=True\n",
        ")\n",
        "ax.set_xticklabels(\n",
        "    ax.get_xticklabels(),\n",
        "    rotation=45,\n",
        "    horizontalalignment='right'\n",
        ");"
      ]
    },
    {
      "cell_type": "code",
      "source": [
        "#boxplots - rural and proportion\n",
        "sns.boxplot( y=\"price_range\", data=data)\n",
        "#sns.stripplot(x=\"Quality\", y=\"price_range\", data=data, color='grey', alpha=.5)"
      ],
      "metadata": {
        "colab": {
          "base_uri": "https://localhost:8080/",
          "height": 269
        },
        "id": "BNtqSOCBiK5l",
        "outputId": "6641d008-4783-4597-dd92-34e8e58b7fdd"
      },
      "execution_count": 11,
      "outputs": [
        {
          "output_type": "execute_result",
          "data": {
            "text/plain": [
              "<matplotlib.axes._subplots.AxesSubplot at 0x7fc8accdb5d0>"
            ]
          },
          "metadata": {},
          "execution_count": 11
        },
        {
          "output_type": "display_data",
          "data": {
            "text/plain": [
              "<Figure size 432x288 with 1 Axes>"
            ],
            "image/png": "[encoded data removed]"
          },
          "metadata": {
            "needs_background": "light"
          }
        }
      ]
    },
    {
      "cell_type": "code",
      "source": [
        "import plotly.express as px\n",
        "import plotly\n",
        "\n",
        "fig = px.box(data, y=\"price_range\", \n",
        "             points='all', \n",
        "             labels={\"price_range\":\"Negotiated Price Range\"},\n",
        "             template=list(plotly.io.templates.keys())[2],\n",
        "             width=1000)\n",
        "\n",
        "fig.show()"
      ],
      "metadata": {
        "id": "Fn9FAlFNpGdM",
        "outputId": "ec624a2c-8805-4089-dd6e-bd26ef1805ca",
        "colab": {
          "base_uri": "https://localhost:8080/",
          "height": 542
        }
      },
      "execution_count": 53,
      "outputs": [
        {
          "output_type": "display_data",
          "data": {
            "text/html": [
              "<html>\n",
              "<head><meta charset=\"utf-8\" /></head>\n",
              "<body>\n",
              "    <div>            <script src=\"https://cdnjs.cloudflare.com/ajax/libs/mathjax/2.7.5/MathJax.js?config=TeX-AMS-MML_SVG\"></script><script type=\"text/javascript\">if (window.MathJax) {MathJax.Hub.Config({SVG: {font: \"STIX-Web\"}});}</script>                <script type=\"text/javascript\">window.PlotlyConfig = {MathJaxConfig: 'local'};</script>\n",
              "        <script src=\"https://cdn.plot.ly/plotly-2.8.3.min.js\"></script>                <div id=\"80f82db7-a735-4d16-8766-4d8305a606cd\" class=\"plotly-graph-div\" style=\"height:525px; width:1000px;\"></div>            <script type=\"text/javascript\">                                    window.PLOTLYENV=window.PLOTLYENV || {};                                    if (document.getElementById(\"80f82db7-a735-4d16-8766-4d8305a606cd\")) {                    Plotly.newPlot(                        \"80f82db7-a735-4d16-8766-4d8305a606cd\",                        [{\"alignmentgroup\":\"True\",\"boxpoints\":\"all\",\"hovertemplate\":\"Negotiated Price Range=%{y}<extra></extra>\",\"legendgroup\":\"\",\"marker\":{\"color\":\"#1F77B4\"},\"name\":\"\",\"notched\":false,\"offsetgroup\":\"\",\"orientation\":\"v\",\"showlegend\":false,\"x0\":\" \",\"xaxis\":\"x\",\"y\":[13194.0,3691.0,2999.76,4244.7,10238.71,14258.34,20400.28,19452.32,18562.36,20400.0,6960.0,6900.0,6900.0,1085.0,36849.63,4432.2,20776.90715,19063.0,20047.039999999997,42785.77,83030.9,41580.0,24700.4,83030.9,25277.0,29501.22,10798.61,29501.22,92.95999999999913,1246.5,8465.95,8465.95,593.9099999999999,407.5,15590.210000000001,12171.86,14410.68,9746.129999999997,6312.639999999999,18361.61,1710.0700000000015,15308.01,12222.439999999999,8853.6315,40163.8075178571,6555.0,11296.109999999999,11636.11,18090.260000000002,2906.64,15759.66,12507.42,1221.0,1651.949999999999,13586.18,12727.900000000001,490.8299999999999,8656.56,1504.4099999999999,5869.09,5050.91,8620.91,13539.84,8482.06,9948.68,12230.689999999999,9274.13,5812.68,17779.43,17319.0,21696.0,20289.0,25958.0,35016.0,24076.0,12284.26,12307.210000000001,4454.87,11778.789712400001,8267.594506000001,4961.849999999999,3783.7316676,37034.0,18594.0,41081.7,38795.778600000005,8463.0,9429.0,8206.0,8449.0,8496.0,20776.91,11177.78,9405.41,17221.11,9121.79,9033.0,8718.24,4663.49,10873.029999999999,12102.95,6650.9800000000005,26064.28,16540.23257805755,54113.34,108130.0,11005.0],\"y0\":\" \",\"yaxis\":\"y\",\"type\":\"box\"}],                        {\"template\":{\"data\":{\"barpolar\":[{\"marker\":{\"line\":{\"color\":\"white\",\"width\":0.5},\"pattern\":{\"fillmode\":\"overlay\",\"size\":10,\"solidity\":0.2}},\"type\":\"barpolar\"}],\"bar\":[{\"error_x\":{\"color\":\"rgb(36,36,36)\"},\"error_y\":{\"color\":\"rgb(36,36,36)\"},\"marker\":{\"line\":{\"color\":\"white\",\"width\":0.5},\"pattern\":{\"fillmode\":\"overlay\",\"size\":10,\"solidity\":0.2}},\"type\":\"bar\"}],\"carpet\":[{\"aaxis\":{\"endlinecolor\":\"rgb(36,36,36)\",\"gridcolor\":\"white\",\"linecolor\":\"white\",\"minorgridcolor\":\"white\",\"startlinecolor\":\"rgb(36,36,36)\"},\"baxis\":{\"endlinecolor\":\"rgb(36,36,36)\",\"gridcolor\":\"white\",\"linecolor\":\"white\",\"minorgridcolor\":\"white\",\"startlinecolor\":\"rgb(36,36,36)\"},\"type\":\"carpet\"}],\"choropleth\":[{\"colorbar\":{\"outlinewidth\":1,\"tickcolor\":\"rgb(36,36,36)\",\"ticks\":\"outside\"},\"type\":\"choropleth\"}],\"contourcarpet\":[{\"colorbar\":{\"outlinewidth\":1,\"tickcolor\":\"rgb(36,36,36)\",\"ticks\":\"outside\"},\"type\":\"contourcarpet\"}],\"contour\":[{\"colorbar\":{\"outlinewidth\":1,\"tickcolor\":\"rgb(36,36,36)\",\"ticks\":\"outside\"},\"colorscale\":[[0.0,\"#440154\"],[0.1111111111111111,\"#482878\"],[0.2222222222222222,\"#3e4989\"],[0.3333333333333333,\"#31688e\"],[0.4444444444444444,\"#26828e\"],[0.5555555555555556,\"#1f9e89\"],[0.6666666666666666,\"#35b779\"],[0.7777777777777778,\"#6ece58\"],[0.8888888888888888,\"#b5de2b\"],[1.0,\"#fde725\"]],\"type\":\"contour\"}],\"heatmapgl\":[{\"colorbar\":{\"outlinewidth\":1,\"tickcolor\":\"rgb(36,36,36)\",\"ticks\":\"outside\"},\"colorscale\":[[0.0,\"#440154\"],[0.1111111111111111,\"#482878\"],[0.2222222222222222,\"#3e4989\"],[0.3333333333333333,\"#31688e\"],[0.4444444444444444,\"#26828e\"],[0.5555555555555556,\"#1f9e89\"],[0.6666666666666666,\"#35b779\"],[0.7777777777777778,\"#6ece58\"],[0.8888888888888888,\"#b5de2b\"],[1.0,\"#fde725\"]],\"type\":\"heatmapgl\"}],\"heatmap\":[{\"colorbar\":{\"outlinewidth\":1,\"tickcolor\":\"rgb(36,36,36)\",\"ticks\":\"outside\"},\"colorscale\":[[0.0,\"#440154\"],[0.1111111111111111,\"#482878\"],[0.2222222222222222,\"#3e4989\"],[0.3333333333333333,\"#31688e\"],[0.4444444444444444,\"#26828e\"],[0.5555555555555556,\"#1f9e89\"],[0.6666666666666666,\"#35b779\"],[0.7777777777777778,\"#6ece58\"],[0.8888888888888888,\"#b5de2b\"],[1.0,\"#fde725\"]],\"type\":\"heatmap\"}],\"histogram2dcontour\":[{\"colorbar\":{\"outlinewidth\":1,\"tickcolor\":\"rgb(36,36,36)\",\"ticks\":\"outside\"},\"colorscale\":[[0.0,\"#440154\"],[0.1111111111111111,\"#482878\"],[0.2222222222222222,\"#3e4989\"],[0.3333333333333333,\"#31688e\"],[0.4444444444444444,\"#26828e\"],[0.5555555555555556,\"#1f9e89\"],[0.6666666666666666,\"#35b779\"],[0.7777777777777778,\"#6ece58\"],[0.8888888888888888,\"#b5de2b\"],[1.0,\"#fde725\"]],\"type\":\"histogram2dcontour\"}],\"histogram2d\":[{\"colorbar\":{\"outlinewidth\":1,\"tickcolor\":\"rgb(36,36,36)\",\"ticks\":\"outside\"},\"colorscale\":[[0.0,\"#440154\"],[0.1111111111111111,\"#482878\"],[0.2222222222222222,\"#3e4989\"],[0.3333333333333333,\"#31688e\"],[0.4444444444444444,\"#26828e\"],[0.5555555555555556,\"#1f9e89\"],[0.6666666666666666,\"#35b779\"],[0.7777777777777778,\"#6ece58\"],[0.8888888888888888,\"#b5de2b\"],[1.0,\"#fde725\"]],\"type\":\"histogram2d\"}],\"histogram\":[{\"marker\":{\"line\":{\"color\":\"white\",\"width\":0.6}},\"type\":\"histogram\"}],\"mesh3d\":[{\"colorbar\":{\"outlinewidth\":1,\"tickcolor\":\"rgb(36,36,36)\",\"ticks\":\"outside\"},\"type\":\"mesh3d\"}],\"parcoords\":[{\"line\":{\"colorbar\":{\"outlinewidth\":1,\"tickcolor\":\"rgb(36,36,36)\",\"ticks\":\"outside\"}},\"type\":\"parcoords\"}],\"pie\":[{\"automargin\":true,\"type\":\"pie\"}],\"scatter3d\":[{\"line\":{\"colorbar\":{\"outlinewidth\":1,\"tickcolor\":\"rgb(36,36,36)\",\"ticks\":\"outside\"}},\"marker\":{\"colorbar\":{\"outlinewidth\":1,\"tickcolor\":\"rgb(36,36,36)\",\"ticks\":\"outside\"}},\"type\":\"scatter3d\"}],\"scattercarpet\":[{\"marker\":{\"colorbar\":{\"outlinewidth\":1,\"tickcolor\":\"rgb(36,36,36)\",\"ticks\":\"outside\"}},\"type\":\"scattercarpet\"}],\"scattergeo\":[{\"marker\":{\"colorbar\":{\"outlinewidth\":1,\"tickcolor\":\"rgb(36,36,36)\",\"ticks\":\"outside\"}},\"type\":\"scattergeo\"}],\"scattergl\":[{\"marker\":{\"colorbar\":{\"outlinewidth\":1,\"tickcolor\":\"rgb(36,36,36)\",\"ticks\":\"outside\"}},\"type\":\"scattergl\"}],\"scattermapbox\":[{\"marker\":{\"colorbar\":{\"outlinewidth\":1,\"tickcolor\":\"rgb(36,36,36)\",\"ticks\":\"outside\"}},\"type\":\"scattermapbox\"}],\"scatterpolargl\":[{\"marker\":{\"colorbar\":{\"outlinewidth\":1,\"tickcolor\":\"rgb(36,36,36)\",\"ticks\":\"outside\"}},\"type\":\"scatterpolargl\"}],\"scatterpolar\":[{\"marker\":{\"colorbar\":{\"outlinewidth\":1,\"tickcolor\":\"rgb(36,36,36)\",\"ticks\":\"outside\"}},\"type\":\"scatterpolar\"}],\"scatter\":[{\"marker\":{\"colorbar\":{\"outlinewidth\":1,\"tickcolor\":\"rgb(36,36,36)\",\"ticks\":\"outside\"}},\"type\":\"scatter\"}],\"scatterternary\":[{\"marker\":{\"colorbar\":{\"outlinewidth\":1,\"tickcolor\":\"rgb(36,36,36)\",\"ticks\":\"outside\"}},\"type\":\"scatterternary\"}],\"surface\":[{\"colorbar\":{\"outlinewidth\":1,\"tickcolor\":\"rgb(36,36,36)\",\"ticks\":\"outside\"},\"colorscale\":[[0.0,\"#440154\"],[0.1111111111111111,\"#482878\"],[0.2222222222222222,\"#3e4989\"],[0.3333333333333333,\"#31688e\"],[0.4444444444444444,\"#26828e\"],[0.5555555555555556,\"#1f9e89\"],[0.6666666666666666,\"#35b779\"],[0.7777777777777778,\"#6ece58\"],[0.8888888888888888,\"#b5de2b\"],[1.0,\"#fde725\"]],\"type\":\"surface\"}],\"table\":[{\"cells\":{\"fill\":{\"color\":\"rgb(237,237,237)\"},\"line\":{\"color\":\"white\"}},\"header\":{\"fill\":{\"color\":\"rgb(217,217,217)\"},\"line\":{\"color\":\"white\"}},\"type\":\"table\"}]},\"layout\":{\"annotationdefaults\":{\"arrowhead\":0,\"arrowwidth\":1},\"autotypenumbers\":\"strict\",\"coloraxis\":{\"colorbar\":{\"outlinewidth\":1,\"tickcolor\":\"rgb(36,36,36)\",\"ticks\":\"outside\"}},\"colorscale\":{\"diverging\":[[0.0,\"rgb(103,0,31)\"],[0.1,\"rgb(178,24,43)\"],[0.2,\"rgb(214,96,77)\"],[0.3,\"rgb(244,165,130)\"],[0.4,\"rgb(253,219,199)\"],[0.5,\"rgb(247,247,247)\"],[0.6,\"rgb(209,229,240)\"],[0.7,\"rgb(146,197,222)\"],[0.8,\"rgb(67,147,195)\"],[0.9,\"rgb(33,102,172)\"],[1.0,\"rgb(5,48,97)\"]],\"sequential\":[[0.0,\"#440154\"],[0.1111111111111111,\"#482878\"],[0.2222222222222222,\"#3e4989\"],[0.3333333333333333,\"#31688e\"],[0.4444444444444444,\"#26828e\"],[0.5555555555555556,\"#1f9e89\"],[0.6666666666666666,\"#35b779\"],[0.7777777777777778,\"#6ece58\"],[0.8888888888888888,\"#b5de2b\"],[1.0,\"#fde725\"]],\"sequentialminus\":[[0.0,\"#440154\"],[0.1111111111111111,\"#482878\"],[0.2222222222222222,\"#3e4989\"],[0.3333333333333333,\"#31688e\"],[0.4444444444444444,\"#26828e\"],[0.5555555555555556,\"#1f9e89\"],[0.6666666666666666,\"#35b779\"],[0.7777777777777778,\"#6ece58\"],[0.8888888888888888,\"#b5de2b\"],[1.0,\"#fde725\"]]},\"colorway\":[\"#1F77B4\",\"#FF7F0E\",\"#2CA02C\",\"#D62728\",\"#9467BD\",\"#8C564B\",\"#E377C2\",\"#7F7F7F\",\"#BCBD22\",\"#17BECF\"],\"font\":{\"color\":\"rgb(36,36,36)\"},\"geo\":{\"bgcolor\":\"white\",\"lakecolor\":\"white\",\"landcolor\":\"white\",\"showlakes\":true,\"showland\":true,\"subunitcolor\":\"white\"},\"hoverlabel\":{\"align\":\"left\"},\"hovermode\":\"closest\",\"mapbox\":{\"style\":\"light\"},\"paper_bgcolor\":\"white\",\"plot_bgcolor\":\"white\",\"polar\":{\"angularaxis\":{\"gridcolor\":\"rgb(232,232,232)\",\"linecolor\":\"rgb(36,36,36)\",\"showgrid\":false,\"showline\":true,\"ticks\":\"outside\"},\"bgcolor\":\"white\",\"radialaxis\":{\"gridcolor\":\"rgb(232,232,232)\",\"linecolor\":\"rgb(36,36,36)\",\"showgrid\":false,\"showline\":true,\"ticks\":\"outside\"}},\"scene\":{\"xaxis\":{\"backgroundcolor\":\"white\",\"gridcolor\":\"rgb(232,232,232)\",\"gridwidth\":2,\"linecolor\":\"rgb(36,36,36)\",\"showbackground\":true,\"showgrid\":false,\"showline\":true,\"ticks\":\"outside\",\"zeroline\":false,\"zerolinecolor\":\"rgb(36,36,36)\"},\"yaxis\":{\"backgroundcolor\":\"white\",\"gridcolor\":\"rgb(232,232,232)\",\"gridwidth\":2,\"linecolor\":\"rgb(36,36,36)\",\"showbackground\":true,\"showgrid\":false,\"showline\":true,\"ticks\":\"outside\",\"zeroline\":false,\"zerolinecolor\":\"rgb(36,36,36)\"},\"zaxis\":{\"backgroundcolor\":\"white\",\"gridcolor\":\"rgb(232,232,232)\",\"gridwidth\":2,\"linecolor\":\"rgb(36,36,36)\",\"showbackground\":true,\"showgrid\":false,\"showline\":true,\"ticks\":\"outside\",\"zeroline\":false,\"zerolinecolor\":\"rgb(36,36,36)\"}},\"shapedefaults\":{\"fillcolor\":\"black\",\"line\":{\"width\":0},\"opacity\":0.3},\"ternary\":{\"aaxis\":{\"gridcolor\":\"rgb(232,232,232)\",\"linecolor\":\"rgb(36,36,36)\",\"showgrid\":false,\"showline\":true,\"ticks\":\"outside\"},\"baxis\":{\"gridcolor\":\"rgb(232,232,232)\",\"linecolor\":\"rgb(36,36,36)\",\"showgrid\":false,\"showline\":true,\"ticks\":\"outside\"},\"bgcolor\":\"white\",\"caxis\":{\"gridcolor\":\"rgb(232,232,232)\",\"linecolor\":\"rgb(36,36,36)\",\"showgrid\":false,\"showline\":true,\"ticks\":\"outside\"}},\"title\":{\"x\":0.05},\"xaxis\":{\"automargin\":true,\"gridcolor\":\"rgb(232,232,232)\",\"linecolor\":\"rgb(36,36,36)\",\"showgrid\":false,\"showline\":true,\"ticks\":\"outside\",\"title\":{\"standoff\":15},\"zeroline\":false,\"zerolinecolor\":\"rgb(36,36,36)\"},\"yaxis\":{\"automargin\":true,\"gridcolor\":\"rgb(232,232,232)\",\"linecolor\":\"rgb(36,36,36)\",\"showgrid\":false,\"showline\":true,\"ticks\":\"outside\",\"title\":{\"standoff\":15},\"zeroline\":false,\"zerolinecolor\":\"rgb(36,36,36)\"}}},\"xaxis\":{\"anchor\":\"y\",\"domain\":[0.0,1.0]},\"yaxis\":{\"anchor\":\"x\",\"domain\":[0.0,1.0],\"title\":{\"text\":\"Negotiated Price Range\"}},\"legend\":{\"tracegroupgap\":0},\"margin\":{\"t\":60},\"boxmode\":\"group\",\"width\":1000},                        {\"responsive\": true}                    ).then(function(){\n",
              "                            \n",
              "var gd = document.getElementById('80f82db7-a735-4d16-8766-4d8305a606cd');\n",
              "var x = new MutationObserver(function (mutations, observer) {{\n",
              "        var display = window.getComputedStyle(gd).display;\n",
              "        if (!display || display === 'none') {{\n",
              "            console.log([gd, 'removed!']);\n",
              "            Plotly.purge(gd);\n",
              "            observer.disconnect();\n",
              "        }}\n",
              "}});\n",
              "\n",
              "// Listen for the removal of the full notebook cells\n",
              "var notebookContainer = gd.closest('#notebook-container');\n",
              "if (notebookContainer) {{\n",
              "    x.observe(notebookContainer, {childList: true});\n",
              "}}\n",
              "\n",
              "// Listen for the clearing of the current output cell\n",
              "var outputEl = gd.closest('.output');\n",
              "if (outputEl) {{\n",
              "    x.observe(outputEl, {childList: true});\n",
              "}}\n",
              "\n",
              "                        })                };                            </script>        </div>\n",
              "</body>\n",
              "</html>"
            ]
          },
          "metadata": {}
        }
      ]
    },
    {
      "cell_type": "code",
      "source": [
        "fig = px.box(data, y=\"Beds\", \n",
        "             points='all', \n",
        "             labels={\"Beds\":\"Beds\"},\n",
        "             template=list(plotly.io.templates.keys())[2],\n",
        "             width=1000)\n",
        "\n",
        "fig.show()"
      ],
      "metadata": {
        "id": "LMmN3bv-4n0M"
      },
      "execution_count": null,
      "outputs": []
    },
    {
      "cell_type": "code",
      "source": [
        "fig = px.box(data, y=\"gini\", \n",
        "             points='all', \n",
        "             labels={\"gini\":\"gini\"},\n",
        "             template=list(plotly.io.templates.keys())[2],\n",
        "             width=1000)\n",
        "\n",
        "fig.show()"
      ],
      "metadata": {
        "id": "FolxKONN8Let"
      },
      "execution_count": null,
      "outputs": []
    },
    {
      "cell_type": "code",
      "source": [
        "fig = px.box(data, y=\"median_income\", \n",
        "             points='all', \n",
        "             labels={\"median_income\":\"median_income\"},\n",
        "             template=list(plotly.io.templates.keys())[2],\n",
        "             width=1000)\n",
        "\n",
        "fig.show()"
      ],
      "metadata": {
        "id": "tZtHGq_R9sHx",
        "outputId": "4681d5bc-2b37-4bcc-f14a-b2cc2107da24",
        "colab": {
          "base_uri": "https://localhost:8080/",
          "height": 542
        }
      },
      "execution_count": 56,
      "outputs": [
        {
          "output_type": "display_data",
          "data": {
            "text/html": [
              "<html>\n",
              "<head><meta charset=\"utf-8\" /></head>\n",
              "<body>\n",
              "    <div>            <script src=\"https://cdnjs.cloudflare.com/ajax/libs/mathjax/2.7.5/MathJax.js?config=TeX-AMS-MML_SVG\"></script><script type=\"text/javascript\">if (window.MathJax) {MathJax.Hub.Config({SVG: {font: \"STIX-Web\"}});}</script>                <script type=\"text/javascript\">window.PlotlyConfig = {MathJaxConfig: 'local'};</script>\n",
              "        <script src=\"https://cdn.plot.ly/plotly-2.8.3.min.js\"></script>                <div id=\"ad605b57-499f-4193-9cf9-d7eda3c784fd\" class=\"plotly-graph-div\" style=\"height:525px; width:1000px;\"></div>            <script type=\"text/javascript\">                                    window.PLOTLYENV=window.PLOTLYENV || {};                                    if (document.getElementById(\"ad605b57-499f-4193-9cf9-d7eda3c784fd\")) {                    Plotly.newPlot(                        \"ad605b57-499f-4193-9cf9-d7eda3c784fd\",                        [{\"alignmentgroup\":\"True\",\"boxpoints\":\"all\",\"hovertemplate\":\"median_income=%{y}<extra></extra>\",\"legendgroup\":\"\",\"marker\":{\"color\":\"#1F77B4\"},\"name\":\"\",\"notched\":false,\"offsetgroup\":\"\",\"orientation\":\"v\",\"showlegend\":false,\"x0\":\" \",\"xaxis\":\"x\",\"y\":[78352,59045,127782,23509,102020,125458,113676,113676,70283,113676,125550,45248,119206,69034,59320,156280,86971,93583,57452,43567,54047,61318,91010,127500,64135,107106,77359,43327,47260,56514,57442,64280,76107,60078,57664,58590,62219,49744,54159,84052,49961,54256,42582,53743,79127,48774,67324,39091,88010,66971,52297,51591,55901,61949,75809,56646,51708,42537,57160,128377,34886,93262,27582,72662,51450,67156,53634,51517,63367,92418,101305,85234,94985,97976,50007,74960,98467,51673,43377,38082,39041,40170,55832,47971,61213,70448,136218,79632,85719,118173,116707,61000,47513,54564,44842,62254,87080,44195,45149,74930,65143,57872,108413,44538,124647,28603,33801],\"y0\":\" \",\"yaxis\":\"y\",\"type\":\"box\"}],                        {\"template\":{\"data\":{\"barpolar\":[{\"marker\":{\"line\":{\"color\":\"white\",\"width\":0.5},\"pattern\":{\"fillmode\":\"overlay\",\"size\":10,\"solidity\":0.2}},\"type\":\"barpolar\"}],\"bar\":[{\"error_x\":{\"color\":\"rgb(36,36,36)\"},\"error_y\":{\"color\":\"rgb(36,36,36)\"},\"marker\":{\"line\":{\"color\":\"white\",\"width\":0.5},\"pattern\":{\"fillmode\":\"overlay\",\"size\":10,\"solidity\":0.2}},\"type\":\"bar\"}],\"carpet\":[{\"aaxis\":{\"endlinecolor\":\"rgb(36,36,36)\",\"gridcolor\":\"white\",\"linecolor\":\"white\",\"minorgridcolor\":\"white\",\"startlinecolor\":\"rgb(36,36,36)\"},\"baxis\":{\"endlinecolor\":\"rgb(36,36,36)\",\"gridcolor\":\"white\",\"linecolor\":\"white\",\"minorgridcolor\":\"white\",\"startlinecolor\":\"rgb(36,36,36)\"},\"type\":\"carpet\"}],\"choropleth\":[{\"colorbar\":{\"outlinewidth\":1,\"tickcolor\":\"rgb(36,36,36)\",\"ticks\":\"outside\"},\"type\":\"choropleth\"}],\"contourcarpet\":[{\"colorbar\":{\"outlinewidth\":1,\"tickcolor\":\"rgb(36,36,36)\",\"ticks\":\"outside\"},\"type\":\"contourcarpet\"}],\"contour\":[{\"colorbar\":{\"outlinewidth\":1,\"tickcolor\":\"rgb(36,36,36)\",\"ticks\":\"outside\"},\"colorscale\":[[0.0,\"#440154\"],[0.1111111111111111,\"#482878\"],[0.2222222222222222,\"#3e4989\"],[0.3333333333333333,\"#31688e\"],[0.4444444444444444,\"#26828e\"],[0.5555555555555556,\"#1f9e89\"],[0.6666666666666666,\"#35b779\"],[0.7777777777777778,\"#6ece58\"],[0.8888888888888888,\"#b5de2b\"],[1.0,\"#fde725\"]],\"type\":\"contour\"}],\"heatmapgl\":[{\"colorbar\":{\"outlinewidth\":1,\"tickcolor\":\"rgb(36,36,36)\",\"ticks\":\"outside\"},\"colorscale\":[[0.0,\"#440154\"],[0.1111111111111111,\"#482878\"],[0.2222222222222222,\"#3e4989\"],[0.3333333333333333,\"#31688e\"],[0.4444444444444444,\"#26828e\"],[0.5555555555555556,\"#1f9e89\"],[0.6666666666666666,\"#35b779\"],[0.7777777777777778,\"#6ece58\"],[0.8888888888888888,\"#b5de2b\"],[1.0,\"#fde725\"]],\"type\":\"heatmapgl\"}],\"heatmap\":[{\"colorbar\":{\"outlinewidth\":1,\"tickcolor\":\"rgb(36,36,36)\",\"ticks\":\"outside\"},\"colorscale\":[[0.0,\"#440154\"],[0.1111111111111111,\"#482878\"],[0.2222222222222222,\"#3e4989\"],[0.3333333333333333,\"#31688e\"],[0.4444444444444444,\"#26828e\"],[0.5555555555555556,\"#1f9e89\"],[0.6666666666666666,\"#35b779\"],[0.7777777777777778,\"#6ece58\"],[0.8888888888888888,\"#b5de2b\"],[1.0,\"#fde725\"]],\"type\":\"heatmap\"}],\"histogram2dcontour\":[{\"colorbar\":{\"outlinewidth\":1,\"tickcolor\":\"rgb(36,36,36)\",\"ticks\":\"outside\"},\"colorscale\":[[0.0,\"#440154\"],[0.1111111111111111,\"#482878\"],[0.2222222222222222,\"#3e4989\"],[0.3333333333333333,\"#31688e\"],[0.4444444444444444,\"#26828e\"],[0.5555555555555556,\"#1f9e89\"],[0.6666666666666666,\"#35b779\"],[0.7777777777777778,\"#6ece58\"],[0.8888888888888888,\"#b5de2b\"],[1.0,\"#fde725\"]],\"type\":\"histogram2dcontour\"}],\"histogram2d\":[{\"colorbar\":{\"outlinewidth\":1,\"tickcolor\":\"rgb(36,36,36)\",\"ticks\":\"outside\"},\"colorscale\":[[0.0,\"#440154\"],[0.1111111111111111,\"#482878\"],[0.2222222222222222,\"#3e4989\"],[0.3333333333333333,\"#31688e\"],[0.4444444444444444,\"#26828e\"],[0.5555555555555556,\"#1f9e89\"],[0.6666666666666666,\"#35b779\"],[0.7777777777777778,\"#6ece58\"],[0.8888888888888888,\"#b5de2b\"],[1.0,\"#fde725\"]],\"type\":\"histogram2d\"}],\"histogram\":[{\"marker\":{\"line\":{\"color\":\"white\",\"width\":0.6}},\"type\":\"histogram\"}],\"mesh3d\":[{\"colorbar\":{\"outlinewidth\":1,\"tickcolor\":\"rgb(36,36,36)\",\"ticks\":\"outside\"},\"type\":\"mesh3d\"}],\"parcoords\":[{\"line\":{\"colorbar\":{\"outlinewidth\":1,\"tickcolor\":\"rgb(36,36,36)\",\"ticks\":\"outside\"}},\"type\":\"parcoords\"}],\"pie\":[{\"automargin\":true,\"type\":\"pie\"}],\"scatter3d\":[{\"line\":{\"colorbar\":{\"outlinewidth\":1,\"tickcolor\":\"rgb(36,36,36)\",\"ticks\":\"outside\"}},\"marker\":{\"colorbar\":{\"outlinewidth\":1,\"tickcolor\":\"rgb(36,36,36)\",\"ticks\":\"outside\"}},\"type\":\"scatter3d\"}],\"scattercarpet\":[{\"marker\":{\"colorbar\":{\"outlinewidth\":1,\"tickcolor\":\"rgb(36,36,36)\",\"ticks\":\"outside\"}},\"type\":\"scattercarpet\"}],\"scattergeo\":[{\"marker\":{\"colorbar\":{\"outlinewidth\":1,\"tickcolor\":\"rgb(36,36,36)\",\"ticks\":\"outside\"}},\"type\":\"scattergeo\"}],\"scattergl\":[{\"marker\":{\"colorbar\":{\"outlinewidth\":1,\"tickcolor\":\"rgb(36,36,36)\",\"ticks\":\"outside\"}},\"type\":\"scattergl\"}],\"scattermapbox\":[{\"marker\":{\"colorbar\":{\"outlinewidth\":1,\"tickcolor\":\"rgb(36,36,36)\",\"ticks\":\"outside\"}},\"type\":\"scattermapbox\"}],\"scatterpolargl\":[{\"marker\":{\"colorbar\":{\"outlinewidth\":1,\"tickcolor\":\"rgb(36,36,36)\",\"ticks\":\"outside\"}},\"type\":\"scatterpolargl\"}],\"scatterpolar\":[{\"marker\":{\"colorbar\":{\"outlinewidth\":1,\"tickcolor\":\"rgb(36,36,36)\",\"ticks\":\"outside\"}},\"type\":\"scatterpolar\"}],\"scatter\":[{\"marker\":{\"colorbar\":{\"outlinewidth\":1,\"tickcolor\":\"rgb(36,36,36)\",\"ticks\":\"outside\"}},\"type\":\"scatter\"}],\"scatterternary\":[{\"marker\":{\"colorbar\":{\"outlinewidth\":1,\"tickcolor\":\"rgb(36,36,36)\",\"ticks\":\"outside\"}},\"type\":\"scatterternary\"}],\"surface\":[{\"colorbar\":{\"outlinewidth\":1,\"tickcolor\":\"rgb(36,36,36)\",\"ticks\":\"outside\"},\"colorscale\":[[0.0,\"#440154\"],[0.1111111111111111,\"#482878\"],[0.2222222222222222,\"#3e4989\"],[0.3333333333333333,\"#31688e\"],[0.4444444444444444,\"#26828e\"],[0.5555555555555556,\"#1f9e89\"],[0.6666666666666666,\"#35b779\"],[0.7777777777777778,\"#6ece58\"],[0.8888888888888888,\"#b5de2b\"],[1.0,\"#fde725\"]],\"type\":\"surface\"}],\"table\":[{\"cells\":{\"fill\":{\"color\":\"rgb(237,237,237)\"},\"line\":{\"color\":\"white\"}},\"header\":{\"fill\":{\"color\":\"rgb(217,217,217)\"},\"line\":{\"color\":\"white\"}},\"type\":\"table\"}]},\"layout\":{\"annotationdefaults\":{\"arrowhead\":0,\"arrowwidth\":1},\"autotypenumbers\":\"strict\",\"coloraxis\":{\"colorbar\":{\"outlinewidth\":1,\"tickcolor\":\"rgb(36,36,36)\",\"ticks\":\"outside\"}},\"colorscale\":{\"diverging\":[[0.0,\"rgb(103,0,31)\"],[0.1,\"rgb(178,24,43)\"],[0.2,\"rgb(214,96,77)\"],[0.3,\"rgb(244,165,130)\"],[0.4,\"rgb(253,219,199)\"],[0.5,\"rgb(247,247,247)\"],[0.6,\"rgb(209,229,240)\"],[0.7,\"rgb(146,197,222)\"],[0.8,\"rgb(67,147,195)\"],[0.9,\"rgb(33,102,172)\"],[1.0,\"rgb(5,48,97)\"]],\"sequential\":[[0.0,\"#440154\"],[0.1111111111111111,\"#482878\"],[0.2222222222222222,\"#3e4989\"],[0.3333333333333333,\"#31688e\"],[0.4444444444444444,\"#26828e\"],[0.5555555555555556,\"#1f9e89\"],[0.6666666666666666,\"#35b779\"],[0.7777777777777778,\"#6ece58\"],[0.8888888888888888,\"#b5de2b\"],[1.0,\"#fde725\"]],\"sequentialminus\":[[0.0,\"#440154\"],[0.1111111111111111,\"#482878\"],[0.2222222222222222,\"#3e4989\"],[0.3333333333333333,\"#31688e\"],[0.4444444444444444,\"#26828e\"],[0.5555555555555556,\"#1f9e89\"],[0.6666666666666666,\"#35b779\"],[0.7777777777777778,\"#6ece58\"],[0.8888888888888888,\"#b5de2b\"],[1.0,\"#fde725\"]]},\"colorway\":[\"#1F77B4\",\"#FF7F0E\",\"#2CA02C\",\"#D62728\",\"#9467BD\",\"#8C564B\",\"#E377C2\",\"#7F7F7F\",\"#BCBD22\",\"#17BECF\"],\"font\":{\"color\":\"rgb(36,36,36)\"},\"geo\":{\"bgcolor\":\"white\",\"lakecolor\":\"white\",\"landcolor\":\"white\",\"showlakes\":true,\"showland\":true,\"subunitcolor\":\"white\"},\"hoverlabel\":{\"align\":\"left\"},\"hovermode\":\"closest\",\"mapbox\":{\"style\":\"light\"},\"paper_bgcolor\":\"white\",\"plot_bgcolor\":\"white\",\"polar\":{\"angularaxis\":{\"gridcolor\":\"rgb(232,232,232)\",\"linecolor\":\"rgb(36,36,36)\",\"showgrid\":false,\"showline\":true,\"ticks\":\"outside\"},\"bgcolor\":\"white\",\"radialaxis\":{\"gridcolor\":\"rgb(232,232,232)\",\"linecolor\":\"rgb(36,36,36)\",\"showgrid\":false,\"showline\":true,\"ticks\":\"outside\"}},\"scene\":{\"xaxis\":{\"backgroundcolor\":\"white\",\"gridcolor\":\"rgb(232,232,232)\",\"gridwidth\":2,\"linecolor\":\"rgb(36,36,36)\",\"showbackground\":true,\"showgrid\":false,\"showline\":true,\"ticks\":\"outside\",\"zeroline\":false,\"zerolinecolor\":\"rgb(36,36,36)\"},\"yaxis\":{\"backgroundcolor\":\"white\",\"gridcolor\":\"rgb(232,232,232)\",\"gridwidth\":2,\"linecolor\":\"rgb(36,36,36)\",\"showbackground\":true,\"showgrid\":false,\"showline\":true,\"ticks\":\"outside\",\"zeroline\":false,\"zerolinecolor\":\"rgb(36,36,36)\"},\"zaxis\":{\"backgroundcolor\":\"white\",\"gridcolor\":\"rgb(232,232,232)\",\"gridwidth\":2,\"linecolor\":\"rgb(36,36,36)\",\"showbackground\":true,\"showgrid\":false,\"showline\":true,\"ticks\":\"outside\",\"zeroline\":false,\"zerolinecolor\":\"rgb(36,36,36)\"}},\"shapedefaults\":{\"fillcolor\":\"black\",\"line\":{\"width\":0},\"opacity\":0.3},\"ternary\":{\"aaxis\":{\"gridcolor\":\"rgb(232,232,232)\",\"linecolor\":\"rgb(36,36,36)\",\"showgrid\":false,\"showline\":true,\"ticks\":\"outside\"},\"baxis\":{\"gridcolor\":\"rgb(232,232,232)\",\"linecolor\":\"rgb(36,36,36)\",\"showgrid\":false,\"showline\":true,\"ticks\":\"outside\"},\"bgcolor\":\"white\",\"caxis\":{\"gridcolor\":\"rgb(232,232,232)\",\"linecolor\":\"rgb(36,36,36)\",\"showgrid\":false,\"showline\":true,\"ticks\":\"outside\"}},\"title\":{\"x\":0.05},\"xaxis\":{\"automargin\":true,\"gridcolor\":\"rgb(232,232,232)\",\"linecolor\":\"rgb(36,36,36)\",\"showgrid\":false,\"showline\":true,\"ticks\":\"outside\",\"title\":{\"standoff\":15},\"zeroline\":false,\"zerolinecolor\":\"rgb(36,36,36)\"},\"yaxis\":{\"automargin\":true,\"gridcolor\":\"rgb(232,232,232)\",\"linecolor\":\"rgb(36,36,36)\",\"showgrid\":false,\"showline\":true,\"ticks\":\"outside\",\"title\":{\"standoff\":15},\"zeroline\":false,\"zerolinecolor\":\"rgb(36,36,36)\"}}},\"xaxis\":{\"anchor\":\"y\",\"domain\":[0.0,1.0]},\"yaxis\":{\"anchor\":\"x\",\"domain\":[0.0,1.0],\"title\":{\"text\":\"median_income\"}},\"legend\":{\"tracegroupgap\":0},\"margin\":{\"t\":60},\"boxmode\":\"group\",\"width\":1000},                        {\"responsive\": true}                    ).then(function(){\n",
              "                            \n",
              "var gd = document.getElementById('ad605b57-499f-4193-9cf9-d7eda3c784fd');\n",
              "var x = new MutationObserver(function (mutations, observer) {{\n",
              "        var display = window.getComputedStyle(gd).display;\n",
              "        if (!display || display === 'none') {{\n",
              "            console.log([gd, 'removed!']);\n",
              "            Plotly.purge(gd);\n",
              "            observer.disconnect();\n",
              "        }}\n",
              "}});\n",
              "\n",
              "// Listen for the removal of the full notebook cells\n",
              "var notebookContainer = gd.closest('#notebook-container');\n",
              "if (notebookContainer) {{\n",
              "    x.observe(notebookContainer, {childList: true});\n",
              "}}\n",
              "\n",
              "// Listen for the clearing of the current output cell\n",
              "var outputEl = gd.closest('.output');\n",
              "if (outputEl) {{\n",
              "    x.observe(outputEl, {childList: true});\n",
              "}}\n",
              "\n",
              "                        })                };                            </script>        </div>\n",
              "</body>\n",
              "</html>"
            ]
          },
          "metadata": {}
        }
      ]
    },
    {
      "cell_type": "code",
      "execution_count": 12,
      "metadata": {
        "id": "U-bVUGn6buOb",
        "outputId": "f26a7f59-2b92-40a6-a9d8-3928d6c7b3e8",
        "colab": {
          "base_uri": "https://localhost:8080/",
          "height": 296
        }
      },
      "outputs": [
        {
          "output_type": "execute_result",
          "data": {
            "text/plain": [
              "<matplotlib.axes._subplots.AxesSubplot at 0x7fc8ac7fe1d0>"
            ]
          },
          "metadata": {},
          "execution_count": 12
        },
        {
          "output_type": "display_data",
          "data": {
            "text/plain": [
              "<Figure size 432x288 with 1 Axes>"
            ],
            "image/png": "[encoded data removed]"
          },
          "metadata": {
            "needs_background": "light"
          }
        }
      ],
      "source": [
        "#boxplots - rural and proportion\n",
        "sns.boxplot(x=\"Teach\", y=\"price_range\", data=data)\n",
        "sns.stripplot(x=\"Teach\", y=\"price_range\", data=data, color='grey', alpha=.5)"
      ]
    },
    {
      "cell_type": "code",
      "execution_count": 13,
      "metadata": {
        "id": "BEMShuqBbuON",
        "outputId": "c985d8c6-d500-42d2-bdfe-cdadcc362588",
        "colab": {
          "base_uri": "https://localhost:8080/",
          "height": 441
        }
      },
      "outputs": [
        {
          "output_type": "stream",
          "name": "stdout",
          "text": [
            "count    108.000000\n",
            "mean       4.857581\n",
            "std        9.588196\n",
            "min        1.010101\n",
            "25%        2.061017\n",
            "50%        3.077300\n",
            "75%        4.744817\n",
            "max       97.958103\n",
            "Name: proportion, dtype: float64\n"
          ]
        },
        {
          "output_type": "display_data",
          "data": {
            "text/plain": [
              "<Figure size 432x288 with 1 Axes>"
            ],
            "image/png": "[encoded data removed]"
          },
          "metadata": {}
        }
      ],
      "source": [
        "#creating a histogram function and visualizing proportion\n",
        "import matplotlib.pyplot as plt\n",
        "def histogram_function(variable):\n",
        "    sns.set(style=\"darkgrid\")\n",
        "    sns\n",
        "    sns.histplot(data=data, x=variable)\n",
        "    plt.show\n",
        "    stats_numeric = data[variable].describe()\n",
        "    print(stats_numeric)\n",
        "\n",
        "histogram_function(\"proportion\")    "
      ]
    },
    {
      "cell_type": "code",
      "execution_count": 14,
      "metadata": {
        "id": "06lyJkyobuON",
        "outputId": "9e6d4ca6-5bf0-4092-915c-d2976d7a20f1",
        "colab": {
          "base_uri": "https://localhost:8080/",
          "height": 162
        }
      },
      "outputs": [
        {
          "output_type": "execute_result",
          "data": {
            "text/plain": [
              "          Hospital_name  Drg_code  Min_contracted  Max_contracted State  \\\n",
              "68  St. Mary's Hospital       788          162.54        15922.11    GA   \n",
              "\n",
              "      Zip  Quality  Beds  Public_flag  Teach  median_income    gini   max_min  \\\n",
              "68  30606        0   181            0      0          50482  0.5722  15759.57   \n",
              "\n",
              "    proportion  ruca rural_code rural  price_range  mid_point  \n",
              "68   97.958103   1.0      urban     0     15759.57   8042.325  "
            ],
            "text/html": [
              "\n",
              "  <div id=\"df-952d4a44-37cf-4f98-acfb-ccc0dd7a300d\">\n",
              "    <div class=\"colab-df-container\">\n",
              "      <div>\n",
              "<style scoped>\n",
              "    .dataframe tbody tr th:only-of-type {\n",
              "        vertical-align: middle;\n",
              "    }\n",
              "\n",
              "    .dataframe tbody tr th {\n",
              "        vertical-align: top;\n",
              "    }\n",
              "\n",
              "    .dataframe thead th {\n",
              "        text-align: right;\n",
              "    }\n",
              "</style>\n",
              "<table border=\"1\" class=\"dataframe\">\n",
              "  <thead>\n",
              "    <tr style=\"text-align: right;\">\n",
              "      <th></th>\n",
              "      <th>Hospital_name</th>\n",
              "      <th>Drg_code</th>\n",
              "      <th>Min_contracted</th>\n",
              "      <th>Max_contracted</th>\n",
              "      <th>State</th>\n",
              "      <th>Zip</th>\n",
              "      <th>Quality</th>\n",
              "      <th>Beds</th>\n",
              "      <th>Public_flag</th>\n",
              "      <th>Teach</th>\n",
              "      <th>median_income</th>\n",
              "      <th>gini</th>\n",
              "      <th>max_min</th>\n",
              "      <th>proportion</th>\n",
              "      <th>ruca</th>\n",
              "      <th>rural_code</th>\n",
              "      <th>rural</th>\n",
              "      <th>price_range</th>\n",
              "      <th>mid_point</th>\n",
              "    </tr>\n",
              "  </thead>\n",
              "  <tbody>\n",
              "    <tr>\n",
              "      <th>68</th>\n",
              "      <td>St. Mary's Hospital</td>\n",
              "      <td>788</td>\n",
              "      <td>162.54</td>\n",
              "      <td>15922.11</td>\n",
              "      <td>GA</td>\n",
              "      <td>30606</td>\n",
              "      <td>0</td>\n",
              "      <td>181</td>\n",
              "      <td>0</td>\n",
              "      <td>0</td>\n",
              "      <td>50482</td>\n",
              "      <td>0.5722</td>\n",
              "      <td>15759.57</td>\n",
              "      <td>97.958103</td>\n",
              "      <td>1.0</td>\n",
              "      <td>urban</td>\n",
              "      <td>0</td>\n",
              "      <td>15759.57</td>\n",
              "      <td>8042.325</td>\n",
              "    </tr>\n",
              "  </tbody>\n",
              "</table>\n",
              "</div>\n",
              "      <button class=\"colab-df-convert\" onclick=\"convertToInteractive('df-952d4a44-37cf-4f98-acfb-ccc0dd7a300d')\"\n",
              "              title=\"Convert this dataframe to an interactive table.\"\n",
              "              style=\"display:none;\">\n",
              "        \n",
              "  <svg xmlns=\"http://www.w3.org/2000/svg\" height=\"24px\"viewBox=\"0 0 24 24\"\n",
              "       width=\"24px\">\n",
              "    <path d=\"M0 0h24v24H0V0z\" fill=\"none\"/>\n",
              "    <path d=\"M18.56 5.44l.94 2.06.94-2.06 2.06-.94-2.06-.94-.94-2.06-.94 2.06-2.06.94zm-11 1L8.5 8.5l.94-2.06 2.06-.94-2.06-.94L8.5 2.5l-.94 2.06-2.06.94zm10 10l.94 2.06.94-2.06 2.06-.94-2.06-.94-.94-2.06-.94 2.06-2.06.94z\"/><path d=\"M17.41 7.96l-1.37-1.37c-.4-.4-.92-.59-1.43-.59-.52 0-1.04.2-1.43.59L10.3 9.45l-7.72 7.72c-.78.78-.78 2.05 0 2.83L4 21.41c.39.39.9.59 1.41.59.51 0 1.02-.2 1.41-.59l7.78-7.78 2.81-2.81c.8-.78.8-2.07 0-2.86zM5.41 20L4 18.59l7.72-7.72 1.47 1.35L5.41 20z\"/>\n",
              "  </svg>\n",
              "      </button>\n",
              "      \n",
              "  <style>\n",
              "    .colab-df-container {\n",
              "      display:flex;\n",
              "      flex-wrap:wrap;\n",
              "      gap: 12px;\n",
              "    }\n",
              "\n",
              "    .colab-df-convert {\n",
              "      background-color: #E8F0FE;\n",
              "      border: none;\n",
              "      border-radius: 50%;\n",
              "      cursor: pointer;\n",
              "      display: none;\n",
              "      fill: #1967D2;\n",
              "      height: 32px;\n",
              "      padding: 0 0 0 0;\n",
              "      width: 32px;\n",
              "    }\n",
              "\n",
              "    .colab-df-convert:hover {\n",
              "      background-color: #E2EBFA;\n",
              "      box-shadow: 0px 1px 2px rgba(60, 64, 67, 0.3), 0px 1px 3px 1px rgba(60, 64, 67, 0.15);\n",
              "      fill: #174EA6;\n",
              "    }\n",
              "\n",
              "    [theme=dark] .colab-df-convert {\n",
              "      background-color: #3B4455;\n",
              "      fill: #D2E3FC;\n",
              "    }\n",
              "\n",
              "    [theme=dark] .colab-df-convert:hover {\n",
              "      background-color: #434B5C;\n",
              "      box-shadow: 0px 1px 3px 1px rgba(0, 0, 0, 0.15);\n",
              "      filter: drop-shadow(0px 1px 2px rgba(0, 0, 0, 0.3));\n",
              "      fill: #FFFFFF;\n",
              "    }\n",
              "  </style>\n",
              "\n",
              "      <script>\n",
              "        const buttonEl =\n",
              "          document.querySelector('#df-952d4a44-37cf-4f98-acfb-ccc0dd7a300d button.colab-df-convert');\n",
              "        buttonEl.style.display =\n",
              "          google.colab.kernel.accessAllowed ? 'block' : 'none';\n",
              "\n",
              "        async function convertToInteractive(key) {\n",
              "          const element = document.querySelector('#df-952d4a44-37cf-4f98-acfb-ccc0dd7a300d');\n",
              "          const dataTable =\n",
              "            await google.colab.kernel.invokeFunction('convertToInteractive',\n",
              "                                                     [key], {});\n",
              "          if (!dataTable) return;\n",
              "\n",
              "          const docLinkHtml = 'Like what you see? Visit the ' +\n",
              "            '<a target=\"_blank\" href=https://colab.research.google.com/notebooks/data_table.ipynb>data table notebook</a>'\n",
              "            + ' to learn more about interactive tables.';\n",
              "          element.innerHTML = '';\n",
              "          dataTable['output_type'] = 'display_data';\n",
              "          await google.colab.output.renderOutput(dataTable, element);\n",
              "          const docLink = document.createElement('div');\n",
              "          docLink.innerHTML = docLinkHtml;\n",
              "          element.appendChild(docLink);\n",
              "        }\n",
              "      </script>\n",
              "    </div>\n",
              "  </div>\n",
              "  "
            ]
          },
          "metadata": {},
          "execution_count": 14
        }
      ],
      "source": [
        "#looking at this as a possible outlier\n",
        "high_proportion = data[data.proportion > 80]\n",
        "high_proportion"
      ]
    },
    {
      "cell_type": "code",
      "execution_count": 15,
      "metadata": {
        "id": "uiW6u7S8buOO",
        "outputId": "7812d69e-c3ee-4b2f-9a21-3b090a25ada6",
        "colab": {
          "base_uri": "https://localhost:8080/",
          "height": 441
        }
      },
      "outputs": [
        {
          "output_type": "stream",
          "name": "stdout",
          "text": [
            "count    107.000000\n",
            "mean       3.987483\n",
            "std        3.204022\n",
            "min        1.010101\n",
            "25%        2.053801\n",
            "50%        3.056079\n",
            "75%        4.568505\n",
            "max       17.786260\n",
            "Name: proportion, dtype: float64\n"
          ]
        },
        {
          "output_type": "display_data",
          "data": {
            "text/plain": [
              "<Figure size 432x288 with 1 Axes>"
            ],
            "image/png": "[encoded data removed]"
          },
          "metadata": {}
        }
      ],
      "source": [
        "#removing outlier for now at least and performing more exploratory data analysis - when running more charts \n",
        "    #the high proportion showed to be problematic and raised a lot of descriptive statistics estimates\n",
        "data = data[data.proportion < 80]\n",
        "histogram_function(\"proportion\")\n"
      ]
    },
    {
      "cell_type": "code",
      "execution_count": 16,
      "metadata": {
        "id": "zHPkHnasbuOP",
        "outputId": "8daafc15-8a4d-4754-f5c6-a3e23d7d5cfe",
        "colab": {
          "base_uri": "https://localhost:8080/",
          "height": 750
        }
      },
      "outputs": [
        {
          "output_type": "stream",
          "name": "stdout",
          "text": [
            "count       107.000000\n",
            "mean      16133.849563\n",
            "std       16812.426252\n",
            "min          92.960000\n",
            "25%        6930.000000\n",
            "50%       11636.110000\n",
            "75%       19257.660000\n",
            "max      108130.000000\n",
            "Name: max_min, dtype: float64\n"
          ]
        },
        {
          "output_type": "execute_result",
          "data": {
            "text/plain": [
              "                        Hospital_name  Drg_code  Min_contracted  \\\n",
              "20       Banner Desert Medical Center       788         5682.00   \n",
              "23     Banner Ocotillo Medical Center       788         5682.00   \n",
              "105             NYU Langone Hospitals       788         7383.04   \n",
              "106  Penn Presbyterian Medical Center       788         7353.00   \n",
              "\n",
              "     Max_contracted State    Zip  Quality  Beds  Public_flag  Teach  \\\n",
              "20         88712.90    AZ  85202        0   605            0      1   \n",
              "23         88712.90    AZ  85284        0   124            0      1   \n",
              "105        61496.38    NY  10016        1  1639            0      1   \n",
              "106       115483.00    PA  19104        1   365            0      1   \n",
              "\n",
              "     median_income    gini    max_min  proportion  ruca rural_code rural  \\\n",
              "20           54047  0.4359   83030.90   15.612971   1.0      urban     0   \n",
              "23          127500  0.3798   83030.90   15.612971   1.0      urban     0   \n",
              "105         124647  0.5084   54113.34    8.329412   1.0      urban     0   \n",
              "106          28603  0.5822  108130.00   15.705562   1.0      urban     0   \n",
              "\n",
              "     price_range  mid_point  \n",
              "20      83030.90   47197.45  \n",
              "23      83030.90   47197.45  \n",
              "105     54113.34   34439.71  \n",
              "106    108130.00   61418.00  "
            ],
            "text/html": [
              "\n",
              "  <div id=\"df-e1bf50b4-dd62-47fb-b930-a148197eb956\">\n",
              "    <div class=\"colab-df-container\">\n",
              "      <div>\n",
              "<style scoped>\n",
              "    .dataframe tbody tr th:only-of-type {\n",
              "        vertical-align: middle;\n",
              "    }\n",
              "\n",
              "    .dataframe tbody tr th {\n",
              "        vertical-align: top;\n",
              "    }\n",
              "\n",
              "    .dataframe thead th {\n",
              "        text-align: right;\n",
              "    }\n",
              "</style>\n",
              "<table border=\"1\" class=\"dataframe\">\n",
              "  <thead>\n",
              "    <tr style=\"text-align: right;\">\n",
              "      <th></th>\n",
              "      <th>Hospital_name</th>\n",
              "      <th>Drg_code</th>\n",
              "      <th>Min_contracted</th>\n",
              "      <th>Max_contracted</th>\n",
              "      <th>State</th>\n",
              "      <th>Zip</th>\n",
              "      <th>Quality</th>\n",
              "      <th>Beds</th>\n",
              "      <th>Public_flag</th>\n",
              "      <th>Teach</th>\n",
              "      <th>median_income</th>\n",
              "      <th>gini</th>\n",
              "      <th>max_min</th>\n",
              "      <th>proportion</th>\n",
              "      <th>ruca</th>\n",
              "      <th>rural_code</th>\n",
              "      <th>rural</th>\n",
              "      <th>price_range</th>\n",
              "      <th>mid_point</th>\n",
              "    </tr>\n",
              "  </thead>\n",
              "  <tbody>\n",
              "    <tr>\n",
              "      <th>20</th>\n",
              "      <td>Banner Desert Medical Center</td>\n",
              "      <td>788</td>\n",
              "      <td>5682.00</td>\n",
              "      <td>88712.90</td>\n",
              "      <td>AZ</td>\n",
              "      <td>85202</td>\n",
              "      <td>0</td>\n",
              "      <td>605</td>\n",
              "      <td>0</td>\n",
              "      <td>1</td>\n",
              "      <td>54047</td>\n",
              "      <td>0.4359</td>\n",
              "      <td>83030.90</td>\n",
              "      <td>15.612971</td>\n",
              "      <td>1.0</td>\n",
              "      <td>urban</td>\n",
              "      <td>0</td>\n",
              "      <td>83030.90</td>\n",
              "      <td>47197.45</td>\n",
              "    </tr>\n",
              "    <tr>\n",
              "      <th>23</th>\n",
              "      <td>Banner Ocotillo Medical Center</td>\n",
              "      <td>788</td>\n",
              "      <td>5682.00</td>\n",
              "      <td>88712.90</td>\n",
              "      <td>AZ</td>\n",
              "      <td>85284</td>\n",
              "      <td>0</td>\n",
              "      <td>124</td>\n",
              "      <td>0</td>\n",
              "      <td>1</td>\n",
              "      <td>127500</td>\n",
              "      <td>0.3798</td>\n",
              "      <td>83030.90</td>\n",
              "      <td>15.612971</td>\n",
              "      <td>1.0</td>\n",
              "      <td>urban</td>\n",
              "      <td>0</td>\n",
              "      <td>83030.90</td>\n",
              "      <td>47197.45</td>\n",
              "    </tr>\n",
              "    <tr>\n",
              "      <th>105</th>\n",
              "      <td>NYU Langone Hospitals</td>\n",
              "      <td>788</td>\n",
              "      <td>7383.04</td>\n",
              "      <td>61496.38</td>\n",
              "      <td>NY</td>\n",
              "      <td>10016</td>\n",
              "      <td>1</td>\n",
              "      <td>1639</td>\n",
              "      <td>0</td>\n",
              "      <td>1</td>\n",
              "      <td>124647</td>\n",
              "      <td>0.5084</td>\n",
              "      <td>54113.34</td>\n",
              "      <td>8.329412</td>\n",
              "      <td>1.0</td>\n",
              "      <td>urban</td>\n",
              "      <td>0</td>\n",
              "      <td>54113.34</td>\n",
              "      <td>34439.71</td>\n",
              "    </tr>\n",
              "    <tr>\n",
              "      <th>106</th>\n",
              "      <td>Penn Presbyterian Medical Center</td>\n",
              "      <td>788</td>\n",
              "      <td>7353.00</td>\n",
              "      <td>115483.00</td>\n",
              "      <td>PA</td>\n",
              "      <td>19104</td>\n",
              "      <td>1</td>\n",
              "      <td>365</td>\n",
              "      <td>0</td>\n",
              "      <td>1</td>\n",
              "      <td>28603</td>\n",
              "      <td>0.5822</td>\n",
              "      <td>108130.00</td>\n",
              "      <td>15.705562</td>\n",
              "      <td>1.0</td>\n",
              "      <td>urban</td>\n",
              "      <td>0</td>\n",
              "      <td>108130.00</td>\n",
              "      <td>61418.00</td>\n",
              "    </tr>\n",
              "  </tbody>\n",
              "</table>\n",
              "</div>\n",
              "      <button class=\"colab-df-convert\" onclick=\"convertToInteractive('df-e1bf50b4-dd62-47fb-b930-a148197eb956')\"\n",
              "              title=\"Convert this dataframe to an interactive table.\"\n",
              "              style=\"display:none;\">\n",
              "        \n",
              "  <svg xmlns=\"http://www.w3.org/2000/svg\" height=\"24px\"viewBox=\"0 0 24 24\"\n",
              "       width=\"24px\">\n",
              "    <path d=\"M0 0h24v24H0V0z\" fill=\"none\"/>\n",
              "    <path d=\"M18.56 5.44l.94 2.06.94-2.06 2.06-.94-2.06-.94-.94-2.06-.94 2.06-2.06.94zm-11 1L8.5 8.5l.94-2.06 2.06-.94-2.06-.94L8.5 2.5l-.94 2.06-2.06.94zm10 10l.94 2.06.94-2.06 2.06-.94-2.06-.94-.94-2.06-.94 2.06-2.06.94z\"/><path d=\"M17.41 7.96l-1.37-1.37c-.4-.4-.92-.59-1.43-.59-.52 0-1.04.2-1.43.59L10.3 9.45l-7.72 7.72c-.78.78-.78 2.05 0 2.83L4 21.41c.39.39.9.59 1.41.59.51 0 1.02-.2 1.41-.59l7.78-7.78 2.81-2.81c.8-.78.8-2.07 0-2.86zM5.41 20L4 18.59l7.72-7.72 1.47 1.35L5.41 20z\"/>\n",
              "  </svg>\n",
              "      </button>\n",
              "      \n",
              "  <style>\n",
              "    .colab-df-container {\n",
              "      display:flex;\n",
              "      flex-wrap:wrap;\n",
              "      gap: 12px;\n",
              "    }\n",
              "\n",
              "    .colab-df-convert {\n",
              "      background-color: #E8F0FE;\n",
              "      border: none;\n",
              "      border-radius: 50%;\n",
              "      cursor: pointer;\n",
              "      display: none;\n",
              "      fill: #1967D2;\n",
              "      height: 32px;\n",
              "      padding: 0 0 0 0;\n",
              "      width: 32px;\n",
              "    }\n",
              "\n",
              "    .colab-df-convert:hover {\n",
              "      background-color: #E2EBFA;\n",
              "      box-shadow: 0px 1px 2px rgba(60, 64, 67, 0.3), 0px 1px 3px 1px rgba(60, 64, 67, 0.15);\n",
              "      fill: #174EA6;\n",
              "    }\n",
              "\n",
              "    [theme=dark] .colab-df-convert {\n",
              "      background-color: #3B4455;\n",
              "      fill: #D2E3FC;\n",
              "    }\n",
              "\n",
              "    [theme=dark] .colab-df-convert:hover {\n",
              "      background-color: #434B5C;\n",
              "      box-shadow: 0px 1px 3px 1px rgba(0, 0, 0, 0.15);\n",
              "      filter: drop-shadow(0px 1px 2px rgba(0, 0, 0, 0.3));\n",
              "      fill: #FFFFFF;\n",
              "    }\n",
              "  </style>\n",
              "\n",
              "      <script>\n",
              "        const buttonEl =\n",
              "          document.querySelector('#df-e1bf50b4-dd62-47fb-b930-a148197eb956 button.colab-df-convert');\n",
              "        buttonEl.style.display =\n",
              "          google.colab.kernel.accessAllowed ? 'block' : 'none';\n",
              "\n",
              "        async function convertToInteractive(key) {\n",
              "          const element = document.querySelector('#df-e1bf50b4-dd62-47fb-b930-a148197eb956');\n",
              "          const dataTable =\n",
              "            await google.colab.kernel.invokeFunction('convertToInteractive',\n",
              "                                                     [key], {});\n",
              "          if (!dataTable) return;\n",
              "\n",
              "          const docLinkHtml = 'Like what you see? Visit the ' +\n",
              "            '<a target=\"_blank\" href=https://colab.research.google.com/notebooks/data_table.ipynb>data table notebook</a>'\n",
              "            + ' to learn more about interactive tables.';\n",
              "          element.innerHTML = '';\n",
              "          dataTable['output_type'] = 'display_data';\n",
              "          await google.colab.output.renderOutput(dataTable, element);\n",
              "          const docLink = document.createElement('div');\n",
              "          docLink.innerHTML = docLinkHtml;\n",
              "          element.appendChild(docLink);\n",
              "        }\n",
              "      </script>\n",
              "    </div>\n",
              "  </div>\n",
              "  "
            ]
          },
          "metadata": {},
          "execution_count": 16
        },
        {
          "output_type": "display_data",
          "data": {
            "text/plain": [
              "<Figure size 432x288 with 1 Axes>"
            ],
            "image/png": "[encoded data removed]"
          },
          "metadata": {}
        }
      ],
      "source": [
        "#maximum contracted amount - minimum contracted amount\n",
        "#after initially running, I actually spot-checked to make sure these were correct observations\n",
        "histogram_function(\"max_min\")\n",
        "high_diff = data[data.max_min > 50000]\n",
        "high_diff"
      ]
    },
    {
      "cell_type": "code",
      "execution_count": 17,
      "metadata": {
        "id": "rxjsQiFdbuOQ",
        "outputId": "c7938f60-45f3-4fd7-91ef-5cf0a8878984",
        "colab": {
          "base_uri": "https://localhost:8080/",
          "height": 441
        }
      },
      "outputs": [
        {
          "output_type": "stream",
          "name": "stdout",
          "text": [
            "count     107.000000\n",
            "mean      284.392523\n",
            "std       289.136214\n",
            "min        19.000000\n",
            "25%        97.000000\n",
            "50%       188.000000\n",
            "75%       389.000000\n",
            "max      1639.000000\n",
            "Name: Beds, dtype: float64\n"
          ]
        },
        {
          "output_type": "display_data",
          "data": {
            "text/plain": [
              "<Figure size 432x288 with 1 Axes>"
            ],
            "image/png": "[encoded data removed]"
          },
          "metadata": {}
        }
      ],
      "source": [
        "#number of beds\n",
        "histogram_function(\"Beds\")"
      ]
    },
    {
      "cell_type": "code",
      "execution_count": 18,
      "metadata": {
        "id": "hr26JJ9CbuOS",
        "outputId": "17e53be8-4705-4176-c5ca-efed4a6c7c83",
        "colab": {
          "base_uri": "https://localhost:8080/",
          "height": 441
        }
      },
      "outputs": [
        {
          "output_type": "stream",
          "name": "stdout",
          "text": [
            "count    107.000000\n",
            "mean       0.458990\n",
            "std        0.057653\n",
            "min        0.364200\n",
            "25%        0.421150\n",
            "50%        0.450300\n",
            "75%        0.483050\n",
            "max        0.657900\n",
            "Name: gini, dtype: float64\n"
          ]
        },
        {
          "output_type": "display_data",
          "data": {
            "text/plain": [
              "<Figure size 432x288 with 1 Axes>"
            ],
            "image/png": "[encoded data removed]"
          },
          "metadata": {}
        }
      ],
      "source": [
        "#gini coefficient\n",
        "histogram_function(\"gini\")"
      ]
    },
    {
      "cell_type": "code",
      "execution_count": 19,
      "metadata": {
        "id": "4vgaI1yubuOT",
        "outputId": "9d7651f5-0021-4c98-ec60-0e921d9f9d2e",
        "colab": {
          "base_uri": "https://localhost:8080/",
          "height": 441
        }
      },
      "outputs": [
        {
          "output_type": "stream",
          "name": "stdout",
          "text": [
            "count       107.000000\n",
            "mean      70477.392523\n",
            "std       27965.825177\n",
            "min       23509.000000\n",
            "25%       51483.500000\n",
            "50%       61318.000000\n",
            "75%       87025.500000\n",
            "max      156280.000000\n",
            "Name: median_income, dtype: float64\n"
          ]
        },
        {
          "output_type": "display_data",
          "data": {
            "text/plain": [
              "<Figure size 432x288 with 1 Axes>"
            ],
            "image/png": "[encoded data removed]"
          },
          "metadata": {}
        }
      ],
      "source": [
        "#median income\n",
        "histogram_function('median_income')"
      ]
    },
    {
      "cell_type": "code",
      "execution_count": 20,
      "metadata": {
        "id": "yoiCiQrhbuOT",
        "outputId": "451bd3e0-29f1-414b-8904-dd197b05e876",
        "colab": {
          "base_uri": "https://localhost:8080/"
        }
      },
      "outputs": [
        {
          "output_type": "execute_result",
          "data": {
            "text/plain": [
              "State\n",
              "AL     2\n",
              "AZ     7\n",
              "CA    14\n",
              "CO     4\n",
              "CT     5\n",
              "FL     3\n",
              "ID     1\n",
              "IL     2\n",
              "IN     1\n",
              "MA     6\n",
              "ME     2\n",
              "NH     2\n",
              "NV     3\n",
              "NY    12\n",
              "OK     2\n",
              "OR     9\n",
              "PA     4\n",
              "RI     1\n",
              "SC     7\n",
              "TN     2\n",
              "TX     5\n",
              "VA     5\n",
              "VT     4\n",
              "WA     2\n",
              "WY     2\n",
              "dtype: int64"
            ]
          },
          "metadata": {},
          "execution_count": 20
        }
      ],
      "source": [
        "#looking at data spread for geographic diversity of observations\n",
        "state_groups = data.groupby('State').size()\n",
        "state_groups"
      ]
    },
    {
      "cell_type": "code",
      "execution_count": 21,
      "metadata": {
        "id": "ME6SXwbbbuOV",
        "outputId": "af65bcb1-1c49-4a0c-f211-24f9418f5343",
        "colab": {
          "base_uri": "https://localhost:8080/"
        }
      },
      "outputs": [
        {
          "output_type": "execute_result",
          "data": {
            "text/plain": [
              "rural_code\n",
              "rural    28\n",
              "urban    79\n",
              "dtype: int64"
            ]
          },
          "metadata": {},
          "execution_count": 21
        }
      ],
      "source": [
        "#looking at urban-rural split (ruca as defined by the USDA as being 4 and higher)\n",
        "rural_groups = data.groupby('rural_code').size()\n",
        "rural_groups"
      ]
    },
    {
      "cell_type": "code",
      "execution_count": 22,
      "metadata": {
        "id": "DEWAw_hgbuOV",
        "outputId": "0f343864-70ef-42fa-a277-6d1d74828624",
        "colab": {
          "base_uri": "https://localhost:8080/",
          "height": 302
        }
      },
      "outputs": [
        {
          "output_type": "execute_result",
          "data": {
            "text/plain": [
              "<matplotlib.axes._subplots.AxesSubplot at 0x7fc8ac3bcf50>"
            ]
          },
          "metadata": {},
          "execution_count": 22
        },
        {
          "output_type": "display_data",
          "data": {
            "text/plain": [
              "<Figure size 432x288 with 1 Axes>"
            ],
            "image/png": "[encoded data removed]"
          },
          "metadata": {}
        }
      ],
      "source": [
        "#scatterplots - gini and max_min; maybe an ever so slightly positive correlation\n",
        "sns.scatterplot(data=data, x=\"gini\", y=\"max_min\")"
      ]
    },
    {
      "cell_type": "code",
      "execution_count": 23,
      "metadata": {
        "id": "JLIJIlx_buOX",
        "outputId": "a4e1441e-0ca8-4529-8a86-14d8a5a7887b",
        "colab": {
          "base_uri": "https://localhost:8080/",
          "height": 302
        }
      },
      "outputs": [
        {
          "output_type": "execute_result",
          "data": {
            "text/plain": [
              "<matplotlib.axes._subplots.AxesSubplot at 0x7fc8ac333850>"
            ]
          },
          "metadata": {},
          "execution_count": 23
        },
        {
          "output_type": "display_data",
          "data": {
            "text/plain": [
              "<Figure size 432x288 with 1 Axes>"
            ],
            "image/png": "[encoded data removed]"
          },
          "metadata": {}
        }
      ],
      "source": [
        "#scatterplot - gini and proportion, slightly positive correlation perhaps, but weak\n",
        "sns.scatterplot(data=data, x=\"gini\", y=\"proportion\")"
      ]
    },
    {
      "cell_type": "code",
      "execution_count": 24,
      "metadata": {
        "id": "q3RyBHHvbuOY",
        "outputId": "c0cd9226-208a-4545-bb7a-f514af87d815",
        "colab": {
          "base_uri": "https://localhost:8080/",
          "height": 302
        }
      },
      "outputs": [
        {
          "output_type": "execute_result",
          "data": {
            "text/plain": [
              "<matplotlib.axes._subplots.AxesSubplot at 0x7fc8ac301390>"
            ]
          },
          "metadata": {},
          "execution_count": 24
        },
        {
          "output_type": "display_data",
          "data": {
            "text/plain": [
              "<Figure size 432x288 with 1 Axes>"
            ],
            "image/png": "[encoded data removed]"
          },
          "metadata": {}
        }
      ],
      "source": [
        "#scatterplot - income and max_min - moderate positive correlation\n",
        "sns.scatterplot(data=data, x=\"median_income\", y=\"max_min\")"
      ]
    },
    {
      "cell_type": "code",
      "execution_count": 25,
      "metadata": {
        "id": "mqpBjp7ibuOY",
        "outputId": "6baff9ec-6327-4412-9fdc-6384cb1b69d6",
        "colab": {
          "base_uri": "https://localhost:8080/",
          "height": 304
        }
      },
      "outputs": [
        {
          "output_type": "execute_result",
          "data": {
            "text/plain": [
              "<matplotlib.axes._subplots.AxesSubplot at 0x7fc8ac327ad0>"
            ]
          },
          "metadata": {},
          "execution_count": 25
        },
        {
          "output_type": "display_data",
          "data": {
            "text/plain": [
              "<Figure size 432x288 with 1 Axes>"
            ],
            "image/png": "[encoded data removed]"
          },
          "metadata": {}
        }
      ],
      "source": [
        "#scatterpot - income and max_min\n",
        "sns.scatterplot(data=data, x=\"median_income\", y=\"Max_contracted\")"
      ]
    },
    {
      "cell_type": "code",
      "execution_count": 26,
      "metadata": {
        "scrolled": false,
        "id": "5YJkIA5lbuOb",
        "outputId": "cf5e8df4-89ee-43ba-d953-f1942794a48c",
        "colab": {
          "base_uri": "https://localhost:8080/",
          "height": 302
        }
      },
      "outputs": [
        {
          "output_type": "execute_result",
          "data": {
            "text/plain": [
              "<matplotlib.axes._subplots.AxesSubplot at 0x7fc8ac204c10>"
            ]
          },
          "metadata": {},
          "execution_count": 26
        },
        {
          "output_type": "display_data",
          "data": {
            "text/plain": [
              "<Figure size 432x288 with 1 Axes>"
            ],
            "image/png": "[encoded data removed]"
          },
          "metadata": {}
        }
      ],
      "source": [
        "#scatterplot - income and proportion- moderate positive correlation\n",
        "sns.scatterplot(data=data, x=\"median_income\", y=\"proportion\")"
      ]
    },
    {
      "cell_type": "code",
      "execution_count": 27,
      "metadata": {
        "id": "qFKbRu34buOc",
        "outputId": "97de1292-015d-45ce-93d7-865f6aa1b3a4",
        "colab": {
          "base_uri": "https://localhost:8080/",
          "height": 302
        }
      },
      "outputs": [
        {
          "output_type": "execute_result",
          "data": {
            "text/plain": [
              "<matplotlib.axes._subplots.AxesSubplot at 0x7fc8ac16ac50>"
            ]
          },
          "metadata": {},
          "execution_count": 27
        },
        {
          "output_type": "display_data",
          "data": {
            "text/plain": [
              "<Figure size 432x288 with 1 Axes>"
            ],
            "image/png": "[encoded data removed]"
          },
          "metadata": {}
        }
      ],
      "source": [
        "#boxplots - rural and max_min\n",
        "sns.boxplot(x=\"rural_code\", y=\"max_min\", data=data)\n",
        "sns.stripplot(x=\"rural_code\", y=\"max_min\", data=data, color='grey', alpha=.5)"
      ]
    },
    {
      "cell_type": "code",
      "execution_count": 28,
      "metadata": {
        "id": "6TlQgK1mbuOc",
        "outputId": "3632b33c-e2e3-47ff-d6a8-74fb238a3cc8",
        "colab": {
          "base_uri": "https://localhost:8080/",
          "height": 304
        }
      },
      "outputs": [
        {
          "output_type": "execute_result",
          "data": {
            "text/plain": [
              "<matplotlib.axes._subplots.AxesSubplot at 0x7fc8ac15b590>"
            ]
          },
          "metadata": {},
          "execution_count": 28
        },
        {
          "output_type": "display_data",
          "data": {
            "text/plain": [
              "<Figure size 432x288 with 1 Axes>"
            ],
            "image/png": "[encoded data removed]"
          },
          "metadata": {}
        }
      ],
      "source": [
        "#boxplots - rural and maximum contracted amount - urban is higher\n",
        "sns.boxplot(x=\"rural_code\", y=\"Max_contracted\", data=data)\n",
        "sns.stripplot(x=\"rural_code\", y=\"Max_contracted\", data=data, color='grey', alpha=.5)"
      ]
    },
    {
      "cell_type": "code",
      "execution_count": 29,
      "metadata": {
        "scrolled": true,
        "id": "zKAdDCWrbuOf",
        "outputId": "89c829e4-ac39-4b87-ada4-3ef00761b63c",
        "colab": {
          "base_uri": "https://localhost:8080/",
          "height": 302
        }
      },
      "outputs": [
        {
          "output_type": "execute_result",
          "data": {
            "text/plain": [
              "<matplotlib.axes._subplots.AxesSubplot at 0x7fc8ac0709d0>"
            ]
          },
          "metadata": {},
          "execution_count": 29
        },
        {
          "output_type": "display_data",
          "data": {
            "text/plain": [
              "<Figure size 432x288 with 1 Axes>"
            ],
            "image/png": "[encoded data removed]"
          },
          "metadata": {}
        }
      ],
      "source": [
        "#boxplots - rural and minimum contracted amount - rural is intrigueingly slightly higher and more dispersed\n",
        "sns.boxplot(x=\"rural_code\", y=\"Min_contracted\", data=data)\n",
        "sns.stripplot(x=\"rural_code\", y=\"Min_contracted\", data=data, color='grey', alpha=.5)"
      ]
    },
    {
      "cell_type": "code",
      "execution_count": 30,
      "metadata": {
        "id": "iNHA3H4lbuOg"
      },
      "outputs": [],
      "source": [
        "# base code - taken from \n",
        "#https://www.statsmodels.org/devel/examples/notebooks/generated/linear_regression_diagnostics_plots.html\n",
        "import statsmodels\n",
        "import statsmodels.formula.api as smf\n",
        "import pandas as pd\n",
        "import numpy as np\n",
        "import seaborn as sns\n",
        "from statsmodels.tools.tools import maybe_unwrap_results\n",
        "from statsmodels.graphics.gofplots import ProbPlot\n",
        "from statsmodels.stats.outliers_influence import variance_inflation_factor\n",
        "import matplotlib.pyplot as plt\n",
        "from typing import Type\n",
        "\n",
        "class Linear_Reg_Diagnostic():\n",
        "    \"\"\"\n",
        "    Diagnostic plots to identify potential problems in a linear regression fit.\n",
        "    Mainly,\n",
        "        a. non-linearity of data\n",
        "        b. Correlation of error terms\n",
        "        c. non-constant variance\n",
        "        d. outliers\n",
        "        e. high-leverage points\n",
        "        f. collinearity\n",
        "\n",
        "    Author:\n",
        "        Prajwal Kafle (p33ajkafle@gmail.com, where 3 = r)\n",
        "        Does not come with any sort of warranty.\n",
        "        Please test the code one your end before using.\n",
        "    \"\"\"\n",
        "\n",
        "    def __init__(self,\n",
        "                 results: Type[statsmodels.regression.linear_model.RegressionResultsWrapper]) -> None:\n",
        "        \"\"\"\n",
        "        For a linear regression model, generates following diagnostic plots:\n",
        "\n",
        "        a. residual\n",
        "        b. qq\n",
        "        c. scale location and\n",
        "        d. leverage\n",
        "\n",
        "        and a table\n",
        "\n",
        "        e. vif\n",
        "\n",
        "        Args:\n",
        "            results (Type[statsmodels.regression.linear_model.RegressionResultsWrapper]):\n",
        "                must be instance of statsmodels.regression.linear_model object\n",
        "\n",
        "        Raises:\n",
        "            TypeError: if instance does not belong to above object\n",
        "\n",
        "        Example:\n",
        "        >>> import numpy as np\n",
        "        >>> import pandas as pd\n",
        "        >>> import statsmodels.formula.api as smf\n",
        "        >>> x = np.linspace(-np.pi, np.pi, 100)\n",
        "        >>> y = 3*x + 8 + np.random.normal(0,1, 100)\n",
        "        >>> df = pd.DataFrame({'x':x, 'y':y})\n",
        "        >>> res = smf.ols(formula= \"y ~ x\", data=df).fit()\n",
        "        >>> cls = Linear_Reg_Diagnostic(res)\n",
        "        >>> cls(plot_context=\"seaborn-paper\")\n",
        "\n",
        "        In case you do not need all plots you can also independently make an individual plot/table\n",
        "        in following ways\n",
        "\n",
        "        >>> cls = Linear_Reg_Diagnostic(res)\n",
        "        >>> cls.residual_plot()\n",
        "        >>> cls.qq_plot()\n",
        "        >>> cls.scale_location_plot()\n",
        "        >>> cls.leverage_plot()\n",
        "        >>> cls.vif_table()\n",
        "        \"\"\"\n",
        "\n",
        "        if isinstance(results, statsmodels.regression.linear_model.RegressionResultsWrapper) is False:\n",
        "            raise TypeError(\"result must be instance of statsmodels.regression.linear_model.RegressionResultsWrapper object\")\n",
        "\n",
        "        self.results = maybe_unwrap_results(results)\n",
        "\n",
        "        self.y_true = self.results.model.endog\n",
        "        self.y_predict = self.results.fittedvalues\n",
        "        self.xvar = self.results.model.exog\n",
        "        self.xvar_names = self.results.model.exog_names\n",
        "\n",
        "        self.residual = np.array(self.results.resid)\n",
        "        influence = self.results.get_influence()\n",
        "        self.residual_norm = influence.resid_studentized_internal\n",
        "        self.leverage = influence.hat_matrix_diag\n",
        "        self.cooks_distance = influence.cooks_distance[0]\n",
        "        self.nparams = len(self.results.params)\n",
        "\n",
        "    def __call__(self, plot_context='seaborn-paper'):\n",
        "        # print(plt.style.available)\n",
        "        with plt.style.context(plot_context):\n",
        "            fig, ax = plt.subplots(nrows=2, ncols=2, figsize=(10,10))\n",
        "            self.residual_plot(ax=ax[0,0])\n",
        "            self.qq_plot(ax=ax[0,1])\n",
        "            self.scale_location_plot(ax=ax[1,0])\n",
        "            self.leverage_plot(ax=ax[1,1])\n",
        "            plt.show()\n",
        "\n",
        "        self.vif_table()\n",
        "        return fig, ax\n",
        "\n",
        "\n",
        "    def residual_plot(self, ax=None):\n",
        "        \"\"\"\n",
        "        Residual vs Fitted Plot\n",
        "\n",
        "        Graphical tool to identify non-linearity.\n",
        "        (Roughly) Horizontal red line is an indicator that the residual has a linear pattern\n",
        "        \"\"\"\n",
        "        if ax is None:\n",
        "            fig, ax = plt.subplots()\n",
        "\n",
        "        sns.residplot(\n",
        "            x=self.y_predict,\n",
        "            y=self.residual,\n",
        "            lowess=True,\n",
        "            scatter_kws={'alpha': 0.5},\n",
        "            line_kws={'color': 'red', 'lw': 1, 'alpha': 0.8},\n",
        "            ax=ax)\n",
        "\n",
        "        # annotations\n",
        "        residual_abs = np.abs(self.residual)\n",
        "        abs_resid = np.flip(np.sort(residual_abs))\n",
        "        abs_resid_top_3 = abs_resid[:3]\n",
        "        for i, _ in enumerate(abs_resid_top_3):\n",
        "            ax.annotate(\n",
        "                i,\n",
        "                xy=(self.y_predict[i], self.residual[i]),\n",
        "                color='C3')\n",
        "\n",
        "        ax.set_title('Residuals vs Fitted', fontweight=\"bold\")\n",
        "        ax.set_xlabel('Fitted values')\n",
        "        ax.set_ylabel('Residuals')\n",
        "        return ax\n",
        "\n",
        "    def qq_plot(self, ax=None):\n",
        "        \"\"\"\n",
        "        Standarized Residual vs Theoretical Quantile plot\n",
        "\n",
        "        Used to visually check if residuals are normally distributed.\n",
        "        Points spread along the diagonal line will suggest so.\n",
        "        \"\"\"\n",
        "        if ax is None:\n",
        "            fig, ax = plt.subplots()\n",
        "\n",
        "        QQ = ProbPlot(self.residual_norm)\n",
        "        QQ.qqplot(line='45', alpha=0.5, lw=1, ax=ax)\n",
        "\n",
        "        # annotations\n",
        "        abs_norm_resid = np.flip(np.argsort(np.abs(self.residual_norm)), 0)\n",
        "        abs_norm_resid_top_3 = abs_norm_resid[:3]\n",
        "        for r, i in enumerate(abs_norm_resid_top_3):\n",
        "            ax.annotate(\n",
        "                i,\n",
        "                xy=(np.flip(QQ.theoretical_quantiles, 0)[r], self.residual_norm[i]),\n",
        "                ha='right', color='C3')\n",
        "\n",
        "        ax.set_title('Normal Q-Q', fontweight=\"bold\")\n",
        "        ax.set_xlabel('Theoretical Quantiles')\n",
        "        ax.set_ylabel('Standardized Residuals')\n",
        "        return ax\n",
        "\n",
        "    def scale_location_plot(self, ax=None):\n",
        "        \"\"\"\n",
        "        Sqrt(Standarized Residual) vs Fitted values plot\n",
        "\n",
        "        Used to check homoscedasticity of the residuals.\n",
        "        Horizontal line will suggest so.\n",
        "        \"\"\"\n",
        "        if ax is None:\n",
        "            fig, ax = plt.subplots()\n",
        "\n",
        "        residual_norm_abs_sqrt = np.sqrt(np.abs(self.residual_norm))\n",
        "\n",
        "        ax.scatter(self.y_predict, residual_norm_abs_sqrt, alpha=0.5);\n",
        "        sns.regplot(\n",
        "            x=self.y_predict,\n",
        "            y=residual_norm_abs_sqrt,\n",
        "            scatter=False, ci=False,\n",
        "            lowess=True,\n",
        "            line_kws={'color': 'red', 'lw': 1, 'alpha': 0.8},\n",
        "            ax=ax)\n",
        "\n",
        "        # annotations\n",
        "        abs_sq_norm_resid = np.flip(np.argsort(residual_norm_abs_sqrt), 0)\n",
        "        abs_sq_norm_resid_top_3 = abs_sq_norm_resid[:3]\n",
        "        for i in abs_sq_norm_resid_top_3:\n",
        "            ax.annotate(\n",
        "                i,\n",
        "                xy=(self.y_predict[i], residual_norm_abs_sqrt[i]),\n",
        "                color='C3')\n",
        "        ax.set_title('Scale-Location', fontweight=\"bold\")\n",
        "        ax.set_xlabel('Fitted values')\n",
        "        ax.set_ylabel(r'$\\sqrt{|\\mathrm{Standardized\\ Residuals}|}$');\n",
        "        return ax\n",
        "\n",
        "    def leverage_plot(self, ax=None):\n",
        "        \"\"\"\n",
        "        Residual vs Leverage plot\n",
        "\n",
        "        Points falling outside Cook's distance curves are considered observation that can sway the fit\n",
        "        aka are influential.\n",
        "        Good to have none outside the curves.\n",
        "        \"\"\"\n",
        "        if ax is None:\n",
        "            fig, ax = plt.subplots()\n",
        "\n",
        "        ax.scatter(\n",
        "            self.leverage,\n",
        "            self.residual_norm,\n",
        "            alpha=0.5);\n",
        "\n",
        "        sns.regplot(\n",
        "            x=self.leverage,\n",
        "            y=self.residual_norm,\n",
        "            scatter=False,\n",
        "            ci=False,\n",
        "            lowess=True,\n",
        "            line_kws={'color': 'red', 'lw': 1, 'alpha': 0.8},\n",
        "            ax=ax)\n",
        "\n",
        "        # annotations\n",
        "        leverage_top_3 = np.flip(np.argsort(self.cooks_distance), 0)[:3]\n",
        "        for i in leverage_top_3:\n",
        "            ax.annotate(\n",
        "                i,\n",
        "                xy=(self.leverage[i], self.residual_norm[i]),\n",
        "                color = 'C3')\n",
        "\n",
        "        xtemp, ytemp = self.__cooks_dist_line(0.5) # 0.5 line\n",
        "        ax.plot(xtemp, ytemp, label=\"Cook's distance\", lw=1, ls='--', color='red')\n",
        "        xtemp, ytemp = self.__cooks_dist_line(1) # 1 line\n",
        "        ax.plot(xtemp, ytemp, lw=1, ls='--', color='red')\n",
        "\n",
        "        ax.set_xlim(0, max(self.leverage)+0.01)\n",
        "        ax.set_title('Residuals vs Leverage', fontweight=\"bold\")\n",
        "        ax.set_xlabel('Leverage')\n",
        "        ax.set_ylabel('Standardized Residuals')\n",
        "        ax.legend(loc='upper right')\n",
        "        return ax\n",
        "\n",
        "    def vif_table(self):\n",
        "        \"\"\"\n",
        "        VIF table\n",
        "\n",
        "        VIF, the variance inflation factor, is a measure of multicollinearity.\n",
        "        VIF > 5 for a variable indicates that it is highly collinear with the\n",
        "        other input variables.\n",
        "        \"\"\"\n",
        "        vif_df = pd.DataFrame()\n",
        "        vif_df[\"Features\"] = self.xvar_names\n",
        "        vif_df[\"VIF Factor\"] = [variance_inflation_factor(self.xvar, i) for i in range(self.xvar.shape[1])]\n",
        "\n",
        "        print(vif_df\n",
        "                .sort_values(\"VIF Factor\")\n",
        "                .round(2))\n",
        "\n",
        "\n",
        "    def __cooks_dist_line(self, factor):\n",
        "        \"\"\"\n",
        "        Helper function for plotting Cook's distance curves\n",
        "        \"\"\"\n",
        "        p = self.nparams\n",
        "        formula = lambda x: np.sqrt((factor * p * (1 - x)) / x)\n",
        "        x = np.linspace(0.001, max(self.leverage), 50)\n",
        "        y = formula(x)\n",
        "        return x, y"
      ]
    },
    {
      "cell_type": "code",
      "source": [
        "data.tail()"
      ],
      "metadata": {
        "colab": {
          "base_uri": "https://localhost:8080/",
          "height": 392
        },
        "id": "dzJUJ_kneJQH",
        "outputId": "68a22610-3ac6-4ef7-b477-5f9ec3f651c8"
      },
      "execution_count": 31,
      "outputs": [
        {
          "output_type": "execute_result",
          "data": {
            "text/plain": [
              "                        Hospital_name  Drg_code  Min_contracted  \\\n",
              "103    Northwestern Memorial Hospital       788     8164.080000   \n",
              "104    Rush University Medical Center       788     6539.161717   \n",
              "105             NYU Langone Hospitals       788     7383.040000   \n",
              "106  Penn Presbyterian Medical Center       788     7353.000000   \n",
              "107              Mount Sinai New York       788     9022.000000   \n",
              "\n",
              "     Max_contracted State    Zip  Quality  Beds  Public_flag  Teach  \\\n",
              "103    34228.360000    IL  60611        1   903            0      1   \n",
              "104    23079.394295    IL  60612        1   671            0      1   \n",
              "105    61496.380000    NY  10016        1  1639            0      1   \n",
              "106   115483.000000    PA  19104        1   365            0      1   \n",
              "107    20027.000000    NY  10029        1  1183            0      1   \n",
              "\n",
              "     median_income    gini        max_min  proportion  ruca rural_code rural  \\\n",
              "103         108413  0.5301   26064.280000    4.192556   1.0      urban     0   \n",
              "104          44538  0.5911   16540.232578    3.529412   1.0      urban     0   \n",
              "105         124647  0.5084   54113.340000    8.329412   1.0      urban     0   \n",
              "106          28603  0.5822  108130.000000   15.705562   1.0      urban     0   \n",
              "107          33801  0.6263   11005.000000    2.219796   1.0      urban     0   \n",
              "\n",
              "       price_range     mid_point  \n",
              "103   26064.280000  21196.220000  \n",
              "104   16540.232578  14809.278006  \n",
              "105   54113.340000  34439.710000  \n",
              "106  108130.000000  61418.000000  \n",
              "107   11005.000000  14524.500000  "
            ],
            "text/html": [
              "\n",
              "  <div id=\"df-f28a3f0c-d7d1-492e-9d2b-8d7515fc6c97\">\n",
              "    <div class=\"colab-df-container\">\n",
              "      <div>\n",
              "<style scoped>\n",
              "    .dataframe tbody tr th:only-of-type {\n",
              "        vertical-align: middle;\n",
              "    }\n",
              "\n",
              "    .dataframe tbody tr th {\n",
              "        vertical-align: top;\n",
              "    }\n",
              "\n",
              "    .dataframe thead th {\n",
              "        text-align: right;\n",
              "    }\n",
              "</style>\n",
              "<table border=\"1\" class=\"dataframe\">\n",
              "  <thead>\n",
              "    <tr style=\"text-align: right;\">\n",
              "      <th></th>\n",
              "      <th>Hospital_name</th>\n",
              "      <th>Drg_code</th>\n",
              "      <th>Min_contracted</th>\n",
              "      <th>Max_contracted</th>\n",
              "      <th>State</th>\n",
              "      <th>Zip</th>\n",
              "      <th>Quality</th>\n",
              "      <th>Beds</th>\n",
              "      <th>Public_flag</th>\n",
              "      <th>Teach</th>\n",
              "      <th>median_income</th>\n",
              "      <th>gini</th>\n",
              "      <th>max_min</th>\n",
              "      <th>proportion</th>\n",
              "      <th>ruca</th>\n",
              "      <th>rural_code</th>\n",
              "      <th>rural</th>\n",
              "      <th>price_range</th>\n",
              "      <th>mid_point</th>\n",
              "    </tr>\n",
              "  </thead>\n",
              "  <tbody>\n",
              "    <tr>\n",
              "      <th>103</th>\n",
              "      <td>Northwestern Memorial Hospital</td>\n",
              "      <td>788</td>\n",
              "      <td>8164.080000</td>\n",
              "      <td>34228.360000</td>\n",
              "      <td>IL</td>\n",
              "      <td>60611</td>\n",
              "      <td>1</td>\n",
              "      <td>903</td>\n",
              "      <td>0</td>\n",
              "      <td>1</td>\n",
              "      <td>108413</td>\n",
              "      <td>0.5301</td>\n",
              "      <td>26064.280000</td>\n",
              "      <td>4.192556</td>\n",
              "      <td>1.0</td>\n",
              "      <td>urban</td>\n",
              "      <td>0</td>\n",
              "      <td>26064.280000</td>\n",
              "      <td>21196.220000</td>\n",
              "    </tr>\n",
              "    <tr>\n",
              "      <th>104</th>\n",
              "      <td>Rush University Medical Center</td>\n",
              "      <td>788</td>\n",
              "      <td>6539.161717</td>\n",
              "      <td>23079.394295</td>\n",
              "      <td>IL</td>\n",
              "      <td>60612</td>\n",
              "      <td>1</td>\n",
              "      <td>671</td>\n",
              "      <td>0</td>\n",
              "      <td>1</td>\n",
              "      <td>44538</td>\n",
              "      <td>0.5911</td>\n",
              "      <td>16540.232578</td>\n",
              "      <td>3.529412</td>\n",
              "      <td>1.0</td>\n",
              "      <td>urban</td>\n",
              "      <td>0</td>\n",
              "      <td>16540.232578</td>\n",
              "      <td>14809.278006</td>\n",
              "    </tr>\n",
              "    <tr>\n",
              "      <th>105</th>\n",
              "      <td>NYU Langone Hospitals</td>\n",
              "      <td>788</td>\n",
              "      <td>7383.040000</td>\n",
              "      <td>61496.380000</td>\n",
              "      <td>NY</td>\n",
              "      <td>10016</td>\n",
              "      <td>1</td>\n",
              "      <td>1639</td>\n",
              "      <td>0</td>\n",
              "      <td>1</td>\n",
              "      <td>124647</td>\n",
              "      <td>0.5084</td>\n",
              "      <td>54113.340000</td>\n",
              "      <td>8.329412</td>\n",
              "      <td>1.0</td>\n",
              "      <td>urban</td>\n",
              "      <td>0</td>\n",
              "      <td>54113.340000</td>\n",
              "      <td>34439.710000</td>\n",
              "    </tr>\n",
              "    <tr>\n",
              "      <th>106</th>\n",
              "      <td>Penn Presbyterian Medical Center</td>\n",
              "      <td>788</td>\n",
              "      <td>7353.000000</td>\n",
              "      <td>115483.000000</td>\n",
              "      <td>PA</td>\n",
              "      <td>19104</td>\n",
              "      <td>1</td>\n",
              "      <td>365</td>\n",
              "      <td>0</td>\n",
              "      <td>1</td>\n",
              "      <td>28603</td>\n",
              "      <td>0.5822</td>\n",
              "      <td>108130.000000</td>\n",
              "      <td>15.705562</td>\n",
              "      <td>1.0</td>\n",
              "      <td>urban</td>\n",
              "      <td>0</td>\n",
              "      <td>108130.000000</td>\n",
              "      <td>61418.000000</td>\n",
              "    </tr>\n",
              "    <tr>\n",
              "      <th>107</th>\n",
              "      <td>Mount Sinai New York</td>\n",
              "      <td>788</td>\n",
              "      <td>9022.000000</td>\n",
              "      <td>20027.000000</td>\n",
              "      <td>NY</td>\n",
              "      <td>10029</td>\n",
              "      <td>1</td>\n",
              "      <td>1183</td>\n",
              "      <td>0</td>\n",
              "      <td>1</td>\n",
              "      <td>33801</td>\n",
              "      <td>0.6263</td>\n",
              "      <td>11005.000000</td>\n",
              "      <td>2.219796</td>\n",
              "      <td>1.0</td>\n",
              "      <td>urban</td>\n",
              "      <td>0</td>\n",
              "      <td>11005.000000</td>\n",
              "      <td>14524.500000</td>\n",
              "    </tr>\n",
              "  </tbody>\n",
              "</table>\n",
              "</div>\n",
              "      <button class=\"colab-df-convert\" onclick=\"convertToInteractive('df-f28a3f0c-d7d1-492e-9d2b-8d7515fc6c97')\"\n",
              "              title=\"Convert this dataframe to an interactive table.\"\n",
              "              style=\"display:none;\">\n",
              "        \n",
              "  <svg xmlns=\"http://www.w3.org/2000/svg\" height=\"24px\"viewBox=\"0 0 24 24\"\n",
              "       width=\"24px\">\n",
              "    <path d=\"M0 0h24v24H0V0z\" fill=\"none\"/>\n",
              "    <path d=\"M18.56 5.44l.94 2.06.94-2.06 2.06-.94-2.06-.94-.94-2.06-.94 2.06-2.06.94zm-11 1L8.5 8.5l.94-2.06 2.06-.94-2.06-.94L8.5 2.5l-.94 2.06-2.06.94zm10 10l.94 2.06.94-2.06 2.06-.94-2.06-.94-.94-2.06-.94 2.06-2.06.94z\"/><path d=\"M17.41 7.96l-1.37-1.37c-.4-.4-.92-.59-1.43-.59-.52 0-1.04.2-1.43.59L10.3 9.45l-7.72 7.72c-.78.78-.78 2.05 0 2.83L4 21.41c.39.39.9.59 1.41.59.51 0 1.02-.2 1.41-.59l7.78-7.78 2.81-2.81c.8-.78.8-2.07 0-2.86zM5.41 20L4 18.59l7.72-7.72 1.47 1.35L5.41 20z\"/>\n",
              "  </svg>\n",
              "      </button>\n",
              "      \n",
              "  <style>\n",
              "    .colab-df-container {\n",
              "      display:flex;\n",
              "      flex-wrap:wrap;\n",
              "      gap: 12px;\n",
              "    }\n",
              "\n",
              "    .colab-df-convert {\n",
              "      background-color: #E8F0FE;\n",
              "      border: none;\n",
              "      border-radius: 50%;\n",
              "      cursor: pointer;\n",
              "      display: none;\n",
              "      fill: #1967D2;\n",
              "      height: 32px;\n",
              "      padding: 0 0 0 0;\n",
              "      width: 32px;\n",
              "    }\n",
              "\n",
              "    .colab-df-convert:hover {\n",
              "      background-color: #E2EBFA;\n",
              "      box-shadow: 0px 1px 2px rgba(60, 64, 67, 0.3), 0px 1px 3px 1px rgba(60, 64, 67, 0.15);\n",
              "      fill: #174EA6;\n",
              "    }\n",
              "\n",
              "    [theme=dark] .colab-df-convert {\n",
              "      background-color: #3B4455;\n",
              "      fill: #D2E3FC;\n",
              "    }\n",
              "\n",
              "    [theme=dark] .colab-df-convert:hover {\n",
              "      background-color: #434B5C;\n",
              "      box-shadow: 0px 1px 3px 1px rgba(0, 0, 0, 0.15);\n",
              "      filter: drop-shadow(0px 1px 2px rgba(0, 0, 0, 0.3));\n",
              "      fill: #FFFFFF;\n",
              "    }\n",
              "  </style>\n",
              "\n",
              "      <script>\n",
              "        const buttonEl =\n",
              "          document.querySelector('#df-f28a3f0c-d7d1-492e-9d2b-8d7515fc6c97 button.colab-df-convert');\n",
              "        buttonEl.style.display =\n",
              "          google.colab.kernel.accessAllowed ? 'block' : 'none';\n",
              "\n",
              "        async function convertToInteractive(key) {\n",
              "          const element = document.querySelector('#df-f28a3f0c-d7d1-492e-9d2b-8d7515fc6c97');\n",
              "          const dataTable =\n",
              "            await google.colab.kernel.invokeFunction('convertToInteractive',\n",
              "                                                     [key], {});\n",
              "          if (!dataTable) return;\n",
              "\n",
              "          const docLinkHtml = 'Like what you see? Visit the ' +\n",
              "            '<a target=\"_blank\" href=https://colab.research.google.com/notebooks/data_table.ipynb>data table notebook</a>'\n",
              "            + ' to learn more about interactive tables.';\n",
              "          element.innerHTML = '';\n",
              "          dataTable['output_type'] = 'display_data';\n",
              "          await google.colab.output.renderOutput(dataTable, element);\n",
              "          const docLink = document.createElement('div');\n",
              "          docLink.innerHTML = docLinkHtml;\n",
              "          element.appendChild(docLink);\n",
              "        }\n",
              "      </script>\n",
              "    </div>\n",
              "  </div>\n",
              "  "
            ]
          },
          "metadata": {},
          "execution_count": 31
        }
      ]
    },
    {
      "cell_type": "code",
      "source": [
        "print(data)"
      ],
      "metadata": {
        "id": "NhIe5CPadpd5",
        "outputId": "7f9a808b-f5aa-402f-d66e-62fdeaba9789",
        "colab": {
          "base_uri": "https://localhost:8080/"
        }
      },
      "execution_count": 32,
      "outputs": [
        {
          "output_type": "stream",
          "name": "stdout",
          "text": [
            "                                         Hospital_name  Drg_code  \\\n",
            "0    Southern hills hospital medical center, las Vegas       788   \n",
            "1                               Mountain View Hospital       788   \n",
            "2    Dell Seton Medical Center at the University of...       788   \n",
            "3                Ascension Seton Medical Center Austin       788   \n",
            "4             Baylor Scott & White Emergency Hospitals       788   \n",
            "..                                                 ...       ...   \n",
            "103                     Northwestern Memorial Hospital       788   \n",
            "104                     Rush University Medical Center       788   \n",
            "105                              NYU Langone Hospitals       788   \n",
            "106                   Penn Presbyterian Medical Center       788   \n",
            "107                               Mount Sinai New York       788   \n",
            "\n",
            "     Min_contracted  Max_contracted State    Zip  Quality  Beds  Public_flag  \\\n",
            "0        786.000000    13980.000000    NV  89148        0   265            0   \n",
            "1       2863.000000     6554.000000    NV  89128        0   425            0   \n",
            "2       1999.990000     4999.750000    TX  78701        0   211            1   \n",
            "3       2829.800000     7074.500000    TX  78705        0   391            0   \n",
            "4       3229.600000    13468.310000    TX  76227        0    40            0   \n",
            "..              ...             ...   ...    ...      ...   ...          ...   \n",
            "103     8164.080000    34228.360000    IL  60611        1   903            0   \n",
            "104     6539.161717    23079.394295    IL  60612        1   671            0   \n",
            "105     7383.040000    61496.380000    NY  10016        1  1639            0   \n",
            "106     7353.000000   115483.000000    PA  19104        1   365            0   \n",
            "107     9022.000000    20027.000000    NY  10029        1  1183            0   \n",
            "\n",
            "     Teach  median_income    gini        max_min  proportion  ruca rural_code  \\\n",
            "0        0          78352  0.3642   13194.000000   17.786260   1.0      urban   \n",
            "1        0          59045  0.4787    3691.000000    2.289207   1.0      urban   \n",
            "2        1         127782  0.4836    2999.760000    2.499887   1.0      urban   \n",
            "3        1          23509  0.6579    4244.700000    2.500000   1.0      urban   \n",
            "4        0         102020  0.3683   10238.710000    4.170272   2.1      urban   \n",
            "..     ...            ...     ...            ...         ...   ...        ...   \n",
            "103      1         108413  0.5301   26064.280000    4.192556   1.0      urban   \n",
            "104      1          44538  0.5911   16540.232578    3.529412   1.0      urban   \n",
            "105      1         124647  0.5084   54113.340000    8.329412   1.0      urban   \n",
            "106      1          28603  0.5822  108130.000000   15.705562   1.0      urban   \n",
            "107      1          33801  0.6263   11005.000000    2.219796   1.0      urban   \n",
            "\n",
            "    rural    price_range     mid_point  \n",
            "0       0   13194.000000   7383.000000  \n",
            "1       0    3691.000000   4708.500000  \n",
            "2       0    2999.760000   3499.870000  \n",
            "3       0    4244.700000   4952.150000  \n",
            "4       0   10238.710000   8348.955000  \n",
            "..    ...            ...           ...  \n",
            "103     0   26064.280000  21196.220000  \n",
            "104     0   16540.232578  14809.278006  \n",
            "105     0   54113.340000  34439.710000  \n",
            "106     0  108130.000000  61418.000000  \n",
            "107     0   11005.000000  14524.500000  \n",
            "\n",
            "[107 rows x 19 columns]\n"
          ]
        }
      ]
    },
    {
      "cell_type": "code",
      "execution_count": 32,
      "metadata": {
        "id": "vZemwWm2buOk"
      },
      "outputs": [],
      "source": [
        ""
      ]
    }
  ],
  "metadata": {
    "kernelspec": {
      "display_name": "Python 3",
      "language": "python",
      "name": "python3"
    },
    "language_info": {
      "codemirror_mode": {
        "name": "ipython",
        "version": 3
      },
      "file_extension": ".py",
      "mimetype": "text/x-python",
      "name": "python",
      "nbconvert_exporter": "python",
      "pygments_lexer": "ipython3",
      "version": "3.8.3"
    },
    "colab": {
      "name": "hospital_analysis_ryan.ipynb",
      "provenance": [],
      "include_colab_link": true
    }
  },
  "nbformat": 4,
  "nbformat_minor": 0
}