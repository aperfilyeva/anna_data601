{
  "nbformat": 4,
  "nbformat_minor": 0,
  "metadata": {
    "colab": {
      "name": "Untitled14.ipynb",
      "provenance": [],
      "authorship_tag": "ABX9TyPVhuQqXQgEgqjhrqWO3I0G",
      "include_colab_link": true
    },
    "kernelspec": {
      "name": "python3",
      "display_name": "Python 3"
    },
    "language_info": {
      "name": "python"
    }
  },
  "cells": [
    {
      "cell_type": "markdown",
      "metadata": {
        "id": "view-in-github",
        "colab_type": "text"
      },
      "source": [
        "<a href=\"https://colab.research.google.com/github/aperfilyeva/anna_data601/blob/main/Project/hospital_analysis_v1.ipynb\" target=\"_parent\"><img src=\"https://colab.research.google.com/assets/colab-badge.svg\" alt=\"Open In Colab\"/></a>"
      ]
    },
    {
      "cell_type": "code",
      "execution_count": 25,
      "metadata": {
        "id": "98Jetiq2Mtl6"
      },
      "outputs": [],
      "source": [
        "import pandas as pd\n",
        "import numpy as np\n",
        "from sklearn.linear_model import LinearRegression\n",
        "\n",
        "import plotly.express as px\n",
        "import plotly"
      ]
    },
    {
      "cell_type": "code",
      "source": [
        "df=pd.read_csv('Final_Data_set.csv')\n",
        "df.head()"
      ],
      "metadata": {
        "colab": {
          "base_uri": "https://localhost:8080/",
          "height": 206
        },
        "id": "tlwKFpeUNokO",
        "outputId": "c9ddbd53-9ced-4dda-e4e1-89a75618fbb7"
      },
      "execution_count": 22,
      "outputs": [
        {
          "output_type": "execute_result",
          "data": {
            "text/plain": [
              "                                       Hospital_name  Drg_code  \\\n",
              "0  Southern hills hospital medical center, las Vegas       788   \n",
              "1                             Mountain View Hospital       788   \n",
              "2  Dell Seton Medical Center at the University of...       788   \n",
              "3              Ascension Seton Medical Center Austin       788   \n",
              "4           Baylor Scott & White Emergency Hospitals       788   \n",
              "\n",
              "   Min_contracted  Max_contracted State    Zip  Quality  Beds  Public_flag  \\\n",
              "0          786.00        13980.00    NV  89148        0   265            0   \n",
              "1         2863.00         6554.00    NV  89128        0   425            0   \n",
              "2         1999.99         4999.75    TX  78701        0   211            1   \n",
              "3         2829.80         7074.50    TX  78705        0   391            0   \n",
              "4         3229.60        13468.31    TX  76227        0    40            0   \n",
              "\n",
              "   Teach  \n",
              "0      0  \n",
              "1      0  \n",
              "2      1  \n",
              "3      1  \n",
              "4      0  "
            ],
            "text/html": [
              "\n",
              "  <div id=\"df-c8f4acae-f45d-4333-b2c7-ead51709e1ef\">\n",
              "    <div class=\"colab-df-container\">\n",
              "      <div>\n",
              "<style scoped>\n",
              "    .dataframe tbody tr th:only-of-type {\n",
              "        vertical-align: middle;\n",
              "    }\n",
              "\n",
              "    .dataframe tbody tr th {\n",
              "        vertical-align: top;\n",
              "    }\n",
              "\n",
              "    .dataframe thead th {\n",
              "        text-align: right;\n",
              "    }\n",
              "</style>\n",
              "<table border=\"1\" class=\"dataframe\">\n",
              "  <thead>\n",
              "    <tr style=\"text-align: right;\">\n",
              "      <th></th>\n",
              "      <th>Hospital_name</th>\n",
              "      <th>Drg_code</th>\n",
              "      <th>Min_contracted</th>\n",
              "      <th>Max_contracted</th>\n",
              "      <th>State</th>\n",
              "      <th>Zip</th>\n",
              "      <th>Quality</th>\n",
              "      <th>Beds</th>\n",
              "      <th>Public_flag</th>\n",
              "      <th>Teach</th>\n",
              "    </tr>\n",
              "  </thead>\n",
              "  <tbody>\n",
              "    <tr>\n",
              "      <th>0</th>\n",
              "      <td>Southern hills hospital medical center, las Vegas</td>\n",
              "      <td>788</td>\n",
              "      <td>786.00</td>\n",
              "      <td>13980.00</td>\n",
              "      <td>NV</td>\n",
              "      <td>89148</td>\n",
              "      <td>0</td>\n",
              "      <td>265</td>\n",
              "      <td>0</td>\n",
              "      <td>0</td>\n",
              "    </tr>\n",
              "    <tr>\n",
              "      <th>1</th>\n",
              "      <td>Mountain View Hospital</td>\n",
              "      <td>788</td>\n",
              "      <td>2863.00</td>\n",
              "      <td>6554.00</td>\n",
              "      <td>NV</td>\n",
              "      <td>89128</td>\n",
              "      <td>0</td>\n",
              "      <td>425</td>\n",
              "      <td>0</td>\n",
              "      <td>0</td>\n",
              "    </tr>\n",
              "    <tr>\n",
              "      <th>2</th>\n",
              "      <td>Dell Seton Medical Center at the University of...</td>\n",
              "      <td>788</td>\n",
              "      <td>1999.99</td>\n",
              "      <td>4999.75</td>\n",
              "      <td>TX</td>\n",
              "      <td>78701</td>\n",
              "      <td>0</td>\n",
              "      <td>211</td>\n",
              "      <td>1</td>\n",
              "      <td>1</td>\n",
              "    </tr>\n",
              "    <tr>\n",
              "      <th>3</th>\n",
              "      <td>Ascension Seton Medical Center Austin</td>\n",
              "      <td>788</td>\n",
              "      <td>2829.80</td>\n",
              "      <td>7074.50</td>\n",
              "      <td>TX</td>\n",
              "      <td>78705</td>\n",
              "      <td>0</td>\n",
              "      <td>391</td>\n",
              "      <td>0</td>\n",
              "      <td>1</td>\n",
              "    </tr>\n",
              "    <tr>\n",
              "      <th>4</th>\n",
              "      <td>Baylor Scott &amp; White Emergency Hospitals</td>\n",
              "      <td>788</td>\n",
              "      <td>3229.60</td>\n",
              "      <td>13468.31</td>\n",
              "      <td>TX</td>\n",
              "      <td>76227</td>\n",
              "      <td>0</td>\n",
              "      <td>40</td>\n",
              "      <td>0</td>\n",
              "      <td>0</td>\n",
              "    </tr>\n",
              "  </tbody>\n",
              "</table>\n",
              "</div>\n",
              "      <button class=\"colab-df-convert\" onclick=\"convertToInteractive('df-c8f4acae-f45d-4333-b2c7-ead51709e1ef')\"\n",
              "              title=\"Convert this dataframe to an interactive table.\"\n",
              "              style=\"display:none;\">\n",
              "        \n",
              "  <svg xmlns=\"http://www.w3.org/2000/svg\" height=\"24px\"viewBox=\"0 0 24 24\"\n",
              "       width=\"24px\">\n",
              "    <path d=\"M0 0h24v24H0V0z\" fill=\"none\"/>\n",
              "    <path d=\"M18.56 5.44l.94 2.06.94-2.06 2.06-.94-2.06-.94-.94-2.06-.94 2.06-2.06.94zm-11 1L8.5 8.5l.94-2.06 2.06-.94-2.06-.94L8.5 2.5l-.94 2.06-2.06.94zm10 10l.94 2.06.94-2.06 2.06-.94-2.06-.94-.94-2.06-.94 2.06-2.06.94z\"/><path d=\"M17.41 7.96l-1.37-1.37c-.4-.4-.92-.59-1.43-.59-.52 0-1.04.2-1.43.59L10.3 9.45l-7.72 7.72c-.78.78-.78 2.05 0 2.83L4 21.41c.39.39.9.59 1.41.59.51 0 1.02-.2 1.41-.59l7.78-7.78 2.81-2.81c.8-.78.8-2.07 0-2.86zM5.41 20L4 18.59l7.72-7.72 1.47 1.35L5.41 20z\"/>\n",
              "  </svg>\n",
              "      </button>\n",
              "      \n",
              "  <style>\n",
              "    .colab-df-container {\n",
              "      display:flex;\n",
              "      flex-wrap:wrap;\n",
              "      gap: 12px;\n",
              "    }\n",
              "\n",
              "    .colab-df-convert {\n",
              "      background-color: #E8F0FE;\n",
              "      border: none;\n",
              "      border-radius: 50%;\n",
              "      cursor: pointer;\n",
              "      display: none;\n",
              "      fill: #1967D2;\n",
              "      height: 32px;\n",
              "      padding: 0 0 0 0;\n",
              "      width: 32px;\n",
              "    }\n",
              "\n",
              "    .colab-df-convert:hover {\n",
              "      background-color: #E2EBFA;\n",
              "      box-shadow: 0px 1px 2px rgba(60, 64, 67, 0.3), 0px 1px 3px 1px rgba(60, 64, 67, 0.15);\n",
              "      fill: #174EA6;\n",
              "    }\n",
              "\n",
              "    [theme=dark] .colab-df-convert {\n",
              "      background-color: #3B4455;\n",
              "      fill: #D2E3FC;\n",
              "    }\n",
              "\n",
              "    [theme=dark] .colab-df-convert:hover {\n",
              "      background-color: #434B5C;\n",
              "      box-shadow: 0px 1px 3px 1px rgba(0, 0, 0, 0.15);\n",
              "      filter: drop-shadow(0px 1px 2px rgba(0, 0, 0, 0.3));\n",
              "      fill: #FFFFFF;\n",
              "    }\n",
              "  </style>\n",
              "\n",
              "      <script>\n",
              "        const buttonEl =\n",
              "          document.querySelector('#df-c8f4acae-f45d-4333-b2c7-ead51709e1ef button.colab-df-convert');\n",
              "        buttonEl.style.display =\n",
              "          google.colab.kernel.accessAllowed ? 'block' : 'none';\n",
              "\n",
              "        async function convertToInteractive(key) {\n",
              "          const element = document.querySelector('#df-c8f4acae-f45d-4333-b2c7-ead51709e1ef');\n",
              "          const dataTable =\n",
              "            await google.colab.kernel.invokeFunction('convertToInteractive',\n",
              "                                                     [key], {});\n",
              "          if (!dataTable) return;\n",
              "\n",
              "          const docLinkHtml = 'Like what you see? Visit the ' +\n",
              "            '<a target=\"_blank\" href=https://colab.research.google.com/notebooks/data_table.ipynb>data table notebook</a>'\n",
              "            + ' to learn more about interactive tables.';\n",
              "          element.innerHTML = '';\n",
              "          dataTable['output_type'] = 'display_data';\n",
              "          await google.colab.output.renderOutput(dataTable, element);\n",
              "          const docLink = document.createElement('div');\n",
              "          docLink.innerHTML = docLinkHtml;\n",
              "          element.appendChild(docLink);\n",
              "        }\n",
              "      </script>\n",
              "    </div>\n",
              "  </div>\n",
              "  "
            ]
          },
          "metadata": {},
          "execution_count": 22
        }
      ]
    },
    {
      "cell_type": "code",
      "source": [
        "df.info()"
      ],
      "metadata": {
        "colab": {
          "base_uri": "https://localhost:8080/"
        },
        "id": "nkzlEAh5Q63z",
        "outputId": "900b29af-be4f-4e21-8b8d-ebca4bf74168"
      },
      "execution_count": 7,
      "outputs": [
        {
          "output_type": "stream",
          "name": "stdout",
          "text": [
            "<class 'pandas.core.frame.DataFrame'>\n",
            "RangeIndex: 227 entries, 0 to 226\n",
            "Data columns (total 10 columns):\n",
            " #   Column          Non-Null Count  Dtype  \n",
            "---  ------          --------------  -----  \n",
            " 0   Hospital_name   227 non-null    object \n",
            " 1   Drg_code        227 non-null    int64  \n",
            " 2   Min_contracted  227 non-null    float64\n",
            " 3   Max_contracted  227 non-null    float64\n",
            " 4   State           227 non-null    object \n",
            " 5   Zip             227 non-null    int64  \n",
            " 6   Quality         227 non-null    int64  \n",
            " 7   Beds            227 non-null    int64  \n",
            " 8   Public_flag     227 non-null    int64  \n",
            " 9   Teach           227 non-null    int64  \n",
            "dtypes: float64(2), int64(6), object(2)\n",
            "memory usage: 17.9+ KB\n"
          ]
        }
      ]
    },
    {
      "cell_type": "code",
      "source": [
        "df2 = df.query(\"Drg_code == 788\")"
      ],
      "metadata": {
        "id": "ti1h-fV4VDqR"
      },
      "execution_count": 34,
      "outputs": []
    },
    {
      "cell_type": "code",
      "source": [
        "df2['min_max'] = df2.Min_contracted / df2.Max_contracted\n",
        "print(df)"
      ],
      "metadata": {
        "colab": {
          "base_uri": "https://localhost:8080/"
        },
        "id": "c2lsbxsdOvhA",
        "outputId": "4481ef09-20af-479a-b793-40a26a491f87"
      },
      "execution_count": 23,
      "outputs": [
        {
          "output_type": "stream",
          "name": "stdout",
          "text": [
            "                                         Hospital_name  Drg_code  \\\n",
            "0    Southern hills hospital medical center, las Vegas       788   \n",
            "1                               Mountain View Hospital       788   \n",
            "2    Dell Seton Medical Center at the University of...       788   \n",
            "3                Ascension Seton Medical Center Austin       788   \n",
            "4             Baylor Scott & White Emergency Hospitals       788   \n",
            "..                                                 ...       ...   \n",
            "222                     Northwestern Memorial Hospital       788   \n",
            "223                     Rush University Medical Center       788   \n",
            "224                              NYU Langone Hospitals       788   \n",
            "225                   Penn Presbyterian Medical Center       788   \n",
            "226                               Mount Sinai New York       788   \n",
            "\n",
            "     Min_contracted  Max_contracted State    Zip  Quality  Beds  Public_flag  \\\n",
            "0        786.000000     13980.00000    NV  89148        0   265            0   \n",
            "1       2863.000000      6554.00000    NV  89128        0   425            0   \n",
            "2       1999.990000      4999.75000    TX  78701        0   211            1   \n",
            "3       2829.800000      7074.50000    TX  78705        0   391            0   \n",
            "4       3229.600000     13468.31000    TX  76227        0    40            0   \n",
            "..              ...             ...   ...    ...      ...   ...          ...   \n",
            "222     8164.080000     34228.36000    IL  60611        1   903            0   \n",
            "223     6539.161717     23079.39429    IL  60612        1   671            0   \n",
            "224     7383.040000     61496.38000    NY  10016        1  1639            0   \n",
            "225     7353.000000    115483.00000    PA  19104        1   365            0   \n",
            "226     9022.000000     20027.00000    NY  10029        1  1183            0   \n",
            "\n",
            "     Teach   min_max  \n",
            "0        0  0.056223  \n",
            "1        0  0.436832  \n",
            "2        1  0.400018  \n",
            "3        1  0.400000  \n",
            "4        0  0.239793  \n",
            "..     ...       ...  \n",
            "222      1  0.238518  \n",
            "223      1  0.283333  \n",
            "224      1  0.120056  \n",
            "225      1  0.063672  \n",
            "226      1  0.450492  \n",
            "\n",
            "[227 rows x 11 columns]\n"
          ]
        }
      ]
    },
    {
      "cell_type": "code",
      "source": [
        "#Top 10 hospitals with highest variability\n",
        "df2_top10= df2.sort_values(by=\"min_max\", ascending=True).head(10)\n",
        "fig = px.bar(data_frame=df2_top10, \n",
        "             x=\"Hospital_name\", y=\"min_max\",\n",
        "             #labels={\"value\":\"2019 Suicide Rate (per 100,000 Population)\",\"Country Name\":\"\"},\n",
        "             color=\"Hospital_name\",\n",
        "             title=\"TOP 10 Hospitals with Highest Variability\",\n",
        "             height=500,\n",
        "             width=800,\n",
        "             template=list(plotly.io.templates.keys())[5]\n",
        ")\n",
        "fig.update_layout(showlegend=False)\n",
        "\n",
        "fig.show()"
      ],
      "metadata": {
        "colab": {
          "base_uri": "https://localhost:8080/",
          "height": 517
        },
        "id": "4PwsW7glW2bW",
        "outputId": "a786b51d-71bd-4fd3-98b6-cd300983dd1d"
      },
      "execution_count": 41,
      "outputs": [
        {
          "output_type": "display_data",
          "data": {
            "text/html": [
              "<html>\n",
              "<head><meta charset=\"utf-8\" /></head>\n",
              "<body>\n",
              "    <div>            <script src=\"https://cdnjs.cloudflare.com/ajax/libs/mathjax/2.7.5/MathJax.js?config=TeX-AMS-MML_SVG\"></script><script type=\"text/javascript\">if (window.MathJax) {MathJax.Hub.Config({SVG: {font: \"STIX-Web\"}});}</script>                <script type=\"text/javascript\">window.PlotlyConfig = {MathJaxConfig: 'local'};</script>\n",
              "        <script src=\"https://cdn.plot.ly/plotly-2.8.3.min.js\"></script>                <div id=\"ce7975cb-e421-4dad-b675-ba62f23d317f\" class=\"plotly-graph-div\" style=\"height:500px; width:800px;\"></div>            <script type=\"text/javascript\">                                    window.PLOTLYENV=window.PLOTLYENV || {};                                    if (document.getElementById(\"ce7975cb-e421-4dad-b675-ba62f23d317f\")) {                    Plotly.newPlot(                        \"ce7975cb-e421-4dad-b675-ba62f23d317f\",                        [{\"alignmentgroup\":\"True\",\"hovertemplate\":\"Hospital_name=%{x}<br>min_max=%{y}<extra></extra>\",\"legendgroup\":\"St. Mary's Hospital\",\"marker\":{\"color\":\"#636efa\",\"pattern\":{\"shape\":\"\"}},\"name\":\"St. Mary's Hospital\",\"offsetgroup\":\"St. Mary's Hospital\",\"orientation\":\"v\",\"showlegend\":true,\"textposition\":\"auto\",\"x\":[\"St. Mary's Hospital\"],\"xaxis\":\"x\",\"y\":[0.010208445991140621],\"yaxis\":\"y\",\"type\":\"bar\"},{\"alignmentgroup\":\"True\",\"hovertemplate\":\"Hospital_name=%{x}<br>min_max=%{y}<extra></extra>\",\"legendgroup\":\"MUSC Health Charleston\",\"marker\":{\"color\":\"#EF553B\",\"pattern\":{\"shape\":\"\"}},\"name\":\"MUSC Health Charleston\",\"offsetgroup\":\"MUSC Health Charleston\",\"orientation\":\"v\",\"showlegend\":true,\"textposition\":\"auto\",\"x\":[\"MUSC Health Charleston\"],\"xaxis\":\"x\",\"y\":[0.0496820845281137],\"yaxis\":\"y\",\"type\":\"bar\"},{\"alignmentgroup\":\"True\",\"hovertemplate\":\"Hospital_name=%{x}<br>min_max=%{y}<extra></extra>\",\"legendgroup\":\"Southern hills hospital medical center, las Vegas\",\"marker\":{\"color\":\"#00cc96\",\"pattern\":{\"shape\":\"\"}},\"name\":\"Southern hills hospital medical center, las Vegas\",\"offsetgroup\":\"Southern hills hospital medical center, las Vegas\",\"orientation\":\"v\",\"showlegend\":true,\"textposition\":\"auto\",\"x\":[\"Southern hills hospital medical center, las Vegas\"],\"xaxis\":\"x\",\"y\":[0.056223175965665236],\"yaxis\":\"y\",\"type\":\"bar\"},{\"alignmentgroup\":\"True\",\"hovertemplate\":\"Hospital_name=%{x}<br>min_max=%{y}<extra></extra>\",\"legendgroup\":\"Penn Presbyterian Medical Center\",\"marker\":{\"color\":\"#ab63fa\",\"pattern\":{\"shape\":\"\"}},\"name\":\"Penn Presbyterian Medical Center\",\"offsetgroup\":\"Penn Presbyterian Medical Center\",\"orientation\":\"v\",\"showlegend\":true,\"textposition\":\"auto\",\"x\":[\"Penn Presbyterian Medical Center\"],\"xaxis\":\"x\",\"y\":[0.0636717092559078],\"yaxis\":\"y\",\"type\":\"bar\"},{\"alignmentgroup\":\"True\",\"hovertemplate\":\"Hospital_name=%{x}<br>min_max=%{y}<extra></extra>\",\"legendgroup\":\"Banner Desert Medical Center\",\"marker\":{\"color\":\"#FFA15A\",\"pattern\":{\"shape\":\"\"}},\"name\":\"Banner Desert Medical Center\",\"offsetgroup\":\"Banner Desert Medical Center\",\"orientation\":\"v\",\"showlegend\":true,\"textposition\":\"auto\",\"x\":[\"Banner Desert Medical Center\"],\"xaxis\":\"x\",\"y\":[0.06404930962689756],\"yaxis\":\"y\",\"type\":\"bar\"},{\"alignmentgroup\":\"True\",\"hovertemplate\":\"Hospital_name=%{x}<br>min_max=%{y}<extra></extra>\",\"legendgroup\":\"Banner Ocotillo Medical Center\",\"marker\":{\"color\":\"#19d3f3\",\"pattern\":{\"shape\":\"\"}},\"name\":\"Banner Ocotillo Medical Center\",\"offsetgroup\":\"Banner Ocotillo Medical Center\",\"orientation\":\"v\",\"showlegend\":true,\"textposition\":\"auto\",\"x\":[\"Banner Ocotillo Medical Center\"],\"xaxis\":\"x\",\"y\":[0.06404930962689756],\"yaxis\":\"y\",\"type\":\"bar\"},{\"alignmentgroup\":\"True\",\"hovertemplate\":\"Hospital_name=%{x}<br>min_max=%{y}<extra></extra>\",\"legendgroup\":\"Saint Vincent's Chilton\",\"marker\":{\"color\":\"#FF6692\",\"pattern\":{\"shape\":\"\"}},\"name\":\"Saint Vincent's Chilton\",\"offsetgroup\":\"Saint Vincent's Chilton\",\"orientation\":\"v\",\"showlegend\":true,\"textposition\":\"auto\",\"x\":[\"Saint Vincent's Chilton\"],\"xaxis\":\"x\",\"y\":[0.09615228170099265],\"yaxis\":\"y\",\"type\":\"bar\"},{\"alignmentgroup\":\"True\",\"hovertemplate\":\"Hospital_name=%{x}<br>min_max=%{y}<extra></extra>\",\"legendgroup\":\"MUSC Health Florence\",\"marker\":{\"color\":\"#B6E880\",\"pattern\":{\"shape\":\"\"}},\"name\":\"MUSC Health Florence\",\"offsetgroup\":\"MUSC Health Florence\",\"orientation\":\"v\",\"showlegend\":true,\"textposition\":\"auto\",\"x\":[\"MUSC Health Florence\"],\"xaxis\":\"x\",\"y\":[0.10357514583787186],\"yaxis\":\"y\",\"type\":\"bar\"},{\"alignmentgroup\":\"True\",\"hovertemplate\":\"Hospital_name=%{x}<br>min_max=%{y}<extra></extra>\",\"legendgroup\":\"Banner Thunderbird Medical Center\",\"marker\":{\"color\":\"#FF97FF\",\"pattern\":{\"shape\":\"\"}},\"name\":\"Banner Thunderbird Medical Center\",\"offsetgroup\":\"Banner Thunderbird Medical Center\",\"orientation\":\"v\",\"showlegend\":true,\"textposition\":\"auto\",\"x\":[\"Banner Thunderbird Medical Center\"],\"xaxis\":\"x\",\"y\":[0.11159145227049065],\"yaxis\":\"y\",\"type\":\"bar\"},{\"alignmentgroup\":\"True\",\"hovertemplate\":\"Hospital_name=%{x}<br>min_max=%{y}<extra></extra>\",\"legendgroup\":\"Banner Ironwood Medical Center\",\"marker\":{\"color\":\"#FECB52\",\"pattern\":{\"shape\":\"\"}},\"name\":\"Banner Ironwood Medical Center\",\"offsetgroup\":\"Banner Ironwood Medical Center\",\"orientation\":\"v\",\"showlegend\":true,\"textposition\":\"auto\",\"x\":[\"Banner Ironwood Medical Center\"],\"xaxis\":\"x\",\"y\":[0.11756122030188335],\"yaxis\":\"y\",\"type\":\"bar\"}],                        {\"template\":{\"data\":{\"barpolar\":[{\"marker\":{\"line\":{\"color\":\"rgb(17,17,17)\",\"width\":0.5},\"pattern\":{\"fillmode\":\"overlay\",\"size\":10,\"solidity\":0.2}},\"type\":\"barpolar\"}],\"bar\":[{\"error_x\":{\"color\":\"#f2f5fa\"},\"error_y\":{\"color\":\"#f2f5fa\"},\"marker\":{\"line\":{\"color\":\"rgb(17,17,17)\",\"width\":0.5},\"pattern\":{\"fillmode\":\"overlay\",\"size\":10,\"solidity\":0.2}},\"type\":\"bar\"}],\"carpet\":[{\"aaxis\":{\"endlinecolor\":\"#A2B1C6\",\"gridcolor\":\"#506784\",\"linecolor\":\"#506784\",\"minorgridcolor\":\"#506784\",\"startlinecolor\":\"#A2B1C6\"},\"baxis\":{\"endlinecolor\":\"#A2B1C6\",\"gridcolor\":\"#506784\",\"linecolor\":\"#506784\",\"minorgridcolor\":\"#506784\",\"startlinecolor\":\"#A2B1C6\"},\"type\":\"carpet\"}],\"choropleth\":[{\"colorbar\":{\"outlinewidth\":0,\"ticks\":\"\"},\"type\":\"choropleth\"}],\"contourcarpet\":[{\"colorbar\":{\"outlinewidth\":0,\"ticks\":\"\"},\"type\":\"contourcarpet\"}],\"contour\":[{\"colorbar\":{\"outlinewidth\":0,\"ticks\":\"\"},\"colorscale\":[[0.0,\"#0d0887\"],[0.1111111111111111,\"#46039f\"],[0.2222222222222222,\"#7201a8\"],[0.3333333333333333,\"#9c179e\"],[0.4444444444444444,\"#bd3786\"],[0.5555555555555556,\"#d8576b\"],[0.6666666666666666,\"#ed7953\"],[0.7777777777777778,\"#fb9f3a\"],[0.8888888888888888,\"#fdca26\"],[1.0,\"#f0f921\"]],\"type\":\"contour\"}],\"heatmapgl\":[{\"colorbar\":{\"outlinewidth\":0,\"ticks\":\"\"},\"colorscale\":[[0.0,\"#0d0887\"],[0.1111111111111111,\"#46039f\"],[0.2222222222222222,\"#7201a8\"],[0.3333333333333333,\"#9c179e\"],[0.4444444444444444,\"#bd3786\"],[0.5555555555555556,\"#d8576b\"],[0.6666666666666666,\"#ed7953\"],[0.7777777777777778,\"#fb9f3a\"],[0.8888888888888888,\"#fdca26\"],[1.0,\"#f0f921\"]],\"type\":\"heatmapgl\"}],\"heatmap\":[{\"colorbar\":{\"outlinewidth\":0,\"ticks\":\"\"},\"colorscale\":[[0.0,\"#0d0887\"],[0.1111111111111111,\"#46039f\"],[0.2222222222222222,\"#7201a8\"],[0.3333333333333333,\"#9c179e\"],[0.4444444444444444,\"#bd3786\"],[0.5555555555555556,\"#d8576b\"],[0.6666666666666666,\"#ed7953\"],[0.7777777777777778,\"#fb9f3a\"],[0.8888888888888888,\"#fdca26\"],[1.0,\"#f0f921\"]],\"type\":\"heatmap\"}],\"histogram2dcontour\":[{\"colorbar\":{\"outlinewidth\":0,\"ticks\":\"\"},\"colorscale\":[[0.0,\"#0d0887\"],[0.1111111111111111,\"#46039f\"],[0.2222222222222222,\"#7201a8\"],[0.3333333333333333,\"#9c179e\"],[0.4444444444444444,\"#bd3786\"],[0.5555555555555556,\"#d8576b\"],[0.6666666666666666,\"#ed7953\"],[0.7777777777777778,\"#fb9f3a\"],[0.8888888888888888,\"#fdca26\"],[1.0,\"#f0f921\"]],\"type\":\"histogram2dcontour\"}],\"histogram2d\":[{\"colorbar\":{\"outlinewidth\":0,\"ticks\":\"\"},\"colorscale\":[[0.0,\"#0d0887\"],[0.1111111111111111,\"#46039f\"],[0.2222222222222222,\"#7201a8\"],[0.3333333333333333,\"#9c179e\"],[0.4444444444444444,\"#bd3786\"],[0.5555555555555556,\"#d8576b\"],[0.6666666666666666,\"#ed7953\"],[0.7777777777777778,\"#fb9f3a\"],[0.8888888888888888,\"#fdca26\"],[1.0,\"#f0f921\"]],\"type\":\"histogram2d\"}],\"histogram\":[{\"marker\":{\"pattern\":{\"fillmode\":\"overlay\",\"size\":10,\"solidity\":0.2}},\"type\":\"histogram\"}],\"mesh3d\":[{\"colorbar\":{\"outlinewidth\":0,\"ticks\":\"\"},\"type\":\"mesh3d\"}],\"parcoords\":[{\"line\":{\"colorbar\":{\"outlinewidth\":0,\"ticks\":\"\"}},\"type\":\"parcoords\"}],\"pie\":[{\"automargin\":true,\"type\":\"pie\"}],\"scatter3d\":[{\"line\":{\"colorbar\":{\"outlinewidth\":0,\"ticks\":\"\"}},\"marker\":{\"colorbar\":{\"outlinewidth\":0,\"ticks\":\"\"}},\"type\":\"scatter3d\"}],\"scattercarpet\":[{\"marker\":{\"colorbar\":{\"outlinewidth\":0,\"ticks\":\"\"}},\"type\":\"scattercarpet\"}],\"scattergeo\":[{\"marker\":{\"colorbar\":{\"outlinewidth\":0,\"ticks\":\"\"}},\"type\":\"scattergeo\"}],\"scattergl\":[{\"marker\":{\"line\":{\"color\":\"#283442\"}},\"type\":\"scattergl\"}],\"scattermapbox\":[{\"marker\":{\"colorbar\":{\"outlinewidth\":0,\"ticks\":\"\"}},\"type\":\"scattermapbox\"}],\"scatterpolargl\":[{\"marker\":{\"colorbar\":{\"outlinewidth\":0,\"ticks\":\"\"}},\"type\":\"scatterpolargl\"}],\"scatterpolar\":[{\"marker\":{\"colorbar\":{\"outlinewidth\":0,\"ticks\":\"\"}},\"type\":\"scatterpolar\"}],\"scatter\":[{\"marker\":{\"line\":{\"color\":\"#283442\"}},\"type\":\"scatter\"}],\"scatterternary\":[{\"marker\":{\"colorbar\":{\"outlinewidth\":0,\"ticks\":\"\"}},\"type\":\"scatterternary\"}],\"surface\":[{\"colorbar\":{\"outlinewidth\":0,\"ticks\":\"\"},\"colorscale\":[[0.0,\"#0d0887\"],[0.1111111111111111,\"#46039f\"],[0.2222222222222222,\"#7201a8\"],[0.3333333333333333,\"#9c179e\"],[0.4444444444444444,\"#bd3786\"],[0.5555555555555556,\"#d8576b\"],[0.6666666666666666,\"#ed7953\"],[0.7777777777777778,\"#fb9f3a\"],[0.8888888888888888,\"#fdca26\"],[1.0,\"#f0f921\"]],\"type\":\"surface\"}],\"table\":[{\"cells\":{\"fill\":{\"color\":\"#506784\"},\"line\":{\"color\":\"rgb(17,17,17)\"}},\"header\":{\"fill\":{\"color\":\"#2a3f5f\"},\"line\":{\"color\":\"rgb(17,17,17)\"}},\"type\":\"table\"}]},\"layout\":{\"annotationdefaults\":{\"arrowcolor\":\"#f2f5fa\",\"arrowhead\":0,\"arrowwidth\":1},\"autotypenumbers\":\"strict\",\"coloraxis\":{\"colorbar\":{\"outlinewidth\":0,\"ticks\":\"\"}},\"colorscale\":{\"diverging\":[[0,\"#8e0152\"],[0.1,\"#c51b7d\"],[0.2,\"#de77ae\"],[0.3,\"#f1b6da\"],[0.4,\"#fde0ef\"],[0.5,\"#f7f7f7\"],[0.6,\"#e6f5d0\"],[0.7,\"#b8e186\"],[0.8,\"#7fbc41\"],[0.9,\"#4d9221\"],[1,\"#276419\"]],\"sequential\":[[0.0,\"#0d0887\"],[0.1111111111111111,\"#46039f\"],[0.2222222222222222,\"#7201a8\"],[0.3333333333333333,\"#9c179e\"],[0.4444444444444444,\"#bd3786\"],[0.5555555555555556,\"#d8576b\"],[0.6666666666666666,\"#ed7953\"],[0.7777777777777778,\"#fb9f3a\"],[0.8888888888888888,\"#fdca26\"],[1.0,\"#f0f921\"]],\"sequentialminus\":[[0.0,\"#0d0887\"],[0.1111111111111111,\"#46039f\"],[0.2222222222222222,\"#7201a8\"],[0.3333333333333333,\"#9c179e\"],[0.4444444444444444,\"#bd3786\"],[0.5555555555555556,\"#d8576b\"],[0.6666666666666666,\"#ed7953\"],[0.7777777777777778,\"#fb9f3a\"],[0.8888888888888888,\"#fdca26\"],[1.0,\"#f0f921\"]]},\"colorway\":[\"#636efa\",\"#EF553B\",\"#00cc96\",\"#ab63fa\",\"#FFA15A\",\"#19d3f3\",\"#FF6692\",\"#B6E880\",\"#FF97FF\",\"#FECB52\"],\"font\":{\"color\":\"#f2f5fa\"},\"geo\":{\"bgcolor\":\"rgb(17,17,17)\",\"lakecolor\":\"rgb(17,17,17)\",\"landcolor\":\"rgb(17,17,17)\",\"showlakes\":true,\"showland\":true,\"subunitcolor\":\"#506784\"},\"hoverlabel\":{\"align\":\"left\"},\"hovermode\":\"closest\",\"mapbox\":{\"style\":\"dark\"},\"paper_bgcolor\":\"rgb(17,17,17)\",\"plot_bgcolor\":\"rgb(17,17,17)\",\"polar\":{\"angularaxis\":{\"gridcolor\":\"#506784\",\"linecolor\":\"#506784\",\"ticks\":\"\"},\"bgcolor\":\"rgb(17,17,17)\",\"radialaxis\":{\"gridcolor\":\"#506784\",\"linecolor\":\"#506784\",\"ticks\":\"\"}},\"scene\":{\"xaxis\":{\"backgroundcolor\":\"rgb(17,17,17)\",\"gridcolor\":\"#506784\",\"gridwidth\":2,\"linecolor\":\"#506784\",\"showbackground\":true,\"ticks\":\"\",\"zerolinecolor\":\"#C8D4E3\"},\"yaxis\":{\"backgroundcolor\":\"rgb(17,17,17)\",\"gridcolor\":\"#506784\",\"gridwidth\":2,\"linecolor\":\"#506784\",\"showbackground\":true,\"ticks\":\"\",\"zerolinecolor\":\"#C8D4E3\"},\"zaxis\":{\"backgroundcolor\":\"rgb(17,17,17)\",\"gridcolor\":\"#506784\",\"gridwidth\":2,\"linecolor\":\"#506784\",\"showbackground\":true,\"ticks\":\"\",\"zerolinecolor\":\"#C8D4E3\"}},\"shapedefaults\":{\"line\":{\"color\":\"#f2f5fa\"}},\"sliderdefaults\":{\"bgcolor\":\"#C8D4E3\",\"bordercolor\":\"rgb(17,17,17)\",\"borderwidth\":1,\"tickwidth\":0},\"ternary\":{\"aaxis\":{\"gridcolor\":\"#506784\",\"linecolor\":\"#506784\",\"ticks\":\"\"},\"baxis\":{\"gridcolor\":\"#506784\",\"linecolor\":\"#506784\",\"ticks\":\"\"},\"bgcolor\":\"rgb(17,17,17)\",\"caxis\":{\"gridcolor\":\"#506784\",\"linecolor\":\"#506784\",\"ticks\":\"\"}},\"title\":{\"x\":0.05},\"updatemenudefaults\":{\"bgcolor\":\"#506784\",\"borderwidth\":0},\"xaxis\":{\"automargin\":true,\"gridcolor\":\"#283442\",\"linecolor\":\"#506784\",\"ticks\":\"\",\"title\":{\"standoff\":15},\"zerolinecolor\":\"#283442\",\"zerolinewidth\":2},\"yaxis\":{\"automargin\":true,\"gridcolor\":\"#283442\",\"linecolor\":\"#506784\",\"ticks\":\"\",\"title\":{\"standoff\":15},\"zerolinecolor\":\"#283442\",\"zerolinewidth\":2}}},\"xaxis\":{\"anchor\":\"y\",\"domain\":[0.0,1.0],\"title\":{\"text\":\"Hospital_name\"},\"categoryorder\":\"array\",\"categoryarray\":[\"St. Mary's Hospital\",\"MUSC Health Charleston\",\"Southern hills hospital medical center, las Vegas\",\"Penn Presbyterian Medical Center\",\"Banner Desert Medical Center\",\"Banner Ocotillo Medical Center\",\"Saint Vincent's Chilton\",\"MUSC Health Florence\",\"Banner Thunderbird Medical Center\",\"Banner Ironwood Medical Center\"]},\"yaxis\":{\"anchor\":\"x\",\"domain\":[0.0,1.0],\"title\":{\"text\":\"min_max\"}},\"legend\":{\"title\":{\"text\":\"Hospital_name\"},\"tracegroupgap\":0},\"title\":{\"text\":\"TOP 10 Hospitals with Highest Variability\"},\"barmode\":\"relative\",\"height\":500,\"width\":800,\"showlegend\":false},                        {\"responsive\": true}                    ).then(function(){\n",
              "                            \n",
              "var gd = document.getElementById('ce7975cb-e421-4dad-b675-ba62f23d317f');\n",
              "var x = new MutationObserver(function (mutations, observer) {{\n",
              "        var display = window.getComputedStyle(gd).display;\n",
              "        if (!display || display === 'none') {{\n",
              "            console.log([gd, 'removed!']);\n",
              "            Plotly.purge(gd);\n",
              "            observer.disconnect();\n",
              "        }}\n",
              "}});\n",
              "\n",
              "// Listen for the removal of the full notebook cells\n",
              "var notebookContainer = gd.closest('#notebook-container');\n",
              "if (notebookContainer) {{\n",
              "    x.observe(notebookContainer, {childList: true});\n",
              "}}\n",
              "\n",
              "// Listen for the clearing of the current output cell\n",
              "var outputEl = gd.closest('.output');\n",
              "if (outputEl) {{\n",
              "    x.observe(outputEl, {childList: true});\n",
              "}}\n",
              "\n",
              "                        })                };                            </script>        </div>\n",
              "</body>\n",
              "</html>"
            ]
          },
          "metadata": {}
        }
      ]
    },
    {
      "cell_type": "code",
      "source": [
        "\n",
        "fig = px.scatter(df2, x=\"Beds\", \n",
        "                 y=\"min_max\", \n",
        "                 trendline=\"ols\", \n",
        "                 labels={\"Beds\":\"hospital size (Beds)\",\"min_max\":\"Min over Max Ratio\"},\n",
        "                 height=500,\n",
        "                 width=800,\n",
        "                 template=list(plotly.io.templates.keys())[5],\n",
        "                 title=\"Variability correlation with Hospital Size\")\n",
        "fig.show()"
      ],
      "metadata": {
        "colab": {
          "base_uri": "https://localhost:8080/",
          "height": 517
        },
        "id": "TLSud0GYQycs",
        "outputId": "6252087a-18b9-48fa-e5cc-29312d838521"
      },
      "execution_count": 43,
      "outputs": [
        {
          "output_type": "display_data",
          "data": {
            "text/html": [
              "<html>\n",
              "<head><meta charset=\"utf-8\" /></head>\n",
              "<body>\n",
              "    <div>            <script src=\"https://cdnjs.cloudflare.com/ajax/libs/mathjax/2.7.5/MathJax.js?config=TeX-AMS-MML_SVG\"></script><script type=\"text/javascript\">if (window.MathJax) {MathJax.Hub.Config({SVG: {font: \"STIX-Web\"}});}</script>                <script type=\"text/javascript\">window.PlotlyConfig = {MathJaxConfig: 'local'};</script>\n",
              "        <script src=\"https://cdn.plot.ly/plotly-2.8.3.min.js\"></script>                <div id=\"85f8233d-e65f-4fd9-ad4f-c59793339422\" class=\"plotly-graph-div\" style=\"height:500px; width:800px;\"></div>            <script type=\"text/javascript\">                                    window.PLOTLYENV=window.PLOTLYENV || {};                                    if (document.getElementById(\"85f8233d-e65f-4fd9-ad4f-c59793339422\")) {                    Plotly.newPlot(                        \"85f8233d-e65f-4fd9-ad4f-c59793339422\",                        [{\"hovertemplate\":\"hospital size (Beds)=%{x}<br>Min over Max Ratio=%{y}<extra></extra>\",\"legendgroup\":\"\",\"marker\":{\"color\":\"#636efa\",\"symbol\":\"circle\"},\"mode\":\"markers\",\"name\":\"\",\"orientation\":\"v\",\"showlegend\":false,\"x\":[265,425,211,391,40,751,142,357,517,183,173,239,287,122,136,411,530,554,324,600,483,366,746,168,141,605,317,185,342,124,595,29,132,206,25,25,226,23,188,159,387,49,377,126,174,25,167,36,152,49,67,137,25,637,25,100,122,517,144,25,21,95,259,134,219,302,613,206,1541,100,528,287,120,262,131,99,181,734,456,328,84,102,83,350,112,29,2696,118,81,79,59,517,396,225,700,48,501,323,237,318,182,923,496,528,277,30,566,106,71,65,36,114,19,1162,903,671,1639,365,1183],\"xaxis\":\"x\",\"y\":[0.056223175965665236,0.43683246872139153,0.400018000900045,0.4,0.2397925203681828,0.5765715396956586,0.2961743163556343,0.22727031682997303,0.23573489567945083,0.24427620147249693,0.22727272727272727,0.36,0.3611111111111111,0.3611111111111111,0.36,0.7343941248470012,0.16568695218647686,0.41866687652475015,0.3219447128962402,0.2688276684630033,0.291285597442189,0.23210835574146005,0.13085986141948538,0.23988615572270786,0.1969995453856645,0.06404930962689756,0.12022343531801448,0.1353640863361734,0.11756122030188335,0.06404930962689756,0.11159145227049065,0.19036991703693132,0.38605890044914437,0.19036991703693132,0.9899995374140587,0.9354988939341018,0.6214846509465175,0.6214846509465175,0.9712685410092463,0.979381401568835,0.31395098622067774,0.5568373874513488,0.5148690174490788,0.5872587204513414,0.4361588884911208,0.7237530763925599,0.30984571367573405,0.9031014208943315,0.12631049060247895,0.3414669101998373,0.5730000000000001,0.13723661662884865,0.6888350897180291,0.5391938418360271,0.209714926847026,0.1737230344802386,0.5263157894736842,0.2849337369733532,0.5206599471122523,0.9352941176470588,0.8773454130473683,0.3787916821555176,0.3724784682201332,0.9388221363579708,0.40145326265001596,0.8586695826909907,0.760047986319816,0.6615382042480946,0.7999999208063184,0.32273470029067486,0.24563378931985336,0.3471647431432387,0.30806327992310484,0.26942921927116686,0.32721665728429744,0.48350464898063633,0.010208445991140621,0.23143762946670957,0.3107688634192932,0.2857519094021596,0.1997081098138214,0.12448986475091908,0.13309566250742721,0.20021260339501046,0.21110568095924026,0.2334005427832685,0.1845253828447861,0.49034778629447434,0.3779976695222922,0.4680139948523261,0.4634666164935478,0.6424082762270642,0.10357514583787186,0.34268947963800905,0.0496820845281137,0.12895510742371782,0.19479342855037707,0.4401296639322572,0.3762238687483461,0.4571315162741466,0.44105583487695155,0.4765572053477913,0.321944682952205,0.27479926505317465,0.17651060595845872,0.09615228170099265,0.3776326023770861,0.18797195253505933,0.41594158236752193,0.5638063739497331,0.31666661429446796,0.23503966395456358,0.49701847749886374,0.12462131883960259,0.2385180008624427,0.2833333333983264,0.12005649763449491,0.0636717092559078,0.45049183602137116],\"yaxis\":\"y\",\"type\":\"scatter\"},{\"hovertemplate\":\"<b>OLS trendline</b><br>min_max = -9.89534e-05 * Beds + 0.404442<br>R<sup>2</sup>=0.024231<br><br>hospital size (Beds)=%{x}<br>Min over Max Ratio=%{y} <b>(trend)</b><extra></extra>\",\"legendgroup\":\"\",\"marker\":{\"color\":\"#636efa\",\"symbol\":\"circle\"},\"mode\":\"lines\",\"name\":\"\",\"showlegend\":false,\"x\":[19,21,23,25,25,25,25,25,25,29,29,30,36,36,40,48,49,49,59,65,67,71,79,81,83,84,95,99,100,100,102,106,112,114,118,120,122,122,124,126,131,132,134,136,137,141,142,144,152,159,167,168,173,174,181,182,183,185,188,206,206,211,219,225,226,237,239,259,262,265,277,287,287,302,317,318,323,324,328,342,350,357,365,366,377,387,391,396,411,425,456,483,496,501,517,517,517,528,528,530,554,566,595,600,605,613,637,671,700,734,746,751,903,923,1162,1183,1541,1639,2696],\"xaxis\":\"x\",\"y\":[0.40256187747036454,0.40236397065936635,0.40216606384836817,0.40196815703737,0.40196815703737,0.40196815703737,0.40196815703737,0.40196815703737,0.40196815703737,0.4015723434153737,0.4015723434153737,0.4014733900098746,0.4008796695768801,0.4008796695768801,0.4004838559548837,0.39969222871089105,0.39959327530539196,0.39959327530539196,0.3986037412504011,0.39801002081740655,0.3978121140064084,0.39741630038441206,0.3966246731404194,0.3964267663294212,0.396228859518423,0.3961299061129239,0.395041418652434,0.39464560503043766,0.39454665162493857,0.39454665162493857,0.3943487448139404,0.393952931191944,0.39335921075894953,0.39316130394795135,0.39276549032595504,0.39256758351495685,0.39236967670395867,0.39236967670395867,0.3921717698929605,0.3919738630819623,0.3914790960544669,0.3913801426489678,0.3911822358379696,0.39098432902697144,0.3908853756214724,0.39048956199947604,0.39039060859397695,0.39019270178297877,0.3894010745389861,0.3887084007004925,0.3879167734564998,0.38781782005100074,0.3873230530235053,0.3872240996180062,0.3865314257795126,0.3864324723740135,0.3863335189685144,0.38613561215751624,0.385838751941019,0.38405759064203543,0.38405759064203543,0.38356282361454,0.38277119637054735,0.3821774759375528,0.3820785225320537,0.38099003507156376,0.38079212826056563,0.3788130601505839,0.37851619993408664,0.37821933971758936,0.3770318988516003,0.37604236479660946,0.37604236479660946,0.3745580637141232,0.3730737626316369,0.3729748092261378,0.3724800421986424,0.3723810887931433,0.37198527517114693,0.37059992749415976,0.3698083002501671,0.36911562641167345,0.36832399916768077,0.3682250457621817,0.36713655830169173,0.36614702424670087,0.36575121062470456,0.3652564435972091,0.36377214251472284,0.3623867948377356,0.35931923926726395,0.35664749731878864,0.3553611030473005,0.3548663360198051,0.3532830815318197,0.3532830815318197,0.3532830815318197,0.35219459407132975,0.35219459407132975,0.35199668726033156,0.34962180552835354,0.3484343646623645,0.345564715902891,0.34506994887539555,0.34457518184790015,0.34378355460390747,0.3414086728719294,0.33804425708496044,0.33517460832548696,0.33181019253851807,0.330622751672529,0.33012798464503357,0.3150870670091725,0.3131079988991908,0.28945813498490924,0.28738011346942843,0.2519547943007556,0.24225736056184521,0.13766361094931134],\"yaxis\":\"y\",\"type\":\"scatter\"}],                        {\"template\":{\"data\":{\"barpolar\":[{\"marker\":{\"line\":{\"color\":\"rgb(17,17,17)\",\"width\":0.5},\"pattern\":{\"fillmode\":\"overlay\",\"size\":10,\"solidity\":0.2}},\"type\":\"barpolar\"}],\"bar\":[{\"error_x\":{\"color\":\"#f2f5fa\"},\"error_y\":{\"color\":\"#f2f5fa\"},\"marker\":{\"line\":{\"color\":\"rgb(17,17,17)\",\"width\":0.5},\"pattern\":{\"fillmode\":\"overlay\",\"size\":10,\"solidity\":0.2}},\"type\":\"bar\"}],\"carpet\":[{\"aaxis\":{\"endlinecolor\":\"#A2B1C6\",\"gridcolor\":\"#506784\",\"linecolor\":\"#506784\",\"minorgridcolor\":\"#506784\",\"startlinecolor\":\"#A2B1C6\"},\"baxis\":{\"endlinecolor\":\"#A2B1C6\",\"gridcolor\":\"#506784\",\"linecolor\":\"#506784\",\"minorgridcolor\":\"#506784\",\"startlinecolor\":\"#A2B1C6\"},\"type\":\"carpet\"}],\"choropleth\":[{\"colorbar\":{\"outlinewidth\":0,\"ticks\":\"\"},\"type\":\"choropleth\"}],\"contourcarpet\":[{\"colorbar\":{\"outlinewidth\":0,\"ticks\":\"\"},\"type\":\"contourcarpet\"}],\"contour\":[{\"colorbar\":{\"outlinewidth\":0,\"ticks\":\"\"},\"colorscale\":[[0.0,\"#0d0887\"],[0.1111111111111111,\"#46039f\"],[0.2222222222222222,\"#7201a8\"],[0.3333333333333333,\"#9c179e\"],[0.4444444444444444,\"#bd3786\"],[0.5555555555555556,\"#d8576b\"],[0.6666666666666666,\"#ed7953\"],[0.7777777777777778,\"#fb9f3a\"],[0.8888888888888888,\"#fdca26\"],[1.0,\"#f0f921\"]],\"type\":\"contour\"}],\"heatmapgl\":[{\"colorbar\":{\"outlinewidth\":0,\"ticks\":\"\"},\"colorscale\":[[0.0,\"#0d0887\"],[0.1111111111111111,\"#46039f\"],[0.2222222222222222,\"#7201a8\"],[0.3333333333333333,\"#9c179e\"],[0.4444444444444444,\"#bd3786\"],[0.5555555555555556,\"#d8576b\"],[0.6666666666666666,\"#ed7953\"],[0.7777777777777778,\"#fb9f3a\"],[0.8888888888888888,\"#fdca26\"],[1.0,\"#f0f921\"]],\"type\":\"heatmapgl\"}],\"heatmap\":[{\"colorbar\":{\"outlinewidth\":0,\"ticks\":\"\"},\"colorscale\":[[0.0,\"#0d0887\"],[0.1111111111111111,\"#46039f\"],[0.2222222222222222,\"#7201a8\"],[0.3333333333333333,\"#9c179e\"],[0.4444444444444444,\"#bd3786\"],[0.5555555555555556,\"#d8576b\"],[0.6666666666666666,\"#ed7953\"],[0.7777777777777778,\"#fb9f3a\"],[0.8888888888888888,\"#fdca26\"],[1.0,\"#f0f921\"]],\"type\":\"heatmap\"}],\"histogram2dcontour\":[{\"colorbar\":{\"outlinewidth\":0,\"ticks\":\"\"},\"colorscale\":[[0.0,\"#0d0887\"],[0.1111111111111111,\"#46039f\"],[0.2222222222222222,\"#7201a8\"],[0.3333333333333333,\"#9c179e\"],[0.4444444444444444,\"#bd3786\"],[0.5555555555555556,\"#d8576b\"],[0.6666666666666666,\"#ed7953\"],[0.7777777777777778,\"#fb9f3a\"],[0.8888888888888888,\"#fdca26\"],[1.0,\"#f0f921\"]],\"type\":\"histogram2dcontour\"}],\"histogram2d\":[{\"colorbar\":{\"outlinewidth\":0,\"ticks\":\"\"},\"colorscale\":[[0.0,\"#0d0887\"],[0.1111111111111111,\"#46039f\"],[0.2222222222222222,\"#7201a8\"],[0.3333333333333333,\"#9c179e\"],[0.4444444444444444,\"#bd3786\"],[0.5555555555555556,\"#d8576b\"],[0.6666666666666666,\"#ed7953\"],[0.7777777777777778,\"#fb9f3a\"],[0.8888888888888888,\"#fdca26\"],[1.0,\"#f0f921\"]],\"type\":\"histogram2d\"}],\"histogram\":[{\"marker\":{\"pattern\":{\"fillmode\":\"overlay\",\"size\":10,\"solidity\":0.2}},\"type\":\"histogram\"}],\"mesh3d\":[{\"colorbar\":{\"outlinewidth\":0,\"ticks\":\"\"},\"type\":\"mesh3d\"}],\"parcoords\":[{\"line\":{\"colorbar\":{\"outlinewidth\":0,\"ticks\":\"\"}},\"type\":\"parcoords\"}],\"pie\":[{\"automargin\":true,\"type\":\"pie\"}],\"scatter3d\":[{\"line\":{\"colorbar\":{\"outlinewidth\":0,\"ticks\":\"\"}},\"marker\":{\"colorbar\":{\"outlinewidth\":0,\"ticks\":\"\"}},\"type\":\"scatter3d\"}],\"scattercarpet\":[{\"marker\":{\"colorbar\":{\"outlinewidth\":0,\"ticks\":\"\"}},\"type\":\"scattercarpet\"}],\"scattergeo\":[{\"marker\":{\"colorbar\":{\"outlinewidth\":0,\"ticks\":\"\"}},\"type\":\"scattergeo\"}],\"scattergl\":[{\"marker\":{\"line\":{\"color\":\"#283442\"}},\"type\":\"scattergl\"}],\"scattermapbox\":[{\"marker\":{\"colorbar\":{\"outlinewidth\":0,\"ticks\":\"\"}},\"type\":\"scattermapbox\"}],\"scatterpolargl\":[{\"marker\":{\"colorbar\":{\"outlinewidth\":0,\"ticks\":\"\"}},\"type\":\"scatterpolargl\"}],\"scatterpolar\":[{\"marker\":{\"colorbar\":{\"outlinewidth\":0,\"ticks\":\"\"}},\"type\":\"scatterpolar\"}],\"scatter\":[{\"marker\":{\"line\":{\"color\":\"#283442\"}},\"type\":\"scatter\"}],\"scatterternary\":[{\"marker\":{\"colorbar\":{\"outlinewidth\":0,\"ticks\":\"\"}},\"type\":\"scatterternary\"}],\"surface\":[{\"colorbar\":{\"outlinewidth\":0,\"ticks\":\"\"},\"colorscale\":[[0.0,\"#0d0887\"],[0.1111111111111111,\"#46039f\"],[0.2222222222222222,\"#7201a8\"],[0.3333333333333333,\"#9c179e\"],[0.4444444444444444,\"#bd3786\"],[0.5555555555555556,\"#d8576b\"],[0.6666666666666666,\"#ed7953\"],[0.7777777777777778,\"#fb9f3a\"],[0.8888888888888888,\"#fdca26\"],[1.0,\"#f0f921\"]],\"type\":\"surface\"}],\"table\":[{\"cells\":{\"fill\":{\"color\":\"#506784\"},\"line\":{\"color\":\"rgb(17,17,17)\"}},\"header\":{\"fill\":{\"color\":\"#2a3f5f\"},\"line\":{\"color\":\"rgb(17,17,17)\"}},\"type\":\"table\"}]},\"layout\":{\"annotationdefaults\":{\"arrowcolor\":\"#f2f5fa\",\"arrowhead\":0,\"arrowwidth\":1},\"autotypenumbers\":\"strict\",\"coloraxis\":{\"colorbar\":{\"outlinewidth\":0,\"ticks\":\"\"}},\"colorscale\":{\"diverging\":[[0,\"#8e0152\"],[0.1,\"#c51b7d\"],[0.2,\"#de77ae\"],[0.3,\"#f1b6da\"],[0.4,\"#fde0ef\"],[0.5,\"#f7f7f7\"],[0.6,\"#e6f5d0\"],[0.7,\"#b8e186\"],[0.8,\"#7fbc41\"],[0.9,\"#4d9221\"],[1,\"#276419\"]],\"sequential\":[[0.0,\"#0d0887\"],[0.1111111111111111,\"#46039f\"],[0.2222222222222222,\"#7201a8\"],[0.3333333333333333,\"#9c179e\"],[0.4444444444444444,\"#bd3786\"],[0.5555555555555556,\"#d8576b\"],[0.6666666666666666,\"#ed7953\"],[0.7777777777777778,\"#fb9f3a\"],[0.8888888888888888,\"#fdca26\"],[1.0,\"#f0f921\"]],\"sequentialminus\":[[0.0,\"#0d0887\"],[0.1111111111111111,\"#46039f\"],[0.2222222222222222,\"#7201a8\"],[0.3333333333333333,\"#9c179e\"],[0.4444444444444444,\"#bd3786\"],[0.5555555555555556,\"#d8576b\"],[0.6666666666666666,\"#ed7953\"],[0.7777777777777778,\"#fb9f3a\"],[0.8888888888888888,\"#fdca26\"],[1.0,\"#f0f921\"]]},\"colorway\":[\"#636efa\",\"#EF553B\",\"#00cc96\",\"#ab63fa\",\"#FFA15A\",\"#19d3f3\",\"#FF6692\",\"#B6E880\",\"#FF97FF\",\"#FECB52\"],\"font\":{\"color\":\"#f2f5fa\"},\"geo\":{\"bgcolor\":\"rgb(17,17,17)\",\"lakecolor\":\"rgb(17,17,17)\",\"landcolor\":\"rgb(17,17,17)\",\"showlakes\":true,\"showland\":true,\"subunitcolor\":\"#506784\"},\"hoverlabel\":{\"align\":\"left\"},\"hovermode\":\"closest\",\"mapbox\":{\"style\":\"dark\"},\"paper_bgcolor\":\"rgb(17,17,17)\",\"plot_bgcolor\":\"rgb(17,17,17)\",\"polar\":{\"angularaxis\":{\"gridcolor\":\"#506784\",\"linecolor\":\"#506784\",\"ticks\":\"\"},\"bgcolor\":\"rgb(17,17,17)\",\"radialaxis\":{\"gridcolor\":\"#506784\",\"linecolor\":\"#506784\",\"ticks\":\"\"}},\"scene\":{\"xaxis\":{\"backgroundcolor\":\"rgb(17,17,17)\",\"gridcolor\":\"#506784\",\"gridwidth\":2,\"linecolor\":\"#506784\",\"showbackground\":true,\"ticks\":\"\",\"zerolinecolor\":\"#C8D4E3\"},\"yaxis\":{\"backgroundcolor\":\"rgb(17,17,17)\",\"gridcolor\":\"#506784\",\"gridwidth\":2,\"linecolor\":\"#506784\",\"showbackground\":true,\"ticks\":\"\",\"zerolinecolor\":\"#C8D4E3\"},\"zaxis\":{\"backgroundcolor\":\"rgb(17,17,17)\",\"gridcolor\":\"#506784\",\"gridwidth\":2,\"linecolor\":\"#506784\",\"showbackground\":true,\"ticks\":\"\",\"zerolinecolor\":\"#C8D4E3\"}},\"shapedefaults\":{\"line\":{\"color\":\"#f2f5fa\"}},\"sliderdefaults\":{\"bgcolor\":\"#C8D4E3\",\"bordercolor\":\"rgb(17,17,17)\",\"borderwidth\":1,\"tickwidth\":0},\"ternary\":{\"aaxis\":{\"gridcolor\":\"#506784\",\"linecolor\":\"#506784\",\"ticks\":\"\"},\"baxis\":{\"gridcolor\":\"#506784\",\"linecolor\":\"#506784\",\"ticks\":\"\"},\"bgcolor\":\"rgb(17,17,17)\",\"caxis\":{\"gridcolor\":\"#506784\",\"linecolor\":\"#506784\",\"ticks\":\"\"}},\"title\":{\"x\":0.05},\"updatemenudefaults\":{\"bgcolor\":\"#506784\",\"borderwidth\":0},\"xaxis\":{\"automargin\":true,\"gridcolor\":\"#283442\",\"linecolor\":\"#506784\",\"ticks\":\"\",\"title\":{\"standoff\":15},\"zerolinecolor\":\"#283442\",\"zerolinewidth\":2},\"yaxis\":{\"automargin\":true,\"gridcolor\":\"#283442\",\"linecolor\":\"#506784\",\"ticks\":\"\",\"title\":{\"standoff\":15},\"zerolinecolor\":\"#283442\",\"zerolinewidth\":2}}},\"xaxis\":{\"anchor\":\"y\",\"domain\":[0.0,1.0],\"title\":{\"text\":\"hospital size (Beds)\"}},\"yaxis\":{\"anchor\":\"x\",\"domain\":[0.0,1.0],\"title\":{\"text\":\"Min over Max Ratio\"}},\"legend\":{\"tracegroupgap\":0},\"title\":{\"text\":\"Variability correlation with Hospital Size\"},\"height\":500,\"width\":800},                        {\"responsive\": true}                    ).then(function(){\n",
              "                            \n",
              "var gd = document.getElementById('85f8233d-e65f-4fd9-ad4f-c59793339422');\n",
              "var x = new MutationObserver(function (mutations, observer) {{\n",
              "        var display = window.getComputedStyle(gd).display;\n",
              "        if (!display || display === 'none') {{\n",
              "            console.log([gd, 'removed!']);\n",
              "            Plotly.purge(gd);\n",
              "            observer.disconnect();\n",
              "        }}\n",
              "}});\n",
              "\n",
              "// Listen for the removal of the full notebook cells\n",
              "var notebookContainer = gd.closest('#notebook-container');\n",
              "if (notebookContainer) {{\n",
              "    x.observe(notebookContainer, {childList: true});\n",
              "}}\n",
              "\n",
              "// Listen for the clearing of the current output cell\n",
              "var outputEl = gd.closest('.output');\n",
              "if (outputEl) {{\n",
              "    x.observe(outputEl, {childList: true});\n",
              "}}\n",
              "\n",
              "                        })                };                            </script>        </div>\n",
              "</body>\n",
              "</html>"
            ]
          },
          "metadata": {}
        }
      ]
    },
    {
      "cell_type": "code",
      "source": [
        "fig = px.scatter(df, x=\"Quality\", \n",
        "                 y=\"min_max\", \n",
        "                 trendline=\"ols\", \n",
        "                 labels={\"Quality\":\"Top Ranked Hospital\",\"min_max\":\"Price Extremes Ratio\"},\n",
        "                 height=500,\n",
        "                 width=800,\n",
        "                 template=list(plotly.io.templates.keys())[5],\n",
        "                 title=\"Variability correlation with Top Hospital Flag\")\n",
        "fig.show()"
      ],
      "metadata": {
        "colab": {
          "base_uri": "https://localhost:8080/",
          "height": 517
        },
        "id": "PtjNqRoiSpq-",
        "outputId": "1239442f-0021-4013-d9c0-d6014b589575"
      },
      "execution_count": 37,
      "outputs": [
        {
          "output_type": "display_data",
          "data": {
            "text/html": [
              "<html>\n",
              "<head><meta charset=\"utf-8\" /></head>\n",
              "<body>\n",
              "    <div>            <script src=\"https://cdnjs.cloudflare.com/ajax/libs/mathjax/2.7.5/MathJax.js?config=TeX-AMS-MML_SVG\"></script><script type=\"text/javascript\">if (window.MathJax) {MathJax.Hub.Config({SVG: {font: \"STIX-Web\"}});}</script>                <script type=\"text/javascript\">window.PlotlyConfig = {MathJaxConfig: 'local'};</script>\n",
              "        <script src=\"https://cdn.plot.ly/plotly-2.8.3.min.js\"></script>                <div id=\"d8419676-2c47-4f39-b9ab-d611c09c2512\" class=\"plotly-graph-div\" style=\"height:500px; width:800px;\"></div>            <script type=\"text/javascript\">                                    window.PLOTLYENV=window.PLOTLYENV || {};                                    if (document.getElementById(\"d8419676-2c47-4f39-b9ab-d611c09c2512\")) {                    Plotly.newPlot(                        \"d8419676-2c47-4f39-b9ab-d611c09c2512\",                        [{\"hovertemplate\":\"Top Ranked Hospital=%{x}<br>Price Extremes Ratio=%{y}<extra></extra>\",\"legendgroup\":\"\",\"marker\":{\"color\":\"#636efa\",\"symbol\":\"circle\"},\"mode\":\"markers\",\"name\":\"\",\"orientation\":\"v\",\"showlegend\":false,\"x\":[0,0,0,0,0,0,0,0,0,0,0,0,0,0,0,0,0,0,1,1,1,0,0,0,0,0,0,0,0,0,0,0,0,0,0,0,0,0,0,0,0,0,0,0,0,0,0,0,0,0,0,0,0,0,0,0,0,0,0,0,0,0,0,0,0,0,0,0,0,0,0,0,0,0,0,0,0,0,0,0,0,0,0,0,0,0,0,0,0,0,0,0,0,0,0,0,0,0,0,0,0,0,0,0,0,0,0,0,0,0,0,0,0,0,0,0,0,0,0,0,0,0,0,0,0,0,0,0,0,0,0,0,0,0,0,0,0,0,0,0,0,0,0,0,0,0,0,0,0,0,0,0,0,0,0,0,0,0,0,0,0,0,0,0,0,0,0,0,0,0,0,0,0,0,0,0,0,0,0,0,0,0,0,0,0,0,0,0,0,0,0,0,0,0,1,0,0,0,0,0,0,0,0,0,0,0,0,0,0,0,0,0,0,0,0,0,0,0,0,0,0,1,1,1,1,1,1],\"xaxis\":\"x\",\"y\":[0.056223175965665236,0.43683246872139153,0.400018000900045,0.4,0.2397925203681828,0.5765715396956586,0.2961743163556343,0.22727031682997303,0.23573489567945083,0.24427620147249693,0.22727272727272727,0.36,0.3611111111111111,0.3611111111111111,0.36,0.7343941248470012,0.16568695218647686,0.41866687652475015,0.3219447128962402,0.2688276684630033,0.291285597442189,0.5942697339231213,0.37510342883410497,0.3602195853303421,0.47894275647894224,0.32365025696510685,0.23210835574146005,0.3426319366280068,0.22279097368503792,0.05734118446382063,0.030579833144602494,0.06768579894228405,0.13085986141948538,0.15079266263458094,0.5500935584897316,0.5306968453965234,0.0397089126416459,0.5932631292648314,0.23988615572270786,0.1969995453856645,0.27170209028631653,0.41269104898557324,0.17870796219140875,0.29477455501772304,0.26127794179671027,0.06404930962689756,0.504324410670683,0.2885294668098226,0.3820558038087792,0.4897015085762857,0.2976943624349782,0.12022343531801448,0.44745040068681274,0.4582685329186107,0.3739495069876276,0.12926287080624674,0.17999320318975887,0.1353640863361734,0.3903729518607901,0.559257697174188,0.7343463137335958,0.11756122030188335,0.27170209028631653,0.41269104898557324,0.17870796219140875,0.29477455501772304,0.26127794179671027,0.06404930962689756,0.4062821023243926,0.23281694602845457,0.24239666807254323,0.11367686807393668,0.020434966515272445,0.11159145227049065,0.5173688100517368,0.20553963188077798,0.29722226987199163,0.19036991703693132,0.5173688100517368,0.38605890044914437,0.5173688100517368,0.20553963188077798,0.29722226987199163,0.19036991703693132,0.9899995374140587,0.6423347994065476,0.9354988939341018,0.8625282227862289,0.1068298827726775,0.9213315177033208,0.6214846509465175,0.8625282227862289,0.1068298827726775,0.9213315177033208,0.6214846509465175,0.9690995710628486,0.7483091045017441,0.5663146795382736,0.9185314630019135,0.8982192288108133,0.7747740779414987,0.36687994357398357,0.9712685410092463,0.9793815098060524,0.9793814788464478,0.41486272298871363,0.979381401568835,0.8091408443065988,0.38462125479929593,0.31395098622067774,0.6844533836088932,0.6072250518323566,0.5376416308320776,0.5568373874513488,0.6334959814857168,0.6444224250685425,0.6069095951619737,0.5647378163676962,0.5540230733181715,0.5148690174490788,0.30078234332227405,0.5821226027361851,0.588621526296152,0.46186890996261043,0.5617961369313834,0.5872587204513414,0.47511664455528124,0.4399522577020196,0.47940420626562835,0.45318413109268124,0.43530789396831393,0.4361588884911208,0.7237530763925599,0.39157376760314433,0.44350113166999283,0.39820084730314376,0.33511510622101637,0.30984571367573405,0.5115263947619697,0.9031014208943315,0.5395466224051294,0.5930474254357415,0.9408346039806479,0.12631049060247895,0.9130051833953463,0.9424995963998869,0.5903680680304115,0.3414669101998373,0.5730000000000001,0.573,0.573,0.573,0.573,0.5730000000000001,0.2857522057115631,0.13754161017008945,0.11170006087288965,0.20967495016051818,0.14312402189616455,0.13723661662884865,0.6888350897180291,0.5391938418360271,0.209714926847026,0.1737230344802386,0.5263157894736842,0.2849337369733532,0.5206599471122523,0.9352941176470588,0.8773454130473683,0.3787916821555176,0.3724784682201332,0.9388221363579708,0.40145326265001596,0.8586695826909907,0.760047986319816,0.6615382042480946,0.7999999208063184,0.32273470029067486,0.24563378931985336,0.3471647431432387,0.30806327992310484,0.26942921927116686,0.32721665728429744,0.48350464898063633,0.010208445991140621,0.23143762946670957,0.3107688634192932,0.2857519094021596,0.1997081098138214,0.12448986475091908,0.13309566250742721,0.20021260339501046,0.21110568095924026,0.2334005427832685,0.1845253828447861,0.49034778629447434,0.3779976695222922,0.4680139948523261,0.4634666164935478,0.6424082762270642,0.10357514583787186,0.34268947963800905,0.0496820845281137,0.12895510742371782,0.19479342855037707,0.4401296639322572,0.3762238687483461,0.4571315162741466,0.44105583487695155,0.4765572053477913,0.321944682952205,0.27479926505317465,0.17651060595845872,0.09615228170099265,0.3776326023770861,0.18797195253505933,0.41594158236752193,0.5638063739497331,0.31666661429446796,0.23503966395456358,0.49701847749886374,0.12462131883960259,0.2385180008624427,0.2833333333983264,0.12005649763449491,0.0636717092559078,0.45049183602137116],\"yaxis\":\"y\",\"type\":\"scatter\"},{\"hovertemplate\":\"<b>OLS trendline</b><br>min_max = -0.187266 * Quality + 0.421994<br>R<sup>2</sup>=0.025463<br><br>Top Ranked Hospital=%{x}<br>Price Extremes Ratio=%{y} <b>(trend)</b><extra></extra>\",\"legendgroup\":\"\",\"marker\":{\"color\":\"#636efa\",\"symbol\":\"circle\"},\"mode\":\"lines\",\"name\":\"\",\"showlegend\":false,\"x\":[0,0,0,0,0,0,0,0,0,0,0,0,0,0,0,0,0,0,0,0,0,0,0,0,0,0,0,0,0,0,0,0,0,0,0,0,0,0,0,0,0,0,0,0,0,0,0,0,0,0,0,0,0,0,0,0,0,0,0,0,0,0,0,0,0,0,0,0,0,0,0,0,0,0,0,0,0,0,0,0,0,0,0,0,0,0,0,0,0,0,0,0,0,0,0,0,0,0,0,0,0,0,0,0,0,0,0,0,0,0,0,0,0,0,0,0,0,0,0,0,0,0,0,0,0,0,0,0,0,0,0,0,0,0,0,0,0,0,0,0,0,0,0,0,0,0,0,0,0,0,0,0,0,0,0,0,0,0,0,0,0,0,0,0,0,0,0,0,0,0,0,0,0,0,0,0,0,0,0,0,0,0,0,0,0,0,0,0,0,0,0,0,0,0,0,0,0,0,0,0,0,0,0,0,0,0,0,0,0,0,0,0,0,0,0,0,0,1,1,1,1,1,1,1,1,1,1],\"xaxis\":\"x\",\"y\":[0.4219936392691833,0.4219936392691833,0.4219936392691833,0.4219936392691833,0.4219936392691833,0.4219936392691833,0.4219936392691833,0.4219936392691833,0.4219936392691833,0.4219936392691833,0.4219936392691833,0.4219936392691833,0.4219936392691833,0.4219936392691833,0.4219936392691833,0.4219936392691833,0.4219936392691833,0.4219936392691833,0.4219936392691833,0.4219936392691833,0.4219936392691833,0.4219936392691833,0.4219936392691833,0.4219936392691833,0.4219936392691833,0.4219936392691833,0.4219936392691833,0.4219936392691833,0.4219936392691833,0.4219936392691833,0.4219936392691833,0.4219936392691833,0.4219936392691833,0.4219936392691833,0.4219936392691833,0.4219936392691833,0.4219936392691833,0.4219936392691833,0.4219936392691833,0.4219936392691833,0.4219936392691833,0.4219936392691833,0.4219936392691833,0.4219936392691833,0.4219936392691833,0.4219936392691833,0.4219936392691833,0.4219936392691833,0.4219936392691833,0.4219936392691833,0.4219936392691833,0.4219936392691833,0.4219936392691833,0.4219936392691833,0.4219936392691833,0.4219936392691833,0.4219936392691833,0.4219936392691833,0.4219936392691833,0.4219936392691833,0.4219936392691833,0.4219936392691833,0.4219936392691833,0.4219936392691833,0.4219936392691833,0.4219936392691833,0.4219936392691833,0.4219936392691833,0.4219936392691833,0.4219936392691833,0.4219936392691833,0.4219936392691833,0.4219936392691833,0.4219936392691833,0.4219936392691833,0.4219936392691833,0.4219936392691833,0.4219936392691833,0.4219936392691833,0.4219936392691833,0.4219936392691833,0.4219936392691833,0.4219936392691833,0.4219936392691833,0.4219936392691833,0.4219936392691833,0.4219936392691833,0.4219936392691833,0.4219936392691833,0.4219936392691833,0.4219936392691833,0.4219936392691833,0.4219936392691833,0.4219936392691833,0.4219936392691833,0.4219936392691833,0.4219936392691833,0.4219936392691833,0.4219936392691833,0.4219936392691833,0.4219936392691833,0.4219936392691833,0.4219936392691833,0.4219936392691833,0.4219936392691833,0.4219936392691833,0.4219936392691833,0.4219936392691833,0.4219936392691833,0.4219936392691833,0.4219936392691833,0.4219936392691833,0.4219936392691833,0.4219936392691833,0.4219936392691833,0.4219936392691833,0.4219936392691833,0.4219936392691833,0.4219936392691833,0.4219936392691833,0.4219936392691833,0.4219936392691833,0.4219936392691833,0.4219936392691833,0.4219936392691833,0.4219936392691833,0.4219936392691833,0.4219936392691833,0.4219936392691833,0.4219936392691833,0.4219936392691833,0.4219936392691833,0.4219936392691833,0.4219936392691833,0.4219936392691833,0.4219936392691833,0.4219936392691833,0.4219936392691833,0.4219936392691833,0.4219936392691833,0.4219936392691833,0.4219936392691833,0.4219936392691833,0.4219936392691833,0.4219936392691833,0.4219936392691833,0.4219936392691833,0.4219936392691833,0.4219936392691833,0.4219936392691833,0.4219936392691833,0.4219936392691833,0.4219936392691833,0.4219936392691833,0.4219936392691833,0.4219936392691833,0.4219936392691833,0.4219936392691833,0.4219936392691833,0.4219936392691833,0.4219936392691833,0.4219936392691833,0.4219936392691833,0.4219936392691833,0.4219936392691833,0.4219936392691833,0.4219936392691833,0.4219936392691833,0.4219936392691833,0.4219936392691833,0.4219936392691833,0.4219936392691833,0.4219936392691833,0.4219936392691833,0.4219936392691833,0.4219936392691833,0.4219936392691833,0.4219936392691833,0.4219936392691833,0.4219936392691833,0.4219936392691833,0.4219936392691833,0.4219936392691833,0.4219936392691833,0.4219936392691833,0.4219936392691833,0.4219936392691833,0.4219936392691833,0.4219936392691833,0.4219936392691833,0.4219936392691833,0.4219936392691833,0.4219936392691833,0.4219936392691833,0.4219936392691833,0.4219936392691833,0.4219936392691833,0.4219936392691833,0.4219936392691833,0.4219936392691833,0.4219936392691833,0.4219936392691833,0.4219936392691833,0.4219936392691833,0.4219936392691833,0.4219936392691833,0.4219936392691833,0.4219936392691833,0.4219936392691833,0.4219936392691833,0.4219936392691833,0.4219936392691833,0.4219936392691833,0.4219936392691833,0.4219936392691833,0.4219936392691833,0.4219936392691833,0.23472760576583718,0.23472760576583718,0.23472760576583718,0.23472760576583718,0.23472760576583718,0.23472760576583718,0.23472760576583718,0.23472760576583718,0.23472760576583718,0.23472760576583718],\"yaxis\":\"y\",\"type\":\"scatter\"}],                        {\"template\":{\"data\":{\"barpolar\":[{\"marker\":{\"line\":{\"color\":\"rgb(17,17,17)\",\"width\":0.5},\"pattern\":{\"fillmode\":\"overlay\",\"size\":10,\"solidity\":0.2}},\"type\":\"barpolar\"}],\"bar\":[{\"error_x\":{\"color\":\"#f2f5fa\"},\"error_y\":{\"color\":\"#f2f5fa\"},\"marker\":{\"line\":{\"color\":\"rgb(17,17,17)\",\"width\":0.5},\"pattern\":{\"fillmode\":\"overlay\",\"size\":10,\"solidity\":0.2}},\"type\":\"bar\"}],\"carpet\":[{\"aaxis\":{\"endlinecolor\":\"#A2B1C6\",\"gridcolor\":\"#506784\",\"linecolor\":\"#506784\",\"minorgridcolor\":\"#506784\",\"startlinecolor\":\"#A2B1C6\"},\"baxis\":{\"endlinecolor\":\"#A2B1C6\",\"gridcolor\":\"#506784\",\"linecolor\":\"#506784\",\"minorgridcolor\":\"#506784\",\"startlinecolor\":\"#A2B1C6\"},\"type\":\"carpet\"}],\"choropleth\":[{\"colorbar\":{\"outlinewidth\":0,\"ticks\":\"\"},\"type\":\"choropleth\"}],\"contourcarpet\":[{\"colorbar\":{\"outlinewidth\":0,\"ticks\":\"\"},\"type\":\"contourcarpet\"}],\"contour\":[{\"colorbar\":{\"outlinewidth\":0,\"ticks\":\"\"},\"colorscale\":[[0.0,\"#0d0887\"],[0.1111111111111111,\"#46039f\"],[0.2222222222222222,\"#7201a8\"],[0.3333333333333333,\"#9c179e\"],[0.4444444444444444,\"#bd3786\"],[0.5555555555555556,\"#d8576b\"],[0.6666666666666666,\"#ed7953\"],[0.7777777777777778,\"#fb9f3a\"],[0.8888888888888888,\"#fdca26\"],[1.0,\"#f0f921\"]],\"type\":\"contour\"}],\"heatmapgl\":[{\"colorbar\":{\"outlinewidth\":0,\"ticks\":\"\"},\"colorscale\":[[0.0,\"#0d0887\"],[0.1111111111111111,\"#46039f\"],[0.2222222222222222,\"#7201a8\"],[0.3333333333333333,\"#9c179e\"],[0.4444444444444444,\"#bd3786\"],[0.5555555555555556,\"#d8576b\"],[0.6666666666666666,\"#ed7953\"],[0.7777777777777778,\"#fb9f3a\"],[0.8888888888888888,\"#fdca26\"],[1.0,\"#f0f921\"]],\"type\":\"heatmapgl\"}],\"heatmap\":[{\"colorbar\":{\"outlinewidth\":0,\"ticks\":\"\"},\"colorscale\":[[0.0,\"#0d0887\"],[0.1111111111111111,\"#46039f\"],[0.2222222222222222,\"#7201a8\"],[0.3333333333333333,\"#9c179e\"],[0.4444444444444444,\"#bd3786\"],[0.5555555555555556,\"#d8576b\"],[0.6666666666666666,\"#ed7953\"],[0.7777777777777778,\"#fb9f3a\"],[0.8888888888888888,\"#fdca26\"],[1.0,\"#f0f921\"]],\"type\":\"heatmap\"}],\"histogram2dcontour\":[{\"colorbar\":{\"outlinewidth\":0,\"ticks\":\"\"},\"colorscale\":[[0.0,\"#0d0887\"],[0.1111111111111111,\"#46039f\"],[0.2222222222222222,\"#7201a8\"],[0.3333333333333333,\"#9c179e\"],[0.4444444444444444,\"#bd3786\"],[0.5555555555555556,\"#d8576b\"],[0.6666666666666666,\"#ed7953\"],[0.7777777777777778,\"#fb9f3a\"],[0.8888888888888888,\"#fdca26\"],[1.0,\"#f0f921\"]],\"type\":\"histogram2dcontour\"}],\"histogram2d\":[{\"colorbar\":{\"outlinewidth\":0,\"ticks\":\"\"},\"colorscale\":[[0.0,\"#0d0887\"],[0.1111111111111111,\"#46039f\"],[0.2222222222222222,\"#7201a8\"],[0.3333333333333333,\"#9c179e\"],[0.4444444444444444,\"#bd3786\"],[0.5555555555555556,\"#d8576b\"],[0.6666666666666666,\"#ed7953\"],[0.7777777777777778,\"#fb9f3a\"],[0.8888888888888888,\"#fdca26\"],[1.0,\"#f0f921\"]],\"type\":\"histogram2d\"}],\"histogram\":[{\"marker\":{\"pattern\":{\"fillmode\":\"overlay\",\"size\":10,\"solidity\":0.2}},\"type\":\"histogram\"}],\"mesh3d\":[{\"colorbar\":{\"outlinewidth\":0,\"ticks\":\"\"},\"type\":\"mesh3d\"}],\"parcoords\":[{\"line\":{\"colorbar\":{\"outlinewidth\":0,\"ticks\":\"\"}},\"type\":\"parcoords\"}],\"pie\":[{\"automargin\":true,\"type\":\"pie\"}],\"scatter3d\":[{\"line\":{\"colorbar\":{\"outlinewidth\":0,\"ticks\":\"\"}},\"marker\":{\"colorbar\":{\"outlinewidth\":0,\"ticks\":\"\"}},\"type\":\"scatter3d\"}],\"scattercarpet\":[{\"marker\":{\"colorbar\":{\"outlinewidth\":0,\"ticks\":\"\"}},\"type\":\"scattercarpet\"}],\"scattergeo\":[{\"marker\":{\"colorbar\":{\"outlinewidth\":0,\"ticks\":\"\"}},\"type\":\"scattergeo\"}],\"scattergl\":[{\"marker\":{\"line\":{\"color\":\"#283442\"}},\"type\":\"scattergl\"}],\"scattermapbox\":[{\"marker\":{\"colorbar\":{\"outlinewidth\":0,\"ticks\":\"\"}},\"type\":\"scattermapbox\"}],\"scatterpolargl\":[{\"marker\":{\"colorbar\":{\"outlinewidth\":0,\"ticks\":\"\"}},\"type\":\"scatterpolargl\"}],\"scatterpolar\":[{\"marker\":{\"colorbar\":{\"outlinewidth\":0,\"ticks\":\"\"}},\"type\":\"scatterpolar\"}],\"scatter\":[{\"marker\":{\"line\":{\"color\":\"#283442\"}},\"type\":\"scatter\"}],\"scatterternary\":[{\"marker\":{\"colorbar\":{\"outlinewidth\":0,\"ticks\":\"\"}},\"type\":\"scatterternary\"}],\"surface\":[{\"colorbar\":{\"outlinewidth\":0,\"ticks\":\"\"},\"colorscale\":[[0.0,\"#0d0887\"],[0.1111111111111111,\"#46039f\"],[0.2222222222222222,\"#7201a8\"],[0.3333333333333333,\"#9c179e\"],[0.4444444444444444,\"#bd3786\"],[0.5555555555555556,\"#d8576b\"],[0.6666666666666666,\"#ed7953\"],[0.7777777777777778,\"#fb9f3a\"],[0.8888888888888888,\"#fdca26\"],[1.0,\"#f0f921\"]],\"type\":\"surface\"}],\"table\":[{\"cells\":{\"fill\":{\"color\":\"#506784\"},\"line\":{\"color\":\"rgb(17,17,17)\"}},\"header\":{\"fill\":{\"color\":\"#2a3f5f\"},\"line\":{\"color\":\"rgb(17,17,17)\"}},\"type\":\"table\"}]},\"layout\":{\"annotationdefaults\":{\"arrowcolor\":\"#f2f5fa\",\"arrowhead\":0,\"arrowwidth\":1},\"autotypenumbers\":\"strict\",\"coloraxis\":{\"colorbar\":{\"outlinewidth\":0,\"ticks\":\"\"}},\"colorscale\":{\"diverging\":[[0,\"#8e0152\"],[0.1,\"#c51b7d\"],[0.2,\"#de77ae\"],[0.3,\"#f1b6da\"],[0.4,\"#fde0ef\"],[0.5,\"#f7f7f7\"],[0.6,\"#e6f5d0\"],[0.7,\"#b8e186\"],[0.8,\"#7fbc41\"],[0.9,\"#4d9221\"],[1,\"#276419\"]],\"sequential\":[[0.0,\"#0d0887\"],[0.1111111111111111,\"#46039f\"],[0.2222222222222222,\"#7201a8\"],[0.3333333333333333,\"#9c179e\"],[0.4444444444444444,\"#bd3786\"],[0.5555555555555556,\"#d8576b\"],[0.6666666666666666,\"#ed7953\"],[0.7777777777777778,\"#fb9f3a\"],[0.8888888888888888,\"#fdca26\"],[1.0,\"#f0f921\"]],\"sequentialminus\":[[0.0,\"#0d0887\"],[0.1111111111111111,\"#46039f\"],[0.2222222222222222,\"#7201a8\"],[0.3333333333333333,\"#9c179e\"],[0.4444444444444444,\"#bd3786\"],[0.5555555555555556,\"#d8576b\"],[0.6666666666666666,\"#ed7953\"],[0.7777777777777778,\"#fb9f3a\"],[0.8888888888888888,\"#fdca26\"],[1.0,\"#f0f921\"]]},\"colorway\":[\"#636efa\",\"#EF553B\",\"#00cc96\",\"#ab63fa\",\"#FFA15A\",\"#19d3f3\",\"#FF6692\",\"#B6E880\",\"#FF97FF\",\"#FECB52\"],\"font\":{\"color\":\"#f2f5fa\"},\"geo\":{\"bgcolor\":\"rgb(17,17,17)\",\"lakecolor\":\"rgb(17,17,17)\",\"landcolor\":\"rgb(17,17,17)\",\"showlakes\":true,\"showland\":true,\"subunitcolor\":\"#506784\"},\"hoverlabel\":{\"align\":\"left\"},\"hovermode\":\"closest\",\"mapbox\":{\"style\":\"dark\"},\"paper_bgcolor\":\"rgb(17,17,17)\",\"plot_bgcolor\":\"rgb(17,17,17)\",\"polar\":{\"angularaxis\":{\"gridcolor\":\"#506784\",\"linecolor\":\"#506784\",\"ticks\":\"\"},\"bgcolor\":\"rgb(17,17,17)\",\"radialaxis\":{\"gridcolor\":\"#506784\",\"linecolor\":\"#506784\",\"ticks\":\"\"}},\"scene\":{\"xaxis\":{\"backgroundcolor\":\"rgb(17,17,17)\",\"gridcolor\":\"#506784\",\"gridwidth\":2,\"linecolor\":\"#506784\",\"showbackground\":true,\"ticks\":\"\",\"zerolinecolor\":\"#C8D4E3\"},\"yaxis\":{\"backgroundcolor\":\"rgb(17,17,17)\",\"gridcolor\":\"#506784\",\"gridwidth\":2,\"linecolor\":\"#506784\",\"showbackground\":true,\"ticks\":\"\",\"zerolinecolor\":\"#C8D4E3\"},\"zaxis\":{\"backgroundcolor\":\"rgb(17,17,17)\",\"gridcolor\":\"#506784\",\"gridwidth\":2,\"linecolor\":\"#506784\",\"showbackground\":true,\"ticks\":\"\",\"zerolinecolor\":\"#C8D4E3\"}},\"shapedefaults\":{\"line\":{\"color\":\"#f2f5fa\"}},\"sliderdefaults\":{\"bgcolor\":\"#C8D4E3\",\"bordercolor\":\"rgb(17,17,17)\",\"borderwidth\":1,\"tickwidth\":0},\"ternary\":{\"aaxis\":{\"gridcolor\":\"#506784\",\"linecolor\":\"#506784\",\"ticks\":\"\"},\"baxis\":{\"gridcolor\":\"#506784\",\"linecolor\":\"#506784\",\"ticks\":\"\"},\"bgcolor\":\"rgb(17,17,17)\",\"caxis\":{\"gridcolor\":\"#506784\",\"linecolor\":\"#506784\",\"ticks\":\"\"}},\"title\":{\"x\":0.05},\"updatemenudefaults\":{\"bgcolor\":\"#506784\",\"borderwidth\":0},\"xaxis\":{\"automargin\":true,\"gridcolor\":\"#283442\",\"linecolor\":\"#506784\",\"ticks\":\"\",\"title\":{\"standoff\":15},\"zerolinecolor\":\"#283442\",\"zerolinewidth\":2},\"yaxis\":{\"automargin\":true,\"gridcolor\":\"#283442\",\"linecolor\":\"#506784\",\"ticks\":\"\",\"title\":{\"standoff\":15},\"zerolinecolor\":\"#283442\",\"zerolinewidth\":2}}},\"xaxis\":{\"anchor\":\"y\",\"domain\":[0.0,1.0],\"title\":{\"text\":\"Top Ranked Hospital\"}},\"yaxis\":{\"anchor\":\"x\",\"domain\":[0.0,1.0],\"title\":{\"text\":\"Price Extremes Ratio\"}},\"legend\":{\"tracegroupgap\":0},\"title\":{\"text\":\"Variability correlation with Top Hospital Flag\"},\"height\":500,\"width\":800},                        {\"responsive\": true}                    ).then(function(){\n",
              "                            \n",
              "var gd = document.getElementById('d8419676-2c47-4f39-b9ab-d611c09c2512');\n",
              "var x = new MutationObserver(function (mutations, observer) {{\n",
              "        var display = window.getComputedStyle(gd).display;\n",
              "        if (!display || display === 'none') {{\n",
              "            console.log([gd, 'removed!']);\n",
              "            Plotly.purge(gd);\n",
              "            observer.disconnect();\n",
              "        }}\n",
              "}});\n",
              "\n",
              "// Listen for the removal of the full notebook cells\n",
              "var notebookContainer = gd.closest('#notebook-container');\n",
              "if (notebookContainer) {{\n",
              "    x.observe(notebookContainer, {childList: true});\n",
              "}}\n",
              "\n",
              "// Listen for the clearing of the current output cell\n",
              "var outputEl = gd.closest('.output');\n",
              "if (outputEl) {{\n",
              "    x.observe(outputEl, {childList: true});\n",
              "}}\n",
              "\n",
              "                        })                };                            </script>        </div>\n",
              "</body>\n",
              "</html>"
            ]
          },
          "metadata": {}
        }
      ]
    },
    {
      "cell_type": "code",
      "source": [
        "fig = px.scatter(df, x=\"Min_contracted\", \n",
        "                 y=\"Max_contracted\", \n",
        "                 trendline=\"ols\", \n",
        "                 #labels={\"Quality\":\"Top Ranked Hospital\",\"min_max\":\"Price Extremes Ratio\"},\n",
        "                 height=500,\n",
        "                 width=800,\n",
        "                 template=list(plotly.io.templates.keys())[5],\n",
        "                 title=\"Pltting Min vs Max\")\n",
        "fig.show()"
      ],
      "metadata": {
        "colab": {
          "base_uri": "https://localhost:8080/",
          "height": 517
        },
        "id": "Rh092c7sUAG4",
        "outputId": "9b1f5e69-106b-4eaa-9d66-51d58ae43109"
      },
      "execution_count": 42,
      "outputs": [
        {
          "output_type": "display_data",
          "data": {
            "text/html": [
              "<html>\n",
              "<head><meta charset=\"utf-8\" /></head>\n",
              "<body>\n",
              "    <div>            <script src=\"https://cdnjs.cloudflare.com/ajax/libs/mathjax/2.7.5/MathJax.js?config=TeX-AMS-MML_SVG\"></script><script type=\"text/javascript\">if (window.MathJax) {MathJax.Hub.Config({SVG: {font: \"STIX-Web\"}});}</script>                <script type=\"text/javascript\">window.PlotlyConfig = {MathJaxConfig: 'local'};</script>\n",
              "        <script src=\"https://cdn.plot.ly/plotly-2.8.3.min.js\"></script>                <div id=\"f1687587-7c75-4364-a9f6-fe5cf7b51493\" class=\"plotly-graph-div\" style=\"height:500px; width:800px;\"></div>            <script type=\"text/javascript\">                                    window.PLOTLYENV=window.PLOTLYENV || {};                                    if (document.getElementById(\"f1687587-7c75-4364-a9f6-fe5cf7b51493\")) {                    Plotly.newPlot(                        \"f1687587-7c75-4364-a9f6-fe5cf7b51493\",                        [{\"hovertemplate\":\"Min_contracted=%{x}<br>Max_contracted=%{y}<extra></extra>\",\"legendgroup\":\"\",\"marker\":{\"color\":\"#636efa\",\"symbol\":\"circle\"},\"mode\":\"markers\",\"name\":\"\",\"orientation\":\"v\",\"showlegend\":false,\"x\":[786.0,2863.0,1999.99,2829.8,3229.6,12571.07,6000.0,6000.0,6000.0,6000.0,6000.0,3915.0,3900.0,3900.0,3915.0,3000.0,7318.0,3192.0,9865.0,6906.0,7835.0,15912.0,7384.83,6239.63,10548.81,7179.21,6059.56,11601.0,7936.67,2531.9,1293.53,7677.81,6441.93,3257.88,8334.44,7074.38,2470.49,8114.22,5900.0,6500.0,7734.0,8175.29,5682.0,7734.0,7433.88,5682.0,15912.0,8787.54,7437.53,12121.65,8470.0,5682.0,12967.22,15912.0,6686.55,6919.7,7743.34,3867.0,6884.43,15912.0,13287.6,3867.0,7734.0,8175.29,5682.0,7734.0,7433.88,5682.0,13225.36,8083.87,6896.67,11363.89,2135.36,3175.0,9100.0,9100.0,8143.59,6936.68,9100.0,6790.39,9100.0,9100.0,8143.59,6936.68,9202.61,16097.0,18078.75,16006.54,3175.17,19851.23,13900.25,16006.54,3175.17,19851.23,13900.25,31438.22,18697.82,22686.13,23232.6,19404.23,27646.0,9102.75,20077.16,19735.84,25563.12,9750.0,19356.21,15666.14,7912.94,7134.42,15755.98,25656.23,18170.4,15294.04,31438.22,18697.82,15755.98,23811.69,18170.4,15294.04,14926.79,16890.2,14277.28,19474.31,15821.05,13867.04,13580.05,7939.77,6637.38,11538.0,7706.26,6432.89,16538.8,14400.0,11135.83,14351.72,14400.0,8243.47,7500.0,15937.97,10678.41,12727.8,13914.05,2213.1,14781.7,7472.74,10891.24,6337.66,11880.8685,12645.43959,16736.44185,13431.03978,10418.30892,17756.1813,15120.84,7368.66,6051.72,12087.225,7370.775,6388.71,14511.0,13217.69,3087.83,3803.44,3229.6,6279.78,13585.58,17649.0,11816.36,8284.39,7554.91,7532.17,5806.07,9140.22,18987.61,11471.39,20203.63,4108.09,4408.79,4510.59,4429.34,4510.59,4510.59,5441.4,162.54,5353.93,7809.0,8680.0,5063.0,3691.0,5376.0,6027.0,3287.23,3747.08,8091.2,4286.13,7158.100288,7273.405494,4286.13,6797.418332,4279.0,9694.0,1594.0,6082.0,9385.3714,6653.0,5687.0,6910.0,6667.0,7735.0,9865.0,4235.58,2016.0,1832.0,5534.81,2091.0,6208.76,6027.84,5038.72,3718.72,6572.13,2791.12,8164.08,6539.161717,7383.04,7353.0,9022.0],\"xaxis\":\"x\",\"y\":[13980.0,6554.0,4999.75,7074.5,13468.31,21803.14,20258.34,26400.28,25452.32,24562.36,26400.0,10875.0,10800.0,10800.0,10875.0,4085.0,44167.63,7624.2,30641.90715,25689.32,26898.0,26775.72,19687.45,17321.74,22025.2,22182.0,26106.6,33858.49,35623.84,44155.0,42300.1,113433.1,49227.7,21605.03,15150.95,13330.36,62215.0,13677.27,24595.0,32995.0,28465.0,19809.71,31794.89,26237.0,28452.0,88712.9,31551.12,30456.3,19467.13,24753.14,28452.0,47262.0,28980.24,34722.0,17880.89,53532.0,43020.18,28567.4,17635.52,28452.0,18094.46,32893.5,28465.0,19809.71,31794.89,26237.0,28452.0,88712.9,32552.16,34722.0,28452.0,99966.6,104495.4,28452.0,17589.0,44273.7,27398.99,36437.9,17589.0,17589.0,17589.0,44273.7,27398.99,36437.9,9295.57,25060.14,19325.25,18557.7,29721.74,21546.24,22366.2,18557.7,29721.74,21546.24,22366.2,32440.65,24986.76,40059.23,25293.2,21603.0,35682.66,24811.25,20671.07,20151.33,26101.29,23501.75,19763.71,19361.45,20573.33,22724.63,23019.8,42251.6,33796.49,27465.9,49626.55,29014.85,25961.0,42164.15,32797.19,29704.72,49626.55,29014.85,24255.45,42164.15,28161.55,23613.17,28582.56,18046.89,13845.06,25459.85,17703.01,14748.96,22851.44,36774.68,25108.91,36041.41,42970.31,26605.08,14662.0,17648.04,19791.45,21461.69,14789.05,17521.11,16190.16,7928.64,18448.22,18560.1,20734.5,22068.83,29208.45,23439.86,18182.04,30988.1,52915.917,53574.042,54178.3053,57647.44425,51499.21657,46552.51752,21066.0,24513.8,14723.94,21893.7,6136.24,22039.44,26093.0,18870.0,13468.31,21870.57,20282.81,8023.0,14462.63,10644.63,24982.12,17340.48,25254.54,12729.0,17948.63,12992.65,14378.02,16741.28,13784.72,11254.08,15922.11,23133.36,25128.0,30376.0,25352.0,29649.0,40392.0,30103.0,15571.49,16054.29,43848.71,8741.0,18936.89,15541.0,9247.98,10581.15,41313.0,28288.0,32084.0,47163.7,48181.15,15116.0,15116.0,15116.0,15116.0,16231.0,30641.91,15413.36,11421.41,19053.11,14656.6,11124.0,14927.0,10691.33,15911.75,15821.67,13223.11,22396.81,34228.36,23079.39429,61496.38,115483.0,20027.0],\"yaxis\":\"y\",\"type\":\"scatter\"},{\"hovertemplate\":\"<b>OLS trendline</b><br>Max_contracted = 0.305061 * Min_contracted + 24139.3<br>R<sup>2</sup>=0.010980<br><br>Min_contracted=%{x}<br>Max_contracted=%{y} <b>(trend)</b><extra></extra>\",\"legendgroup\":\"\",\"marker\":{\"color\":\"#636efa\",\"symbol\":\"circle\"},\"mode\":\"lines\",\"name\":\"\",\"showlegend\":false,\"x\":[162.54,786.0,1293.53,1594.0,1832.0,1999.99,2016.0,2091.0,2135.36,2213.1,2470.49,2531.9,2791.12,2829.8,2863.0,3000.0,3087.83,3175.0,3175.17,3175.17,3192.0,3229.6,3229.6,3257.88,3287.23,3691.0,3718.72,3747.08,3803.44,3867.0,3867.0,3900.0,3900.0,3915.0,3915.0,4108.09,4235.58,4279.0,4286.13,4286.13,4408.79,4429.34,4510.59,4510.59,4510.59,5038.72,5063.0,5353.93,5376.0,5441.4,5534.81,5682.0,5682.0,5682.0,5682.0,5682.0,5687.0,5806.07,5900.0,6000.0,6000.0,6000.0,6000.0,6000.0,6027.0,6027.84,6051.72,6059.56,6082.0,6208.76,6239.63,6279.78,6337.66,6388.71,6432.89,6441.93,6500.0,6539.161717,6572.13,6637.38,6653.0,6667.0,6686.55,6790.39,6797.418332,6884.43,6896.67,6906.0,6910.0,6919.7,6936.68,6936.68,7074.38,7134.42,7158.100288,7179.21,7273.405494,7318.0,7353.0,7368.66,7370.775,7383.04,7384.83,7433.88,7433.88,7437.53,7472.74,7500.0,7532.17,7554.91,7677.81,7706.26,7734.0,7734.0,7734.0,7734.0,7735.0,7743.34,7809.0,7835.0,7912.94,7936.67,7939.77,8083.87,8091.2,8114.22,8143.59,8143.59,8164.08,8175.29,8175.29,8243.47,8284.39,8334.44,8470.0,8680.0,8787.54,9022.0,9100.0,9100.0,9100.0,9100.0,9100.0,9102.75,9140.22,9202.61,9385.3714,9694.0,9750.0,9865.0,9865.0,10418.30892,10548.81,10678.41,10891.24,11135.83,11363.89,11471.39,11538.0,11601.0,11816.36,11880.8685,12087.225,12121.65,12571.07,12645.43959,12727.8,12967.22,13217.69,13225.36,13287.6,13431.03978,13580.05,13585.58,13867.04,13900.25,13900.25,13914.05,14277.28,14351.72,14400.0,14400.0,14511.0,14781.7,14926.79,15120.84,15294.04,15294.04,15666.14,15755.98,15755.98,15821.05,15912.0,15912.0,15912.0,15912.0,15937.97,16006.54,16006.54,16097.0,16538.8,16736.44185,16890.2,17649.0,17756.1813,18078.75,18170.4,18170.4,18697.82,18697.82,18987.61,19356.21,19404.23,19474.31,19735.84,19851.23,19851.23,20077.16,20203.63,22686.13,23232.6,23811.69,25563.12,25656.23,27646.0,31438.22,31438.22],\"xaxis\":\"x\",\"y\":[24188.887971479297,24379.0812651927,24533.908844120564,24625.570504791765,24698.175008535054,24749.42219586209,24754.30622151306,24777.1857920204,24790.71829532314,24814.433732806345,24892.953368178132,24911.68716050954,24990.765057401706,25002.564814564692,25012.69283777594,25054.486186569346,25081.27968893814,25107.871851086467,25107.923711446285,25107.923711446285,25113.05788706813,25124.52817841581,25124.52817841581,25133.15530180178,25142.108840393652,25265.28329617696,25273.739585436473,25282.391113697646,25299.58434828156,25318.97402163418,25318.97402163418,25329.041032657413,25329.041032657413,25333.616946758877,25333.616946758877,25392.521163682373,25431.413382935447,25444.659128954496,25446.834213457394,25446.834213457394,25484.252988369797,25490.52199068881,25515.30819207176,25515.30819207176,25515.30819207176,25676.420026365635,25683.826905991213,25772.57828529388,25779.31098024184,25799.26196572424,25827.75770813878,25872.65962791178,25872.65962791178,25872.65962791178,25872.65962791178,25872.65962791178,25874.184932612272,25910.508538749724,25939.162912853113,25969.6690068629,25969.6690068629,25969.6690068629,25969.6690068629,25969.6690068629,25977.90565224554,25978.161903435222,25985.44675868476,25987.838436455128,25994.684003950922,26033.353528717726,26042.770759938547,26055.018956683474,26072.67588389634,26088.249244888335,26101.726837221857,26104.484588120344,26122.199476911825,26134.14618711569,26144.203522521082,26164.108748862465,26168.873800746795,26173.144653908166,26179.108595287078,26210.78612330684,26212.93019287408,26239.47405411364,26243.208000020437,26246.05421859155,26247.274462351943,26250.23355347089,26255.413488233753,26255.413488233753,26297.420379685227,26315.7362385287,26322.96016944777,26329.399918035684,26358.135283988307,26371.739325911865,26382.416458815293,26387.193713137225,26387.83891702553,26391.58048945583,26392.126548538607,26407.089787650406,26407.089787650406,26408.203260081762,26418.944455782606,26427.260417009675,26437.074227452624,26444.011313230447,26481.503302768473,26490.182286514257,26498.64467699257,26498.64467699257,26498.64467699257,26498.64467699257,26498.94973793267,26501.493946173086,26521.52424749991,26529.455831942454,26553.23228161368,26560.471377722202,26561.417066636506,26605.376348104608,26607.612444795523,26614.634947636576,26623.594587447253,26623.594587447253,26629.845286109856,26633.265019248352,26633.265019248352,26654.064074144226,26666.547167813027,26681.815467864926,26723.16952890459,26787.23232632514,26820.038579823264,26891.563167838605,26915.357921166236,26915.357921166236,26915.357921166236,26915.357921166236,26915.357921166236,26916.196838751504,26927.627472176973,26946.66022422968,27002.41358872728,27096.56411958436,27113.64753222984,27148.729540341094,27148.729540341094,27317.52247964082,27357.333261789405,27396.869159626087,27461.79527950711,27536.410134845646,27605.98233284436,27638.77638390488,27659.096493124798,27678.31533235096,27744.013256410435,27763.692280064737,27826.643587950042,27837.14531081291,27974.245798511685,27996.933055551777,28022.05799965322,28095.095689931448,28171.504303597758,28173.844121008307,28192.831113919998,28236.588988054227,28282.046185851614,28283.733172850356,28369.595625050297,28379.726698870945,28379.726698870945,28383.936539844297,28494.74382511604,28517.452561496924,28532.18090368485,28532.18090368485,28566.04266803571,28648.622664520197,28692.883956318994,28752.081031744983,28804.91758656993,28804.91758656993,28918.43076238034,28945.837437238733,28945.837437238733,28965.6877526109,28993.433045112797,28993.433045112797,28993.433045112797,28993.433045112797,29001.35547772714,29022.27350638965,29022.27350638965,29049.869319030902,29184.645242366132,29244.93805092981,29291.84365671652,29523.323898062765,29556.020726201677,29654.42383706982,29682.382672229785,29682.382672229785,29843.277913256195,29843.277913256195,29931.68152308715,30044.126985607218,30058.77601195072,30080.154682632776,30159.937270296567,30195.138252174456,30195.138252174456,30264.060670370764,30302.64172746494,31059.955511257856,31226.662163193127,31403.319902994393,31937.61278530997,31966.017009442483,32573.018116220985,33729.87631447885,33729.87631447885],\"yaxis\":\"y\",\"type\":\"scatter\"}],                        {\"template\":{\"data\":{\"barpolar\":[{\"marker\":{\"line\":{\"color\":\"rgb(17,17,17)\",\"width\":0.5},\"pattern\":{\"fillmode\":\"overlay\",\"size\":10,\"solidity\":0.2}},\"type\":\"barpolar\"}],\"bar\":[{\"error_x\":{\"color\":\"#f2f5fa\"},\"error_y\":{\"color\":\"#f2f5fa\"},\"marker\":{\"line\":{\"color\":\"rgb(17,17,17)\",\"width\":0.5},\"pattern\":{\"fillmode\":\"overlay\",\"size\":10,\"solidity\":0.2}},\"type\":\"bar\"}],\"carpet\":[{\"aaxis\":{\"endlinecolor\":\"#A2B1C6\",\"gridcolor\":\"#506784\",\"linecolor\":\"#506784\",\"minorgridcolor\":\"#506784\",\"startlinecolor\":\"#A2B1C6\"},\"baxis\":{\"endlinecolor\":\"#A2B1C6\",\"gridcolor\":\"#506784\",\"linecolor\":\"#506784\",\"minorgridcolor\":\"#506784\",\"startlinecolor\":\"#A2B1C6\"},\"type\":\"carpet\"}],\"choropleth\":[{\"colorbar\":{\"outlinewidth\":0,\"ticks\":\"\"},\"type\":\"choropleth\"}],\"contourcarpet\":[{\"colorbar\":{\"outlinewidth\":0,\"ticks\":\"\"},\"type\":\"contourcarpet\"}],\"contour\":[{\"colorbar\":{\"outlinewidth\":0,\"ticks\":\"\"},\"colorscale\":[[0.0,\"#0d0887\"],[0.1111111111111111,\"#46039f\"],[0.2222222222222222,\"#7201a8\"],[0.3333333333333333,\"#9c179e\"],[0.4444444444444444,\"#bd3786\"],[0.5555555555555556,\"#d8576b\"],[0.6666666666666666,\"#ed7953\"],[0.7777777777777778,\"#fb9f3a\"],[0.8888888888888888,\"#fdca26\"],[1.0,\"#f0f921\"]],\"type\":\"contour\"}],\"heatmapgl\":[{\"colorbar\":{\"outlinewidth\":0,\"ticks\":\"\"},\"colorscale\":[[0.0,\"#0d0887\"],[0.1111111111111111,\"#46039f\"],[0.2222222222222222,\"#7201a8\"],[0.3333333333333333,\"#9c179e\"],[0.4444444444444444,\"#bd3786\"],[0.5555555555555556,\"#d8576b\"],[0.6666666666666666,\"#ed7953\"],[0.7777777777777778,\"#fb9f3a\"],[0.8888888888888888,\"#fdca26\"],[1.0,\"#f0f921\"]],\"type\":\"heatmapgl\"}],\"heatmap\":[{\"colorbar\":{\"outlinewidth\":0,\"ticks\":\"\"},\"colorscale\":[[0.0,\"#0d0887\"],[0.1111111111111111,\"#46039f\"],[0.2222222222222222,\"#7201a8\"],[0.3333333333333333,\"#9c179e\"],[0.4444444444444444,\"#bd3786\"],[0.5555555555555556,\"#d8576b\"],[0.6666666666666666,\"#ed7953\"],[0.7777777777777778,\"#fb9f3a\"],[0.8888888888888888,\"#fdca26\"],[1.0,\"#f0f921\"]],\"type\":\"heatmap\"}],\"histogram2dcontour\":[{\"colorbar\":{\"outlinewidth\":0,\"ticks\":\"\"},\"colorscale\":[[0.0,\"#0d0887\"],[0.1111111111111111,\"#46039f\"],[0.2222222222222222,\"#7201a8\"],[0.3333333333333333,\"#9c179e\"],[0.4444444444444444,\"#bd3786\"],[0.5555555555555556,\"#d8576b\"],[0.6666666666666666,\"#ed7953\"],[0.7777777777777778,\"#fb9f3a\"],[0.8888888888888888,\"#fdca26\"],[1.0,\"#f0f921\"]],\"type\":\"histogram2dcontour\"}],\"histogram2d\":[{\"colorbar\":{\"outlinewidth\":0,\"ticks\":\"\"},\"colorscale\":[[0.0,\"#0d0887\"],[0.1111111111111111,\"#46039f\"],[0.2222222222222222,\"#7201a8\"],[0.3333333333333333,\"#9c179e\"],[0.4444444444444444,\"#bd3786\"],[0.5555555555555556,\"#d8576b\"],[0.6666666666666666,\"#ed7953\"],[0.7777777777777778,\"#fb9f3a\"],[0.8888888888888888,\"#fdca26\"],[1.0,\"#f0f921\"]],\"type\":\"histogram2d\"}],\"histogram\":[{\"marker\":{\"pattern\":{\"fillmode\":\"overlay\",\"size\":10,\"solidity\":0.2}},\"type\":\"histogram\"}],\"mesh3d\":[{\"colorbar\":{\"outlinewidth\":0,\"ticks\":\"\"},\"type\":\"mesh3d\"}],\"parcoords\":[{\"line\":{\"colorbar\":{\"outlinewidth\":0,\"ticks\":\"\"}},\"type\":\"parcoords\"}],\"pie\":[{\"automargin\":true,\"type\":\"pie\"}],\"scatter3d\":[{\"line\":{\"colorbar\":{\"outlinewidth\":0,\"ticks\":\"\"}},\"marker\":{\"colorbar\":{\"outlinewidth\":0,\"ticks\":\"\"}},\"type\":\"scatter3d\"}],\"scattercarpet\":[{\"marker\":{\"colorbar\":{\"outlinewidth\":0,\"ticks\":\"\"}},\"type\":\"scattercarpet\"}],\"scattergeo\":[{\"marker\":{\"colorbar\":{\"outlinewidth\":0,\"ticks\":\"\"}},\"type\":\"scattergeo\"}],\"scattergl\":[{\"marker\":{\"line\":{\"color\":\"#283442\"}},\"type\":\"scattergl\"}],\"scattermapbox\":[{\"marker\":{\"colorbar\":{\"outlinewidth\":0,\"ticks\":\"\"}},\"type\":\"scattermapbox\"}],\"scatterpolargl\":[{\"marker\":{\"colorbar\":{\"outlinewidth\":0,\"ticks\":\"\"}},\"type\":\"scatterpolargl\"}],\"scatterpolar\":[{\"marker\":{\"colorbar\":{\"outlinewidth\":0,\"ticks\":\"\"}},\"type\":\"scatterpolar\"}],\"scatter\":[{\"marker\":{\"line\":{\"color\":\"#283442\"}},\"type\":\"scatter\"}],\"scatterternary\":[{\"marker\":{\"colorbar\":{\"outlinewidth\":0,\"ticks\":\"\"}},\"type\":\"scatterternary\"}],\"surface\":[{\"colorbar\":{\"outlinewidth\":0,\"ticks\":\"\"},\"colorscale\":[[0.0,\"#0d0887\"],[0.1111111111111111,\"#46039f\"],[0.2222222222222222,\"#7201a8\"],[0.3333333333333333,\"#9c179e\"],[0.4444444444444444,\"#bd3786\"],[0.5555555555555556,\"#d8576b\"],[0.6666666666666666,\"#ed7953\"],[0.7777777777777778,\"#fb9f3a\"],[0.8888888888888888,\"#fdca26\"],[1.0,\"#f0f921\"]],\"type\":\"surface\"}],\"table\":[{\"cells\":{\"fill\":{\"color\":\"#506784\"},\"line\":{\"color\":\"rgb(17,17,17)\"}},\"header\":{\"fill\":{\"color\":\"#2a3f5f\"},\"line\":{\"color\":\"rgb(17,17,17)\"}},\"type\":\"table\"}]},\"layout\":{\"annotationdefaults\":{\"arrowcolor\":\"#f2f5fa\",\"arrowhead\":0,\"arrowwidth\":1},\"autotypenumbers\":\"strict\",\"coloraxis\":{\"colorbar\":{\"outlinewidth\":0,\"ticks\":\"\"}},\"colorscale\":{\"diverging\":[[0,\"#8e0152\"],[0.1,\"#c51b7d\"],[0.2,\"#de77ae\"],[0.3,\"#f1b6da\"],[0.4,\"#fde0ef\"],[0.5,\"#f7f7f7\"],[0.6,\"#e6f5d0\"],[0.7,\"#b8e186\"],[0.8,\"#7fbc41\"],[0.9,\"#4d9221\"],[1,\"#276419\"]],\"sequential\":[[0.0,\"#0d0887\"],[0.1111111111111111,\"#46039f\"],[0.2222222222222222,\"#7201a8\"],[0.3333333333333333,\"#9c179e\"],[0.4444444444444444,\"#bd3786\"],[0.5555555555555556,\"#d8576b\"],[0.6666666666666666,\"#ed7953\"],[0.7777777777777778,\"#fb9f3a\"],[0.8888888888888888,\"#fdca26\"],[1.0,\"#f0f921\"]],\"sequentialminus\":[[0.0,\"#0d0887\"],[0.1111111111111111,\"#46039f\"],[0.2222222222222222,\"#7201a8\"],[0.3333333333333333,\"#9c179e\"],[0.4444444444444444,\"#bd3786\"],[0.5555555555555556,\"#d8576b\"],[0.6666666666666666,\"#ed7953\"],[0.7777777777777778,\"#fb9f3a\"],[0.8888888888888888,\"#fdca26\"],[1.0,\"#f0f921\"]]},\"colorway\":[\"#636efa\",\"#EF553B\",\"#00cc96\",\"#ab63fa\",\"#FFA15A\",\"#19d3f3\",\"#FF6692\",\"#B6E880\",\"#FF97FF\",\"#FECB52\"],\"font\":{\"color\":\"#f2f5fa\"},\"geo\":{\"bgcolor\":\"rgb(17,17,17)\",\"lakecolor\":\"rgb(17,17,17)\",\"landcolor\":\"rgb(17,17,17)\",\"showlakes\":true,\"showland\":true,\"subunitcolor\":\"#506784\"},\"hoverlabel\":{\"align\":\"left\"},\"hovermode\":\"closest\",\"mapbox\":{\"style\":\"dark\"},\"paper_bgcolor\":\"rgb(17,17,17)\",\"plot_bgcolor\":\"rgb(17,17,17)\",\"polar\":{\"angularaxis\":{\"gridcolor\":\"#506784\",\"linecolor\":\"#506784\",\"ticks\":\"\"},\"bgcolor\":\"rgb(17,17,17)\",\"radialaxis\":{\"gridcolor\":\"#506784\",\"linecolor\":\"#506784\",\"ticks\":\"\"}},\"scene\":{\"xaxis\":{\"backgroundcolor\":\"rgb(17,17,17)\",\"gridcolor\":\"#506784\",\"gridwidth\":2,\"linecolor\":\"#506784\",\"showbackground\":true,\"ticks\":\"\",\"zerolinecolor\":\"#C8D4E3\"},\"yaxis\":{\"backgroundcolor\":\"rgb(17,17,17)\",\"gridcolor\":\"#506784\",\"gridwidth\":2,\"linecolor\":\"#506784\",\"showbackground\":true,\"ticks\":\"\",\"zerolinecolor\":\"#C8D4E3\"},\"zaxis\":{\"backgroundcolor\":\"rgb(17,17,17)\",\"gridcolor\":\"#506784\",\"gridwidth\":2,\"linecolor\":\"#506784\",\"showbackground\":true,\"ticks\":\"\",\"zerolinecolor\":\"#C8D4E3\"}},\"shapedefaults\":{\"line\":{\"color\":\"#f2f5fa\"}},\"sliderdefaults\":{\"bgcolor\":\"#C8D4E3\",\"bordercolor\":\"rgb(17,17,17)\",\"borderwidth\":1,\"tickwidth\":0},\"ternary\":{\"aaxis\":{\"gridcolor\":\"#506784\",\"linecolor\":\"#506784\",\"ticks\":\"\"},\"baxis\":{\"gridcolor\":\"#506784\",\"linecolor\":\"#506784\",\"ticks\":\"\"},\"bgcolor\":\"rgb(17,17,17)\",\"caxis\":{\"gridcolor\":\"#506784\",\"linecolor\":\"#506784\",\"ticks\":\"\"}},\"title\":{\"x\":0.05},\"updatemenudefaults\":{\"bgcolor\":\"#506784\",\"borderwidth\":0},\"xaxis\":{\"automargin\":true,\"gridcolor\":\"#283442\",\"linecolor\":\"#506784\",\"ticks\":\"\",\"title\":{\"standoff\":15},\"zerolinecolor\":\"#283442\",\"zerolinewidth\":2},\"yaxis\":{\"automargin\":true,\"gridcolor\":\"#283442\",\"linecolor\":\"#506784\",\"ticks\":\"\",\"title\":{\"standoff\":15},\"zerolinecolor\":\"#283442\",\"zerolinewidth\":2}}},\"xaxis\":{\"anchor\":\"y\",\"domain\":[0.0,1.0],\"title\":{\"text\":\"Min_contracted\"}},\"yaxis\":{\"anchor\":\"x\",\"domain\":[0.0,1.0],\"title\":{\"text\":\"Max_contracted\"}},\"legend\":{\"tracegroupgap\":0},\"title\":{\"text\":\"Pltting Min vs Max\"},\"height\":500,\"width\":800},                        {\"responsive\": true}                    ).then(function(){\n",
              "                            \n",
              "var gd = document.getElementById('f1687587-7c75-4364-a9f6-fe5cf7b51493');\n",
              "var x = new MutationObserver(function (mutations, observer) {{\n",
              "        var display = window.getComputedStyle(gd).display;\n",
              "        if (!display || display === 'none') {{\n",
              "            console.log([gd, 'removed!']);\n",
              "            Plotly.purge(gd);\n",
              "            observer.disconnect();\n",
              "        }}\n",
              "}});\n",
              "\n",
              "// Listen for the removal of the full notebook cells\n",
              "var notebookContainer = gd.closest('#notebook-container');\n",
              "if (notebookContainer) {{\n",
              "    x.observe(notebookContainer, {childList: true});\n",
              "}}\n",
              "\n",
              "// Listen for the clearing of the current output cell\n",
              "var outputEl = gd.closest('.output');\n",
              "if (outputEl) {{\n",
              "    x.observe(outputEl, {childList: true});\n",
              "}}\n",
              "\n",
              "                        })                };                            </script>        </div>\n",
              "</body>\n",
              "</html>"
            ]
          },
          "metadata": {}
        }
      ]
    },
    {
      "cell_type": "code",
      "source": [
        "fig = px.scatter(df, x=\"min_max\", \n",
        "                 #y=\"Max_contracted\", \n",
        "                 #trendline=\"ols\", \n",
        "                 #labels={\"Quality\":\"Top Ranked Hospital\",\"min_max\":\"Price Extremes Ratio\"},\n",
        "                 height=500,\n",
        "                 width=800,\n",
        "                 template=list(plotly.io.templates.keys())[5],\n",
        "                 title=\"Pltting Min vs Max\")\n",
        "fig.show()"
      ],
      "metadata": {
        "colab": {
          "base_uri": "https://localhost:8080/",
          "height": 517
        },
        "id": "mjI5doMLUmth",
        "outputId": "bb1b15c1-4a99-48b0-a7c5-6f50e650ea33"
      },
      "execution_count": 38,
      "outputs": [
        {
          "output_type": "display_data",
          "data": {
            "text/html": [
              "<html>\n",
              "<head><meta charset=\"utf-8\" /></head>\n",
              "<body>\n",
              "    <div>            <script src=\"https://cdnjs.cloudflare.com/ajax/libs/mathjax/2.7.5/MathJax.js?config=TeX-AMS-MML_SVG\"></script><script type=\"text/javascript\">if (window.MathJax) {MathJax.Hub.Config({SVG: {font: \"STIX-Web\"}});}</script>                <script type=\"text/javascript\">window.PlotlyConfig = {MathJaxConfig: 'local'};</script>\n",
              "        <script src=\"https://cdn.plot.ly/plotly-2.8.3.min.js\"></script>                <div id=\"791c2838-99c0-4d4d-a307-3379764e17d4\" class=\"plotly-graph-div\" style=\"height:500px; width:800px;\"></div>            <script type=\"text/javascript\">                                    window.PLOTLYENV=window.PLOTLYENV || {};                                    if (document.getElementById(\"791c2838-99c0-4d4d-a307-3379764e17d4\")) {                    Plotly.newPlot(                        \"791c2838-99c0-4d4d-a307-3379764e17d4\",                        [{\"hovertemplate\":\"min_max=%{x}<br>index=%{y}<extra></extra>\",\"legendgroup\":\"\",\"marker\":{\"color\":\"#636efa\",\"symbol\":\"circle\"},\"mode\":\"markers\",\"name\":\"\",\"orientation\":\"h\",\"showlegend\":false,\"x\":[0.056223175965665236,0.43683246872139153,0.400018000900045,0.4,0.2397925203681828,0.5765715396956586,0.2961743163556343,0.22727031682997303,0.23573489567945083,0.24427620147249693,0.22727272727272727,0.36,0.3611111111111111,0.3611111111111111,0.36,0.7343941248470012,0.16568695218647686,0.41866687652475015,0.3219447128962402,0.2688276684630033,0.291285597442189,0.5942697339231213,0.37510342883410497,0.3602195853303421,0.47894275647894224,0.32365025696510685,0.23210835574146005,0.3426319366280068,0.22279097368503792,0.05734118446382063,0.030579833144602494,0.06768579894228405,0.13085986141948538,0.15079266263458094,0.5500935584897316,0.5306968453965234,0.0397089126416459,0.5932631292648314,0.23988615572270786,0.1969995453856645,0.27170209028631653,0.41269104898557324,0.17870796219140875,0.29477455501772304,0.26127794179671027,0.06404930962689756,0.504324410670683,0.2885294668098226,0.3820558038087792,0.4897015085762857,0.2976943624349782,0.12022343531801448,0.44745040068681274,0.4582685329186107,0.3739495069876276,0.12926287080624674,0.17999320318975887,0.1353640863361734,0.3903729518607901,0.559257697174188,0.7343463137335958,0.11756122030188335,0.27170209028631653,0.41269104898557324,0.17870796219140875,0.29477455501772304,0.26127794179671027,0.06404930962689756,0.4062821023243926,0.23281694602845457,0.24239666807254323,0.11367686807393668,0.020434966515272445,0.11159145227049065,0.5173688100517368,0.20553963188077798,0.29722226987199163,0.19036991703693132,0.5173688100517368,0.38605890044914437,0.5173688100517368,0.20553963188077798,0.29722226987199163,0.19036991703693132,0.9899995374140587,0.6423347994065476,0.9354988939341018,0.8625282227862289,0.1068298827726775,0.9213315177033208,0.6214846509465175,0.8625282227862289,0.1068298827726775,0.9213315177033208,0.6214846509465175,0.9690995710628486,0.7483091045017441,0.5663146795382736,0.9185314630019135,0.8982192288108133,0.7747740779414987,0.36687994357398357,0.9712685410092463,0.9793815098060524,0.9793814788464478,0.41486272298871363,0.979381401568835,0.8091408443065988,0.38462125479929593,0.31395098622067774,0.6844533836088932,0.6072250518323566,0.5376416308320776,0.5568373874513488,0.6334959814857168,0.6444224250685425,0.6069095951619737,0.5647378163676962,0.5540230733181715,0.5148690174490788,0.30078234332227405,0.5821226027361851,0.588621526296152,0.46186890996261043,0.5617961369313834,0.5872587204513414,0.47511664455528124,0.4399522577020196,0.47940420626562835,0.45318413109268124,0.43530789396831393,0.4361588884911208,0.7237530763925599,0.39157376760314433,0.44350113166999283,0.39820084730314376,0.33511510622101637,0.30984571367573405,0.5115263947619697,0.9031014208943315,0.5395466224051294,0.5930474254357415,0.9408346039806479,0.12631049060247895,0.9130051833953463,0.9424995963998869,0.5903680680304115,0.3414669101998373,0.5730000000000001,0.573,0.573,0.573,0.573,0.5730000000000001,0.2857522057115631,0.13754161017008945,0.11170006087288965,0.20967495016051818,0.14312402189616455,0.13723661662884865,0.6888350897180291,0.5391938418360271,0.209714926847026,0.1737230344802386,0.5263157894736842,0.2849337369733532,0.5206599471122523,0.9352941176470588,0.8773454130473683,0.3787916821555176,0.3724784682201332,0.9388221363579708,0.40145326265001596,0.8586695826909907,0.760047986319816,0.6615382042480946,0.7999999208063184,0.32273470029067486,0.24563378931985336,0.3471647431432387,0.30806327992310484,0.26942921927116686,0.32721665728429744,0.48350464898063633,0.010208445991140621,0.23143762946670957,0.3107688634192932,0.2857519094021596,0.1997081098138214,0.12448986475091908,0.13309566250742721,0.20021260339501046,0.21110568095924026,0.2334005427832685,0.1845253828447861,0.49034778629447434,0.3779976695222922,0.4680139948523261,0.4634666164935478,0.6424082762270642,0.10357514583787186,0.34268947963800905,0.0496820845281137,0.12895510742371782,0.19479342855037707,0.4401296639322572,0.3762238687483461,0.4571315162741466,0.44105583487695155,0.4765572053477913,0.321944682952205,0.27479926505317465,0.17651060595845872,0.09615228170099265,0.3776326023770861,0.18797195253505933,0.41594158236752193,0.5638063739497331,0.31666661429446796,0.23503966395456358,0.49701847749886374,0.12462131883960259,0.2385180008624427,0.2833333333983264,0.12005649763449491,0.0636717092559078,0.45049183602137116],\"xaxis\":\"x\",\"y\":[0,1,2,3,4,5,6,7,8,9,10,11,12,13,14,15,16,17,18,19,20,21,22,23,24,25,26,27,28,29,30,31,32,33,34,35,36,37,38,39,40,41,42,43,44,45,46,47,48,49,50,51,52,53,54,55,56,57,58,59,60,61,62,63,64,65,66,67,68,69,70,71,72,73,74,75,76,77,78,79,80,81,82,83,84,85,86,87,88,89,90,91,92,93,94,95,96,97,98,99,100,101,102,103,104,105,106,107,108,109,110,111,112,113,114,115,116,117,118,119,120,121,122,123,124,125,126,127,128,129,130,131,132,133,134,135,136,137,138,139,140,141,142,143,144,145,146,147,148,149,150,151,152,153,154,155,156,157,158,159,160,161,162,163,164,165,166,167,168,169,170,171,172,173,174,175,176,177,178,179,180,181,182,183,184,185,186,187,188,189,190,191,192,193,194,195,196,197,198,199,200,201,202,203,204,205,206,207,208,209,210,211,212,213,214,215,216,217,218,219,220,221,222,223,224,225,226],\"yaxis\":\"y\",\"type\":\"scatter\"}],                        {\"template\":{\"data\":{\"barpolar\":[{\"marker\":{\"line\":{\"color\":\"rgb(17,17,17)\",\"width\":0.5},\"pattern\":{\"fillmode\":\"overlay\",\"size\":10,\"solidity\":0.2}},\"type\":\"barpolar\"}],\"bar\":[{\"error_x\":{\"color\":\"#f2f5fa\"},\"error_y\":{\"color\":\"#f2f5fa\"},\"marker\":{\"line\":{\"color\":\"rgb(17,17,17)\",\"width\":0.5},\"pattern\":{\"fillmode\":\"overlay\",\"size\":10,\"solidity\":0.2}},\"type\":\"bar\"}],\"carpet\":[{\"aaxis\":{\"endlinecolor\":\"#A2B1C6\",\"gridcolor\":\"#506784\",\"linecolor\":\"#506784\",\"minorgridcolor\":\"#506784\",\"startlinecolor\":\"#A2B1C6\"},\"baxis\":{\"endlinecolor\":\"#A2B1C6\",\"gridcolor\":\"#506784\",\"linecolor\":\"#506784\",\"minorgridcolor\":\"#506784\",\"startlinecolor\":\"#A2B1C6\"},\"type\":\"carpet\"}],\"choropleth\":[{\"colorbar\":{\"outlinewidth\":0,\"ticks\":\"\"},\"type\":\"choropleth\"}],\"contourcarpet\":[{\"colorbar\":{\"outlinewidth\":0,\"ticks\":\"\"},\"type\":\"contourcarpet\"}],\"contour\":[{\"colorbar\":{\"outlinewidth\":0,\"ticks\":\"\"},\"colorscale\":[[0.0,\"#0d0887\"],[0.1111111111111111,\"#46039f\"],[0.2222222222222222,\"#7201a8\"],[0.3333333333333333,\"#9c179e\"],[0.4444444444444444,\"#bd3786\"],[0.5555555555555556,\"#d8576b\"],[0.6666666666666666,\"#ed7953\"],[0.7777777777777778,\"#fb9f3a\"],[0.8888888888888888,\"#fdca26\"],[1.0,\"#f0f921\"]],\"type\":\"contour\"}],\"heatmapgl\":[{\"colorbar\":{\"outlinewidth\":0,\"ticks\":\"\"},\"colorscale\":[[0.0,\"#0d0887\"],[0.1111111111111111,\"#46039f\"],[0.2222222222222222,\"#7201a8\"],[0.3333333333333333,\"#9c179e\"],[0.4444444444444444,\"#bd3786\"],[0.5555555555555556,\"#d8576b\"],[0.6666666666666666,\"#ed7953\"],[0.7777777777777778,\"#fb9f3a\"],[0.8888888888888888,\"#fdca26\"],[1.0,\"#f0f921\"]],\"type\":\"heatmapgl\"}],\"heatmap\":[{\"colorbar\":{\"outlinewidth\":0,\"ticks\":\"\"},\"colorscale\":[[0.0,\"#0d0887\"],[0.1111111111111111,\"#46039f\"],[0.2222222222222222,\"#7201a8\"],[0.3333333333333333,\"#9c179e\"],[0.4444444444444444,\"#bd3786\"],[0.5555555555555556,\"#d8576b\"],[0.6666666666666666,\"#ed7953\"],[0.7777777777777778,\"#fb9f3a\"],[0.8888888888888888,\"#fdca26\"],[1.0,\"#f0f921\"]],\"type\":\"heatmap\"}],\"histogram2dcontour\":[{\"colorbar\":{\"outlinewidth\":0,\"ticks\":\"\"},\"colorscale\":[[0.0,\"#0d0887\"],[0.1111111111111111,\"#46039f\"],[0.2222222222222222,\"#7201a8\"],[0.3333333333333333,\"#9c179e\"],[0.4444444444444444,\"#bd3786\"],[0.5555555555555556,\"#d8576b\"],[0.6666666666666666,\"#ed7953\"],[0.7777777777777778,\"#fb9f3a\"],[0.8888888888888888,\"#fdca26\"],[1.0,\"#f0f921\"]],\"type\":\"histogram2dcontour\"}],\"histogram2d\":[{\"colorbar\":{\"outlinewidth\":0,\"ticks\":\"\"},\"colorscale\":[[0.0,\"#0d0887\"],[0.1111111111111111,\"#46039f\"],[0.2222222222222222,\"#7201a8\"],[0.3333333333333333,\"#9c179e\"],[0.4444444444444444,\"#bd3786\"],[0.5555555555555556,\"#d8576b\"],[0.6666666666666666,\"#ed7953\"],[0.7777777777777778,\"#fb9f3a\"],[0.8888888888888888,\"#fdca26\"],[1.0,\"#f0f921\"]],\"type\":\"histogram2d\"}],\"histogram\":[{\"marker\":{\"pattern\":{\"fillmode\":\"overlay\",\"size\":10,\"solidity\":0.2}},\"type\":\"histogram\"}],\"mesh3d\":[{\"colorbar\":{\"outlinewidth\":0,\"ticks\":\"\"},\"type\":\"mesh3d\"}],\"parcoords\":[{\"line\":{\"colorbar\":{\"outlinewidth\":0,\"ticks\":\"\"}},\"type\":\"parcoords\"}],\"pie\":[{\"automargin\":true,\"type\":\"pie\"}],\"scatter3d\":[{\"line\":{\"colorbar\":{\"outlinewidth\":0,\"ticks\":\"\"}},\"marker\":{\"colorbar\":{\"outlinewidth\":0,\"ticks\":\"\"}},\"type\":\"scatter3d\"}],\"scattercarpet\":[{\"marker\":{\"colorbar\":{\"outlinewidth\":0,\"ticks\":\"\"}},\"type\":\"scattercarpet\"}],\"scattergeo\":[{\"marker\":{\"colorbar\":{\"outlinewidth\":0,\"ticks\":\"\"}},\"type\":\"scattergeo\"}],\"scattergl\":[{\"marker\":{\"line\":{\"color\":\"#283442\"}},\"type\":\"scattergl\"}],\"scattermapbox\":[{\"marker\":{\"colorbar\":{\"outlinewidth\":0,\"ticks\":\"\"}},\"type\":\"scattermapbox\"}],\"scatterpolargl\":[{\"marker\":{\"colorbar\":{\"outlinewidth\":0,\"ticks\":\"\"}},\"type\":\"scatterpolargl\"}],\"scatterpolar\":[{\"marker\":{\"colorbar\":{\"outlinewidth\":0,\"ticks\":\"\"}},\"type\":\"scatterpolar\"}],\"scatter\":[{\"marker\":{\"line\":{\"color\":\"#283442\"}},\"type\":\"scatter\"}],\"scatterternary\":[{\"marker\":{\"colorbar\":{\"outlinewidth\":0,\"ticks\":\"\"}},\"type\":\"scatterternary\"}],\"surface\":[{\"colorbar\":{\"outlinewidth\":0,\"ticks\":\"\"},\"colorscale\":[[0.0,\"#0d0887\"],[0.1111111111111111,\"#46039f\"],[0.2222222222222222,\"#7201a8\"],[0.3333333333333333,\"#9c179e\"],[0.4444444444444444,\"#bd3786\"],[0.5555555555555556,\"#d8576b\"],[0.6666666666666666,\"#ed7953\"],[0.7777777777777778,\"#fb9f3a\"],[0.8888888888888888,\"#fdca26\"],[1.0,\"#f0f921\"]],\"type\":\"surface\"}],\"table\":[{\"cells\":{\"fill\":{\"color\":\"#506784\"},\"line\":{\"color\":\"rgb(17,17,17)\"}},\"header\":{\"fill\":{\"color\":\"#2a3f5f\"},\"line\":{\"color\":\"rgb(17,17,17)\"}},\"type\":\"table\"}]},\"layout\":{\"annotationdefaults\":{\"arrowcolor\":\"#f2f5fa\",\"arrowhead\":0,\"arrowwidth\":1},\"autotypenumbers\":\"strict\",\"coloraxis\":{\"colorbar\":{\"outlinewidth\":0,\"ticks\":\"\"}},\"colorscale\":{\"diverging\":[[0,\"#8e0152\"],[0.1,\"#c51b7d\"],[0.2,\"#de77ae\"],[0.3,\"#f1b6da\"],[0.4,\"#fde0ef\"],[0.5,\"#f7f7f7\"],[0.6,\"#e6f5d0\"],[0.7,\"#b8e186\"],[0.8,\"#7fbc41\"],[0.9,\"#4d9221\"],[1,\"#276419\"]],\"sequential\":[[0.0,\"#0d0887\"],[0.1111111111111111,\"#46039f\"],[0.2222222222222222,\"#7201a8\"],[0.3333333333333333,\"#9c179e\"],[0.4444444444444444,\"#bd3786\"],[0.5555555555555556,\"#d8576b\"],[0.6666666666666666,\"#ed7953\"],[0.7777777777777778,\"#fb9f3a\"],[0.8888888888888888,\"#fdca26\"],[1.0,\"#f0f921\"]],\"sequentialminus\":[[0.0,\"#0d0887\"],[0.1111111111111111,\"#46039f\"],[0.2222222222222222,\"#7201a8\"],[0.3333333333333333,\"#9c179e\"],[0.4444444444444444,\"#bd3786\"],[0.5555555555555556,\"#d8576b\"],[0.6666666666666666,\"#ed7953\"],[0.7777777777777778,\"#fb9f3a\"],[0.8888888888888888,\"#fdca26\"],[1.0,\"#f0f921\"]]},\"colorway\":[\"#636efa\",\"#EF553B\",\"#00cc96\",\"#ab63fa\",\"#FFA15A\",\"#19d3f3\",\"#FF6692\",\"#B6E880\",\"#FF97FF\",\"#FECB52\"],\"font\":{\"color\":\"#f2f5fa\"},\"geo\":{\"bgcolor\":\"rgb(17,17,17)\",\"lakecolor\":\"rgb(17,17,17)\",\"landcolor\":\"rgb(17,17,17)\",\"showlakes\":true,\"showland\":true,\"subunitcolor\":\"#506784\"},\"hoverlabel\":{\"align\":\"left\"},\"hovermode\":\"closest\",\"mapbox\":{\"style\":\"dark\"},\"paper_bgcolor\":\"rgb(17,17,17)\",\"plot_bgcolor\":\"rgb(17,17,17)\",\"polar\":{\"angularaxis\":{\"gridcolor\":\"#506784\",\"linecolor\":\"#506784\",\"ticks\":\"\"},\"bgcolor\":\"rgb(17,17,17)\",\"radialaxis\":{\"gridcolor\":\"#506784\",\"linecolor\":\"#506784\",\"ticks\":\"\"}},\"scene\":{\"xaxis\":{\"backgroundcolor\":\"rgb(17,17,17)\",\"gridcolor\":\"#506784\",\"gridwidth\":2,\"linecolor\":\"#506784\",\"showbackground\":true,\"ticks\":\"\",\"zerolinecolor\":\"#C8D4E3\"},\"yaxis\":{\"backgroundcolor\":\"rgb(17,17,17)\",\"gridcolor\":\"#506784\",\"gridwidth\":2,\"linecolor\":\"#506784\",\"showbackground\":true,\"ticks\":\"\",\"zerolinecolor\":\"#C8D4E3\"},\"zaxis\":{\"backgroundcolor\":\"rgb(17,17,17)\",\"gridcolor\":\"#506784\",\"gridwidth\":2,\"linecolor\":\"#506784\",\"showbackground\":true,\"ticks\":\"\",\"zerolinecolor\":\"#C8D4E3\"}},\"shapedefaults\":{\"line\":{\"color\":\"#f2f5fa\"}},\"sliderdefaults\":{\"bgcolor\":\"#C8D4E3\",\"bordercolor\":\"rgb(17,17,17)\",\"borderwidth\":1,\"tickwidth\":0},\"ternary\":{\"aaxis\":{\"gridcolor\":\"#506784\",\"linecolor\":\"#506784\",\"ticks\":\"\"},\"baxis\":{\"gridcolor\":\"#506784\",\"linecolor\":\"#506784\",\"ticks\":\"\"},\"bgcolor\":\"rgb(17,17,17)\",\"caxis\":{\"gridcolor\":\"#506784\",\"linecolor\":\"#506784\",\"ticks\":\"\"}},\"title\":{\"x\":0.05},\"updatemenudefaults\":{\"bgcolor\":\"#506784\",\"borderwidth\":0},\"xaxis\":{\"automargin\":true,\"gridcolor\":\"#283442\",\"linecolor\":\"#506784\",\"ticks\":\"\",\"title\":{\"standoff\":15},\"zerolinecolor\":\"#283442\",\"zerolinewidth\":2},\"yaxis\":{\"automargin\":true,\"gridcolor\":\"#283442\",\"linecolor\":\"#506784\",\"ticks\":\"\",\"title\":{\"standoff\":15},\"zerolinecolor\":\"#283442\",\"zerolinewidth\":2}}},\"xaxis\":{\"anchor\":\"y\",\"domain\":[0.0,1.0],\"title\":{\"text\":\"min_max\"}},\"yaxis\":{\"anchor\":\"x\",\"domain\":[0.0,1.0],\"title\":{\"text\":\"index\"}},\"legend\":{\"tracegroupgap\":0},\"title\":{\"text\":\"Pltting Min vs Max\"},\"height\":500,\"width\":800},                        {\"responsive\": true}                    ).then(function(){\n",
              "                            \n",
              "var gd = document.getElementById('791c2838-99c0-4d4d-a307-3379764e17d4');\n",
              "var x = new MutationObserver(function (mutations, observer) {{\n",
              "        var display = window.getComputedStyle(gd).display;\n",
              "        if (!display || display === 'none') {{\n",
              "            console.log([gd, 'removed!']);\n",
              "            Plotly.purge(gd);\n",
              "            observer.disconnect();\n",
              "        }}\n",
              "}});\n",
              "\n",
              "// Listen for the removal of the full notebook cells\n",
              "var notebookContainer = gd.closest('#notebook-container');\n",
              "if (notebookContainer) {{\n",
              "    x.observe(notebookContainer, {childList: true});\n",
              "}}\n",
              "\n",
              "// Listen for the clearing of the current output cell\n",
              "var outputEl = gd.closest('.output');\n",
              "if (outputEl) {{\n",
              "    x.observe(outputEl, {childList: true});\n",
              "}}\n",
              "\n",
              "                        })                };                            </script>        </div>\n",
              "</body>\n",
              "</html>"
            ]
          },
          "metadata": {}
        }
      ]
    },
    {
      "cell_type": "code",
      "source": [
        ""
      ],
      "metadata": {
        "id": "GMz4q-hgV5XI"
      },
      "execution_count": null,
      "outputs": []
    }
  ]
}