{
  "nbformat": 4,
  "nbformat_minor": 0,
  "metadata": {
    "colab": {
      "name": "DS601_Assignment3.ipynb",
      "provenance": [],
      "authorship_tag": "ABX9TyN/4XVtjB3wgpwSEpFGW0Cj",
      "include_colab_link": true
    },
    "kernelspec": {
      "name": "python3",
      "display_name": "Python 3"
    },
    "language_info": {
      "name": "python"
    }
  },
  "cells": [
    {
      "cell_type": "markdown",
      "metadata": {
        "id": "view-in-github",
        "colab_type": "text"
      },
      "source": [
        "<a href=\"https://colab.research.google.com/github/aperfilyeva/anna_data601/blob/main/assignment_03/DS601_Assignment3.ipynb\" target=\"_parent\"><img src=\"https://colab.research.google.com/assets/colab-badge.svg\" alt=\"Open In Colab\"/></a>"
      ]
    },
    {
      "cell_type": "markdown",
      "source": [
        "### Assignment 3\n",
        "\n",
        " - Anna Perfilyeva\n",
        " - 03/04/2022"
      ],
      "metadata": {
        "id": "CG0RRxZgX3TZ"
      }
    },
    {
      "cell_type": "markdown",
      "source": [
        "Write a Python notebook that generates a file containing the following data:\n",
        " - Email addresses\n",
        " - Phone numbers\n",
        " - Home Address\n",
        " - Person's name\n",
        " - Year born. Use realistic values.\n",
        " - Number of kids. Use realistic values.\n",
        " - Categorical variable: rent or own?\n",
        " - Annual income. Optional challenge: Use a non-uniform distribution\n",
        " - Number of speeding tickets in past year. Optional challenge: Use a non-uniform distribution\n",
        " - User of your notebook should be able to specify how many entities are to be generated.\n",
        " - Generate data in 2 of the following 3 formats: XML, CSV, or JSON. Your choice! Order of columns in CSV is not relevant."
      ],
      "metadata": {
        "id": "hNqxFd9-j1dc"
      }
    },
    {
      "cell_type": "code",
      "source": [
        "import pandas as pd\n",
        "import numpy as np\n",
        "import random\n",
        "import string\n",
        "\n"
      ],
      "metadata": {
        "id": "ty1Ioss5lXkX"
      },
      "execution_count": 83,
      "outputs": []
    },
    {
      "cell_type": "code",
      "source": [
        "pip install faker"
      ],
      "metadata": {
        "colab": {
          "base_uri": "https://localhost:8080/"
        },
        "id": "wZRDucdUO1S6",
        "outputId": "a00a5d5c-505d-453f-d234-763d209f491e"
      },
      "execution_count": 84,
      "outputs": [
        {
          "output_type": "stream",
          "name": "stdout",
          "text": [
            "Requirement already satisfied: faker in /usr/local/lib/python3.7/dist-packages (13.3.0)\n",
            "Requirement already satisfied: typing-extensions>=3.10.0.2 in /usr/local/lib/python3.7/dist-packages (from faker) (3.10.0.2)\n",
            "Requirement already satisfied: python-dateutil>=2.4 in /usr/local/lib/python3.7/dist-packages (from faker) (2.8.2)\n",
            "Requirement already satisfied: six>=1.5 in /usr/local/lib/python3.7/dist-packages (from python-dateutil>=2.4->faker) (1.15.0)\n"
          ]
        }
      ]
    },
    {
      "cell_type": "code",
      "source": [
        "from faker import Faker\n",
        "\n",
        "fake=Faker()"
      ],
      "metadata": {
        "id": "Zt4mibuYYyxG"
      },
      "execution_count": 85,
      "outputs": []
    },
    {
      "cell_type": "markdown",
      "source": [
        "### Define number of observations"
      ],
      "metadata": {
        "id": "XIPhK25LVpKS"
      }
    },
    {
      "cell_type": "code",
      "source": [
        "obs=input(\"Input desired number of random observations:\")\n",
        "print(obs)"
      ],
      "metadata": {
        "colab": {
          "base_uri": "https://localhost:8080/"
        },
        "id": "YSUeH-8HVw6W",
        "outputId": "0f41282b-f0bf-4aa4-f7df-bfb9b06ce3ba"
      },
      "execution_count": 86,
      "outputs": [
        {
          "output_type": "stream",
          "name": "stdout",
          "text": [
            "Input desired number of random observations:5\n",
            "5\n"
          ]
        }
      ]
    },
    {
      "cell_type": "code",
      "source": [
        "#pip install names"
      ],
      "metadata": {
        "id": "SDNUTGFvlarZ"
      },
      "execution_count": 87,
      "outputs": []
    },
    {
      "cell_type": "markdown",
      "source": [
        "### Random Email"
      ],
      "metadata": {
        "id": "aSgdjsKYxr75"
      }
    },
    {
      "cell_type": "code",
      "source": [
        "# domains = [ \"hotmail.com\", \"gmail.com\", \"jh.edu\", \"umbc.edu\" , \"yahoo.com\"]\n",
        "\n",
        "email_list=[]\n",
        "i=0\n",
        "while i <int(obs):\n",
        "   email=fake.email()\n",
        "   email_list.append(email)\n",
        "   i=i+1\n",
        "\n",
        "#email_list"
      ],
      "metadata": {
        "id": "pPXCNOhdB36n"
      },
      "execution_count": 88,
      "outputs": []
    },
    {
      "cell_type": "markdown",
      "source": [
        "### Random phone number\n"
      ],
      "metadata": {
        "id": "vhvTe4lfFZTu"
      }
    },
    {
      "cell_type": "code",
      "source": [
        "phone_list=[]\n",
        "i=0\n",
        "while i<int(obs):\n",
        "    phone_number=str(random.randint(100,999))+\"-\"+str(random.randint(100,999))+\"-\"+str(random.randint(1000,9999))\n",
        "    phone_list.append(phone_number)\n",
        "    i=i+1\n",
        "\n",
        "phone_list"
      ],
      "metadata": {
        "colab": {
          "base_uri": "https://localhost:8080/"
        },
        "id": "nSn6u7r1FOZf",
        "outputId": "c6f1b2d9-90b5-4c40-93e8-e74e68588c4a"
      },
      "execution_count": 89,
      "outputs": [
        {
          "output_type": "execute_result",
          "data": {
            "text/plain": [
              "['690-418-5504',\n",
              " '427-824-9765',\n",
              " '949-655-8040',\n",
              " '192-221-9488',\n",
              " '281-170-7309']"
            ]
          },
          "metadata": {},
          "execution_count": 89
        }
      ]
    },
    {
      "cell_type": "markdown",
      "source": [
        "### Home Address"
      ],
      "metadata": {
        "id": "dFTJN6XGODW9"
      }
    },
    {
      "cell_type": "code",
      "source": [
        "address_list=[]\n",
        "i=0\n",
        "\n",
        "while i<int(obs):\n",
        "  address=fake.address()\n",
        "  address1=address.replace(\"\\n\",\" \")\n",
        "  address_list.append(address1)\n",
        "  i=i+1\n",
        "\n",
        "#address_list"
      ],
      "metadata": {
        "id": "pPsWwqiyO7GU"
      },
      "execution_count": 90,
      "outputs": []
    },
    {
      "cell_type": "markdown",
      "source": [
        "### Name List"
      ],
      "metadata": {
        "id": "Ch0seFn5T8dZ"
      }
    },
    {
      "cell_type": "code",
      "source": [
        "name_list=[]\n",
        "i=0\n",
        "\n",
        "while i<int(obs):\n",
        "  name=fake.name()\n",
        "  name_list.append(name)\n",
        "  i=i+1\n",
        "\n",
        "#name_list"
      ],
      "metadata": {
        "id": "uhyomGFDT_SF"
      },
      "execution_count": 91,
      "outputs": []
    },
    {
      "cell_type": "markdown",
      "source": [
        "### Year Born"
      ],
      "metadata": {
        "id": "2s3dKZf5UOgP"
      }
    },
    {
      "cell_type": "code",
      "source": [
        "year_born_list=[]\n",
        "i=0\n",
        "\n",
        "while i<int(obs):\n",
        "    year_born=random.randint(1930,2021)\n",
        "    year_born_list.append(year_born)\n",
        "    i=i+1\n",
        "\n",
        "#year_born_list"
      ],
      "metadata": {
        "id": "_n5DTcqYUWKe"
      },
      "execution_count": 92,
      "outputs": []
    },
    {
      "cell_type": "markdown",
      "source": [
        "### Number of Kids"
      ],
      "metadata": {
        "id": "QZxyvlxzUzmu"
      }
    },
    {
      "cell_type": "code",
      "source": [
        "kids_list=[]\n",
        "i=0\n",
        "\n",
        "while i<int(obs):\n",
        "    kids=random.randint(0,5)\n",
        "    kids_list.append(kids)\n",
        "    i=i+1\n",
        "\n",
        "#kids_list"
      ],
      "metadata": {
        "id": "rWylaPSlU4Z5"
      },
      "execution_count": 93,
      "outputs": []
    },
    {
      "cell_type": "markdown",
      "source": [
        "### Rent or Own"
      ],
      "metadata": {
        "id": "CxJ9qC93dtlk"
      }
    },
    {
      "cell_type": "code",
      "source": [
        "rent_list=[]\n",
        "rent_options=['Rent','Own']\n",
        "i=0\n",
        "\n",
        "while i<int(obs):\n",
        "    rent=rent_options[random.randint(0,1)]\n",
        "    rent_list.append(rent)\n",
        "    i=i+1\n",
        "\n",
        "#rent_list"
      ],
      "metadata": {
        "id": "vMvl6TzRdnay"
      },
      "execution_count": 94,
      "outputs": []
    },
    {
      "cell_type": "markdown",
      "source": [
        "### Annual Income"
      ],
      "metadata": {
        "id": "LeSFMSIbfIgV"
      }
    },
    {
      "cell_type": "code",
      "source": [
        "income_list=[]\n",
        "i=0\n",
        "\n",
        "while i<int(obs):\n",
        "    income=random.normalvariate(50000, 19000)\n",
        "    income_list.append(round(income))\n",
        "    i=i+1\n",
        "\n",
        "#income_list\n"
      ],
      "metadata": {
        "id": "XQ4i3wQlfKxj"
      },
      "execution_count": 95,
      "outputs": []
    },
    {
      "cell_type": "markdown",
      "source": [
        "### Number of speeding tickets"
      ],
      "metadata": {
        "id": "VuBGTCqZpAOo"
      }
    },
    {
      "cell_type": "code",
      "source": [
        "tickets_list=[]\n",
        "tickets_options=[0,0,0,1,1,2,2,3]\n",
        "i=0\n",
        "\n",
        "while i<int(obs):\n",
        "    tickets=random.choice(tickets_options)\n",
        "    tickets_list.append(tickets)\n",
        "    i=i+1\n",
        "\n",
        "#tickets_list\n"
      ],
      "metadata": {
        "id": "PIiXwsBQpVoF"
      },
      "execution_count": 96,
      "outputs": []
    },
    {
      "cell_type": "code",
      "source": [
        "df = pd.DataFrame(zip(name_list, email_list, phone_list, address_list, year_born_list, kids_list, rent_list, income_list, tickets_list),\n",
        "                  columns=('Name','Email','Phone','Address','Year Born','Kids','Rent/Own','Income','Tickets'))\n",
        "\n",
        "df"
      ],
      "metadata": {
        "id": "ZqTViklpTsKr",
        "colab": {
          "base_uri": "https://localhost:8080/",
          "height": 206
        },
        "outputId": "60e965ad-b016-4b23-e2da-6641ffb7be74"
      },
      "execution_count": 97,
      "outputs": [
        {
          "output_type": "execute_result",
          "data": {
            "text/html": [
              "\n",
              "  <div id=\"df-693b9661-1089-4975-b9d2-20d5844cc8f6\">\n",
              "    <div class=\"colab-df-container\">\n",
              "      <div>\n",
              "<style scoped>\n",
              "    .dataframe tbody tr th:only-of-type {\n",
              "        vertical-align: middle;\n",
              "    }\n",
              "\n",
              "    .dataframe tbody tr th {\n",
              "        vertical-align: top;\n",
              "    }\n",
              "\n",
              "    .dataframe thead th {\n",
              "        text-align: right;\n",
              "    }\n",
              "</style>\n",
              "<table border=\"1\" class=\"dataframe\">\n",
              "  <thead>\n",
              "    <tr style=\"text-align: right;\">\n",
              "      <th></th>\n",
              "      <th>Name</th>\n",
              "      <th>Email</th>\n",
              "      <th>Phone</th>\n",
              "      <th>Address</th>\n",
              "      <th>Year Born</th>\n",
              "      <th>Kids</th>\n",
              "      <th>Rent/Own</th>\n",
              "      <th>Income</th>\n",
              "      <th>Tickets</th>\n",
              "    </tr>\n",
              "  </thead>\n",
              "  <tbody>\n",
              "    <tr>\n",
              "      <th>0</th>\n",
              "      <td>Wesley Stone</td>\n",
              "      <td>rebeccalewis@example.org</td>\n",
              "      <td>690-418-5504</td>\n",
              "      <td>840 Gregory Estates Apt. 679 East Sarahhaven, ...</td>\n",
              "      <td>1992</td>\n",
              "      <td>2</td>\n",
              "      <td>Rent</td>\n",
              "      <td>35445</td>\n",
              "      <td>0</td>\n",
              "    </tr>\n",
              "    <tr>\n",
              "      <th>1</th>\n",
              "      <td>David Williams</td>\n",
              "      <td>zachary72@example.net</td>\n",
              "      <td>427-824-9765</td>\n",
              "      <td>4822 Julie Ferry Apt. 340 Port Jaytown, NH 75579</td>\n",
              "      <td>1936</td>\n",
              "      <td>0</td>\n",
              "      <td>Rent</td>\n",
              "      <td>44131</td>\n",
              "      <td>0</td>\n",
              "    </tr>\n",
              "    <tr>\n",
              "      <th>2</th>\n",
              "      <td>Tanya Reese</td>\n",
              "      <td>nichole79@example.net</td>\n",
              "      <td>949-655-8040</td>\n",
              "      <td>5377 Stephenson Skyway Suite 393 New Russell, ...</td>\n",
              "      <td>1996</td>\n",
              "      <td>3</td>\n",
              "      <td>Own</td>\n",
              "      <td>33949</td>\n",
              "      <td>0</td>\n",
              "    </tr>\n",
              "    <tr>\n",
              "      <th>3</th>\n",
              "      <td>Vincent Moore</td>\n",
              "      <td>shanemaldonado@example.org</td>\n",
              "      <td>192-221-9488</td>\n",
              "      <td>77460 Veronica Trafficway North Chadbury, UT 2...</td>\n",
              "      <td>1969</td>\n",
              "      <td>1</td>\n",
              "      <td>Own</td>\n",
              "      <td>67496</td>\n",
              "      <td>3</td>\n",
              "    </tr>\n",
              "    <tr>\n",
              "      <th>4</th>\n",
              "      <td>Brian Small</td>\n",
              "      <td>susan41@example.org</td>\n",
              "      <td>281-170-7309</td>\n",
              "      <td>663 Paul Estates North Andrea, DE 73182</td>\n",
              "      <td>1949</td>\n",
              "      <td>1</td>\n",
              "      <td>Rent</td>\n",
              "      <td>32058</td>\n",
              "      <td>0</td>\n",
              "    </tr>\n",
              "  </tbody>\n",
              "</table>\n",
              "</div>\n",
              "      <button class=\"colab-df-convert\" onclick=\"convertToInteractive('df-693b9661-1089-4975-b9d2-20d5844cc8f6')\"\n",
              "              title=\"Convert this dataframe to an interactive table.\"\n",
              "              style=\"display:none;\">\n",
              "        \n",
              "  <svg xmlns=\"http://www.w3.org/2000/svg\" height=\"24px\"viewBox=\"0 0 24 24\"\n",
              "       width=\"24px\">\n",
              "    <path d=\"M0 0h24v24H0V0z\" fill=\"none\"/>\n",
              "    <path d=\"M18.56 5.44l.94 2.06.94-2.06 2.06-.94-2.06-.94-.94-2.06-.94 2.06-2.06.94zm-11 1L8.5 8.5l.94-2.06 2.06-.94-2.06-.94L8.5 2.5l-.94 2.06-2.06.94zm10 10l.94 2.06.94-2.06 2.06-.94-2.06-.94-.94-2.06-.94 2.06-2.06.94z\"/><path d=\"M17.41 7.96l-1.37-1.37c-.4-.4-.92-.59-1.43-.59-.52 0-1.04.2-1.43.59L10.3 9.45l-7.72 7.72c-.78.78-.78 2.05 0 2.83L4 21.41c.39.39.9.59 1.41.59.51 0 1.02-.2 1.41-.59l7.78-7.78 2.81-2.81c.8-.78.8-2.07 0-2.86zM5.41 20L4 18.59l7.72-7.72 1.47 1.35L5.41 20z\"/>\n",
              "  </svg>\n",
              "      </button>\n",
              "      \n",
              "  <style>\n",
              "    .colab-df-container {\n",
              "      display:flex;\n",
              "      flex-wrap:wrap;\n",
              "      gap: 12px;\n",
              "    }\n",
              "\n",
              "    .colab-df-convert {\n",
              "      background-color: #E8F0FE;\n",
              "      border: none;\n",
              "      border-radius: 50%;\n",
              "      cursor: pointer;\n",
              "      display: none;\n",
              "      fill: #1967D2;\n",
              "      height: 32px;\n",
              "      padding: 0 0 0 0;\n",
              "      width: 32px;\n",
              "    }\n",
              "\n",
              "    .colab-df-convert:hover {\n",
              "      background-color: #E2EBFA;\n",
              "      box-shadow: 0px 1px 2px rgba(60, 64, 67, 0.3), 0px 1px 3px 1px rgba(60, 64, 67, 0.15);\n",
              "      fill: #174EA6;\n",
              "    }\n",
              "\n",
              "    [theme=dark] .colab-df-convert {\n",
              "      background-color: #3B4455;\n",
              "      fill: #D2E3FC;\n",
              "    }\n",
              "\n",
              "    [theme=dark] .colab-df-convert:hover {\n",
              "      background-color: #434B5C;\n",
              "      box-shadow: 0px 1px 3px 1px rgba(0, 0, 0, 0.15);\n",
              "      filter: drop-shadow(0px 1px 2px rgba(0, 0, 0, 0.3));\n",
              "      fill: #FFFFFF;\n",
              "    }\n",
              "  </style>\n",
              "\n",
              "      <script>\n",
              "        const buttonEl =\n",
              "          document.querySelector('#df-693b9661-1089-4975-b9d2-20d5844cc8f6 button.colab-df-convert');\n",
              "        buttonEl.style.display =\n",
              "          google.colab.kernel.accessAllowed ? 'block' : 'none';\n",
              "\n",
              "        async function convertToInteractive(key) {\n",
              "          const element = document.querySelector('#df-693b9661-1089-4975-b9d2-20d5844cc8f6');\n",
              "          const dataTable =\n",
              "            await google.colab.kernel.invokeFunction('convertToInteractive',\n",
              "                                                     [key], {});\n",
              "          if (!dataTable) return;\n",
              "\n",
              "          const docLinkHtml = 'Like what you see? Visit the ' +\n",
              "            '<a target=\"_blank\" href=https://colab.research.google.com/notebooks/data_table.ipynb>data table notebook</a>'\n",
              "            + ' to learn more about interactive tables.';\n",
              "          element.innerHTML = '';\n",
              "          dataTable['output_type'] = 'display_data';\n",
              "          await google.colab.output.renderOutput(dataTable, element);\n",
              "          const docLink = document.createElement('div');\n",
              "          docLink.innerHTML = docLinkHtml;\n",
              "          element.appendChild(docLink);\n",
              "        }\n",
              "      </script>\n",
              "    </div>\n",
              "  </div>\n",
              "  "
            ],
            "text/plain": [
              "             Name                       Email         Phone  \\\n",
              "0    Wesley Stone    rebeccalewis@example.org  690-418-5504   \n",
              "1  David Williams       zachary72@example.net  427-824-9765   \n",
              "2     Tanya Reese       nichole79@example.net  949-655-8040   \n",
              "3   Vincent Moore  shanemaldonado@example.org  192-221-9488   \n",
              "4     Brian Small         susan41@example.org  281-170-7309   \n",
              "\n",
              "                                             Address  Year Born  Kids  \\\n",
              "0  840 Gregory Estates Apt. 679 East Sarahhaven, ...       1992     2   \n",
              "1   4822 Julie Ferry Apt. 340 Port Jaytown, NH 75579       1936     0   \n",
              "2  5377 Stephenson Skyway Suite 393 New Russell, ...       1996     3   \n",
              "3  77460 Veronica Trafficway North Chadbury, UT 2...       1969     1   \n",
              "4            663 Paul Estates North Andrea, DE 73182       1949     1   \n",
              "\n",
              "  Rent/Own  Income  Tickets  \n",
              "0     Rent   35445        0  \n",
              "1     Rent   44131        0  \n",
              "2      Own   33949        0  \n",
              "3      Own   67496        3  \n",
              "4     Rent   32058        0  "
            ]
          },
          "metadata": {},
          "execution_count": 97
        }
      ]
    },
    {
      "cell_type": "code",
      "source": [
        "df.to_csv(\"fake_data.csv\",\",\")"
      ],
      "metadata": {
        "id": "WDg5dKoTv50Y"
      },
      "execution_count": 98,
      "outputs": []
    }
  ]
}