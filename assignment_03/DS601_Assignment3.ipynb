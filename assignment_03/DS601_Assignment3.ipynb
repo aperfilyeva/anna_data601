{
  "nbformat": 4,
  "nbformat_minor": 0,
  "metadata": {
    "colab": {
      "name": "DS601_Assignment3.ipynb",
      "provenance": [],
      "authorship_tag": "ABX9TyN6jRtztSwEkBaX8bbY3vH/",
      "include_colab_link": true
    },
    "kernelspec": {
      "name": "python3",
      "display_name": "Python 3"
    },
    "language_info": {
      "name": "python"
    }
  },
  "cells": [
    {
      "cell_type": "markdown",
      "metadata": {
        "id": "view-in-github",
        "colab_type": "text"
      },
      "source": [
        "<a href=\"https://colab.research.google.com/github/aperfilyeva/anna_data601/blob/main/assignment_03/DS601_Assignment3.ipynb\" target=\"_parent\"><img src=\"https://colab.research.google.com/assets/colab-badge.svg\" alt=\"Open In Colab\"/></a>"
      ]
    },
    {
      "cell_type": "code",
      "execution_count": null,
      "metadata": {
        "id": "21rxu4dEjxHy"
      },
      "outputs": [],
      "source": [
        ""
      ]
    },
    {
      "cell_type": "markdown",
      "source": [
        ""
      ],
      "metadata": {
        "id": "QXD_xENMkJDY"
      }
    },
    {
      "cell_type": "markdown",
      "source": [
        "Write a Python notebook that generates a file containing the following data:\n",
        " - Email addresses\n",
        " - Phone numbers\n",
        " - Home Address\n",
        " - Person's name\n",
        " - Year born. Use realistic values.\n",
        " - Number of kids. Use realistic values.\n",
        " - Categorical variable: rent or own?\n",
        " - Annual income. Optional challenge: Use a non-uniform distribution\n",
        " - Number of speeding tickets in past year. Optional challenge: Use a non-uniform distribution\n",
        " - User of your notebook should be able to specify how many entities are to be generated.\n",
        " - Generate data in 2 of the following 3 formats: XML, CSV, or JSON. Your choice! Order of columns in CSV is not relevant."
      ],
      "metadata": {
        "id": "hNqxFd9-j1dc"
      }
    },
    {
      "cell_type": "markdown",
      "source": [
        "Faker tutorial:\n",
        "https://www.youtube.com/watch?v=NCBDDTjZoC4"
      ],
      "metadata": {
        "id": "UCZi6q_UWoAf"
      }
    },
    {
      "cell_type": "code",
      "source": [
        "import pandas as pd\n",
        "import numpy as np\n",
        "import random\n",
        "import string\n",
        "\n"
      ],
      "metadata": {
        "id": "ty1Ioss5lXkX"
      },
      "execution_count": 1,
      "outputs": []
    },
    {
      "cell_type": "markdown",
      "source": [
        "### Define number of observations"
      ],
      "metadata": {
        "id": "XIPhK25LVpKS"
      }
    },
    {
      "cell_type": "code",
      "source": [
        "obs=input(\"Input desired number of random observations:\")\n",
        "print(obs)"
      ],
      "metadata": {
        "colab": {
          "base_uri": "https://localhost:8080/"
        },
        "id": "YSUeH-8HVw6W",
        "outputId": "f5209d45-3e41-45f8-b6e5-96cb1cebd5b1"
      },
      "execution_count": 11,
      "outputs": [
        {
          "output_type": "stream",
          "name": "stdout",
          "text": [
            "Input desired number of random observations:10\n",
            "10\n"
          ]
        }
      ]
    },
    {
      "cell_type": "code",
      "source": [
        "pip install faker"
      ],
      "metadata": {
        "colab": {
          "base_uri": "https://localhost:8080/"
        },
        "id": "wZRDucdUO1S6",
        "outputId": "c6f43f41-7287-4374-a8e8-53cccac7b16e"
      },
      "execution_count": 12,
      "outputs": [
        {
          "output_type": "stream",
          "name": "stdout",
          "text": [
            "Collecting faker\n",
            "  Downloading Faker-13.3.0-py3-none-any.whl (1.5 MB)\n",
            "\u001b[K     |████████████████████████████████| 1.5 MB 4.4 MB/s \n",
            "\u001b[?25hRequirement already satisfied: python-dateutil>=2.4 in /usr/local/lib/python3.7/dist-packages (from faker) (2.8.2)\n",
            "Requirement already satisfied: typing-extensions>=3.10.0.2 in /usr/local/lib/python3.7/dist-packages (from faker) (3.10.0.2)\n",
            "Requirement already satisfied: six>=1.5 in /usr/local/lib/python3.7/dist-packages (from python-dateutil>=2.4->faker) (1.15.0)\n",
            "Installing collected packages: faker\n",
            "Successfully installed faker-13.3.0\n"
          ]
        }
      ]
    },
    {
      "cell_type": "code",
      "source": [
        "pip install names"
      ],
      "metadata": {
        "colab": {
          "base_uri": "https://localhost:8080/"
        },
        "id": "SDNUTGFvlarZ",
        "outputId": "2df593f8-7bb8-4c2c-e828-f04005f1c198"
      },
      "execution_count": null,
      "outputs": [
        {
          "output_type": "stream",
          "name": "stdout",
          "text": [
            "Collecting names\n",
            "  Downloading names-0.3.0.tar.gz (789 kB)\n",
            "\u001b[K     |████████████████████████████████| 789 kB 4.3 MB/s \n",
            "\u001b[?25hBuilding wheels for collected packages: names\n",
            "  Building wheel for names (setup.py) ... \u001b[?25l\u001b[?25hdone\n",
            "  Created wheel for names: filename=names-0.3.0-py3-none-any.whl size=803699 sha256=2a6ed8e006bce42bda9fe295e63ddcf70c7fc14d96a0885714eb9939c1d838ba\n",
            "  Stored in directory: /root/.cache/pip/wheels/05/ea/68/92f6b0669e478af9b7c3c524520d03050089e034edcc775c2b\n",
            "Successfully built names\n",
            "Installing collected packages: names\n",
            "Successfully installed names-0.3.0\n"
          ]
        }
      ]
    },
    {
      "cell_type": "code",
      "source": [
        "# Email- option 1\n",
        "import random\n",
        "import string\n",
        "domains = [ \"hotmail.com\", \"gmail.com\", \"jh.edu\", \"umbc.edu\" , \"yahoo.com\"]\n",
        "\n",
        "def random_char(y):\n",
        "       return ''.join(random.choice(string.ascii_letters) for x in range(y))\n",
        "\n",
        "email_list=[]\n",
        "i=0\n",
        "while i <int(obs):\n",
        "   email=random_char(7)  + \"@\" + domains[random.randint( 0, len(domains)-1)]\n",
        "   email_list.append(email)\n",
        "   i=i+1\n",
        "\n",
        "email_list"
      ],
      "metadata": {
        "colab": {
          "base_uri": "https://localhost:8080/"
        },
        "id": "pPXCNOhdB36n",
        "outputId": "1085393e-1399-47b3-8c5c-f886ecafe227"
      },
      "execution_count": 13,
      "outputs": [
        {
          "output_type": "execute_result",
          "data": {
            "text/plain": [
              "['rpMOCrJ@yahoo.com',\n",
              " 'NbQPbNX@yahoo.com',\n",
              " 'DWEvThU@jh.edu',\n",
              " 'VtpzLTI@jh.edu',\n",
              " 'fhsrkMC@umbc.edu',\n",
              " 'rchUdQG@umbc.edu',\n",
              " 'RZpBRdD@jh.edu',\n",
              " 'uHuSvBD@umbc.edu',\n",
              " 'tXuGrAl@hotmail.com',\n",
              " 'grogzgu@hotmail.com']"
            ]
          },
          "metadata": {},
          "execution_count": 13
        }
      ]
    },
    {
      "cell_type": "markdown",
      "source": [
        "### Random phone number\n"
      ],
      "metadata": {
        "id": "vhvTe4lfFZTu"
      }
    },
    {
      "cell_type": "code",
      "source": [
        "phone_list=[]\n",
        "i=0\n",
        "while i<10:\n",
        "    phone_number=str(random.randint(100,999))+\"-\"+str(random.randint(100,999))+\"-\"+str(random.randint(1000,9999))\n",
        "    phone_list.append(phone_number)\n",
        "    i=i+1\n",
        "\n",
        "phone_list"
      ],
      "metadata": {
        "colab": {
          "base_uri": "https://localhost:8080/"
        },
        "id": "nSn6u7r1FOZf",
        "outputId": "b6147ef5-1a94-4635-d8a5-4e97c4ddf9cd"
      },
      "execution_count": 41,
      "outputs": [
        {
          "output_type": "execute_result",
          "data": {
            "text/plain": [
              "['627-690-8656',\n",
              " '281-982-8354',\n",
              " '344-378-1808',\n",
              " '125-244-2393',\n",
              " '327-290-5798',\n",
              " '220-292-3463',\n",
              " '851-596-3206',\n",
              " '126-155-1382',\n",
              " '335-855-7116',\n",
              " '609-874-5979']"
            ]
          },
          "metadata": {},
          "execution_count": 41
        }
      ]
    },
    {
      "cell_type": "markdown",
      "source": [
        "### Home Address"
      ],
      "metadata": {
        "id": "dFTJN6XGODW9"
      }
    },
    {
      "cell_type": "code",
      "source": [
        "from faker import Faker\n",
        "\n",
        "fake=Faker()\n",
        "\n",
        "address_list=[]\n",
        "i=0\n",
        "\n",
        "while i<10:\n",
        "  address=fake.address()\n",
        "  address1=address.replace(\"\\n\",\" \")\n",
        "  address_list.append(address1)\n",
        "  i=i+1\n",
        "\n",
        "address_list"
      ],
      "metadata": {
        "colab": {
          "base_uri": "https://localhost:8080/"
        },
        "id": "pPsWwqiyO7GU",
        "outputId": "c660efa0-ee04-4296-eb7a-6a258f55c80f"
      },
      "execution_count": 42,
      "outputs": [
        {
          "output_type": "execute_result",
          "data": {
            "text/plain": [
              "['9670 Miranda Lane West Jennifershire, MI 22659',\n",
              " '72268 Jones Row Apt. 545 Joeberg, TX 69982',\n",
              " '7189 Jeffrey Summit Joehaven, DE 21903',\n",
              " '62535 Kenneth Rest New Ryanfurt, OH 13472',\n",
              " '612 Williamson Gateway Suite 807 Clarkland, SD 88855',\n",
              " '4623 Miller Trail North Jesseberg, NJ 74223',\n",
              " '13721 Becker Mill Josephchester, NC 60810',\n",
              " '073 Maurice Keys Moonfurt, MA 80173',\n",
              " '13120 Johnson Cliffs Suite 380 Mariastad, OK 62016',\n",
              " '20604 Brown Squares South Briannaburgh, MS 62456']"
            ]
          },
          "metadata": {},
          "execution_count": 42
        }
      ]
    },
    {
      "cell_type": "markdown",
      "source": [
        "### Name List"
      ],
      "metadata": {
        "id": "Ch0seFn5T8dZ"
      }
    },
    {
      "cell_type": "code",
      "source": [
        "name_list=[]\n",
        "i=0\n",
        "\n",
        "while i<10:\n",
        "  name=fake.name()\n",
        "  name_list.append(name)\n",
        "  i=i+1\n",
        "\n",
        "name_list"
      ],
      "metadata": {
        "colab": {
          "base_uri": "https://localhost:8080/"
        },
        "id": "uhyomGFDT_SF",
        "outputId": "8ff74643-3709-4115-a0e1-595a89f4f470"
      },
      "execution_count": 43,
      "outputs": [
        {
          "output_type": "execute_result",
          "data": {
            "text/plain": [
              "['Melissa Hudson',\n",
              " 'Cody Cantrell',\n",
              " 'Nicholas Young',\n",
              " 'Kevin Hawkins',\n",
              " 'Christine Osborne',\n",
              " 'Joyce Mckenzie',\n",
              " 'Darryl Michael',\n",
              " 'Richard Chavez',\n",
              " 'Christina Christian',\n",
              " 'Ricardo Martinez']"
            ]
          },
          "metadata": {},
          "execution_count": 43
        }
      ]
    },
    {
      "cell_type": "markdown",
      "source": [
        "### Year Born"
      ],
      "metadata": {
        "id": "2s3dKZf5UOgP"
      }
    },
    {
      "cell_type": "code",
      "source": [
        "year_born_list=[]\n",
        "i=0\n",
        "\n",
        "while i<10:\n",
        "    year_born=random.randint(1930,2021)\n",
        "    year_born_list.append(year_born)\n",
        "    i=i+1\n",
        "\n",
        "year_born_list"
      ],
      "metadata": {
        "colab": {
          "base_uri": "https://localhost:8080/"
        },
        "id": "_n5DTcqYUWKe",
        "outputId": "3ea95484-b85d-4a32-e80d-bfc0f3fbdb6a"
      },
      "execution_count": 44,
      "outputs": [
        {
          "output_type": "execute_result",
          "data": {
            "text/plain": [
              "[1944, 1989, 1990, 1955, 1937, 1966, 1968, 2008, 1936, 1990]"
            ]
          },
          "metadata": {},
          "execution_count": 44
        }
      ]
    },
    {
      "cell_type": "markdown",
      "source": [
        "### Number of Kids"
      ],
      "metadata": {
        "id": "QZxyvlxzUzmu"
      }
    },
    {
      "cell_type": "code",
      "source": [
        "kids_list=[]\n",
        "i=0\n",
        "\n",
        "while i<10:\n",
        "    kids=random.randint(0,5)\n",
        "    kids_list.append(kids)\n",
        "    i=i+1\n",
        "\n",
        "kids_list"
      ],
      "metadata": {
        "colab": {
          "base_uri": "https://localhost:8080/"
        },
        "id": "rWylaPSlU4Z5",
        "outputId": "7eb4c9bd-3414-4ceb-e1e7-080ad4923041"
      },
      "execution_count": 45,
      "outputs": [
        {
          "output_type": "execute_result",
          "data": {
            "text/plain": [
              "[4, 3, 5, 2, 3, 2, 1, 1, 3, 0]"
            ]
          },
          "metadata": {},
          "execution_count": 45
        }
      ]
    },
    {
      "cell_type": "markdown",
      "source": [
        "### Rent or Own"
      ],
      "metadata": {
        "id": "CxJ9qC93dtlk"
      }
    },
    {
      "cell_type": "code",
      "source": [
        "rent_list=[]\n",
        "rent_options=['Rent','Own']\n",
        "i=0\n",
        "\n",
        "while i<10:\n",
        "    rent=rent_options[random.randint(0,1)]\n",
        "    rent_list.append(rent)\n",
        "    i=i+1\n",
        "\n",
        "rent_list"
      ],
      "metadata": {
        "id": "vMvl6TzRdnay",
        "outputId": "b2306c22-9732-452b-9ee1-ceab6d7205c1",
        "colab": {
          "base_uri": "https://localhost:8080/"
        }
      },
      "execution_count": 46,
      "outputs": [
        {
          "output_type": "execute_result",
          "data": {
            "text/plain": [
              "['Rent', 'Own', 'Rent', 'Rent', 'Own', 'Rent', 'Own', 'Rent', 'Own', 'Rent']"
            ]
          },
          "metadata": {},
          "execution_count": 46
        }
      ]
    },
    {
      "cell_type": "markdown",
      "source": [
        "### Annual Income"
      ],
      "metadata": {
        "id": "LeSFMSIbfIgV"
      }
    },
    {
      "cell_type": "code",
      "source": [
        "income_list=[]\n",
        "i=0\n",
        "\n",
        "while i<10:\n",
        "    income=random.normalvariate(50000, 19000)\n",
        "    income_list.append(round(income))\n",
        "    i=i+1\n",
        "\n",
        "income_list\n"
      ],
      "metadata": {
        "id": "XQ4i3wQlfKxj",
        "outputId": "34e1c756-fb2e-4ffb-a7f7-83dc7fd72fc7",
        "colab": {
          "base_uri": "https://localhost:8080/"
        }
      },
      "execution_count": 47,
      "outputs": [
        {
          "output_type": "execute_result",
          "data": {
            "text/plain": [
              "[58564, 75297, 31995, 44546, 77026, 42428, 58447, 72166, 32782, 50810]"
            ]
          },
          "metadata": {},
          "execution_count": 47
        }
      ]
    },
    {
      "cell_type": "markdown",
      "source": [
        "### Number of speeding tickets"
      ],
      "metadata": {
        "id": "VuBGTCqZpAOo"
      }
    },
    {
      "cell_type": "code",
      "source": [
        "tickets_list=[]\n",
        "tickets_options=[0,0,0,1,1,2,2,3]\n",
        "i=0\n",
        "\n",
        "while i<10:\n",
        "    tickets=random.choice(tickets_options)\n",
        "    tickets_list.append(tickets)\n",
        "    i=i+1\n",
        "\n",
        "tickets_list\n"
      ],
      "metadata": {
        "id": "PIiXwsBQpVoF",
        "outputId": "17e03fd0-db1e-4ee7-a040-301c0682b965",
        "colab": {
          "base_uri": "https://localhost:8080/"
        }
      },
      "execution_count": 48,
      "outputs": [
        {
          "output_type": "execute_result",
          "data": {
            "text/plain": [
              "[0, 0, 2, 0, 2, 0, 0, 2, 0, 3]"
            ]
          },
          "metadata": {},
          "execution_count": 48
        }
      ]
    },
    {
      "cell_type": "code",
      "source": [
        "df = pd.DataFrame(zip(name_list, email_list, phone_list, address_list, year_born_list, kids_list, rent_list, income_list, tickets_list),columns=('Name','Email','Phone','Address','Year Born','Kids','Rent/Own','Income','Tickets'))\n",
        "\n",
        "df"
      ],
      "metadata": {
        "id": "ZqTViklpTsKr",
        "outputId": "1b98217a-0ad3-4902-daf6-95f515f8c651",
        "colab": {
          "base_uri": "https://localhost:8080/",
          "height": 363
        }
      },
      "execution_count": 50,
      "outputs": [
        {
          "output_type": "execute_result",
          "data": {
            "text/html": [
              "\n",
              "  <div id=\"df-53ed2e85-63f9-4cc3-a38e-5028e5455beb\">\n",
              "    <div class=\"colab-df-container\">\n",
              "      <div>\n",
              "<style scoped>\n",
              "    .dataframe tbody tr th:only-of-type {\n",
              "        vertical-align: middle;\n",
              "    }\n",
              "\n",
              "    .dataframe tbody tr th {\n",
              "        vertical-align: top;\n",
              "    }\n",
              "\n",
              "    .dataframe thead th {\n",
              "        text-align: right;\n",
              "    }\n",
              "</style>\n",
              "<table border=\"1\" class=\"dataframe\">\n",
              "  <thead>\n",
              "    <tr style=\"text-align: right;\">\n",
              "      <th></th>\n",
              "      <th>Name</th>\n",
              "      <th>Email</th>\n",
              "      <th>Phone</th>\n",
              "      <th>Address</th>\n",
              "      <th>Year Born</th>\n",
              "      <th>Kids</th>\n",
              "      <th>Rent/Own</th>\n",
              "      <th>Income</th>\n",
              "      <th>Tickets</th>\n",
              "    </tr>\n",
              "  </thead>\n",
              "  <tbody>\n",
              "    <tr>\n",
              "      <th>0</th>\n",
              "      <td>Melissa Hudson</td>\n",
              "      <td>rpMOCrJ@yahoo.com</td>\n",
              "      <td>627-690-8656</td>\n",
              "      <td>9670 Miranda Lane West Jennifershire, MI 22659</td>\n",
              "      <td>1944</td>\n",
              "      <td>4</td>\n",
              "      <td>Rent</td>\n",
              "      <td>58564</td>\n",
              "      <td>0</td>\n",
              "    </tr>\n",
              "    <tr>\n",
              "      <th>1</th>\n",
              "      <td>Cody Cantrell</td>\n",
              "      <td>NbQPbNX@yahoo.com</td>\n",
              "      <td>281-982-8354</td>\n",
              "      <td>72268 Jones Row Apt. 545 Joeberg, TX 69982</td>\n",
              "      <td>1989</td>\n",
              "      <td>3</td>\n",
              "      <td>Own</td>\n",
              "      <td>75297</td>\n",
              "      <td>0</td>\n",
              "    </tr>\n",
              "    <tr>\n",
              "      <th>2</th>\n",
              "      <td>Nicholas Young</td>\n",
              "      <td>DWEvThU@jh.edu</td>\n",
              "      <td>344-378-1808</td>\n",
              "      <td>7189 Jeffrey Summit Joehaven, DE 21903</td>\n",
              "      <td>1990</td>\n",
              "      <td>5</td>\n",
              "      <td>Rent</td>\n",
              "      <td>31995</td>\n",
              "      <td>2</td>\n",
              "    </tr>\n",
              "    <tr>\n",
              "      <th>3</th>\n",
              "      <td>Kevin Hawkins</td>\n",
              "      <td>VtpzLTI@jh.edu</td>\n",
              "      <td>125-244-2393</td>\n",
              "      <td>62535 Kenneth Rest New Ryanfurt, OH 13472</td>\n",
              "      <td>1955</td>\n",
              "      <td>2</td>\n",
              "      <td>Rent</td>\n",
              "      <td>44546</td>\n",
              "      <td>0</td>\n",
              "    </tr>\n",
              "    <tr>\n",
              "      <th>4</th>\n",
              "      <td>Christine Osborne</td>\n",
              "      <td>fhsrkMC@umbc.edu</td>\n",
              "      <td>327-290-5798</td>\n",
              "      <td>612 Williamson Gateway Suite 807 Clarkland, SD...</td>\n",
              "      <td>1937</td>\n",
              "      <td>3</td>\n",
              "      <td>Own</td>\n",
              "      <td>77026</td>\n",
              "      <td>2</td>\n",
              "    </tr>\n",
              "    <tr>\n",
              "      <th>5</th>\n",
              "      <td>Joyce Mckenzie</td>\n",
              "      <td>rchUdQG@umbc.edu</td>\n",
              "      <td>220-292-3463</td>\n",
              "      <td>4623 Miller Trail North Jesseberg, NJ 74223</td>\n",
              "      <td>1966</td>\n",
              "      <td>2</td>\n",
              "      <td>Rent</td>\n",
              "      <td>42428</td>\n",
              "      <td>0</td>\n",
              "    </tr>\n",
              "    <tr>\n",
              "      <th>6</th>\n",
              "      <td>Darryl Michael</td>\n",
              "      <td>RZpBRdD@jh.edu</td>\n",
              "      <td>851-596-3206</td>\n",
              "      <td>13721 Becker Mill Josephchester, NC 60810</td>\n",
              "      <td>1968</td>\n",
              "      <td>1</td>\n",
              "      <td>Own</td>\n",
              "      <td>58447</td>\n",
              "      <td>0</td>\n",
              "    </tr>\n",
              "    <tr>\n",
              "      <th>7</th>\n",
              "      <td>Richard Chavez</td>\n",
              "      <td>uHuSvBD@umbc.edu</td>\n",
              "      <td>126-155-1382</td>\n",
              "      <td>073 Maurice Keys Moonfurt, MA 80173</td>\n",
              "      <td>2008</td>\n",
              "      <td>1</td>\n",
              "      <td>Rent</td>\n",
              "      <td>72166</td>\n",
              "      <td>2</td>\n",
              "    </tr>\n",
              "    <tr>\n",
              "      <th>8</th>\n",
              "      <td>Christina Christian</td>\n",
              "      <td>tXuGrAl@hotmail.com</td>\n",
              "      <td>335-855-7116</td>\n",
              "      <td>13120 Johnson Cliffs Suite 380 Mariastad, OK 6...</td>\n",
              "      <td>1936</td>\n",
              "      <td>3</td>\n",
              "      <td>Own</td>\n",
              "      <td>32782</td>\n",
              "      <td>0</td>\n",
              "    </tr>\n",
              "    <tr>\n",
              "      <th>9</th>\n",
              "      <td>Ricardo Martinez</td>\n",
              "      <td>grogzgu@hotmail.com</td>\n",
              "      <td>609-874-5979</td>\n",
              "      <td>20604 Brown Squares South Briannaburgh, MS 62456</td>\n",
              "      <td>1990</td>\n",
              "      <td>0</td>\n",
              "      <td>Rent</td>\n",
              "      <td>50810</td>\n",
              "      <td>3</td>\n",
              "    </tr>\n",
              "  </tbody>\n",
              "</table>\n",
              "</div>\n",
              "      <button class=\"colab-df-convert\" onclick=\"convertToInteractive('df-53ed2e85-63f9-4cc3-a38e-5028e5455beb')\"\n",
              "              title=\"Convert this dataframe to an interactive table.\"\n",
              "              style=\"display:none;\">\n",
              "        \n",
              "  <svg xmlns=\"http://www.w3.org/2000/svg\" height=\"24px\"viewBox=\"0 0 24 24\"\n",
              "       width=\"24px\">\n",
              "    <path d=\"M0 0h24v24H0V0z\" fill=\"none\"/>\n",
              "    <path d=\"M18.56 5.44l.94 2.06.94-2.06 2.06-.94-2.06-.94-.94-2.06-.94 2.06-2.06.94zm-11 1L8.5 8.5l.94-2.06 2.06-.94-2.06-.94L8.5 2.5l-.94 2.06-2.06.94zm10 10l.94 2.06.94-2.06 2.06-.94-2.06-.94-.94-2.06-.94 2.06-2.06.94z\"/><path d=\"M17.41 7.96l-1.37-1.37c-.4-.4-.92-.59-1.43-.59-.52 0-1.04.2-1.43.59L10.3 9.45l-7.72 7.72c-.78.78-.78 2.05 0 2.83L4 21.41c.39.39.9.59 1.41.59.51 0 1.02-.2 1.41-.59l7.78-7.78 2.81-2.81c.8-.78.8-2.07 0-2.86zM5.41 20L4 18.59l7.72-7.72 1.47 1.35L5.41 20z\"/>\n",
              "  </svg>\n",
              "      </button>\n",
              "      \n",
              "  <style>\n",
              "    .colab-df-container {\n",
              "      display:flex;\n",
              "      flex-wrap:wrap;\n",
              "      gap: 12px;\n",
              "    }\n",
              "\n",
              "    .colab-df-convert {\n",
              "      background-color: #E8F0FE;\n",
              "      border: none;\n",
              "      border-radius: 50%;\n",
              "      cursor: pointer;\n",
              "      display: none;\n",
              "      fill: #1967D2;\n",
              "      height: 32px;\n",
              "      padding: 0 0 0 0;\n",
              "      width: 32px;\n",
              "    }\n",
              "\n",
              "    .colab-df-convert:hover {\n",
              "      background-color: #E2EBFA;\n",
              "      box-shadow: 0px 1px 2px rgba(60, 64, 67, 0.3), 0px 1px 3px 1px rgba(60, 64, 67, 0.15);\n",
              "      fill: #174EA6;\n",
              "    }\n",
              "\n",
              "    [theme=dark] .colab-df-convert {\n",
              "      background-color: #3B4455;\n",
              "      fill: #D2E3FC;\n",
              "    }\n",
              "\n",
              "    [theme=dark] .colab-df-convert:hover {\n",
              "      background-color: #434B5C;\n",
              "      box-shadow: 0px 1px 3px 1px rgba(0, 0, 0, 0.15);\n",
              "      filter: drop-shadow(0px 1px 2px rgba(0, 0, 0, 0.3));\n",
              "      fill: #FFFFFF;\n",
              "    }\n",
              "  </style>\n",
              "\n",
              "      <script>\n",
              "        const buttonEl =\n",
              "          document.querySelector('#df-53ed2e85-63f9-4cc3-a38e-5028e5455beb button.colab-df-convert');\n",
              "        buttonEl.style.display =\n",
              "          google.colab.kernel.accessAllowed ? 'block' : 'none';\n",
              "\n",
              "        async function convertToInteractive(key) {\n",
              "          const element = document.querySelector('#df-53ed2e85-63f9-4cc3-a38e-5028e5455beb');\n",
              "          const dataTable =\n",
              "            await google.colab.kernel.invokeFunction('convertToInteractive',\n",
              "                                                     [key], {});\n",
              "          if (!dataTable) return;\n",
              "\n",
              "          const docLinkHtml = 'Like what you see? Visit the ' +\n",
              "            '<a target=\"_blank\" href=https://colab.research.google.com/notebooks/data_table.ipynb>data table notebook</a>'\n",
              "            + ' to learn more about interactive tables.';\n",
              "          element.innerHTML = '';\n",
              "          dataTable['output_type'] = 'display_data';\n",
              "          await google.colab.output.renderOutput(dataTable, element);\n",
              "          const docLink = document.createElement('div');\n",
              "          docLink.innerHTML = docLinkHtml;\n",
              "          element.appendChild(docLink);\n",
              "        }\n",
              "      </script>\n",
              "    </div>\n",
              "  </div>\n",
              "  "
            ],
            "text/plain": [
              "                  Name                Email  ... Income Tickets\n",
              "0       Melissa Hudson    rpMOCrJ@yahoo.com  ...  58564       0\n",
              "1        Cody Cantrell    NbQPbNX@yahoo.com  ...  75297       0\n",
              "2       Nicholas Young       DWEvThU@jh.edu  ...  31995       2\n",
              "3        Kevin Hawkins       VtpzLTI@jh.edu  ...  44546       0\n",
              "4    Christine Osborne     fhsrkMC@umbc.edu  ...  77026       2\n",
              "5       Joyce Mckenzie     rchUdQG@umbc.edu  ...  42428       0\n",
              "6       Darryl Michael       RZpBRdD@jh.edu  ...  58447       0\n",
              "7       Richard Chavez     uHuSvBD@umbc.edu  ...  72166       2\n",
              "8  Christina Christian  tXuGrAl@hotmail.com  ...  32782       0\n",
              "9     Ricardo Martinez  grogzgu@hotmail.com  ...  50810       3\n",
              "\n",
              "[10 rows x 9 columns]"
            ]
          },
          "metadata": {},
          "execution_count": 50
        }
      ]
    },
    {
      "cell_type": "code",
      "source": [
        ""
      ],
      "metadata": {
        "id": "WDg5dKoTv50Y"
      },
      "execution_count": null,
      "outputs": []
    }
  ]
}