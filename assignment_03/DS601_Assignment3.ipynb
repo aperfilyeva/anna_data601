{
  "nbformat": 4,
  "nbformat_minor": 0,
  "metadata": {
    "colab": {
      "name": "DS601_Assignment3.ipynb",
      "provenance": [],
      "authorship_tag": "ABX9TyN/4XVtjB3wgpwSEpFGW0Cj",
      "include_colab_link": true
    },
    "kernelspec": {
      "name": "python3",
      "display_name": "Python 3"
    },
    "language_info": {
      "name": "python"
    }
  },
  "cells": [
    {
      "cell_type": "markdown",
      "metadata": {
        "id": "view-in-github",
        "colab_type": "text"
      },
      "source": [
        "<a href=\"https://colab.research.google.com/github/aperfilyeva/anna_data601/blob/main/assignment_03/DS601_Assignment3.ipynb\" target=\"_parent\"><img src=\"https://colab.research.google.com/assets/colab-badge.svg\" alt=\"Open In Colab\"/></a>"
      ]
    },
    {
      "cell_type": "markdown",
      "source": [
        "### Assignment 3\n",
        "\n",
        " - Anna Perfilyeva\n",
        " - 03/04/2022"
      ],
      "metadata": {
        "id": "CG0RRxZgX3TZ"
      }
    },
    {
      "cell_type": "markdown",
      "source": [
        "Write a Python notebook that generates a file containing the following data:\n",
        " - Email addresses\n",
        " - Phone numbers\n",
        " - Home Address\n",
        " - Person's name\n",
        " - Year born. Use realistic values.\n",
        " - Number of kids. Use realistic values.\n",
        " - Categorical variable: rent or own?\n",
        " - Annual income. Optional challenge: Use a non-uniform distribution\n",
        " - Number of speeding tickets in past year. Optional challenge: Use a non-uniform distribution\n",
        " - User of your notebook should be able to specify how many entities are to be generated.\n",
        " - Generate data in 2 of the following 3 formats: XML, CSV, or JSON. Your choice! Order of columns in CSV is not relevant."
      ],
      "metadata": {
        "id": "hNqxFd9-j1dc"
      }
    },
    {
      "cell_type": "code",
      "source": [
        "import pandas as pd\n",
        "import numpy as np\n",
        "import random\n",
        "import string\n",
        "\n"
      ],
      "metadata": {
        "id": "ty1Ioss5lXkX"
      },
      "execution_count": 65,
      "outputs": []
    },
    {
      "cell_type": "code",
      "source": [
        "pip install faker"
      ],
      "metadata": {
        "colab": {
          "base_uri": "https://localhost:8080/"
        },
        "id": "wZRDucdUO1S6",
        "outputId": "1cd82d77-ceaa-45ed-a01d-b732327c3e7f"
      },
      "execution_count": 66,
      "outputs": [
        {
          "output_type": "stream",
          "name": "stdout",
          "text": [
            "Requirement already satisfied: faker in /usr/local/lib/python3.7/dist-packages (13.3.0)\n",
            "Requirement already satisfied: typing-extensions>=3.10.0.2 in /usr/local/lib/python3.7/dist-packages (from faker) (3.10.0.2)\n",
            "Requirement already satisfied: python-dateutil>=2.4 in /usr/local/lib/python3.7/dist-packages (from faker) (2.8.2)\n",
            "Requirement already satisfied: six>=1.5 in /usr/local/lib/python3.7/dist-packages (from python-dateutil>=2.4->faker) (1.15.0)\n"
          ]
        }
      ]
    },
    {
      "cell_type": "code",
      "source": [
        "from faker import Faker\n",
        "\n",
        "fake=Faker()"
      ],
      "metadata": {
        "id": "Zt4mibuYYyxG"
      },
      "execution_count": 67,
      "outputs": []
    },
    {
      "cell_type": "markdown",
      "source": [
        "### Define number of observations"
      ],
      "metadata": {
        "id": "XIPhK25LVpKS"
      }
    },
    {
      "cell_type": "code",
      "source": [
        "obs=input(\"Input desired number of random observations:\")\n",
        "print(obs)"
      ],
      "metadata": {
        "colab": {
          "base_uri": "https://localhost:8080/"
        },
        "id": "YSUeH-8HVw6W",
        "outputId": "80a43ef1-2c04-47a1-d611-1568eb50b9ed"
      },
      "execution_count": 68,
      "outputs": [
        {
          "output_type": "stream",
          "name": "stdout",
          "text": [
            "Input desired number of random observations:100\n",
            "100\n"
          ]
        }
      ]
    },
    {
      "cell_type": "code",
      "source": [
        "#pip install names"
      ],
      "metadata": {
        "id": "SDNUTGFvlarZ"
      },
      "execution_count": 69,
      "outputs": []
    },
    {
      "cell_type": "markdown",
      "source": [
        "### Random Email"
      ],
      "metadata": {
        "id": "aSgdjsKYxr75"
      }
    },
    {
      "cell_type": "code",
      "source": [
        "# domains = [ \"hotmail.com\", \"gmail.com\", \"jh.edu\", \"umbc.edu\" , \"yahoo.com\"]\n",
        "\n",
        "email_list=[]\n",
        "i=0\n",
        "while i <int(obs):\n",
        "   email=fake.email()\n",
        "   email_list.append(email)\n",
        "   i=i+1\n",
        "\n",
        "#email_list"
      ],
      "metadata": {
        "colab": {
          "base_uri": "https://localhost:8080/"
        },
        "id": "pPXCNOhdB36n",
        "outputId": "cd6f930f-63b4-486f-cc80-276320abd77f"
      },
      "execution_count": 70,
      "outputs": [
        {
          "output_type": "execute_result",
          "data": {
            "text/plain": [
              "['dyerandrew@example.com',\n",
              " 'yelliott@example.org',\n",
              " 'xkim@example.org',\n",
              " 'crystal99@example.net',\n",
              " 'christie20@example.org',\n",
              " 'samuel10@example.com',\n",
              " 'christopher17@example.org',\n",
              " 'jamesnelson@example.com',\n",
              " 'butlerjesse@example.net',\n",
              " 'wilsonadam@example.net',\n",
              " 'pamela34@example.org',\n",
              " 'nathaniel67@example.net',\n",
              " 'mdavis@example.com',\n",
              " 'riley12@example.com',\n",
              " 'brettromero@example.net',\n",
              " 'wwhite@example.com',\n",
              " 'cathyclark@example.net',\n",
              " 'brittany77@example.net',\n",
              " 'xjones@example.net',\n",
              " 'josepherickson@example.com',\n",
              " 'james65@example.com',\n",
              " 'samantha57@example.net',\n",
              " 'markramos@example.net',\n",
              " 'ramoschad@example.org',\n",
              " 'wardjorge@example.org',\n",
              " 'stuartrandall@example.net',\n",
              " 'keith27@example.com',\n",
              " 'scrawford@example.org',\n",
              " 'billy27@example.com',\n",
              " 'denisewong@example.org',\n",
              " 'dukealbert@example.com',\n",
              " 'erikmercado@example.org',\n",
              " 'chelseasimpson@example.com',\n",
              " 'banksashley@example.net',\n",
              " 'harristara@example.com',\n",
              " 'pmeza@example.com',\n",
              " 'paulwu@example.com',\n",
              " 'carrshawna@example.net',\n",
              " 'tbuckley@example.com',\n",
              " 'kirktorres@example.org',\n",
              " 'williamdavis@example.net',\n",
              " 'omarphillips@example.net',\n",
              " 'jschroeder@example.org',\n",
              " 'dustinjohnson@example.com',\n",
              " 'anitahill@example.com',\n",
              " 'tinamartin@example.net',\n",
              " 'jamesclark@example.net',\n",
              " 'ryanrachel@example.net',\n",
              " 'cheryl97@example.org',\n",
              " 'hernandezsarah@example.org',\n",
              " 'dpark@example.org',\n",
              " 'douglas58@example.net',\n",
              " 'elizabethhill@example.org',\n",
              " 'hgreene@example.net',\n",
              " 'martinezbrandon@example.net',\n",
              " 'moorecharles@example.com',\n",
              " 'moyershannon@example.net',\n",
              " 'jacksonruben@example.org',\n",
              " 'kimberly85@example.net',\n",
              " 'howardcynthia@example.org',\n",
              " 'bobbycarrillo@example.com',\n",
              " 'jonescandice@example.org',\n",
              " 'coreyshah@example.net',\n",
              " 'todd65@example.org',\n",
              " 'nmoore@example.com',\n",
              " 'alec79@example.com',\n",
              " 'daniel78@example.org',\n",
              " 'griffinmisty@example.net',\n",
              " 'griffintonya@example.net',\n",
              " 'joshua40@example.net',\n",
              " 'phillipsbenjamin@example.org',\n",
              " 'patricia42@example.net',\n",
              " 'wdennis@example.org',\n",
              " 'huffkevin@example.com',\n",
              " 'timothy48@example.org',\n",
              " 'johnsonmark@example.org',\n",
              " 'lopezluis@example.org',\n",
              " 'darryl50@example.net',\n",
              " 'tina49@example.com',\n",
              " 'rodney46@example.net',\n",
              " 'deborah30@example.com',\n",
              " 'brownjonathan@example.org',\n",
              " 'qmiller@example.org',\n",
              " 'greenkerri@example.org',\n",
              " 'nataliedunn@example.net',\n",
              " 'catherine65@example.net',\n",
              " 'jamie77@example.org',\n",
              " 'fhorton@example.com',\n",
              " 'sross@example.net',\n",
              " 'fbrooks@example.com',\n",
              " 'mkane@example.com',\n",
              " 'gbradley@example.net',\n",
              " 'deborah16@example.com',\n",
              " 'andrew38@example.org',\n",
              " 'william45@example.com',\n",
              " 'ghodges@example.com',\n",
              " 'ubrown@example.org',\n",
              " 'teresawarren@example.org',\n",
              " 'garciakaren@example.net',\n",
              " 'christianmartinez@example.org']"
            ]
          },
          "metadata": {},
          "execution_count": 70
        }
      ]
    },
    {
      "cell_type": "markdown",
      "source": [
        "### Random phone number\n"
      ],
      "metadata": {
        "id": "vhvTe4lfFZTu"
      }
    },
    {
      "cell_type": "code",
      "source": [
        "phone_list=[]\n",
        "i=0\n",
        "while i<int(obs):\n",
        "    phone_number=str(random.randint(100,999))+\"-\"+str(random.randint(100,999))+\"-\"+str(random.randint(1000,9999))\n",
        "    phone_list.append(phone_number)\n",
        "    i=i+1\n",
        "\n",
        "phone_list"
      ],
      "metadata": {
        "colab": {
          "base_uri": "https://localhost:8080/"
        },
        "id": "nSn6u7r1FOZf",
        "outputId": "b98fc909-2f28-4dd0-b8f9-1863d3d9e27a"
      },
      "execution_count": 71,
      "outputs": [
        {
          "output_type": "execute_result",
          "data": {
            "text/plain": [
              "['804-513-6002',\n",
              " '690-612-3990',\n",
              " '906-251-5042',\n",
              " '136-161-3686',\n",
              " '960-114-9291',\n",
              " '696-271-2945',\n",
              " '741-693-2962',\n",
              " '124-111-9150',\n",
              " '507-761-2297',\n",
              " '352-149-2528',\n",
              " '748-151-2055',\n",
              " '562-215-4292',\n",
              " '842-983-7421',\n",
              " '281-870-1466',\n",
              " '510-164-7215',\n",
              " '539-424-7731',\n",
              " '528-157-7676',\n",
              " '746-470-1506',\n",
              " '210-255-1249',\n",
              " '261-661-4443',\n",
              " '231-548-2905',\n",
              " '621-190-2054',\n",
              " '787-907-4825',\n",
              " '411-985-6348',\n",
              " '212-712-9829',\n",
              " '783-433-6956',\n",
              " '184-149-3055',\n",
              " '698-834-4502',\n",
              " '112-509-3435',\n",
              " '822-104-4796',\n",
              " '600-515-3759',\n",
              " '477-476-5650',\n",
              " '146-121-1409',\n",
              " '296-668-9908',\n",
              " '656-294-9119',\n",
              " '484-214-8254',\n",
              " '282-998-7864',\n",
              " '227-758-4008',\n",
              " '567-289-5367',\n",
              " '841-723-9386',\n",
              " '422-937-3126',\n",
              " '321-377-4115',\n",
              " '412-312-4392',\n",
              " '871-943-7168',\n",
              " '720-528-2801',\n",
              " '807-120-7077',\n",
              " '948-219-7281',\n",
              " '293-236-1739',\n",
              " '590-503-4026',\n",
              " '640-224-3044',\n",
              " '314-455-6387',\n",
              " '774-547-8691',\n",
              " '916-237-9218',\n",
              " '557-235-3586',\n",
              " '697-738-1248',\n",
              " '626-784-4827',\n",
              " '896-832-7789',\n",
              " '592-271-1668',\n",
              " '969-866-8213',\n",
              " '332-142-9101',\n",
              " '614-314-6560',\n",
              " '864-302-4573',\n",
              " '362-761-9305',\n",
              " '263-228-9514',\n",
              " '349-186-6731',\n",
              " '883-300-8835',\n",
              " '193-660-3079',\n",
              " '596-685-5813',\n",
              " '834-576-5157',\n",
              " '123-857-3696',\n",
              " '704-666-4799',\n",
              " '674-127-6596',\n",
              " '908-372-4448',\n",
              " '992-778-4849',\n",
              " '932-924-6595',\n",
              " '853-734-7955',\n",
              " '872-874-3650',\n",
              " '198-724-5111',\n",
              " '872-325-4111',\n",
              " '702-857-2235',\n",
              " '171-283-2303',\n",
              " '370-389-8808',\n",
              " '361-945-9633',\n",
              " '728-897-9590',\n",
              " '915-372-8637',\n",
              " '920-677-8467',\n",
              " '712-975-7369',\n",
              " '836-989-5095',\n",
              " '775-431-8476',\n",
              " '775-829-5807',\n",
              " '452-463-5349',\n",
              " '173-208-3036',\n",
              " '956-612-5088',\n",
              " '604-665-6038',\n",
              " '505-343-1331',\n",
              " '999-787-4162',\n",
              " '840-521-2235',\n",
              " '488-313-3745',\n",
              " '852-437-7686',\n",
              " '104-896-2702']"
            ]
          },
          "metadata": {},
          "execution_count": 71
        }
      ]
    },
    {
      "cell_type": "markdown",
      "source": [
        "### Home Address"
      ],
      "metadata": {
        "id": "dFTJN6XGODW9"
      }
    },
    {
      "cell_type": "code",
      "source": [
        "address_list=[]\n",
        "i=0\n",
        "\n",
        "while i<int(obs):\n",
        "  address=fake.address()\n",
        "  address1=address.replace(\"\\n\",\" \")\n",
        "  address_list.append(address1)\n",
        "  i=i+1\n",
        "\n",
        "#address_list"
      ],
      "metadata": {
        "id": "pPsWwqiyO7GU"
      },
      "execution_count": 72,
      "outputs": []
    },
    {
      "cell_type": "markdown",
      "source": [
        "### Name List"
      ],
      "metadata": {
        "id": "Ch0seFn5T8dZ"
      }
    },
    {
      "cell_type": "code",
      "source": [
        "name_list=[]\n",
        "i=0\n",
        "\n",
        "while i<int(obs):\n",
        "  name=fake.name()\n",
        "  name_list.append(name)\n",
        "  i=i+1\n",
        "\n",
        "#name_list"
      ],
      "metadata": {
        "id": "uhyomGFDT_SF"
      },
      "execution_count": 73,
      "outputs": []
    },
    {
      "cell_type": "markdown",
      "source": [
        "### Year Born"
      ],
      "metadata": {
        "id": "2s3dKZf5UOgP"
      }
    },
    {
      "cell_type": "code",
      "source": [
        "year_born_list=[]\n",
        "i=0\n",
        "\n",
        "while i<int(obs):\n",
        "    year_born=random.randint(1930,2021)\n",
        "    year_born_list.append(year_born)\n",
        "    i=i+1\n",
        "\n",
        "#year_born_list"
      ],
      "metadata": {
        "id": "_n5DTcqYUWKe"
      },
      "execution_count": 74,
      "outputs": []
    },
    {
      "cell_type": "markdown",
      "source": [
        "### Number of Kids"
      ],
      "metadata": {
        "id": "QZxyvlxzUzmu"
      }
    },
    {
      "cell_type": "code",
      "source": [
        "kids_list=[]\n",
        "i=0\n",
        "\n",
        "while i<int(obs):\n",
        "    kids=random.randint(0,5)\n",
        "    kids_list.append(kids)\n",
        "    i=i+1\n",
        "\n",
        "#kids_list"
      ],
      "metadata": {
        "id": "rWylaPSlU4Z5"
      },
      "execution_count": 75,
      "outputs": []
    },
    {
      "cell_type": "markdown",
      "source": [
        "### Rent or Own"
      ],
      "metadata": {
        "id": "CxJ9qC93dtlk"
      }
    },
    {
      "cell_type": "code",
      "source": [
        "rent_list=[]\n",
        "rent_options=['Rent','Own']\n",
        "i=0\n",
        "\n",
        "while i<int(obs):\n",
        "    rent=rent_options[random.randint(0,1)]\n",
        "    rent_list.append(rent)\n",
        "    i=i+1\n",
        "\n",
        "#rent_list"
      ],
      "metadata": {
        "id": "vMvl6TzRdnay"
      },
      "execution_count": 76,
      "outputs": []
    },
    {
      "cell_type": "markdown",
      "source": [
        "### Annual Income"
      ],
      "metadata": {
        "id": "LeSFMSIbfIgV"
      }
    },
    {
      "cell_type": "code",
      "source": [
        "income_list=[]\n",
        "i=0\n",
        "\n",
        "while i<int(obs):\n",
        "    income=random.normalvariate(50000, 19000)\n",
        "    income_list.append(round(income))\n",
        "    i=i+1\n",
        "\n",
        "#income_list\n"
      ],
      "metadata": {
        "id": "XQ4i3wQlfKxj"
      },
      "execution_count": 77,
      "outputs": []
    },
    {
      "cell_type": "markdown",
      "source": [
        "### Number of speeding tickets"
      ],
      "metadata": {
        "id": "VuBGTCqZpAOo"
      }
    },
    {
      "cell_type": "code",
      "source": [
        "tickets_list=[]\n",
        "tickets_options=[0,0,0,1,1,2,2,3]\n",
        "i=0\n",
        "\n",
        "while i<int(obs):\n",
        "    tickets=random.choice(tickets_options)\n",
        "    tickets_list.append(tickets)\n",
        "    i=i+1\n",
        "\n",
        "#tickets_list\n"
      ],
      "metadata": {
        "id": "PIiXwsBQpVoF"
      },
      "execution_count": 78,
      "outputs": []
    },
    {
      "cell_type": "code",
      "source": [
        "df = pd.DataFrame(zip(name_list, email_list, phone_list, address_list, year_born_list, kids_list, rent_list, income_list, tickets_list),\n",
        "                  columns=('Name','Email','Phone','Address','Year Born','Kids','Rent/Own','Income','Tickets'))\n",
        "\n",
        "df"
      ],
      "metadata": {
        "id": "ZqTViklpTsKr",
        "colab": {
          "base_uri": "https://localhost:8080/",
          "height": 424
        },
        "outputId": "f05582e1-c5a8-42a4-c858-1d6f75307dba"
      },
      "execution_count": 79,
      "outputs": [
        {
          "output_type": "execute_result",
          "data": {
            "text/html": [
              "\n",
              "  <div id=\"df-8a0affa4-def8-4059-9b02-4a96f03c076a\">\n",
              "    <div class=\"colab-df-container\">\n",
              "      <div>\n",
              "<style scoped>\n",
              "    .dataframe tbody tr th:only-of-type {\n",
              "        vertical-align: middle;\n",
              "    }\n",
              "\n",
              "    .dataframe tbody tr th {\n",
              "        vertical-align: top;\n",
              "    }\n",
              "\n",
              "    .dataframe thead th {\n",
              "        text-align: right;\n",
              "    }\n",
              "</style>\n",
              "<table border=\"1\" class=\"dataframe\">\n",
              "  <thead>\n",
              "    <tr style=\"text-align: right;\">\n",
              "      <th></th>\n",
              "      <th>Name</th>\n",
              "      <th>Email</th>\n",
              "      <th>Phone</th>\n",
              "      <th>Address</th>\n",
              "      <th>Year Born</th>\n",
              "      <th>Kids</th>\n",
              "      <th>Rent/Own</th>\n",
              "      <th>Income</th>\n",
              "      <th>Tickets</th>\n",
              "    </tr>\n",
              "  </thead>\n",
              "  <tbody>\n",
              "    <tr>\n",
              "      <th>0</th>\n",
              "      <td>Mr. Jeffery Price</td>\n",
              "      <td>dyerandrew@example.com</td>\n",
              "      <td>804-513-6002</td>\n",
              "      <td>1115 Wilson Locks Patrickview, MN 05049</td>\n",
              "      <td>1997</td>\n",
              "      <td>3</td>\n",
              "      <td>Rent</td>\n",
              "      <td>29467</td>\n",
              "      <td>1</td>\n",
              "    </tr>\n",
              "    <tr>\n",
              "      <th>1</th>\n",
              "      <td>Collin Wilson</td>\n",
              "      <td>yelliott@example.org</td>\n",
              "      <td>690-612-3990</td>\n",
              "      <td>8227 Sara Oval Suite 774 Melissaburgh, ID 14469</td>\n",
              "      <td>2001</td>\n",
              "      <td>1</td>\n",
              "      <td>Rent</td>\n",
              "      <td>17480</td>\n",
              "      <td>3</td>\n",
              "    </tr>\n",
              "    <tr>\n",
              "      <th>2</th>\n",
              "      <td>Deborah Warren</td>\n",
              "      <td>xkim@example.org</td>\n",
              "      <td>906-251-5042</td>\n",
              "      <td>95258 Norton Forest Jamesview, MA 28304</td>\n",
              "      <td>1981</td>\n",
              "      <td>1</td>\n",
              "      <td>Rent</td>\n",
              "      <td>34989</td>\n",
              "      <td>3</td>\n",
              "    </tr>\n",
              "    <tr>\n",
              "      <th>3</th>\n",
              "      <td>Shawn Walker</td>\n",
              "      <td>crystal99@example.net</td>\n",
              "      <td>136-161-3686</td>\n",
              "      <td>897 Buchanan Summit Elizabethland, NC 82087</td>\n",
              "      <td>1937</td>\n",
              "      <td>4</td>\n",
              "      <td>Rent</td>\n",
              "      <td>75367</td>\n",
              "      <td>1</td>\n",
              "    </tr>\n",
              "    <tr>\n",
              "      <th>4</th>\n",
              "      <td>Amy Robinson</td>\n",
              "      <td>christie20@example.org</td>\n",
              "      <td>960-114-9291</td>\n",
              "      <td>194 Ferguson Bypass East Barbara, KY 45209</td>\n",
              "      <td>2016</td>\n",
              "      <td>3</td>\n",
              "      <td>Own</td>\n",
              "      <td>58798</td>\n",
              "      <td>0</td>\n",
              "    </tr>\n",
              "    <tr>\n",
              "      <th>...</th>\n",
              "      <td>...</td>\n",
              "      <td>...</td>\n",
              "      <td>...</td>\n",
              "      <td>...</td>\n",
              "      <td>...</td>\n",
              "      <td>...</td>\n",
              "      <td>...</td>\n",
              "      <td>...</td>\n",
              "      <td>...</td>\n",
              "    </tr>\n",
              "    <tr>\n",
              "      <th>95</th>\n",
              "      <td>Caitlin Williams</td>\n",
              "      <td>ghodges@example.com</td>\n",
              "      <td>999-787-4162</td>\n",
              "      <td>7455 Karen Inlet Suite 334 New Natashaland, HI...</td>\n",
              "      <td>2005</td>\n",
              "      <td>1</td>\n",
              "      <td>Own</td>\n",
              "      <td>55968</td>\n",
              "      <td>3</td>\n",
              "    </tr>\n",
              "    <tr>\n",
              "      <th>96</th>\n",
              "      <td>Jennifer Mendez</td>\n",
              "      <td>ubrown@example.org</td>\n",
              "      <td>840-521-2235</td>\n",
              "      <td>95816 Chan Extension Apt. 036 Kevinside, IN 86904</td>\n",
              "      <td>1981</td>\n",
              "      <td>4</td>\n",
              "      <td>Own</td>\n",
              "      <td>45753</td>\n",
              "      <td>0</td>\n",
              "    </tr>\n",
              "    <tr>\n",
              "      <th>97</th>\n",
              "      <td>Brittney Stevens</td>\n",
              "      <td>teresawarren@example.org</td>\n",
              "      <td>488-313-3745</td>\n",
              "      <td>46811 Melendez Lakes Jeffreymouth, OH 17133</td>\n",
              "      <td>1957</td>\n",
              "      <td>5</td>\n",
              "      <td>Rent</td>\n",
              "      <td>22833</td>\n",
              "      <td>1</td>\n",
              "    </tr>\n",
              "    <tr>\n",
              "      <th>98</th>\n",
              "      <td>Edwin Vega</td>\n",
              "      <td>garciakaren@example.net</td>\n",
              "      <td>852-437-7686</td>\n",
              "      <td>160 Johnson Common Suite 264 New Jonathan, CA ...</td>\n",
              "      <td>2015</td>\n",
              "      <td>1</td>\n",
              "      <td>Rent</td>\n",
              "      <td>16027</td>\n",
              "      <td>0</td>\n",
              "    </tr>\n",
              "    <tr>\n",
              "      <th>99</th>\n",
              "      <td>Luis Robertson</td>\n",
              "      <td>christianmartinez@example.org</td>\n",
              "      <td>104-896-2702</td>\n",
              "      <td>PSC 6869, Box 5391 APO AA 04590</td>\n",
              "      <td>2012</td>\n",
              "      <td>3</td>\n",
              "      <td>Own</td>\n",
              "      <td>58919</td>\n",
              "      <td>0</td>\n",
              "    </tr>\n",
              "  </tbody>\n",
              "</table>\n",
              "<p>100 rows × 9 columns</p>\n",
              "</div>\n",
              "      <button class=\"colab-df-convert\" onclick=\"convertToInteractive('df-8a0affa4-def8-4059-9b02-4a96f03c076a')\"\n",
              "              title=\"Convert this dataframe to an interactive table.\"\n",
              "              style=\"display:none;\">\n",
              "        \n",
              "  <svg xmlns=\"http://www.w3.org/2000/svg\" height=\"24px\"viewBox=\"0 0 24 24\"\n",
              "       width=\"24px\">\n",
              "    <path d=\"M0 0h24v24H0V0z\" fill=\"none\"/>\n",
              "    <path d=\"M18.56 5.44l.94 2.06.94-2.06 2.06-.94-2.06-.94-.94-2.06-.94 2.06-2.06.94zm-11 1L8.5 8.5l.94-2.06 2.06-.94-2.06-.94L8.5 2.5l-.94 2.06-2.06.94zm10 10l.94 2.06.94-2.06 2.06-.94-2.06-.94-.94-2.06-.94 2.06-2.06.94z\"/><path d=\"M17.41 7.96l-1.37-1.37c-.4-.4-.92-.59-1.43-.59-.52 0-1.04.2-1.43.59L10.3 9.45l-7.72 7.72c-.78.78-.78 2.05 0 2.83L4 21.41c.39.39.9.59 1.41.59.51 0 1.02-.2 1.41-.59l7.78-7.78 2.81-2.81c.8-.78.8-2.07 0-2.86zM5.41 20L4 18.59l7.72-7.72 1.47 1.35L5.41 20z\"/>\n",
              "  </svg>\n",
              "      </button>\n",
              "      \n",
              "  <style>\n",
              "    .colab-df-container {\n",
              "      display:flex;\n",
              "      flex-wrap:wrap;\n",
              "      gap: 12px;\n",
              "    }\n",
              "\n",
              "    .colab-df-convert {\n",
              "      background-color: #E8F0FE;\n",
              "      border: none;\n",
              "      border-radius: 50%;\n",
              "      cursor: pointer;\n",
              "      display: none;\n",
              "      fill: #1967D2;\n",
              "      height: 32px;\n",
              "      padding: 0 0 0 0;\n",
              "      width: 32px;\n",
              "    }\n",
              "\n",
              "    .colab-df-convert:hover {\n",
              "      background-color: #E2EBFA;\n",
              "      box-shadow: 0px 1px 2px rgba(60, 64, 67, 0.3), 0px 1px 3px 1px rgba(60, 64, 67, 0.15);\n",
              "      fill: #174EA6;\n",
              "    }\n",
              "\n",
              "    [theme=dark] .colab-df-convert {\n",
              "      background-color: #3B4455;\n",
              "      fill: #D2E3FC;\n",
              "    }\n",
              "\n",
              "    [theme=dark] .colab-df-convert:hover {\n",
              "      background-color: #434B5C;\n",
              "      box-shadow: 0px 1px 3px 1px rgba(0, 0, 0, 0.15);\n",
              "      filter: drop-shadow(0px 1px 2px rgba(0, 0, 0, 0.3));\n",
              "      fill: #FFFFFF;\n",
              "    }\n",
              "  </style>\n",
              "\n",
              "      <script>\n",
              "        const buttonEl =\n",
              "          document.querySelector('#df-8a0affa4-def8-4059-9b02-4a96f03c076a button.colab-df-convert');\n",
              "        buttonEl.style.display =\n",
              "          google.colab.kernel.accessAllowed ? 'block' : 'none';\n",
              "\n",
              "        async function convertToInteractive(key) {\n",
              "          const element = document.querySelector('#df-8a0affa4-def8-4059-9b02-4a96f03c076a');\n",
              "          const dataTable =\n",
              "            await google.colab.kernel.invokeFunction('convertToInteractive',\n",
              "                                                     [key], {});\n",
              "          if (!dataTable) return;\n",
              "\n",
              "          const docLinkHtml = 'Like what you see? Visit the ' +\n",
              "            '<a target=\"_blank\" href=https://colab.research.google.com/notebooks/data_table.ipynb>data table notebook</a>'\n",
              "            + ' to learn more about interactive tables.';\n",
              "          element.innerHTML = '';\n",
              "          dataTable['output_type'] = 'display_data';\n",
              "          await google.colab.output.renderOutput(dataTable, element);\n",
              "          const docLink = document.createElement('div');\n",
              "          docLink.innerHTML = docLinkHtml;\n",
              "          element.appendChild(docLink);\n",
              "        }\n",
              "      </script>\n",
              "    </div>\n",
              "  </div>\n",
              "  "
            ],
            "text/plain": [
              "                 Name                          Email         Phone  \\\n",
              "0   Mr. Jeffery Price         dyerandrew@example.com  804-513-6002   \n",
              "1       Collin Wilson           yelliott@example.org  690-612-3990   \n",
              "2      Deborah Warren               xkim@example.org  906-251-5042   \n",
              "3        Shawn Walker          crystal99@example.net  136-161-3686   \n",
              "4        Amy Robinson         christie20@example.org  960-114-9291   \n",
              "..                ...                            ...           ...   \n",
              "95   Caitlin Williams            ghodges@example.com  999-787-4162   \n",
              "96    Jennifer Mendez             ubrown@example.org  840-521-2235   \n",
              "97   Brittney Stevens       teresawarren@example.org  488-313-3745   \n",
              "98         Edwin Vega        garciakaren@example.net  852-437-7686   \n",
              "99     Luis Robertson  christianmartinez@example.org  104-896-2702   \n",
              "\n",
              "                                              Address  Year Born  Kids  \\\n",
              "0             1115 Wilson Locks Patrickview, MN 05049       1997     3   \n",
              "1     8227 Sara Oval Suite 774 Melissaburgh, ID 14469       2001     1   \n",
              "2             95258 Norton Forest Jamesview, MA 28304       1981     1   \n",
              "3         897 Buchanan Summit Elizabethland, NC 82087       1937     4   \n",
              "4          194 Ferguson Bypass East Barbara, KY 45209       2016     3   \n",
              "..                                                ...        ...   ...   \n",
              "95  7455 Karen Inlet Suite 334 New Natashaland, HI...       2005     1   \n",
              "96  95816 Chan Extension Apt. 036 Kevinside, IN 86904       1981     4   \n",
              "97        46811 Melendez Lakes Jeffreymouth, OH 17133       1957     5   \n",
              "98  160 Johnson Common Suite 264 New Jonathan, CA ...       2015     1   \n",
              "99                    PSC 6869, Box 5391 APO AA 04590       2012     3   \n",
              "\n",
              "   Rent/Own  Income  Tickets  \n",
              "0      Rent   29467        1  \n",
              "1      Rent   17480        3  \n",
              "2      Rent   34989        3  \n",
              "3      Rent   75367        1  \n",
              "4       Own   58798        0  \n",
              "..      ...     ...      ...  \n",
              "95      Own   55968        3  \n",
              "96      Own   45753        0  \n",
              "97     Rent   22833        1  \n",
              "98     Rent   16027        0  \n",
              "99      Own   58919        0  \n",
              "\n",
              "[100 rows x 9 columns]"
            ]
          },
          "metadata": {},
          "execution_count": 79
        }
      ]
    },
    {
      "cell_type": "code",
      "source": [
        "df.to_csv(\"fake_data.csv\",\",\")"
      ],
      "metadata": {
        "id": "WDg5dKoTv50Y"
      },
      "execution_count": 80,
      "outputs": []
    }
  ]
}