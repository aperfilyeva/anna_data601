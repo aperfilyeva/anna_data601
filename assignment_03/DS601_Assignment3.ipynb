{
  "nbformat": 4,
  "nbformat_minor": 0,
  "metadata": {
    "colab": {
      "name": "DS601_Assignment3.ipynb",
      "provenance": [],
      "authorship_tag": "ABX9TyPes8pd7i//qAvuSZfTwcWQ",
      "include_colab_link": true
    },
    "kernelspec": {
      "name": "python3",
      "display_name": "Python 3"
    },
    "language_info": {
      "name": "python"
    }
  },
  "cells": [
    {
      "cell_type": "markdown",
      "metadata": {
        "id": "view-in-github",
        "colab_type": "text"
      },
      "source": [
        "<a href=\"https://colab.research.google.com/github/aperfilyeva/anna_data601/blob/main/assignment_03/DS601_Assignment3.ipynb\" target=\"_parent\"><img src=\"https://colab.research.google.com/assets/colab-badge.svg\" alt=\"Open In Colab\"/></a>"
      ]
    },
    {
      "cell_type": "code",
      "execution_count": null,
      "metadata": {
        "id": "21rxu4dEjxHy"
      },
      "outputs": [],
      "source": [
        ""
      ]
    },
    {
      "cell_type": "markdown",
      "source": [
        ""
      ],
      "metadata": {
        "id": "QXD_xENMkJDY"
      }
    },
    {
      "cell_type": "markdown",
      "source": [
        "Write a Python notebook that generates a file containing the following data:\n",
        " - Email addresses\n",
        " - Phone numbers\n",
        " - Home Address\n",
        " - Person's name\n",
        " - Year born. Use realistic values.\n",
        " - Number of kids. Use realistic values.\n",
        " - Categorical variable: rent or own?\n",
        " - Annual income. Optional challenge: Use a non-uniform distribution\n",
        " - Number of speeding tickets in past year. Optional challenge: Use a non-uniform distribution\n",
        " - User of your notebook should be able to specify how many entities are to be generated.\n",
        " - Generate data in 2 of the following 3 formats: XML, CSV, or JSON. Your choice! Order of columns in CSV is not relevant."
      ],
      "metadata": {
        "id": "hNqxFd9-j1dc"
      }
    },
    {
      "cell_type": "markdown",
      "source": [
        "Faker tutorial:\n",
        "https://www.youtube.com/watch?v=NCBDDTjZoC4"
      ],
      "metadata": {
        "id": "UCZi6q_UWoAf"
      }
    },
    {
      "cell_type": "code",
      "source": [
        "import pandas as pd\n",
        "import numpy as np\n",
        "import random\n",
        "import string\n",
        "\n"
      ],
      "metadata": {
        "id": "ty1Ioss5lXkX"
      },
      "execution_count": 74,
      "outputs": []
    },
    {
      "cell_type": "markdown",
      "source": [
        "### Define number of observations"
      ],
      "metadata": {
        "id": "XIPhK25LVpKS"
      }
    },
    {
      "cell_type": "code",
      "source": [
        "obs=input(\"Input desired number of random observations:\")\n",
        "print(obs)"
      ],
      "metadata": {
        "colab": {
          "base_uri": "https://localhost:8080/"
        },
        "id": "YSUeH-8HVw6W",
        "outputId": "fd0e25ad-7591-48d6-c78a-77cdc43f16b8"
      },
      "execution_count": 80,
      "outputs": [
        {
          "output_type": "stream",
          "name": "stdout",
          "text": [
            "Input desired number of random observations:7\n",
            "7\n"
          ]
        }
      ]
    },
    {
      "cell_type": "code",
      "source": [
        "pip install faker"
      ],
      "metadata": {
        "colab": {
          "base_uri": "https://localhost:8080/",
          "height": 130
        },
        "id": "wZRDucdUO1S6",
        "outputId": "dec34d65-a08a-4606-ce72-f4992291da79"
      },
      "execution_count": 75,
      "outputs": [
        {
          "output_type": "error",
          "ename": "SyntaxError",
          "evalue": "ignored",
          "traceback": [
            "\u001b[0;36m  File \u001b[0;32m\"<ipython-input-75-623d923a50ec>\"\u001b[0;36m, line \u001b[0;32m1\u001b[0m\n\u001b[0;31m    pip install faker\u001b[0m\n\u001b[0m              ^\u001b[0m\n\u001b[0;31mSyntaxError\u001b[0m\u001b[0;31m:\u001b[0m invalid syntax\n"
          ]
        }
      ]
    },
    {
      "cell_type": "code",
      "source": [
        "pip install names"
      ],
      "metadata": {
        "colab": {
          "base_uri": "https://localhost:8080/"
        },
        "id": "SDNUTGFvlarZ",
        "outputId": "2df593f8-7bb8-4c2c-e828-f04005f1c198"
      },
      "execution_count": 11,
      "outputs": [
        {
          "output_type": "stream",
          "name": "stdout",
          "text": [
            "Collecting names\n",
            "  Downloading names-0.3.0.tar.gz (789 kB)\n",
            "\u001b[K     |████████████████████████████████| 789 kB 4.3 MB/s \n",
            "\u001b[?25hBuilding wheels for collected packages: names\n",
            "  Building wheel for names (setup.py) ... \u001b[?25l\u001b[?25hdone\n",
            "  Created wheel for names: filename=names-0.3.0-py3-none-any.whl size=803699 sha256=2a6ed8e006bce42bda9fe295e63ddcf70c7fc14d96a0885714eb9939c1d838ba\n",
            "  Stored in directory: /root/.cache/pip/wheels/05/ea/68/92f6b0669e478af9b7c3c524520d03050089e034edcc775c2b\n",
            "Successfully built names\n",
            "Installing collected packages: names\n",
            "Successfully installed names-0.3.0\n"
          ]
        }
      ]
    },
    {
      "cell_type": "code",
      "source": [
        "# Email- option 1\n",
        "import random\n",
        "import string\n",
        "domains = [ \"hotmail.com\", \"gmail.com\", \"jh.edu\", \"umbc.edu\" , \"yahoo.com\"]\n",
        "\n",
        "def random_char(y):\n",
        "       return ''.join(random.choice(string.ascii_letters) for x in range(y))\n",
        "\n",
        "email_list=[]\n",
        "i=0\n",
        "while i <int(obs):\n",
        "   email=random_char(7)  + \"@\" + domains[random.randint( 0, len(domains)-1)]\n",
        "   email_list.append(email)\n",
        "   i=i+1\n",
        "\n",
        "email_list"
      ],
      "metadata": {
        "colab": {
          "base_uri": "https://localhost:8080/"
        },
        "id": "pPXCNOhdB36n",
        "outputId": "2918ef7e-eaee-414d-d142-4f74f8ac08ab"
      },
      "execution_count": 81,
      "outputs": [
        {
          "output_type": "execute_result",
          "data": {
            "text/plain": [
              "['DCtLbYw@jh.edu',\n",
              " 'xQsORcN@gmail.com',\n",
              " 'PJgREXQ@hotmail.com',\n",
              " 'gWvEvKc@hotmail.com',\n",
              " 'LVizfQQ@yahoo.com',\n",
              " 'TMWbAzT@hotmail.com',\n",
              " 'jMkNRVH@umbc.edu']"
            ]
          },
          "metadata": {},
          "execution_count": 81
        }
      ]
    },
    {
      "cell_type": "markdown",
      "source": [
        "### Random phone number\n"
      ],
      "metadata": {
        "id": "vhvTe4lfFZTu"
      }
    },
    {
      "cell_type": "code",
      "source": [
        "phone_list=[]\n",
        "i=0\n",
        "while i<10:\n",
        "    phone_number=str(random.randint(100,999))+\"-\"+str(random.randint(100,999))+\"-\"+str(random.randint(1000,9999))\n",
        "    phone_list.append(phone_number)\n",
        "    i=i+1\n",
        "\n",
        "phone_list"
      ],
      "metadata": {
        "colab": {
          "base_uri": "https://localhost:8080/"
        },
        "id": "nSn6u7r1FOZf",
        "outputId": "8fd4336b-794f-4814-9f21-c8dbd403fbee"
      },
      "execution_count": 49,
      "outputs": [
        {
          "output_type": "execute_result",
          "data": {
            "text/plain": [
              "['433-689-1175',\n",
              " '706-438-7509',\n",
              " '452-688-1958',\n",
              " '260-620-8843',\n",
              " '460-672-5150',\n",
              " '470-649-6211',\n",
              " '283-723-5103',\n",
              " '899-295-1357',\n",
              " '630-324-6764',\n",
              " '658-801-1887']"
            ]
          },
          "metadata": {},
          "execution_count": 49
        }
      ]
    },
    {
      "cell_type": "markdown",
      "source": [
        "### Home Address"
      ],
      "metadata": {
        "id": "dFTJN6XGODW9"
      }
    },
    {
      "cell_type": "code",
      "source": [
        "from faker import Faker\n",
        "\n",
        "fake=Faker()\n",
        "\n",
        "address_list=[]\n",
        "i=0\n",
        "\n",
        "while i<10:\n",
        "  address=fake.address()\n",
        "  address1=address.replace(\"\\n\",\" \")\n",
        "  address_list.append(address1)\n",
        "  i=i+1\n",
        "\n",
        "address_list"
      ],
      "metadata": {
        "colab": {
          "base_uri": "https://localhost:8080/"
        },
        "id": "pPsWwqiyO7GU",
        "outputId": "50083530-bc25-4c08-f7a6-f06ba29bd169"
      },
      "execution_count": 62,
      "outputs": [
        {
          "output_type": "execute_result",
          "data": {
            "text/plain": [
              "['Unit 3298 Box 7654 DPO AP 30857',\n",
              " '7458 Salinas Rapids Apt. 638 New Jamesmouth, LA 08074',\n",
              " 'PSC 7911, Box 1967 APO AA 17795',\n",
              " '7935 Michelle Union Suite 009 Sanchezburgh, MO 79041',\n",
              " '279 Stone Plains South Christinaton, CA 25565',\n",
              " '6616 Taylor Bridge Suite 905 Palmerland, WA 45817',\n",
              " '4230 Julie Valley Suzannetown, LA 59384',\n",
              " 'PSC 3829, Box 2263 APO AP 97306',\n",
              " '0266 Arnold Manor Port Carol, DE 47901',\n",
              " '0961 Gonzalez Cape Kaitlinside, AR 30924']"
            ]
          },
          "metadata": {},
          "execution_count": 62
        }
      ]
    },
    {
      "cell_type": "markdown",
      "source": [
        "### Name List"
      ],
      "metadata": {
        "id": "Ch0seFn5T8dZ"
      }
    },
    {
      "cell_type": "code",
      "source": [
        "name_list=[]\n",
        "i=0\n",
        "\n",
        "while i<10:\n",
        "  name=fake.name()\n",
        "  name_list.append(name)\n",
        "  i=i+1\n",
        "\n",
        "name_list"
      ],
      "metadata": {
        "colab": {
          "base_uri": "https://localhost:8080/"
        },
        "id": "uhyomGFDT_SF",
        "outputId": "c795bfca-c9ed-492e-fe2f-aed51d4f914f"
      },
      "execution_count": 70,
      "outputs": [
        {
          "output_type": "execute_result",
          "data": {
            "text/plain": [
              "['Stephanie Marquez DDS',\n",
              " 'Joseph Evans',\n",
              " 'Adam Lewis',\n",
              " 'Charles Benjamin',\n",
              " 'Jeremy Hamilton',\n",
              " 'Chelsey Brown',\n",
              " 'Christopher Perez',\n",
              " 'William Thompson',\n",
              " 'Gabriel Brown',\n",
              " 'Nicholas Lewis']"
            ]
          },
          "metadata": {},
          "execution_count": 70
        }
      ]
    },
    {
      "cell_type": "markdown",
      "source": [
        "### Year Born"
      ],
      "metadata": {
        "id": "2s3dKZf5UOgP"
      }
    },
    {
      "cell_type": "code",
      "source": [
        "year_born_list=[]\n",
        "i=0\n",
        "\n",
        "while i<10:\n",
        "    year_born=random.randint(1930,2021)\n",
        "    year_born_list.append(year_born)\n",
        "    i=i+1\n",
        "\n",
        "year_born_list"
      ],
      "metadata": {
        "colab": {
          "base_uri": "https://localhost:8080/"
        },
        "id": "_n5DTcqYUWKe",
        "outputId": "534dac69-e38d-412b-f6c1-0e684c7fbbc6"
      },
      "execution_count": 72,
      "outputs": [
        {
          "output_type": "execute_result",
          "data": {
            "text/plain": [
              "[1972, 1945, 1960, 1969, 1951, 1991, 1963, 1979, 1964, 1955]"
            ]
          },
          "metadata": {},
          "execution_count": 72
        }
      ]
    },
    {
      "cell_type": "markdown",
      "source": [
        "### Number of Kids"
      ],
      "metadata": {
        "id": "QZxyvlxzUzmu"
      }
    },
    {
      "cell_type": "code",
      "source": [
        "kids_list=[]\n",
        "i=0\n",
        "\n",
        "while i<10:\n",
        "    kids=random.randint(0,5)\n",
        "    kids_list.append(kids)\n",
        "    i=i+1\n",
        "\n",
        "kids_list"
      ],
      "metadata": {
        "colab": {
          "base_uri": "https://localhost:8080/"
        },
        "id": "rWylaPSlU4Z5",
        "outputId": "44086314-dd12-43c9-d616-0a06ce704f7e"
      },
      "execution_count": 73,
      "outputs": [
        {
          "output_type": "execute_result",
          "data": {
            "text/plain": [
              "[3, 1, 4, 5, 4, 0, 2, 4, 3, 0]"
            ]
          },
          "metadata": {},
          "execution_count": 73
        }
      ]
    },
    {
      "cell_type": "code",
      "source": [
        "import names\n",
        "\n",
        "for i in range(10):\n",
        "    print(names.get_full_name(\"female\"))"
      ],
      "metadata": {
        "colab": {
          "base_uri": "https://localhost:8080/"
        },
        "id": "sKTv_OGp_wkF",
        "outputId": "9d49e58d-bf2e-4e20-d765-7714f374b365"
      },
      "execution_count": 69,
      "outputs": [
        {
          "output_type": "stream",
          "name": "stdout",
          "text": [
            "Janice Chapman\n",
            "Lauren Wilson\n",
            "Melissa Fischer\n",
            "Paulette Guzman\n",
            "Susan Thorson\n",
            "Brandie Placha\n",
            "Mollie Pierce\n",
            "May Gilbert\n",
            "Avis Nii\n",
            "Susan King\n"
          ]
        }
      ]
    },
    {
      "cell_type": "code",
      "source": [
        ""
      ],
      "metadata": {
        "id": "ZqTViklpTsKr"
      },
      "execution_count": null,
      "outputs": []
    }
  ]
}