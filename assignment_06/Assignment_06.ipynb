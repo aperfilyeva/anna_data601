{
  "nbformat": 4,
  "nbformat_minor": 0,
  "metadata": {
    "colab": {
      "name": "Assignment_06.ipynb",
      "provenance": [],
      "authorship_tag": "ABX9TyNmf3Dp4Q/1/jLZdSXs/eHC",
      "include_colab_link": true
    },
    "kernelspec": {
      "name": "python3",
      "display_name": "Python 3"
    },
    "language_info": {
      "name": "python"
    }
  },
  "cells": [
    {
      "cell_type": "markdown",
      "metadata": {
        "id": "view-in-github",
        "colab_type": "text"
      },
      "source": [
        "<a href=\"https://colab.research.google.com/github/aperfilyeva/anna_data601/blob/main/assignment_06/Assignment_06.ipynb\" target=\"_parent\"><img src=\"https://colab.research.google.com/assets/colab-badge.svg\" alt=\"Open In Colab\"/></a>"
      ]
    },
    {
      "cell_type": "markdown",
      "source": [
        "# Assignment 6\n",
        "\n",
        " - Anna Perfilyeva\n",
        " - 4/4/2022"
      ],
      "metadata": {
        "id": "SD4xLwQGqQfX"
      }
    },
    {
      "cell_type": "markdown",
      "source": [
        "Attached an Excel spreadsheet that has two worksheets, \"main\" and \"another\". Each worksheet has data and visualizations. Worksheet \"main\" has a \"patient id\" column; and worksheet \"another\" has a \"p_id\" column. The \"patient id\" values in \"main\" tab are the same variable as \"p_id\" in \"another\".\n",
        "Submit a notebook that reads the Excel spreadsheet and produces a separate spreadsheet with the following modifications:\n",
        "1. Use openpyxl to copy patients from \"another\" to \"main\"\n",
        "2. For patients on \"another\" that don't exist in \"main,\" create new rows in \"main\"\n",
        "3. Make no changes to the visualizations that exist in each worksheet.\n",
        "4. Make no changes to the data on \"another\".\n",
        "5. Write your changes to a new .xlsx file (don't overwrite the original)\n",
        "Some helpful observations:\n",
        "* \"main\" worksheet will have three new columns (because those columns exist in the \"another\" worksheet)\n",
        "* \"main\" worksheet will have new rows (one row per patient)\n",
        "* There will be empty cells in \"main\" worksheet\n",
        "* Use a programmatic (rather than manual) approach to identify which patients appear in both worksheets\n",
        "* Some cells in both worksheets contain formulas. Copy only values from \"another\" to \"main\""
      ],
      "metadata": {
        "id": "mtViOQViyMkn"
      }
    },
    {
      "cell_type": "code",
      "source": [
        "import pandas as pd\n",
        "import openpyxl"
      ],
      "metadata": {
        "id": "5jHzGEMeu-_o"
      },
      "execution_count": 126,
      "outputs": []
    },
    {
      "cell_type": "code",
      "source": [
        "wb = openpyxl.load_workbook(filename=\"week_05_homework_XLSX_openpyxl.xlsx\")        #with formulas, for keeping\n",
        "wb_values = openpyxl.load_workbook(filename=\"week_05_homework_XLSX_openpyxl.xlsx\", data_only=True) #values only, for carrying over\n",
        "print(wb.sheetnames)"
      ],
      "metadata": {
        "colab": {
          "base_uri": "https://localhost:8080/"
        },
        "id": "Czw0S2Mqu0Xj",
        "outputId": "4c478516-4e3b-4e66-c4c8-e088537cadb6"
      },
      "execution_count": 127,
      "outputs": [
        {
          "output_type": "stream",
          "name": "stdout",
          "text": [
            "['main', 'another']\n"
          ]
        }
      ]
    },
    {
      "cell_type": "code",
      "source": [
        "ws_main=wb['main']\n",
        "ws_another=wb_values['another']\n",
        "\n",
        "main_max_row = ws_main.max_row           # original max rows from main\n",
        "main_max_column = ws_main.max_column        # original max columns from main\n",
        "another_max_row = ws_another.max_row     # original max rows from another\n",
        "another_max_column = ws_another.max_column  # original max columns from another"
      ],
      "metadata": {
        "id": "-gYBcY5R5kVb"
      },
      "execution_count": 128,
      "outputs": []
    },
    {
      "cell_type": "code",
      "source": [
        "# compare worksheets to identify matching patient ids and id pairs\n",
        "\n",
        "matched_ids=[]\n",
        "matched_ids_pairs=[]\n",
        "for x in range(1, another_max_row + 1):\n",
        "    for y in range(1, main_max_row  + 1):\n",
        "        if ws_main.cell(row = y, column = 1).value == ws_another.cell(row = x, column = 1).value:\n",
        "            matched_ids_pairs.append([ws_main.cell(row = y, column = 1).row , ws_another.cell(row = x, column = 1).row])\n",
        "            matched_ids.append(ws_another.cell(row = x, column = 1).row)\n",
        "print(matched_ids)\n",
        "print(matched_ids_pairs)"
      ],
      "metadata": {
        "colab": {
          "base_uri": "https://localhost:8080/"
        },
        "id": "eSsnKDefow8f",
        "outputId": "ef3ea100-52a5-4826-96e6-7bccb346c444"
      },
      "execution_count": 135,
      "outputs": [
        {
          "output_type": "stream",
          "name": "stdout",
          "text": [
            "[2, 3, 4, 5, 6, 8, 9, 10, 12, 14, 15, 16, 18, 19, 20, 22, 23]\n",
            "[[2, 2], [3, 3], [25, 4], [6, 5], [7, 6], [9, 8], [10, 9], [11, 10], [13, 12], [15, 14], [16, 15], [17, 16], [19, 18], [20, 19], [21, 20], [23, 22], [24, 23]]\n"
          ]
        }
      ]
    },
    {
      "cell_type": "code",
      "source": [
        "# ids in another worksheet that don't match main\n",
        "\n",
        "add_ids=[]\n",
        "for x in range(2, another_max_row + 1):\n",
        "    if x not in matched_ids:\n",
        "        add_ids.append(x) \n",
        "print(add_ids)"
      ],
      "metadata": {
        "colab": {
          "base_uri": "https://localhost:8080/"
        },
        "id": "YTYAe-L-WJcm",
        "outputId": "32930ede-3c5a-42b9-c29d-e1df998563de"
      },
      "execution_count": 130,
      "outputs": [
        {
          "output_type": "stream",
          "name": "stdout",
          "text": [
            "[4, 7, 11, 13, 17, 21, 24]\n"
          ]
        }
      ]
    },
    {
      "cell_type": "code",
      "source": [
        "# add columns and their header values to 'main' from 'another'\n",
        "\n",
        "for x in range(2, another_max_column + 1):\n",
        "      ws_main.insert_cols(main_max_column + x - 1)\n",
        "      ws_main.cell(row = 1, column = main_max_column + x - 1).value = ws_another.cell(row = 1, column = x).value\n"
      ],
      "metadata": {
        "id": "VsClj1CwdYrd"
      },
      "execution_count": 131,
      "outputs": []
    },
    {
      "cell_type": "code",
      "source": [
        "# for matched ids list \n",
        "# set the new cell values in 'main' using the matched pairs list\n",
        "for y in range(main_max_column + 1, ws_main.max_column + 1):  #for added main columns\n",
        "  for row_id in matched_ids_pairs:  \n",
        "       ws_main.cell(row = row_id[0], column = y).value = ws_another.cell(row = row_id[1], column = y - main_max_column + 1).value"
      ],
      "metadata": {
        "id": "AsOl5Dsv4CeW"
      },
      "execution_count": 136,
      "outputs": []
    },
    {
      "cell_type": "code",
      "source": [
        "# for the unmatched ids list\n",
        "# add new rows and columns for the unmatched ids to the 'main' ws\n",
        "for index, row_id in enumerate(add_ids):\n",
        "        ws_main.cell(row = main_max_row + index, column = 1).value = ws_another.cell(row = row_id, column = 1).value\n",
        "        for y in range(main_max_column + 1, ws_main.max_column + 1):\n",
        "            ws_main.cell(row = main_max_row + index, column = y).value = ws_another.cell(row = row_id, column = y - main_max_column + 1).value\n"
      ],
      "metadata": {
        "id": "ly2sPy5t-0d1"
      },
      "execution_count": 133,
      "outputs": []
    },
    {
      "cell_type": "code",
      "source": [
        "output_wb=wb\n",
        "output_wb.save(filename = 'output.xlsx')\n",
        "print(output_wb.sheetnames)"
      ],
      "metadata": {
        "colab": {
          "base_uri": "https://localhost:8080/"
        },
        "id": "iEcIve1hqMTn",
        "outputId": "4f2531ed-733c-4133-f2c5-3e4da58ab2d4"
      },
      "execution_count": 134,
      "outputs": [
        {
          "output_type": "stream",
          "name": "stdout",
          "text": [
            "['main', 'another']\n"
          ]
        }
      ]
    },
    {
      "cell_type": "code",
      "source": [
        ""
      ],
      "metadata": {
        "id": "3L2IgfOmCZto"
      },
      "execution_count": null,
      "outputs": []
    }
  ]
}