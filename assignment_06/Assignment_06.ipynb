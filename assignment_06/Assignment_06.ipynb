{
  "nbformat": 4,
  "nbformat_minor": 0,
  "metadata": {
    "colab": {
      "name": "Assignment_06.ipynb",
      "provenance": [],
      "authorship_tag": "ABX9TyMkSBELU2QwxxEpjcsRIMrz",
      "include_colab_link": true
    },
    "kernelspec": {
      "name": "python3",
      "display_name": "Python 3"
    },
    "language_info": {
      "name": "python"
    }
  },
  "cells": [
    {
      "cell_type": "markdown",
      "metadata": {
        "id": "view-in-github",
        "colab_type": "text"
      },
      "source": [
        "<a href=\"https://colab.research.google.com/github/aperfilyeva/anna_data601/blob/main/assignment_06/Assignment_06.ipynb\" target=\"_parent\"><img src=\"https://colab.research.google.com/assets/colab-badge.svg\" alt=\"Open In Colab\"/></a>"
      ]
    },
    {
      "cell_type": "markdown",
      "source": [
        "# Assignment 6\n",
        "\n",
        " - Anna Perfilyeva\n",
        " - 4/4/2022"
      ],
      "metadata": {
        "id": "SD4xLwQGqQfX"
      }
    },
    {
      "cell_type": "markdown",
      "source": [
        "Attached an Excel spreadsheet that has two worksheets, \"main\" and \"another\". Each worksheet has data and visualizations. Worksheet \"main\" has a \"patient id\" column; and worksheet \"another\" has a \"p_id\" column. The \"patient id\" values in \"main\" tab are the same variable as \"p_id\" in \"another\".\n",
        "Submit a notebook that reads the Excel spreadsheet and produces a separate spreadsheet with the following modifications:\n",
        "1. Use openpyxl to copy patients from \"another\" to \"main\"\n",
        "2. For patients on \"another\" that don't exist in \"main,\" create new rows in \"main\"\n",
        "3. Make no changes to the visualizations that exist in each worksheet.\n",
        "4. Make no changes to the data on \"another\".\n",
        "5. Write your changes to a new .xlsx file (don't overwrite the original)\n",
        "Some helpful observations:\n",
        "* \"main\" worksheet will have three new columns (because those columns exist in the \"another\" worksheet)\n",
        "* \"main\" worksheet will have new rows (one row per patient)\n",
        "* There will be empty cells in \"main\" worksheet\n",
        "* Use a programmatic (rather than manual) approach to identify which patients appear in both worksheets\n",
        "* Some cells in both worksheets contain formulas. Copy only values from \"another\" to \"main\""
      ],
      "metadata": {
        "id": "mtViOQViyMkn"
      }
    },
    {
      "cell_type": "code",
      "source": [
        "import pandas as pd\n",
        "import openpyxl"
      ],
      "metadata": {
        "id": "5jHzGEMeu-_o"
      },
      "execution_count": null,
      "outputs": []
    },
    {
      "cell_type": "code",
      "source": [
        "#data_url='https://github.com/aperfilyeva/anna_data601/blob/main/assignment_06/'\n",
        "wb = openpyxl.load_workbook(filename=\"week_05_homework_XLSX_openpyxl.xlsx\")\n",
        "print(wb.sheetnames)"
      ],
      "metadata": {
        "colab": {
          "base_uri": "https://localhost:8080/"
        },
        "id": "Czw0S2Mqu0Xj",
        "outputId": "f66129bc-3538-4c4b-85ff-f494f1bda6f9"
      },
      "execution_count": null,
      "outputs": [
        {
          "output_type": "stream",
          "name": "stdout",
          "text": [
            "['main', 'another', 'main Copy', '<built-in method title of str object at 0x7f407e3602f0> Copy', 'main Copy1']\n"
          ]
        },
        {
          "output_type": "stream",
          "name": "stderr",
          "text": [
            "/usr/local/lib/python3.7/dist-packages/openpyxl/workbook/child.py:99: UserWarning: Title is more than 31 characters. Some applications may not be able to read the file\n",
            "  warnings.warn(\"Title is more than 31 characters. Some applications may not be able to read the file\")\n"
          ]
        }
      ]
    },
    {
      "cell_type": "code",
      "source": [
        "ws_main=wb['main']\n",
        "ws_another=wb['another']"
      ],
      "metadata": {
        "id": "cbm1YFh8vKaW"
      },
      "execution_count": null,
      "outputs": []
    },
    {
      "cell_type": "code",
      "source": [
        "for cell in ws_main.columns:\n",
        "    print(cell[0].value)"
      ],
      "metadata": {
        "colab": {
          "base_uri": "https://localhost:8080/"
        },
        "id": "L2_dFBB3z5WT",
        "outputId": "ab33988a-707b-4c6e-8fb4-270c708d342b"
      },
      "execution_count": null,
      "outputs": [
        {
          "output_type": "stream",
          "name": "stdout",
          "text": [
            "patient id\n",
            "age\n",
            "smoking\n",
            "smart\n",
            "asdf\n",
            "min im\n"
          ]
        }
      ]
    },
    {
      "cell_type": "code",
      "source": [
        "for cell in ws_another.columns:\n",
        "    print(cell[0].value)"
      ],
      "metadata": {
        "colab": {
          "base_uri": "https://localhost:8080/"
        },
        "id": "GRfOLSiW0DX7",
        "outputId": "a8c86bf7-47e5-4c68-bb3e-c016a1ef1798"
      },
      "execution_count": null,
      "outputs": [
        {
          "output_type": "stream",
          "name": "stdout",
          "text": [
            "p_id\n",
            "nam\n",
            "kf\n",
            "ave\n"
          ]
        }
      ]
    },
    {
      "cell_type": "code",
      "source": [
        "patient_ids_main=[]\n",
        "for row in ws_main.rows:\n",
        "    c=row[0].value\n",
        "    if c!='patient id':\n",
        "        patient_ids_main.append(c)\n",
        "print(patient_ids_main)"
      ],
      "metadata": {
        "colab": {
          "base_uri": "https://localhost:8080/"
        },
        "id": "jeYn4d9S15ej",
        "outputId": "e3d85422-e588-4333-e364-ae272e5dd2eb"
      },
      "execution_count": null,
      "outputs": [
        {
          "output_type": "stream",
          "name": "stdout",
          "text": [
            "[95909, 10369, 35101, 25192, 75658, 25765, 57464, 14530, 21888, 43631, 14528, 70171, 14654, 81574, 67203, 19792, 95847, 21922, 49434, 64334, 11988, 51090, 72970, 57054]\n"
          ]
        }
      ]
    },
    {
      "cell_type": "code",
      "source": [
        "patient"
      ],
      "metadata": {
        "colab": {
          "base_uri": "https://localhost:8080/"
        },
        "id": "qPAqwIm119KF",
        "outputId": "e9086bf1-145f-463b-b056-ffe48a088a31"
      },
      "execution_count": null,
      "outputs": [
        {
          "output_type": "execute_result",
          "data": {
            "text/plain": [
              "[95909,\n",
              " 10369,\n",
              " 35101,\n",
              " 25192,\n",
              " 75658,\n",
              " 25765,\n",
              " 57464,\n",
              " 14530,\n",
              " 21888,\n",
              " 43631,\n",
              " 14528,\n",
              " 70171,\n",
              " 14654,\n",
              " 81574,\n",
              " 67203,\n",
              " 19792,\n",
              " 95847,\n",
              " 21922,\n",
              " 49434,\n",
              " 64334,\n",
              " 11988,\n",
              " 51090,\n",
              " 72970,\n",
              " 57054]"
            ]
          },
          "metadata": {},
          "execution_count": 37
        }
      ]
    },
    {
      "cell_type": "code",
      "source": [
        ""
      ],
      "metadata": {
        "id": "g-7YthIb2Qpa"
      },
      "execution_count": null,
      "outputs": []
    }
  ]
}