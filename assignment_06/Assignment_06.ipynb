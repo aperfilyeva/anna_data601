{
  "nbformat": 4,
  "nbformat_minor": 0,
  "metadata": {
    "colab": {
      "name": "Assignment_06.ipynb",
      "provenance": [],
      "authorship_tag": "ABX9TyM1jWkuaPUErveZOQu48gzW",
      "include_colab_link": true
    },
    "kernelspec": {
      "name": "python3",
      "display_name": "Python 3"
    },
    "language_info": {
      "name": "python"
    }
  },
  "cells": [
    {
      "cell_type": "markdown",
      "metadata": {
        "id": "view-in-github",
        "colab_type": "text"
      },
      "source": [
        "<a href=\"https://colab.research.google.com/github/aperfilyeva/anna_data601/blob/main/assignment_06/Assignment_06.ipynb\" target=\"_parent\"><img src=\"https://colab.research.google.com/assets/colab-badge.svg\" alt=\"Open In Colab\"/></a>"
      ]
    },
    {
      "cell_type": "markdown",
      "source": [
        "# Assignment 6\n",
        "\n",
        " - Anna Perfilyeva\n",
        " - 4/4/2022"
      ],
      "metadata": {
        "id": "SD4xLwQGqQfX"
      }
    },
    {
      "cell_type": "code",
      "execution_count": null,
      "metadata": {
        "id": "xKHAHdFBqPNQ"
      },
      "outputs": [],
      "source": [
        "Attached an Excel spreadsheet that has two worksheets, \"main\" and \"another\". Each worksheet has data and visualizations. Worksheet \"main\" has a \"patient id\" column; and worksheet \"another\" has a \"p_id\" column. The \"patient id\" values in \"main\" tab are the same variable as \"p_id\" in \"another\".\n",
        "Submit a notebook that reads the Excel spreadsheet and produces a separate spreadsheet with the following modifications:\n",
        "1. Use openpyxl to copy patients from \"another\" to \"main\"\n",
        "2. For patients on \"another\" that don't exist in \"main,\" create new rows in \"main\"\n",
        "3. Make no changes to the visualizations that exist in each worksheet.\n",
        "4. Make no changes to the data on \"another\".\n",
        "5. Write your changes to a new .xlsx file (don't overwrite the original)\n",
        "Some helpful observations:\n",
        "* \"main\" worksheet will have three new columns (because those columns exist in the \"another\" worksheet)\n",
        "* \"main\" worksheet will have new rows (one row per patient)\n",
        "* There will be empty cells in \"main\" worksheet\n",
        "* Use a programmatic (rather than manual) approach to identify which patients appear in both worksheets\n",
        "* Some cells in both worksheets contain formulas. Copy only values from \"another\" to \"main\""
      ]
    }
  ]
}